{
 "cells": [
  {
   "cell_type": "code",
   "execution_count": 18,
   "metadata": {},
   "outputs": [],
   "source": [
    "import pandas as pd\n",
    "import numpy as np\n",
    "import os\n",
    "from sklearn.model_selection import train_test_split\n",
    "import matplotlib.pyplot as plt"
   ]
  },
  {
   "cell_type": "markdown",
   "metadata": {},
   "source": [
    "## Dataset Preparation and Spliting"
   ]
  },
  {
   "cell_type": "code",
   "execution_count": 9,
   "metadata": {},
   "outputs": [],
   "source": [
    "dataset = pd.read_csv(\"./Machine learning/ML_Dwarka_June19/datasets/fashion-mnist-test.csv\")"
   ]
  },
  {
   "cell_type": "code",
   "execution_count": 8,
   "metadata": {},
   "outputs": [
    {
     "name": "stdout",
     "output_type": "stream",
     "text": [
      "['fashion-mnist-test.csv', 'movie_metadata.csv', 'titanic.csv']\n"
     ]
    }
   ],
   "source": [
    "# print(os.listdir(\"./Machine learning/ML_Dwarka_June19/datasets/fashion-mnist-test.csv\"))"
   ]
  },
  {
   "cell_type": "code",
   "execution_count": 10,
   "metadata": {},
   "outputs": [
    {
     "data": {
      "text/html": [
       "<div>\n",
       "<style scoped>\n",
       "    .dataframe tbody tr th:only-of-type {\n",
       "        vertical-align: middle;\n",
       "    }\n",
       "\n",
       "    .dataframe tbody tr th {\n",
       "        vertical-align: top;\n",
       "    }\n",
       "\n",
       "    .dataframe thead th {\n",
       "        text-align: right;\n",
       "    }\n",
       "</style>\n",
       "<table border=\"1\" class=\"dataframe\">\n",
       "  <thead>\n",
       "    <tr style=\"text-align: right;\">\n",
       "      <th></th>\n",
       "      <th>label</th>\n",
       "      <th>pixel1</th>\n",
       "      <th>pixel2</th>\n",
       "      <th>pixel3</th>\n",
       "      <th>pixel4</th>\n",
       "      <th>pixel5</th>\n",
       "      <th>pixel6</th>\n",
       "      <th>pixel7</th>\n",
       "      <th>pixel8</th>\n",
       "      <th>pixel9</th>\n",
       "      <th>...</th>\n",
       "      <th>pixel775</th>\n",
       "      <th>pixel776</th>\n",
       "      <th>pixel777</th>\n",
       "      <th>pixel778</th>\n",
       "      <th>pixel779</th>\n",
       "      <th>pixel780</th>\n",
       "      <th>pixel781</th>\n",
       "      <th>pixel782</th>\n",
       "      <th>pixel783</th>\n",
       "      <th>pixel784</th>\n",
       "    </tr>\n",
       "  </thead>\n",
       "  <tbody>\n",
       "    <tr>\n",
       "      <th>0</th>\n",
       "      <td>0</td>\n",
       "      <td>0</td>\n",
       "      <td>0</td>\n",
       "      <td>0</td>\n",
       "      <td>0</td>\n",
       "      <td>0</td>\n",
       "      <td>0</td>\n",
       "      <td>0</td>\n",
       "      <td>9</td>\n",
       "      <td>8</td>\n",
       "      <td>...</td>\n",
       "      <td>103</td>\n",
       "      <td>87</td>\n",
       "      <td>56</td>\n",
       "      <td>0</td>\n",
       "      <td>0</td>\n",
       "      <td>0</td>\n",
       "      <td>0</td>\n",
       "      <td>0</td>\n",
       "      <td>0</td>\n",
       "      <td>0</td>\n",
       "    </tr>\n",
       "    <tr>\n",
       "      <th>1</th>\n",
       "      <td>1</td>\n",
       "      <td>0</td>\n",
       "      <td>0</td>\n",
       "      <td>0</td>\n",
       "      <td>0</td>\n",
       "      <td>0</td>\n",
       "      <td>0</td>\n",
       "      <td>0</td>\n",
       "      <td>0</td>\n",
       "      <td>0</td>\n",
       "      <td>...</td>\n",
       "      <td>34</td>\n",
       "      <td>0</td>\n",
       "      <td>0</td>\n",
       "      <td>0</td>\n",
       "      <td>0</td>\n",
       "      <td>0</td>\n",
       "      <td>0</td>\n",
       "      <td>0</td>\n",
       "      <td>0</td>\n",
       "      <td>0</td>\n",
       "    </tr>\n",
       "    <tr>\n",
       "      <th>2</th>\n",
       "      <td>2</td>\n",
       "      <td>0</td>\n",
       "      <td>0</td>\n",
       "      <td>0</td>\n",
       "      <td>0</td>\n",
       "      <td>0</td>\n",
       "      <td>0</td>\n",
       "      <td>14</td>\n",
       "      <td>53</td>\n",
       "      <td>99</td>\n",
       "      <td>...</td>\n",
       "      <td>0</td>\n",
       "      <td>0</td>\n",
       "      <td>0</td>\n",
       "      <td>0</td>\n",
       "      <td>63</td>\n",
       "      <td>53</td>\n",
       "      <td>31</td>\n",
       "      <td>0</td>\n",
       "      <td>0</td>\n",
       "      <td>0</td>\n",
       "    </tr>\n",
       "    <tr>\n",
       "      <th>3</th>\n",
       "      <td>2</td>\n",
       "      <td>0</td>\n",
       "      <td>0</td>\n",
       "      <td>0</td>\n",
       "      <td>0</td>\n",
       "      <td>0</td>\n",
       "      <td>0</td>\n",
       "      <td>0</td>\n",
       "      <td>0</td>\n",
       "      <td>0</td>\n",
       "      <td>...</td>\n",
       "      <td>137</td>\n",
       "      <td>126</td>\n",
       "      <td>140</td>\n",
       "      <td>0</td>\n",
       "      <td>133</td>\n",
       "      <td>224</td>\n",
       "      <td>222</td>\n",
       "      <td>56</td>\n",
       "      <td>0</td>\n",
       "      <td>0</td>\n",
       "    </tr>\n",
       "    <tr>\n",
       "      <th>4</th>\n",
       "      <td>3</td>\n",
       "      <td>0</td>\n",
       "      <td>0</td>\n",
       "      <td>0</td>\n",
       "      <td>0</td>\n",
       "      <td>0</td>\n",
       "      <td>0</td>\n",
       "      <td>0</td>\n",
       "      <td>0</td>\n",
       "      <td>0</td>\n",
       "      <td>...</td>\n",
       "      <td>0</td>\n",
       "      <td>0</td>\n",
       "      <td>0</td>\n",
       "      <td>0</td>\n",
       "      <td>0</td>\n",
       "      <td>0</td>\n",
       "      <td>0</td>\n",
       "      <td>0</td>\n",
       "      <td>0</td>\n",
       "      <td>0</td>\n",
       "    </tr>\n",
       "  </tbody>\n",
       "</table>\n",
       "<p>5 rows × 785 columns</p>\n",
       "</div>"
      ],
      "text/plain": [
       "   label  pixel1  pixel2  pixel3  pixel4  pixel5  pixel6  pixel7  pixel8  \\\n",
       "0      0       0       0       0       0       0       0       0       9   \n",
       "1      1       0       0       0       0       0       0       0       0   \n",
       "2      2       0       0       0       0       0       0      14      53   \n",
       "3      2       0       0       0       0       0       0       0       0   \n",
       "4      3       0       0       0       0       0       0       0       0   \n",
       "\n",
       "   pixel9    ...     pixel775  pixel776  pixel777  pixel778  pixel779  \\\n",
       "0       8    ...          103        87        56         0         0   \n",
       "1       0    ...           34         0         0         0         0   \n",
       "2      99    ...            0         0         0         0        63   \n",
       "3       0    ...          137       126       140         0       133   \n",
       "4       0    ...            0         0         0         0         0   \n",
       "\n",
       "   pixel780  pixel781  pixel782  pixel783  pixel784  \n",
       "0         0         0         0         0         0  \n",
       "1         0         0         0         0         0  \n",
       "2        53        31         0         0         0  \n",
       "3       224       222        56         0         0  \n",
       "4         0         0         0         0         0  \n",
       "\n",
       "[5 rows x 785 columns]"
      ]
     },
     "execution_count": 10,
     "metadata": {},
     "output_type": "execute_result"
    }
   ],
   "source": [
    "dataset.head(5)"
   ]
  },
  {
   "cell_type": "code",
   "execution_count": 11,
   "metadata": {},
   "outputs": [],
   "source": [
    "dataset = np.array(dataset)"
   ]
  },
  {
   "cell_type": "code",
   "execution_count": 13,
   "metadata": {},
   "outputs": [
    {
     "name": "stdout",
     "output_type": "stream",
     "text": [
      "(4000, 784) (4000,)\n"
     ]
    }
   ],
   "source": [
    "X = dataset[:4000,1:]\n",
    "Y =dataset[:4000,0]\n",
    "print(X.shape,Y.shape)"
   ]
  },
  {
   "cell_type": "code",
   "execution_count": 21,
   "metadata": {},
   "outputs": [
    {
     "name": "stdout",
     "output_type": "stream",
     "text": [
      "(3200, 784) (800, 784) (3200,) (800,)\n"
     ]
    }
   ],
   "source": [
    "x_train , x_test , y_train , y_test = train_test_split(X , Y , test_size = 0.2)\n",
    "print(x_train.shape , x_test.shape , y_train.shape ,y_test.shape)"
   ]
  },
  {
   "cell_type": "code",
   "execution_count": 24,
   "metadata": {},
   "outputs": [
    {
     "name": "stdout",
     "output_type": "stream",
     "text": [
      "(3200, 28, 28, 1) (800, 28, 28, 1)\n"
     ]
    }
   ],
   "source": [
    "x_train , x_test = x_train.reshape(-1,28,28,1) ,x_test.reshape(-1,28,28,1)\n",
    "print(x_train.shape , x_test.shape)"
   ]
  },
  {
   "cell_type": "code",
   "execution_count": 22,
   "metadata": {},
   "outputs": [
    {
     "data": {
      "text/plain": [
       "<matplotlib.image.AxesImage at 0x18402ea96a0>"
      ]
     },
     "execution_count": 22,
     "metadata": {},
     "output_type": "execute_result"
    },
    {
     "data": {
      "image/png": "[encoded data removed]",
      "text/plain": [
       "<Figure size 432x288 with 1 Axes>"
      ]
     },
     "metadata": {
      "needs_background": "light"
     },
     "output_type": "display_data"
    }
   ],
   "source": [
    "plt.imshow(X[0].reshape(28,28))"
   ]
  },
  {
   "cell_type": "markdown",
   "metadata": {},
   "source": [
    "## Model Architecture"
   ]
  },
  {
   "cell_type": "code",
   "execution_count": 25,
   "metadata": {},
   "outputs": [],
   "source": [
    "from keras.layers import Conv2D , MaxPool2D ,ZeroPadding2D , UpSampling2D ,Reshape, Input ,Dense, Activation,Flatten\n",
    "from keras.utils import np_utils\n",
    "from keras.models import Model"
   ]
  },
  {
   "cell_type": "code",
   "execution_count": 42,
   "metadata": {},
   "outputs": [],
   "source": [
    "e = 256\n",
    "\n",
    "inp = Input(shape = (28,28,1))\n",
    "conv1 = Conv2D(32 , (3,3) , activation = \"relu\")(inp)\n",
    "conv2 = Conv2D(16 , (3,3),activation=\"relu\")(conv1)\n",
    "mp1 = MaxPool2D((2,2))(conv2)\n",
    "conv3 = Conv2D(8,(3,3),activation=\"relu\")(mp1)\n",
    "\n",
    "flat = Flatten()(conv3)\n",
    "emb = Dense(e , activation=\"sigmoid\")(flat)\n",
    "fc1 = Dense(800 , activation=\"sigmoid\")(emb)\n",
    "\n",
    "res1 = Reshape((10 , 10, 8))(fc1)\n",
    "zrp1 = ZeroPadding2D((1,1))(res1)\n",
    "\n",
    "conv4 = Conv2D(16 , (3,3),padding=\"same\" , activation =\"relu\")(zrp1)\n",
    "ups1 = UpSampling2D((2,2))(conv4)\n",
    "\n",
    "zrp2 = ZeroPadding2D((1,1))(ups1)\n",
    "conv5 = Conv2D(32,(3,3),padding=\"same\" , activation =\"relu\")(zrp2)\n",
    "\n",
    "zrp3 = ZeroPadding2D((1,1))(conv5)\n",
    "conv6 = Conv2D(1,(3,3),padding=\"same\" , activation=\"relu\")(zrp3)"
   ]
  },
  {
   "cell_type": "code",
   "execution_count": 46,
   "metadata": {},
   "outputs": [
    {
     "name": "stdout",
     "output_type": "stream",
     "text": [
      "_________________________________________________________________\n",
      "Layer (type)                 Output Shape              Param #   \n",
      "=================================================================\n",
      "input_12 (InputLayer)        (None, 28, 28, 1)         0         \n",
      "_________________________________________________________________\n",
      "conv2d_64 (Conv2D)           (None, 26, 26, 32)        320       \n",
      "_________________________________________________________________\n",
      "conv2d_65 (Conv2D)           (None, 24, 24, 16)        4624      \n",
      "_________________________________________________________________\n",
      "max_pooling2d_12 (MaxPooling (None, 12, 12, 16)        0         \n",
      "_________________________________________________________________\n",
      "conv2d_66 (Conv2D)           (None, 10, 10, 8)         1160      \n",
      "_________________________________________________________________\n",
      "flatten_11 (Flatten)         (None, 800)               0         \n",
      "_________________________________________________________________\n",
      "dense_21 (Dense)             (None, 256)               205056    \n",
      "_________________________________________________________________\n",
      "dense_22 (Dense)             (None, 800)               205600    \n",
      "_________________________________________________________________\n",
      "reshape_11 (Reshape)         (None, 10, 10, 8)         0         \n",
      "_________________________________________________________________\n",
      "zero_padding2d_31 (ZeroPaddi (None, 12, 12, 8)         0         \n",
      "_________________________________________________________________\n",
      "conv2d_67 (Conv2D)           (None, 12, 12, 16)        1168      \n",
      "_________________________________________________________________\n",
      "up_sampling2d_11 (UpSampling (None, 24, 24, 16)        0         \n",
      "_________________________________________________________________\n",
      "zero_padding2d_32 (ZeroPaddi (None, 26, 26, 16)        0         \n",
      "_________________________________________________________________\n",
      "conv2d_68 (Conv2D)           (None, 26, 26, 32)        4640      \n",
      "_________________________________________________________________\n",
      "zero_padding2d_33 (ZeroPaddi (None, 28, 28, 32)        0         \n",
      "_________________________________________________________________\n",
      "conv2d_69 (Conv2D)           (None, 28, 28, 1)         289       \n",
      "=================================================================\n",
      "Total params: 422,857\n",
      "Trainable params: 422,857\n",
      "Non-trainable params: 0\n",
      "_________________________________________________________________\n"
     ]
    }
   ],
   "source": [
    "c_a_e = Model(inputs=inp, outputs=conv6)\n",
    "c_a_e.summary()"
   ]
  },
  {
   "cell_type": "markdown",
   "metadata": {},
   "source": [
    "## Encoder and Decoder"
   ]
  },
  {
   "cell_type": "code",
   "execution_count": 49,
   "metadata": {},
   "outputs": [
    {
     "name": "stdout",
     "output_type": "stream",
     "text": [
      "(0, <keras.engine.input_layer.InputLayer object at 0x000001841D923390>)\n",
      "(1, <keras.layers.convolutional.Conv2D object at 0x000001841D923B38>)\n",
      "(2, <keras.layers.convolutional.Conv2D object at 0x000001841DABFAC8>)\n",
      "(3, <keras.layers.pooling.MaxPooling2D object at 0x000001841DABF438>)\n",
      "(4, <keras.layers.convolutional.Conv2D object at 0x000001841DAD5438>)\n",
      "(5, <keras.layers.core.Flatten object at 0x000001841DAD5DA0>)\n",
      "(6, <keras.layers.core.Dense object at 0x000001841DB0F550>)\n",
      "(7, <keras.layers.core.Dense object at 0x000001841DB0FEB8>)\n",
      "(8, <keras.layers.core.Reshape object at 0x000001841DB3D438>)\n",
      "(9, <keras.layers.convolutional.ZeroPadding2D object at 0x000001841DB5BE10>)\n",
      "(10, <keras.layers.convolutional.Conv2D object at 0x000001841DB3D898>)\n",
      "(11, <keras.layers.convolutional.UpSampling2D object at 0x000001841DB5B748>)\n",
      "(12, <keras.layers.convolutional.ZeroPadding2D object at 0x000001841DB94550>)\n",
      "(13, <keras.layers.convolutional.Conv2D object at 0x000001841DB94438>)\n",
      "(14, <keras.layers.convolutional.ZeroPadding2D object at 0x000001841DBD0DD8>)\n",
      "(15, <keras.layers.convolutional.Conv2D object at 0x000001841DBE9668>)\n"
     ]
    }
   ],
   "source": [
    "for i in enumerate(c_a_e.layers):\n",
    "    print(i)"
   ]
  },
  {
   "cell_type": "code",
   "execution_count": 51,
   "metadata": {},
   "outputs": [
    {
     "name": "stdout",
     "output_type": "stream",
     "text": [
      "_________________________________________________________________\n",
      "Layer (type)                 Output Shape              Param #   \n",
      "=================================================================\n",
      "input_12 (InputLayer)        (None, 28, 28, 1)         0         \n",
      "_________________________________________________________________\n",
      "conv2d_64 (Conv2D)           (None, 26, 26, 32)        320       \n",
      "_________________________________________________________________\n",
      "conv2d_65 (Conv2D)           (None, 24, 24, 16)        4624      \n",
      "_________________________________________________________________\n",
      "max_pooling2d_12 (MaxPooling (None, 12, 12, 16)        0         \n",
      "_________________________________________________________________\n",
      "conv2d_66 (Conv2D)           (None, 10, 10, 8)         1160      \n",
      "_________________________________________________________________\n",
      "flatten_11 (Flatten)         (None, 800)               0         \n",
      "_________________________________________________________________\n",
      "dense_21 (Dense)             (None, 256)               205056    \n",
      "=================================================================\n",
      "Total params: 211,160\n",
      "Trainable params: 211,160\n",
      "Non-trainable params: 0\n",
      "_________________________________________________________________\n"
     ]
    }
   ],
   "source": [
    "encoder = Model(inputs=inp,outputs=emb)\n",
    "encoder.summary()"
   ]
  },
  {
   "cell_type": "code",
   "execution_count": 53,
   "metadata": {},
   "outputs": [
    {
     "name": "stdout",
     "output_type": "stream",
     "text": [
      "_________________________________________________________________\n",
      "Layer (type)                 Output Shape              Param #   \n",
      "=================================================================\n",
      "input_13 (InputLayer)        (None, 256)               0         \n",
      "_________________________________________________________________\n",
      "dense_20 (Dense)             (None, 800)               205600    \n",
      "_________________________________________________________________\n",
      "reshape_10 (Reshape)         (None, 10, 10, 8)         0         \n",
      "_________________________________________________________________\n",
      "zero_padding2d_28 (ZeroPaddi (None, 12, 12, 8)         0         \n",
      "_________________________________________________________________\n",
      "conv2d_61 (Conv2D)           (None, 12, 12, 16)        1168      \n",
      "_________________________________________________________________\n",
      "up_sampling2d_10 (UpSampling (None, 24, 24, 16)        0         \n",
      "_________________________________________________________________\n",
      "zero_padding2d_29 (ZeroPaddi (None, 26, 26, 16)        0         \n",
      "_________________________________________________________________\n",
      "conv2d_62 (Conv2D)           (None, 26, 26, 32)        4640      \n",
      "_________________________________________________________________\n",
      "zero_padding2d_30 (ZeroPaddi (None, 28, 28, 32)        0         \n",
      "_________________________________________________________________\n",
      "conv2d_63 (Conv2D)           (None, 28, 28, 1)         289       \n",
      "=================================================================\n",
      "Total params: 211,697\n",
      "Trainable params: 211,697\n",
      "Non-trainable params: 0\n",
      "_________________________________________________________________\n"
     ]
    }
   ],
   "source": [
    "decoder_input = Input(shape=(e,))\n",
    "dec_layer = cae.layers[7](decoder_input)\n",
    "\n",
    "for i in range(8, len(cae.layers)):\n",
    "    dec_layer = cae.layers[i](dec_layer)\n",
    "decoder = Model(inputs=decoder_input, outputs=dec_layer)\n",
    "decoder.summary()"
   ]
  },
  {
   "cell_type": "code",
   "execution_count": 56,
   "metadata": {},
   "outputs": [],
   "source": [
    "c_a_e.compile(loss='mse', optimizer='adam', metrics=['accuracy'])\n"
   ]
  },
  {
   "cell_type": "code",
   "execution_count": 63,
   "metadata": {},
   "outputs": [
    {
     "name": "stdout",
     "output_type": "stream",
     "text": [
      "Train on 3200 samples, validate on 800 samples\n",
      "Epoch 1/30\n",
      "3200/3200 [==============================] - 11s 3ms/step - loss: 2901.8668 - acc: 0.0145 - val_loss: 2835.8993 - val_acc: 0.0251\n",
      "Epoch 2/30\n",
      "3200/3200 [==============================] - 11s 3ms/step - loss: 2704.0849 - acc: 0.0592 - val_loss: 2657.7836 - val_acc: 0.0929\n",
      "Epoch 3/30\n",
      "3200/3200 [==============================] - 11s 3ms/step - loss: 2554.2734 - acc: 0.1203 - val_loss: 2529.9861 - val_acc: 0.1468\n",
      "Epoch 4/30\n",
      "3200/3200 [==============================] - 11s 3ms/step - loss: 2409.2953 - acc: 0.1751 - val_loss: 2432.0484 - val_acc: 0.1842\n",
      "Epoch 5/30\n",
      "3200/3200 [==============================] - 11s 3ms/step - loss: 2314.5155 - acc: 0.2127 - val_loss: 2325.4795 - val_acc: 0.2187\n",
      "Epoch 6/30\n",
      "3200/3200 [==============================] - 11s 3ms/step - loss: 2207.1561 - acc: 0.2393 - val_loss: 2234.7466 - val_acc: 0.2361\n",
      "Epoch 7/30\n",
      "3200/3200 [==============================] - 11s 3ms/step - loss: 2115.3282 - acc: 0.2644 - val_loss: 2142.8129 - val_acc: 0.2706\n",
      "Epoch 8/30\n",
      "3200/3200 [==============================] - 11s 3ms/step - loss: 2058.1784 - acc: 0.2849 - val_loss: 2082.5093 - val_acc: 0.2887\n",
      "Epoch 9/30\n",
      "3200/3200 [==============================] - 11s 3ms/step - loss: 1963.8136 - acc: 0.2982 - val_loss: 2047.5390 - val_acc: 0.3056\n",
      "Epoch 10/30\n",
      "3200/3200 [==============================] - 11s 3ms/step - loss: 1893.8897 - acc: 0.3111 - val_loss: 1948.8439 - val_acc: 0.3117\n",
      "Epoch 11/30\n",
      "3200/3200 [==============================] - 11s 3ms/step - loss: 1834.4304 - acc: 0.3205 - val_loss: 1919.5889 - val_acc: 0.3250\n",
      "Epoch 12/30\n",
      "3200/3200 [==============================] - 11s 3ms/step - loss: 1779.9414 - acc: 0.3309 - val_loss: 1855.7652 - val_acc: 0.3256\n",
      "Epoch 13/30\n",
      "3200/3200 [==============================] - 11s 4ms/step - loss: 1765.0014 - acc: 0.3411 - val_loss: 1817.2029 - val_acc: 0.3325\n",
      "Epoch 14/30\n",
      "3200/3200 [==============================] - 11s 3ms/step - loss: 1725.2134 - acc: 0.3424 - val_loss: 1804.2724 - val_acc: 0.3342\n",
      "Epoch 15/30\n",
      "3200/3200 [==============================] - 11s 3ms/step - loss: 1665.9148 - acc: 0.3501 - val_loss: 1754.7396 - val_acc: 0.3382\n",
      "Epoch 16/30\n",
      "3200/3200 [==============================] - 11s 3ms/step - loss: 1635.5046 - acc: 0.3544 - val_loss: 1740.3986 - val_acc: 0.3431\n",
      "Epoch 17/30\n",
      "3200/3200 [==============================] - 11s 3ms/step - loss: 1600.0628 - acc: 0.3559 - val_loss: 1701.3460 - val_acc: 0.3473\n",
      "Epoch 18/30\n",
      "3200/3200 [==============================] - 11s 3ms/step - loss: 1571.6957 - acc: 0.3621 - val_loss: 1691.6518 - val_acc: 0.3503\n",
      "Epoch 19/30\n",
      "3200/3200 [==============================] - 11s 3ms/step - loss: 1550.5006 - acc: 0.3640 - val_loss: 1667.6365 - val_acc: 0.3515\n",
      "Epoch 20/30\n",
      "3200/3200 [==============================] - 11s 3ms/step - loss: 1525.3653 - acc: 0.3677 - val_loss: 1641.5079 - val_acc: 0.3626\n",
      "Epoch 21/30\n",
      "3200/3200 [==============================] - 11s 3ms/step - loss: 1501.1035 - acc: 0.3704 - val_loss: 1623.7570 - val_acc: 0.3615\n",
      "Epoch 22/30\n",
      "3200/3200 [==============================] - 11s 3ms/step - loss: 1478.1330 - acc: 0.3725 - val_loss: 1605.6517 - val_acc: 0.3636\n",
      "Epoch 23/30\n",
      "3200/3200 [==============================] - 11s 3ms/step - loss: 1460.2222 - acc: 0.3757 - val_loss: 1585.9724 - val_acc: 0.3665\n",
      "Epoch 24/30\n",
      "3200/3200 [==============================] - 11s 3ms/step - loss: 1449.5060 - acc: 0.3775 - val_loss: 1579.3384 - val_acc: 0.3675\n",
      "Epoch 25/30\n",
      "3200/3200 [==============================] - 11s 3ms/step - loss: 1431.8339 - acc: 0.3791 - val_loss: 1565.6524 - val_acc: 0.3744\n",
      "Epoch 26/30\n",
      "3200/3200 [==============================] - 11s 3ms/step - loss: 1405.4211 - acc: 0.3820 - val_loss: 1555.0721 - val_acc: 0.3759\n",
      "Epoch 27/30\n",
      "3200/3200 [==============================] - 11s 3ms/step - loss: 1385.7524 - acc: 0.3835 - val_loss: 1532.3575 - val_acc: 0.3745\n",
      "Epoch 28/30\n",
      "3200/3200 [==============================] - 11s 3ms/step - loss: 1369.8181 - acc: 0.3848 - val_loss: 1523.9340 - val_acc: 0.3779\n",
      "Epoch 29/30\n",
      "3200/3200 [==============================] - 11s 3ms/step - loss: 1355.1144 - acc: 0.3875 - val_loss: 1520.0083 - val_acc: 0.3789\n",
      "Epoch 30/30\n",
      "3200/3200 [==============================] - 11s 3ms/step - loss: 1343.7161 - acc: 0.3884 - val_loss: 1515.0908 - val_acc: 0.3856\n"
     ]
    }
   ],
   "source": [
    "F_mnist = c_a_e.fit(x_train, x_train,\n",
    "        shuffle=True,\n",
    "        epochs=30,\n",
    "        validation_data=(x_test, x_test),\n",
    "        batch_size=150\n",
    "       )"
   ]
  },
  {
   "cell_type": "code",
   "execution_count": 64,
   "metadata": {},
   "outputs": [
    {
     "name": "stdout",
     "output_type": "stream",
     "text": [
      "(20, 28, 28, 1) (20, 28, 28, 1)\n"
     ]
    }
   ],
   "source": [
    "test = x_train[:20]\n",
    "preds = c_a_e.predict(test)\n",
    "print(test.shape, preds.shape)\n"
   ]
  },
  {
   "cell_type": "code",
   "execution_count": 65,
   "metadata": {},
   "outputs": [
    {
     "data": {
      "image/png": "[encoded data removed]",
      "text/plain": [
       "<Figure size 432x288 with 2 Axes>"
      ]
     },
     "metadata": {
      "needs_background": "light"
     },
     "output_type": "display_data"
    },
    {
     "data": {
      "image/png": "[encoded data removed]",
      "text/plain": [
       "<Figure size 432x288 with 2 Axes>"
      ]
     },
     "metadata": {
      "needs_background": "light"
     },
     "output_type": "display_data"
    },
    {
     "data": {
      "image/png": "[encoded data removed]",
      "text/plain": [
       "<Figure size 432x288 with 2 Axes>"
      ]
     },
     "metadata": {
      "needs_background": "light"
     },
     "output_type": "display_data"
    },
    {
     "data": {
      "image/png": "[encoded data removed]",
      "text/plain": [
       "<Figure size 432x288 with 2 Axes>"
      ]
     },
     "metadata": {
      "needs_background": "light"
     },
     "output_type": "display_data"
    },
    {
     "data": {
      "image/png": "[encoded data removed]",
      "text/plain": [
       "<Figure size 432x288 with 2 Axes>"
      ]
     },
     "metadata": {
      "needs_background": "light"
     },
     "output_type": "display_data"
    },
    {
     "data": {
      "image/png": "[encoded data removed]",
      "text/plain": [
       "<Figure size 432x288 with 2 Axes>"
      ]
     },
     "metadata": {
      "needs_background": "light"
     },
     "output_type": "display_data"
    },
    {
     "data": {
      "image/png": "[encoded data removed]",
      "text/plain": [
       "<Figure size 432x288 with 2 Axes>"
      ]
     },
     "metadata": {
      "needs_background": "light"
     },
     "output_type": "display_data"
    },
    {
     "data": {
      "image/png": "[encoded data removed]",
      "text/plain": [
       "<Figure size 432x288 with 2 Axes>"
      ]
     },
     "metadata": {
      "needs_background": "light"
     },
     "output_type": "display_data"
    },
    {
     "data": {
      "image/png": "[encoded data removed]",
      "text/plain": [
       "<Figure size 432x288 with 2 Axes>"
      ]
     },
     "metadata": {
      "needs_background": "light"
     },
     "output_type": "display_data"
    },
    {
     "data": {
      "image/png": "[encoded data removed]",
      "text/plain": [
       "<Figure size 432x288 with 2 Axes>"
      ]
     },
     "metadata": {
      "needs_background": "light"
     },
     "output_type": "display_data"
    },
    {
     "data": {
      "image/png": "[encoded data removed]",
      "text/plain": [
       "<Figure size 432x288 with 2 Axes>"
      ]
     },
     "metadata": {
      "needs_background": "light"
     },
     "output_type": "display_data"
    },
    {
     "data": {
      "image/png": "[encoded data removed]",
      "text/plain": [
       "<Figure size 432x288 with 2 Axes>"
      ]
     },
     "metadata": {
      "needs_background": "light"
     },
     "output_type": "display_data"
    },
    {
     "data": {
      "image/png": "[encoded data removed]",
      "text/plain": [
       "<Figure size 432x288 with 2 Axes>"
      ]
     },
     "metadata": {
      "needs_background": "light"
     },
     "output_type": "display_data"
    },
    {
     "data": {
      "image/png": "[encoded data removed]",
      "text/plain": [
       "<Figure size 432x288 with 2 Axes>"
      ]
     },
     "metadata": {
      "needs_background": "light"
     },
     "output_type": "display_data"
    },
    {
     "data": {
      "image/png": "[encoded data removed]",
      "text/plain": [
       "<Figure size 432x288 with 2 Axes>"
      ]
     },
     "metadata": {
      "needs_background": "light"
     },
     "output_type": "display_data"
    },
    {
     "data": {
      "image/png": "[encoded data removed]",
      "text/plain": [
       "<Figure size 432x288 with 2 Axes>"
      ]
     },
     "metadata": {
      "needs_background": "light"
     },
     "output_type": "display_data"
    },
    {
     "data": {
      "image/png": "[encoded data removed]",
      "text/plain": [
       "<Figure size 432x288 with 2 Axes>"
      ]
     },
     "metadata": {
      "needs_background": "light"
     },
     "output_type": "display_data"
    },
    {
     "data": {
      "image/png": "[encoded data removed]",
      "text/plain": [
       "<Figure size 432x288 with 2 Axes>"
      ]
     },
     "metadata": {
      "needs_background": "light"
     },
     "output_type": "display_data"
    },
    {
     "data": {
      "image/png": "[encoded data removed]",
      "text/plain": [
       "<Figure size 432x288 with 2 Axes>"
      ]
     },
     "metadata": {
      "needs_background": "light"
     },
     "output_type": "display_data"
    },
    {
     "data": {
      "image/png": "[encoded data removed]",
      "text/plain": [
       "<Figure size 432x288 with 2 Axes>"
      ]
     },
     "metadata": {
      "needs_background": "light"
     },
     "output_type": "display_data"
    }
   ],
   "source": [
    "for i in range(test.shape[0]):\n",
    "    plt.figure()\n",
    "    plt.subplot(1,2,1)\n",
    "    plt.title('Original')\n",
    "    plt.axis('off')\n",
    "    plt.imshow(test[i].reshape((28,28)), cmap='gray')\n",
    "    \n",
    "    plt.subplot(1,2,2)\n",
    "    plt.title('Regenerated')\n",
    "    plt.axis('off')\n",
    "    plt.imshow(preds[i].reshape((28,28)), cmap='gray')\n"
   ]
  },
  {
   "cell_type": "code",
   "execution_count": null,
   "metadata": {},
   "outputs": [],
   "source": []
  }
 ],
 "metadata": {
  "kernelspec": {
   "display_name": "Python 3",
   "language": "python",
   "name": "python3"
  },
  "language_info": {
   "codemirror_mode": {
    "name": "ipython",
    "version": 3
   },
   "file_extension": ".py",
   "mimetype": "text/x-python",
   "name": "python",
   "nbconvert_exporter": "python",
   "pygments_lexer": "ipython3",
   "version": "3.8.5"
  }
 },
 "nbformat": 4,
 "nbformat_minor": 2
}
