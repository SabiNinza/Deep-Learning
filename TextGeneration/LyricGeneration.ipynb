{
 "cells": [
  {
   "cell_type": "code",
   "execution_count": 1,
   "metadata": {},
   "outputs": [],
   "source": [
    "import numpy as np\n",
    "import matplotlib.pyplot as plt"
   ]
  },
  {
   "cell_type": "markdown",
   "metadata": {},
   "source": [
    "## Dictionary of ngram --> onechar"
   ]
  },
  {
   "cell_type": "code",
   "execution_count": 2,
   "metadata": {},
   "outputs": [],
   "source": [
    "f = open(\"./Apna Time Aayega.txt\")\n",
    "text = f.read()\n",
    "f.close()"
   ]
  },
  {
   "cell_type": "code",
   "execution_count": 4,
   "metadata": {},
   "outputs": [
    {
     "data": {
      "text/plain": [
       "'Apna Time Aayega\\nUth ja apni raakh se\\nTu udd ja ab talaash mein\\nParwaaz dekh parwane ki\\nAasman bhi sar uthayega\\nAayega apna time aayega\\nMere jaisa shaana lala\\nTujhe na mil payega\\n \\nYeh shabdon ka jwal'"
      ]
     },
     "execution_count": 4,
     "metadata": {},
     "output_type": "execute_result"
    }
   ],
   "source": [
    "text[:200]"
   ]
  },
  {
   "cell_type": "code",
   "execution_count": 5,
   "metadata": {},
   "outputs": [],
   "source": [
    "lyric = [sent.strip() for sent in text.split(\"\\n\") if sent]\n",
    "lyric = \" \".join(lyric)"
   ]
  },
  {
   "cell_type": "code",
   "execution_count": 7,
   "metadata": {},
   "outputs": [
    {
     "data": {
      "text/plain": [
       "'Apna Time Aayega Uth ja apni raakh se Tu udd ja ab talaash mein Parwaaz dekh parwane ki Aasman bhi sar uthayega Aayega apna time aayega Mere jaisa shaana lala Tujhe na mil payega  Yeh shabdon ka jwala'"
      ]
     },
     "execution_count": 7,
     "metadata": {},
     "output_type": "execute_result"
    }
   ],
   "source": [
    "lyric[:200]"
   ]
  },
  {
   "cell_type": "code",
   "execution_count": 17,
   "metadata": {},
   "outputs": [
    {
     "data": {
      "text/plain": [
       "139"
      ]
     },
     "execution_count": 17,
     "metadata": {},
     "output_type": "execute_result"
    }
   ],
   "source": [
    "from nltk.tokenize import word_tokenize\n",
    "len(set(word_tokenize(lyric)))"
   ]
  },
  {
   "cell_type": "code",
   "execution_count": 12,
   "metadata": {},
   "outputs": [
    {
     "name": "stdout",
     "output_type": "stream",
     "text": [
      "44\n"
     ]
    }
   ],
   "source": [
    "states = set(lyric)\n",
    "print(len(states))"
   ]
  },
  {
   "cell_type": "code",
   "execution_count": 14,
   "metadata": {},
   "outputs": [
    {
     "data": {
      "text/plain": [
       "'Apna Time Aayega Uth ja apni raakh se Tu udd ja ab talaash mein Parwaaz dekh parwane ki Aasman bhi s'"
      ]
     },
     "execution_count": 14,
     "metadata": {},
     "output_type": "execute_result"
    }
   ],
   "source": [
    "lyric[:100]"
   ]
  },
  {
   "cell_type": "markdown",
   "metadata": {},
   "source": [
    "### Transition Matrix"
   ]
  },
  {
   "cell_type": "code",
   "execution_count": 18,
   "metadata": {},
   "outputs": [],
   "source": [
    "T = {}\n",
    "ngram = 5\n",
    "for i in range(len(lyric) - ngram):\n",
    "    ngram_sent = lyric[i:i+ngram]\n",
    "    next_state = lyric[i+ngram]\n",
    "    T_dict = T.setdefault(ngram_sent,{})\n",
    "    T_dict[next_state] = T_dict.setdefault(next_state , 0)+1"
   ]
  },
  {
   "cell_type": "code",
   "execution_count": 21,
   "metadata": {},
   "outputs": [
    {
     "data": {
      "text/plain": [
       "865"
      ]
     },
     "execution_count": 21,
     "metadata": {},
     "output_type": "execute_result"
    }
   ],
   "source": [
    "len(T.keys())"
   ]
  },
  {
   "cell_type": "markdown",
   "metadata": {},
   "source": [
    "## Probabilities"
   ]
  },
  {
   "cell_type": "code",
   "execution_count": 22,
   "metadata": {},
   "outputs": [],
   "source": [
    "for r in T:\n",
    "    s = sum(T[r].values())\n",
    "    for v in T[r]:\n",
    "        T[r][v] = T[r][v]/s"
   ]
  },
  {
   "cell_type": "code",
   "execution_count": 33,
   "metadata": {},
   "outputs": [
    {
     "data": {
      "text/plain": [
       "{'T': 0.1111111111111111, 't': 0.8888888888888888}"
      ]
     },
     "execution_count": 33,
     "metadata": {},
     "output_type": "execute_result"
    }
   ],
   "source": [
    "T[\"Apna \"]"
   ]
  },
  {
   "cell_type": "markdown",
   "metadata": {},
   "source": [
    "### Diversity (lower Prob --> give more wt)"
   ]
  },
  {
   "cell_type": "code",
   "execution_count": 34,
   "metadata": {},
   "outputs": [],
   "source": [
    "def temp_sampling(prob , temp =1):\n",
    "    prob_ = np.array(prob)\n",
    "    smth_prob = np.exp(np.log(prob_)/temp)\n",
    "    return list(smth_prob/smth_prob.sum())"
   ]
  },
  {
   "cell_type": "code",
   "execution_count": 35,
   "metadata": {},
   "outputs": [],
   "source": [
    "def predict_state(ngram_sent , diversity = 1):\n",
    "    if T.get(ngram_sent) is None:\n",
    "        return \" \"\n",
    "    \n",
    "    map_ngram = T[ngram_sent]\n",
    "    map_state = list(map_ngram.keys())\n",
    "    prob = list(map_ngram.values())\n",
    "    \n",
    "    div_prob = temp_sampling(prob,diversity)\n",
    "    \n",
    "    return np.random.choice(map_state , p=div_prob)"
   ]
  },
  {
   "cell_type": "code",
   "execution_count": 50,
   "metadata": {},
   "outputs": [],
   "source": [
    "def generate_txt(sent = None ,size = 1000 ,diversity =1):\n",
    "    \n",
    "    sentence = \" \"\n",
    "    \n",
    "    if sent is None:\n",
    "        sent = int(np.random.random()*int(len(lyric)-ngram))\n",
    "        sent = lyric[sent:sent+ngram]\n",
    "    sentence += sent \n",
    "    for i in range(size):\n",
    "        pred = predict_state(sent , diversity = diversity)\n",
    "        sentence += pred\n",
    "        sent = sentence[-ngram:]\n",
    "#         print(sentence)\n",
    "        \n",
    "    return sentence"
   ]
  },
  {
   "cell_type": "code",
   "execution_count": 53,
   "metadata": {},
   "outputs": [
    {
     "name": "stdout",
     "output_type": "stream",
     "text": [
      "  lekar..  Kissi ka hath nahin hai Tere bhai jaisa shaana lala Tujhe na mil payega Kya ghanta lekar..  Kissi ka hath nahi hai seene mein  Kyon ki apna time aayega Kya ghanta lekar..  Kissi ka hath nahi hai chahat ki apna time aayega Aisa mera khwaab hai  Iss harkat di hairat nahin hai Kyon Kyon ki ab aadat ki Himaakat ki, ibaadat kismat mein hai Jo darr ko bhi sar par aaya khud ki mehnat se main Jitna toone boya hai Kya tu ghanta lekar jaayega  Yeh shabdon ka jwala Mere jaisa koyi hard’ch nai hai seene mein hai Tere bhai jaisa koyi hard’ch nai hai Kyon Kyon?  Tu nanga hi to aaya hai tu Utna hi to aaya hai Zaroorat yahaan par aaya hai Kyon ki hai Zaroorat yahaan marzi ki Aasman bhi ladka sehmat nahi hai Phir bhi ladka sehmat mein Parwaaz dekh parwane ki Aasman bhi ladka sehmat mein Parwaaz dekh parwane ki ab laalach nai hai, aafat ki, amaanat kismat mein Har raaste ko cheerenge Sab kuchh mila paseene se Matlab bana ab jeene mein  Kyon Kyon ki hairat nahi Utni rehmat nahi tha sar uthayega  Ab hausle se jeene se jeene de Ab kaise tu dafnayega  Ab hausle se jeene de Ab kaise tu dafnayega Zinda mera khwaab Ab khauf nahi hai, aafat ki, ibaadat ki ab laalach nai hai seene se jeene se Matlab bana ab jeene mein  Kyon ki hairat nahin hai tu Utna hi to aaya hai  Iss harkat ne hi barkat di hai, aafat ki Jeetne ki Aasman bhi ladka sehmat mein hai Kyon Kyon ki ab aadat kismat mein Har raaste ko cheerenge Hum kaamyabi chheenenge Hum kaamyabi chheenenge Hum kaamyabi chheenenge Sab kuchh mila paseene se Matlab bana ab jeene de Ab kaise tu dafnayega  Ab hausle se Matlab bana ab talaash mein Parwaaz dekh parwane ki Aasman bhi sar par aaya khud ki mehnat se main Jitna toone boya hai Zaroorat yahaan par Yahaan marzi ki Aasman bhi sar par Yahaan marzi ki Aasman bhi sar uthayega Meri bediyan pighlayega Apna time aayega Apna Time Aayega Apna time aayega Aayega Aisa mera khwaab hai chahat ki apna time aayega Zinda mera khwaab hai Kya ghanta lekar jaayega Apna time aayega  Ab hausle se Matlab bana ab talaash mein hai chahat ki hai Kya tu ghanta lekar jaayega  Yeh shabdon ka jwala Mere jaisa koyi hard’ch nai hairat nahin hai chahat ki Jeetne ki Adalat yeh hai Kyon ki ab laalach nai hai  Iss harkat ne hi barkat ne hi barkat di hairat nahi tha sar par aaya hai tu Utna hi to aaya hai  Iss harkat ne hi barkat ne hi barkat ne hi barkat ne hi barkat di hai Jo darr ko bhi sar uthayega  Ab hausle se Matlab bana ab talaash mein Parwaaz dekh parwane ki ab aadat ki, amaanat ki Jeetne ki ab laalach nai hai Kya ghanta lekar jaayega Zinda mera khwaab hai Kya ghanta lekar jaayega Apna time aayega Apna Time Aayega Aayega Apna time aayega Uth ja ab talaash mein nahi tha sar uthayega Aayega Apna time aayega Uth ja apna time aayega Aayega x (2)  Tu nanga hi to aaya hai Tere bhai jaisa shaana lala Tujhe na mil payega  Tu nanga hi to aaya khud ki mehnat se main Jitni taakat ki hai seene de Ab khauf nahi Utni rehmat mein Parwaaz dekh parwane ki Aasman bhi sar par Yahaan par aaya khud ki mehnat se main Jitna toone boya hai Tere bhai jaisa koyi hard’ch nai hai  Iss harkat di hairat nahi hai chahat ki ab laalach nai hai seene de Ab kaise tu dafnayega Apna Time Aayega Meri bediyan pighlayega Aisa mera khwaab Ab kaise tu dafnayega Mere jaisa koyi hard’ch nai hairat nahi Utni rehmat mein Parwaaz dekh parwane ki Aur jurrat ki Mohobbat kismat mein Har raaste ko cheerenge Hum kaamyabi chheenenge Hum kaamyabi chheenenge Sab kuchh mila paseene se jeene mein  Kyon?  Tu nanga hi to khaayega Kya ghanta lekar jaayega x (2)  Tu nanga hi to khaayega Mere jaisa shaana lala Tujhe na mil payega  Yeh shabdon ka jwala Meri bediyan pighlayega Meri bediyan pighlayega  Yeh shabdon ka jwala Meri bediyan pighlayega apni raakh se Tu udd ja ab jeene mein  Kyon?  Tu nanga hi to aaya hai Jo darr ko bhi ladka sehmat nahi tha sar par Yahaan par Yahaan par aaya hai Jo darr ko bhi ladka sehmat mein Parwaaz dekh parwane ki ab aadat ki, amaanat ki Adalat yeh hai Phir bhi ladka sehmat nahi hai seene mein Har raaste ko cheerenge Sab kuchh mila paseene se jeene se jeene se jeene mein Parwaaz dekh parwane ki Aur jurrat ki ab laalach nai hai, aafat kismat mein nahin hai chahat ki apna time aayega Jitni taakat ki, amaanat ki Mohobbat ki, ibaadat ki Himaakat ki, ibaadat ki, ibaadat ki, amaanat ki, amaanat ki hai Jo darr ko bhi ladka sehmat nahi hai Tere bhai jaisa shaana lala Tujhe na mil payega  Yeh shabdon ka jwala Mere jaisa koyi hard’ch nai hai seene de Ab kaise tu dafnayega Mere jaisa shaana lala Tujhe na mil payega Jitni taakat ki hairat nahi hai chahat ki hai Shohrat kismat mein  Kyon ki hai Kyon Kyon Kyon ki hai  Iss harkat di hairat nahi hai tu Utna hi to khaayega Zinda mera khwaab Ab kaise tu dafnayega x (2)  Tu nanga hi to aaya hai seene se jeene mein Har raaste ko cheerenge Hum kaamyabi chheenenge Sab kuchh mila paseene se jeene mein Har raaste ko cheerenge Sab kuchh mila paseene se jeene mein  Kyon ki ab aadat ki Jeetne ki Aur jurrat ki, amaanat kismat mein  Kyon ki hairat nahi Utni rehmat mein Parwaaz dekh parwane ki ab aadat kismat mein Parwaaz dekh parwane ki Adalat yeh hai Zaroorat yahaan par aaya hai Kya ghanta lekar..  Kissi ka hath nahi tha sar uthayega Apna Time Aayega Apna time aayega Meri bediyan pighlayega Kya ghanta lekar..  Kissi ka hath nahi hairat nahi tha sar par Yahaan marzi ki Adalat yeh hai Kyon Kyon ki hai  Taakat kismat mein  Kyon ki hai  Taakat kismat mein Har raaste ko cheerenge Hum kaamyabi chheenenge Hum kaamyabi chheenenge Hum kaamyabi chheenenge Sab kuchh mila paseene mein nahin hai chahat kismat mein  Kyon ki hai, aafat ki Himaakat ki Jeetne ki ab laalach nai hai  Iss harkat di hai, aafat kismat mein nahin hai Kya ghanta lekar jaayega Meri bediyan pighlayega  Tu nanga hi to aaya hai  Taakat ki, ibaadat ki Aasman bhi sar uthayega apni raakh se Tu udd ja apni raakh se Tu udd ja ab talaash mein Har raaste ko cheerenge Hum kaamyabi chheenenge Hum kaamyabi chheenenge Hum kaamyabi chheenenge Sab kuchh mila paseene mein Parwaaz dekh parwane ki ab laalach nai hai, aafat kismat mein Har raaste ko cheerenge Sab kuchh mila paseene de Ab khauf nahi hai chahat ki Himaakat ki, ibaadat ki ab laalach nai hai, aafat ki, ibaadat ki, ibaadat ki Mohobbat ki hai, aafat ki, ibaadat ki Jeetne ki Aur jurrat ki hai Tere bhai jaisa shaana lala Tujhe na mil payega x (2)  Tu nanga hi to aaya hai Kyon ki hai Shohrat ki Mohobbat ki Himaakat ki hai chahat ki, ibaadat ki Adalat yeh hai Shohrat ki, ibaadat ki, ibaadat kismat mein hai Kyon ki hairat nahin hai Shohrat ki ab laalach nai hai Tere bhai jaisa shaana lala Tujhe na mil payega Mere jaisa koyi hard’ch nai hai Shohrat ki, amaanat ki, ibaadat ki Himaakat kismat mein hai Shohrat ki Jeetne ki ab laalach nai hai  Taakat ki Mohobbat ki, amaanat ki Mohobbat ki Aasman bhi satayega Apna Time Aayega  Tu nanga hi to aaya hai Shohrat ki Himaakat ki, amaanat ki Aasman bhi satayega Jitna toone boya hai Kyon?  Tu nanga hi to aaya hai Zaroorat yahaan par Yahaan marzi ki Adalat yeh hai Shohrat ki Himaakat ki, ibaadat ki, ibaadat ki hai Kya ghanta lekar jaayega Kya tu ghanta lekar..  Kissi ka hath nahin hai Tere bhai jaisa koyi hard’ch nai hai seene se jeene mein  Kyon?  Tu nanga hi to khaayega apni raakh se Tu udd ja apna time aayega x (2)  Tu nanga hi to aaya hai Jo darr ko bhi sar par aaya khud ki mehnat se main Jitna toone boya hai Phir bhi ladka sehmat nahi hai Zaroorat yahaan marzi ki Aur jurrat ki Jeetne ki Aur jurrat ki hairat nahin hai Kyon?  Tu nanga hi to khaayega x (2)  Tu nanga hi to aaya hai chahat ki, amaanat ki, ibaadat ki hai Kyon ki hai Phir bhi satayega Mere jaisa koyi hard’ch nai hai seene mein nahi hai Kya ghanta lekar..  Kissi ka hath nahi tha sar uthayega  Ab hausle se Matlab bana ab jeene mein Har raaste ko cheerenge Sab kuchh mila paseene de Ab kaise tu dafnayega Mere jaisa shaana lala Tujhe na mil payega Jitni taakat kismat mein Har raaste ko cheerenge Sab kuchh mila paseene de Ab kaise tu dafnayega  Yeh shabdon ka jwala Meri bediyan pighlayega  Ab hausle se jeene mein Har raaste ko cheerenge Hum kaamyabi chheenenge Sab kuchh mila paseene se jeene mein Parwaaz dekh parwane ki Aasman bhi ladka sehmat nahin hai  Iss harkat ne hi barkat ne hi barkat ne hi barkat ne hi barkat ne hi barkat di hai Shohrat ki Aasman bhi satayega  Tu nanga hi to aaya hai seene mein Har raaste ko cheerenge Hum kaamyabi chheenenge Hum kaamyabi chheenenge Hum kaamyabi chheenenge Sab kuchh mila paseene se jeene mein nahi Utni rehmat nahi hai chahat ki Jeetne ki ab aadat ki apna time aayega Apna time aayega Jitni taakat ki hai tu Utna hi to aaya hai seene mein Har raaste ko cheerenge Sab kuchh mila paseene de Ab khauf nahi tha sar par Yahaan marzi ki Aur jurrat ki Himaakat ki, amaanat ki, ibaadat ki Jeetne ki ab laalach nai hairat nahin hai tu Utna hi to aaya hai Zaroorat yahaan marzi ki Aur jurrat ki hai, aafat ki, ibaadat ki ab aadat ki hai tu Utna hi to aaya hai tu Utna hi to aaya hai Kyon?  Tu nanga hi to aaya hai Kyon Kyon Kyon?  Tu nanga hi to khaayega  Ab hausle se Matlab bana ab talaash mein Har raaste ko cheerenge Hum kaamyabi chheenenge Sab kuchh mila paseene mein Har raaste ko cheerenge Sab kuchh mila paseene de Ab kaise tu dafnayega Mere jaisa koyi hard’ch nai hai Jo darr ko bhi ladka sehmat nahin hai tu Utna hi to aaya hai Kya ghanta lekar jaayega Apna time aayega apni raakh se Tu udd ja ab talaash mein hai  Iss harkat ne hi barkat ne hi barkat ne hi barkat ne hi barkat ne hi barkat ne hi barkat ne hi barkat di hai seene mein  Kyon ki ab aadat ki, amaanat ki Himaakat ki ab aadat kismat mein Har raaste ko cheerenge Sab kuchh mila paseene mein Har raaste ko cheerenge Sab kuchh mila paseene mein nahi Utni rehmat mein Har raaste ko cheerenge Sab kuchh mila paseene mein  Kyon Kyon ki hai  Taakat ki, amaanat ki, amaanat ki hai, aafat kismat mein nahin hai Shohrat ki hai seene se Matlab bana ab jeene mein  Kyon?  Tu nanga hi to aaya hai Tere bhai jaisa shaana lala Tujhe na mil payega x (2)  Tu nanga hi to aaya khud ki mehnat se main Jitni taakat ki Aur jurrat ki apna time aayega Apna time aayega Kya ghanta lekar jaayega Aayega Aisa mera khwaab hai Shohrat ki Himaakat ki hai Jo darr ko bhi ladka sehmat mein Har raaste ko cheerenge Hum kaamyabi chheenenge Hum kaamyabi chheenenge Sab kuchh mila paseene de Ab khauf nahi hai Jo darr ko bhi ladka sehmat nahin hai Kya tu ghanta lekar jaayega Aayega Apna time aayega  Yeh shabdon ka jwala Mere jaisa shaana lala Tujhe na mil payega  Tu nanga hi to aaya hai Zaroorat yahaan marzi ki Aur jurrat ki hai, aafat kismat mein hai Phir bhi ladka sehmat mein hai tu Utna hi to aaya khud ki mehnat se main Jitna toone boya hai Kya ghanta lekar jaayega Aayega  Tu nanga hi to aaya hai tu Utna hi to khaayega Aayega  Yeh shabdon ka jwala Mere jaisa koyi hard’ch nai hai, aafat ki, amaanat ki, ibaadat kismat mein Har raaste ko cheerenge Hum kaamyabi chheenenge Hum kaamyabi chheenenge Sab kuchh mila paseene se Matlab bana ab talaash mein Parwaaz dekh parwane ki ab aadat ki Adalat yeh hai tu Utna hi to aaya hai  Taakat ki, ibaadat ki Mohobbat ki Jeetne ki Aur jurrat ki Himaakat ki hai Phir bhi ladka sehmat mein Parwaaz dekh parwane ki Aur jurrat ki Adalat yeh hai Kya ghanta lekar jaayega Uth ja ab jeene mein hai  Taakat ki Himaakat ki hai, aafat kismat mein  Kyon?  Tu nanga hi to aaya hai Zaroorat yahaan marzi ki Adalat yeh hai Kya ghanta lekar..  Kissi ka hath nahin hai Kya ghanta lekar jaayega x (2)  Tu nanga hi to aaya hai Zaroorat yahaan marzi ki Aasman bhi satayega Apna Time Aayega Jitni taakat kismat mein Har raaste ko cheerenge Hum kaamyabi chheenenge Hum kaamyabi chheenenge Sab kuchh mila paseene se Matlab bana ab jeene mein  Kyon?  Tu nanga hi to aaya hai seene de Ab khauf nahi hai, aafat ki hai seene se jeene se Matlab bana ab talaash mein Parwaaz dekh parwane ki ab aadat ki, amaanat ki Himaakat ki, ibaadat ki hai tu Utna hi to aaya hai Jo darr ko bhi ladka sehmat nahi Utni rehmat nahin hai tu Utna hi to khaayega Apna time aayega Apna time aayega  Tu nanga hi to khaayega Aayega apni raakh se Tu udd ja apni raakh se Tu udd ja apna time aayega Apna time aayega Apna time aayega  Yeh shabdon ka jwala Meri bediyan pighlayega x (2)  Tu nanga hi to khaayega  Tu nanga hi to aaya hai Jo darr ko bhi sar par Yahaan par Yahaan marzi ki Aur jurrat ki, ibaadat ki, ibaadat ki Jeetne ki ab aadat ki Mohobbat ki, ibaadat ki, ibaadat kismat mein Har raaste ko cheerenge Sab kuchh mila paseene de Ab kaise tu dafnayega Jitni taakat kismat mein hai Kya ghanta lekar jaayega Aisa mera khwaab hai chahat ki hai Jo darr ko bhi sar par Yahaan par Yahaan marzi ki Adalat yeh hai Kya ghanta lekar jaayega Apna time aayega x (2)  Tu nanga hi to aaya hai Kyon?  Tu nanga hi to aaya hai Shohrat ki, ibaadat ki Himaakat ki hai  Iss harkat di hai Kya ghanta lekar..  Kissi ka hath nahi hai Tere bhai jaisa shaana lala Tujhe na mil payega Aayega  Tu nanga hi to khaayega  Yeh shabdon ka jwala Mere jaisa shaana lala Tujhe na mil payega Apna Time Aayega Apna time aayega Apna time aayega Aisa mera khwaab hai  Taakat ki, ibaadat ki, ibaadat ki hai Kya ghanta lekar jaayega x (2)  Tu nanga hi to aaya hai Zaroorat yahaan marzi ki Aasman bhi satayega x (2)  Tu nanga hi to aaya hai chahat kismat mein  Kyon ki ab aadat ki Himaakat ki, amaanat ki, amaanat ki hairat nahin hai Kya ghanta lekar jaayega Kya tu ghanta lekar jaayega Apna time aayega Uth ja apni raakh se Tu udd ja apna time aayega x (2)  Tu nanga hi to khaayega  Ab hausle se Matlab bana ab talaash mein hai Shohrat ki, ibaadat kismat mein nahin hai  Iss harkat ne hi barkat di hai Jo darr ko bhi sar uthayega Zinda mera khwaab hai  Taakat ki Adalat yeh hai seene mein  Kyon ki ab laalach nai hai Kya ghanta lekar jaayega  Ab hausle se Matlab bana ab jeene mein Har raaste ko cheerenge Sab kuchh mila paseene se jeene mein nahi hai chahat ki Jeetne ki apna time aayega Aayega apni raakh se Tu udd ja ab talaash mein hai Jo darr ko bhi satayega x (2)  Tu nanga hi to aaya hai Phir bhi ladka sehmat mein Parwaaz dekh parwane ki Aur jurrat ki ab laalach nai hai chahat ki ab laalach nai hai, aafat ki Jeetne ki ab aadat ki Jeetne ki Adalat yeh hai Tere bhai jaisa koyi hard’ch nai hai Kya ghanta lekar..  Kissi ka hath nahi tha sar par Yahaan marzi ki Aasman bhi sar par Yahaan par Yahaan marzi ki Aur jurrat ki, ibaadat ki, amaanat ki hai Zaroorat yahaan marzi ki Aasman bhi satayega Meri bediyan pighlayega Kya ghanta lekar jaayega x (2)  Tu nanga hi to aaya hai Kyon?  Tu nanga hi to aaya hai Kya ghanta lekar..  Kissi ka hath nahi hai Tere bhai jaisa shaana lala Tujhe na mil payega Aayega Aayega Apna time aayega Kya ghanta lekar..  Kissi ka hath nahi Utni rehmat nahi tha sar par Yahaan par Yahaan marzi ki Adalat yeh hai tu Utna hi to aaya hai Phir bhi sar par aaya khud ki mehnat se main Jitni taakat ki Jeetne ki Aur jurrat kismat mein Har raaste ko cheerenge Hum kaamyabi chheenenge Hum kaamyabi chheenenge Sab kuchh mila paseene mein nahi Utni rehmat nahin hai chahat kismat mein nahi tha sar uthayega Jitna toone boya hai tu Utna hi to khaayega Aisa mera khwaab Ab khauf nahin hai  Taakat ki Mohobbat kismat mein  Kyon Kyon?  Tu nanga hi to aaya hai Kya ghanta lekar..  Kissi ka hath nahi hairat nahin hai tu Utna hi to aaya hai Jo darr ko bhi satayega Aayega Jitna toone boya hai Jo darr ko bhi ladka sehmat nahi tha sar par aaya khud ki mehnat se main Jitni taakat ki Jeetne ki Adalat yeh hai  Taakat ki ab laalach nai hai Jo darr ko bhi satayega Zinda mera khwaab hai Jo darr ko bhi sar par aaya hai Jo darr ko bhi ladka sehmat nahi hai tu Utna hi to khaayega Jitni taakat ki Himaakat ki Aasman bhi sar uthayega Apna Time Aayega Apna Time Aayega Kya ghanta lekar jaayega Mere jaisa shaana lala Tujhe na mil payega x (2)  Tu nanga hi to aaya hai  Taakat ki Jeetne ki apna time aayega apna time aayega  Tu nanga hi to khaayega apna time aayega  Yeh shabdon ka jwala Meri bediyan pighlayega Zinda mera khwaab hai Zaroorat yahaan par aaya hai tu Utna hi to khaayega  Tu nanga hi to aaya khud ki mehnat se main Jitna toone boya hai  Taakat kismat mein Har raaste ko cheerenge Sab kuchh mila paseene se Matlab bana ab jeene se jeene mein  Kyon ki ab aadat kismat mein Har raaste ko cheerenge Hum kaamyabi chheenenge Hum kaamyabi chheenenge Hum kaamyabi chheenenge Hum kaamyabi chheenenge Sab kuchh mila paseene mein Har raaste ko cheerenge Sab kuchh mila paseene mein Har raaste ko cheerenge Sab kuchh mila paseene se jeene de Ab kaise tu dafnayega  Yeh shabdon ka jwala Mere jaisa koyi hard’ch nai hai Tere bhai jaisa shaana lala Tujhe na mil payega x (2)  Tu nanga hi to khaayega Jitna toone boya hai seene de Ab khauf nahi Utni rehmat mein nahin hai Shohrat kismat mein Parwaaz dekh parwane ki Adalat yeh hai Kya tu ghanta lekar jaayega Aayega  Ab hausle se jeene se jeene mein Har raaste ko cheerenge Sab kuchh mila paseene se Matlab bana ab talaash mein Parwaaz dekh parwane ki ab aadat ki Adalat yeh hai chahat ki ab laalach nai hairat nahin hai seene de Ab khauf nahi hai, aafat ki Mohobbat ki, amaanat ki Himaakat ki Himaakat ki apna time aayega Aayega Apna Time Aayega apni raakh se Tu udd ja ab jeene mein nahi tha sar par Yahaan marzi ki Aur jurrat ki Jeetne ki ab laalach nai hai  Iss harkat ne hi barkat di hai, aafat ki Mohobbat ki, amaanat ki Jeetne ki Aur jurrat ki Jeetne ki ab aadat ki, ibaadat ki hai, aafat kismat mein Parwaaz dekh parwane ki Aur jurrat ki, amaanat ki Jeetne ki Adalat yeh hai tu Utna hi to khaayega Jitna toone boya hai tu Utna hi to aaya hai seene mein Har raaste ko cheerenge Hum kaamyabi chheenenge Sab kuchh mila paseene mein nahi tha sar uthayega x (2)  Tu nanga hi to khaayega apna time aayega Meri bediyan pighlayega Apna time aayega x (2)  Tu nanga hi to aaya hai  Taakat ki apna time aayega  Tu nanga hi to khaayega Kya ghanta lekar jaayega Kya ghanta lekar jaayega Zinda mera khwaab Ab khauf nahi hai, aafat ki Jeetne ki Aasman bhi satayega Aayega Zinda mera khwaab hai chahat kismat mein hai seene mein hai Kya tu ghanta lekar jaayega  Tu nanga hi to aaya hai Shohrat ki Mohobbat ki ab aadat ki Mohobbat ki, amaanat ki, amaanat ki hai seene mein Har raaste ko cheerenge Sab kuchh mila paseene mein nahi hairat nahi hai Kya ghanta lekar jaayega Apna Time Aayega  Yeh shabdon ka jwala Meri bediyan pighlayega Apna Time Aayega  Yeh shabdon ka jwala Mere jaisa shaana lala Tujhe na mil payega x (2)  Tu nanga hi to aaya hai Kya ghanta lekar..  Kissi ka hath nahi hai, aafat kismat mein Parwaaz dekh parwane ki Adalat yeh hai Kyon Kyon Kyon?  Tu nanga hi to khaayega  Ab hausle se Matlab bana ab talaash mein  Kyon ki ab laalach nai hai tu Utna hi to khaayega Mere jaisa koyi hard’ch nai hai Kya ghanta lekar jaayega x (2)  Tu nanga hi to aaya hai Kya tu ghanta lekar jaayega Apna time aayega x (2)  Tu nanga hi to khaayega Aisa mera khwaab hai Phir bhi sar uthayega  Yeh shabdon ka jwala Mere jaisa shaana lala Tujhe na mil payega  Yeh shabdon ka jwala Mere jaisa shaana lala Tujhe na mil payega Meri bediyan pighlayega  Yeh shabdon ka jwala Meri bediyan pighlayega x (2)  Tu nanga hi to aaya hai  Taakat ki, ibaadat ki ab laalach nai hai tu Utna hi to aaya khud ki mehnat se main Jitna toone boya hai seene se Matlab bana ab jeene se Matlab bana ab talaash mein hai tu Utna hi to aaya hai Kyon ki ab aadat ki Mohobbat ki Aasman bhi satayega Aisa mera khwaab Ab kaise tu dafnayega Uth ja ab talaash mein hai chahat ki, amaanat ki Himaakat ki Jeetne ki Aasman bhi ladka sehmat mein  Kyon Kyon?  Tu nanga hi to aaya khud ki mehnat se main Jitni taakat kismat mein hai  Iss harkat ne hi barkat di hai Tere bhai jaisa koyi hard’ch nai hai Shohrat kismat mein Parwaaz dekh parwane ki apna time aayega Mere jaisa shaana lala Tujhe na mil payega Meri bediyan pighlayega Apna time aayega Aayega Apna time aayega Apna time aayega  Tu nanga hi to khaayega  Ab hausle se jeene se Matlab bana ab talaash mein Parwaaz dekh parwane ki ab aadat ki Jeetne ki ab aadat ki, amaanat kismat mein hai  Iss harkat di hai, aafat ki hairat nahi hairat nahi tha sar par Yahaan par Yahaan par aaya hai  Iss harkat ne hi barkat ne h\n"
     ]
    }
   ],
   "source": [
    "print(generate_txt(size =20000,diversity = 1.5))"
   ]
  },
  {
   "cell_type": "code",
   "execution_count": null,
   "metadata": {},
   "outputs": [],
   "source": []
  }
 ],
 "metadata": {
  "kernelspec": {
   "display_name": "Python 3",
   "language": "python",
   "name": "python3"
  },
  "language_info": {
   "codemirror_mode": {
    "name": "ipython",
    "version": 3
   },
   "file_extension": ".py",
   "mimetype": "text/x-python",
   "name": "python",
   "nbconvert_exporter": "python",
   "pygments_lexer": "ipython3",
   "version": "3.6.8"
  }
 },
 "nbformat": 4,
 "nbformat_minor": 2
}
