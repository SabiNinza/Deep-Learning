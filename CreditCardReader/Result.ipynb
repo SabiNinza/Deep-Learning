{
 "cells": [
  {
   "cell_type": "markdown",
   "metadata": {},
   "source": [
    "## Draw the credit card number"
   ]
  },
  {
   "cell_type": "code",
   "execution_count": 1,
   "metadata": {},
   "outputs": [],
   "source": [
    "from CvFunction import pre_process,cordinate_cntr_xaxis\n",
    "import cv2\n",
    "import numpy as np"
   ]
  },
  {
   "cell_type": "code",
   "execution_count": 2,
   "metadata": {},
   "outputs": [
    {
     "name": "stderr",
     "output_type": "stream",
     "text": [
      "Using TensorFlow backend.\n",
      "/home/puneet/.local/lib/python3.6/site-packages/requests/__init__.py:91: RequestsDependencyWarning: urllib3 (1.24.1) or chardet (2.3.0) doesn't match a supported version!\n",
      "  RequestsDependencyWarning)\n"
     ]
    },
    {
     "name": "stdout",
     "output_type": "stream",
     "text": [
      "WARNING:tensorflow:From /home/puneet/.local/lib/python3.6/site-packages/tensorflow/python/framework/op_def_library.py:263: colocate_with (from tensorflow.python.framework.ops) is deprecated and will be removed in a future version.\n",
      "Instructions for updating:\n",
      "Colocations handled automatically by placer.\n",
      "WARNING:tensorflow:From /home/puneet/.local/lib/python3.6/site-packages/tensorflow/python/ops/math_ops.py:3066: to_int32 (from tensorflow.python.ops.math_ops) is deprecated and will be removed in a future version.\n",
      "Instructions for updating:\n",
      "Use tf.cast instead.\n"
     ]
    }
   ],
   "source": [
    "from keras.models import load_model\n",
    "import keras\n",
    "\n",
    "digit_classifier = load_model(\"Trained Models/creditcard.h5\")\n"
   ]
  },
  {
   "cell_type": "code",
   "execution_count": 3,
   "metadata": {},
   "outputs": [
    {
     "name": "stdout",
     "output_type": "stream",
     "text": [
      "5\n",
      "3\n",
      "5\n",
      "5\n",
      "2\n",
      "0\n",
      "3\n",
      "2\n",
      "9\n",
      "0\n",
      "6\n"
     ]
    }
   ],
   "source": [
    "\n",
    "img = cv2.imread('credit_card_extracted_digits.jpg')\n",
    "orig_img = cv2.imread('credit_card_color.jpg')\n",
    "gray = cv2.cvtColor(img,cv2.COLOR_BGR2GRAY)\n",
    "cv2.imshow(\"image\", img)\n",
    "cv2.waitKey(0)\n",
    "\n",
    "blurred = cv2.GaussianBlur(gray, (5, 5), 0)\n",
    "# cv2.imshow(\"blurred\", blurred)\n",
    "# cv2.waitKey(0)\n",
    "\n",
    "edged = cv2.Canny(blurred, 30, 150)\n",
    "# cv2.imshow(\"edged\", edged)\n",
    "# cv2.waitKey(0)\n",
    "\n",
    "\n",
    "_, contours, _ = cv2.findContours(edged.copy(), cv2.RETR_EXTERNAL, cv2.CHAIN_APPROX_SIMPLE)\n",
    "\n",
    "contours = sorted(contours, key=cv2.contourArea, reverse=True)[:13] #Change this to 16 to get all digits\n",
    "contours = sorted(contours, key = cordinate_cntr_xaxis, reverse = False)\n",
    "\n",
    "# cv2.drawContours(img,contours,-1,(0,0,255),3)\n",
    "# cv2.imshow(\"contours\",img)\n",
    "\n",
    "full_number = []\n",
    "\n",
    "for c in contours:\n",
    "    (x, y, w, h) = cv2.boundingRect(c)    \n",
    "    if w >= 4 and h >= 25 and cv2.contourArea(c) < 1000:\n",
    "        digit = blurred[y:y + h, x:x + w]\n",
    "        #ret, roi = cv2.threshold(roi, 20, 255,cv2.THRESH_BINARY_INV)\n",
    "        cv2.imshow(\"digit1\", digit)\n",
    "        processed_digit = pre_process(digit, True)\n",
    "        cv2.imshow(\"digit2\", processed_digit)\n",
    "        processed_digit = cv2.cvtColor(processed_digit, cv2.COLOR_GRAY2RGB)\n",
    "        processed_digit = keras.preprocessing.image.img_to_array(processed_digit)\n",
    "        processed_digit = processed_digit * 1.0/255\n",
    "        processed_digit = np.expand_dims(processed_digit, axis=0)\n",
    "        image = np.vstack([processed_digit])\n",
    "        label = str(digit_classifier.predict_classes(image, batch_size = 14))[1]\n",
    "        print(label)\n",
    "        cv2.rectangle(orig_img, (x, y), (x + w, y + h), (255, 5, 0), 2)\n",
    "        cv2.putText(orig_img, label, (x , y + 90), cv2.FONT_HERSHEY_COMPLEX, 2, (255,126, 127), 2)\n",
    "        cv2.imshow(\"image\", orig_img)\n",
    "        cv2.waitKey(0) \n",
    "        \n",
    "cv2.destroyAllWindows()"
   ]
  },
  {
   "cell_type": "code",
   "execution_count": null,
   "metadata": {},
   "outputs": [],
   "source": []
  }
 ],
 "metadata": {
  "kernelspec": {
   "display_name": "Python 3",
   "language": "python",
   "name": "python3"
  },
  "language_info": {
   "codemirror_mode": {
    "name": "ipython",
    "version": 3
   },
   "file_extension": ".py",
   "mimetype": "text/x-python",
   "name": "python",
   "nbconvert_exporter": "python",
   "pygments_lexer": "ipython3",
   "version": "3.6.8"
  }
 },
 "nbformat": 4,
 "nbformat_minor": 2
}
