{
 "cells": [
  {
   "cell_type": "code",
   "execution_count": null,
   "metadata": {},
   "outputs": [],
   "source": [
    "import cv2"
   ]
  },
  {
   "cell_type": "code",
   "execution_count": 19,
   "metadata": {},
   "outputs": [
    {
     "name": "stdout",
     "output_type": "stream",
     "text": [
      "Turning off camera.\n",
      "Camera off.\n",
      "Program ended.\n"
     ]
    }
   ],
   "source": [
    "import cv2 \n",
    "\n",
    "key = cv2. waitKey(1)\n",
    "webcam = cv2.VideoCapture(0)\n",
    "while True:\n",
    "#     x=152\n",
    "#     y=1411\n",
    "#     w=635\n",
    "#     h=412\n",
    "    check, frame = webcam.read()\n",
    "#     print(check) #prints true as long as the webcam is running\n",
    "#     print(frame) #prints matrix values of each framecd \n",
    "    cv2.rectangle(frame, (400,10), (570,400), (0,0,250), 3)\n",
    "    cv2.imshow(\"Capturisng\", frame)\n",
    "    key = cv2.waitKey(1)\n",
    "    if key == ord('s'): \n",
    "        creditcard = frame[20:300,23:344]\n",
    "        \n",
    "#         cv2.imwrite(filename='saved_img.jpg', img=frame)\n",
    "#         webcam.release()\n",
    "#         img_new = cv2.imread('saved_img.jpg', cv2.IMREAD_GRAYSCALE)\n",
    "#         img_new = cv2.imshow(\"Captured Image\", img_new)\n",
    "        cv2.waitKey(1650)\n",
    "        cv2.destroyAllWindows()\n",
    "        break\n",
    "    elif key == ord('q'):\n",
    "        print(\"Turning off camera.\")\n",
    "        webcam.release()\n",
    "        print(\"Camera off.\")\n",
    "        print(\"Program ended.\")\n",
    "        cv2.destroyAllWindows()\n",
    "        break"
   ]
  },
  {
   "cell_type": "code",
   "execution_count": null,
   "metadata": {},
   "outputs": [],
   "source": []
  }
 ],
 "metadata": {
  "kernelspec": {
   "display_name": "Python 3",
   "language": "python",
   "name": "python3"
  },
  "language_info": {
   "codemirror_mode": {
    "name": "ipython",
    "version": 3
   },
   "file_extension": ".py",
   "mimetype": "text/x-python",
   "name": "python",
   "nbconvert_exporter": "python",
   "pygments_lexer": "ipython3",
   "version": "3.6.8"
  }
 },
 "nbformat": 4,
 "nbformat_minor": 2
}
