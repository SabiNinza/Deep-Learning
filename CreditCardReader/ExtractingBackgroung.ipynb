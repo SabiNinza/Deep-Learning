{
 "cells": [
  {
   "cell_type": "code",
   "execution_count": null,
   "metadata": {},
   "outputs": [],
   "source": [
    "from CvFunction import doc_Scan\n",
    "import cv2"
   ]
  },
  {
   "cell_type": "code",
   "execution_count": null,
   "metadata": {},
   "outputs": [],
   "source": [
    "image = cv2.imread('test_card.jpg')\n",
    "image = doc_Scan(image)\n",
    "\n",
    "region = [[55, 210], [640, 290]]\n",
    "\n",
    "top_left_y = region[0][1]\n",
    "bottom_right_y = region[1][1]\n",
    "top_left_x = region[0][0]\n",
    "bottom_right_x = region[1][0]\n",
    "\n",
    "# Extracting the area were the credit numbers are located\n",
    "roi = image[top_left_y:bottom_right_y, top_left_x:bottom_right_x]\n",
    "cv2.imshow(\"Region\", roi)\n",
    "cv2.imwrite(\"credit_card_extracted_digits.jpg\", roi)\n",
    "cv2.waitKey(0)\n",
    "cv2.destroyAllWindows()"
   ]
  },
  {
   "cell_type": "code",
   "execution_count": null,
   "metadata": {},
   "outputs": [],
   "source": [
    "import imutils"
   ]
  },
  {
   "cell_type": "code",
   "execution_count": null,
   "metadata": {},
   "outputs": [],
   "source": []
  },
  {
   "cell_type": "code",
   "execution_count": null,
   "metadata": {},
   "outputs": [],
   "source": []
  }
 ],
 "metadata": {
  "kernelspec": {
   "display_name": "Python 3",
   "language": "python",
   "name": "python3"
  },
  "language_info": {
   "codemirror_mode": {
    "name": "ipython",
    "version": 3
   },
   "file_extension": ".py",
   "mimetype": "text/x-python",
   "name": "python",
   "nbconvert_exporter": "python",
   "pygments_lexer": "ipython3",
   "version": "3.6.8"
  }
 },
 "nbformat": 4,
 "nbformat_minor": 2
}
