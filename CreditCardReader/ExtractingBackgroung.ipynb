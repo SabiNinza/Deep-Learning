{
 "cells": [
  {
   "cell_type": "code",
   "execution_count": 4,
   "metadata": {},
   "outputs": [],
   "source": [
    "from CvFunction import creditcard_Scan\n",
    "import cv2"
   ]
  },
  {
   "cell_type": "code",
   "execution_count": 5,
   "metadata": {},
   "outputs": [],
   "source": [
    "image = cv2.imread('test_card.jpg')\n",
    "# print(image.shape)\n",
    "image = cv2.resize(image,(890,659))\n",
    "# print(image.shape)\n",
    "image = creditcard_Scan(image)\n",
    "# print(image)\n",
    "digit_region = [[55, 210], [640, 290]]\n",
    "\n",
    "top_left_y = digit_region[0][1]\n",
    "bottom_right_y = digit_region[1][1]\n",
    "top_left_x = digit_region[0][0]\n",
    "bottom_right_x = digit_region[1][0]\n",
    "\n",
    "digit = image[top_left_y:bottom_right_y, top_left_x:bottom_right_x]\n",
    "cv2.imshow(\"digit_region\", roi)\n",
    "cv2.imwrite(\"credit_card_extracted_digits.jpg\", digit)\n",
    "cv2.waitKey(0)\n",
    "cv2.destroyAllWindows()"
   ]
  },
  {
   "cell_type": "code",
   "execution_count": null,
   "metadata": {},
   "outputs": [],
   "source": [
    "import imutils"
   ]
  },
  {
   "cell_type": "code",
   "execution_count": null,
   "metadata": {},
   "outputs": [],
   "source": []
  },
  {
   "cell_type": "code",
   "execution_count": null,
   "metadata": {},
   "outputs": [],
   "source": []
  }
 ],
 "metadata": {
  "kernelspec": {
   "display_name": "Python 3",
   "language": "python",
   "name": "python3"
  },
  "language_info": {
   "codemirror_mode": {
    "name": "ipython",
    "version": 3
   },
   "file_extension": ".py",
   "mimetype": "text/x-python",
   "name": "python",
   "nbconvert_exporter": "python",
   "pygments_lexer": "ipython3",
   "version": "3.6.8"
  }
 },
 "nbformat": 4,
 "nbformat_minor": 2
}
