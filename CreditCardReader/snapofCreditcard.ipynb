{
 "cells": [
  {
   "cell_type": "code",
   "execution_count": null,
   "metadata": {},
   "outputs": [],
   "source": [
    "import cv2"
   ]
  },
  {
   "cell_type": "code",
   "execution_count": 29,
   "metadata": {},
   "outputs": [],
   "source": [
    "import cv2 \n",
    "\n",
    "key = cv2. waitKey(1)\n",
    "webcam = cv2.VideoCapture(0)\n",
    "while True:\n",
    "    x=210\n",
    "    y=180\n",
    "    w=580\n",
    "    h=400\n",
    "    check, frame = webcam.read()\n",
    "#     print(check) #prints true as long as the webcam is running\n",
    "#     print(frame) #prints matrix values of each framecd \n",
    "    cv2.rectangle(frame, (210,180), (580,400), (0,0,250), 3)\n",
    "    cv2.imshow(\"Capturisng\", frame)\n",
    "    key = cv2.waitKey(1)\n",
    "    if key == ord('s'): \n",
    "        creditcard = frame[180:400,210:580]\n",
    "        \n",
    "        cv2.imwrite(filename='test_card.jpg', img=creditcard)\n",
    "        webcam.release()\n",
    "        img_new = cv2.imread('test_card.jpg', cv2.IMREAD_GRAYSCALE)\n",
    "        img_new = cv2.imshow(\"Captured Image\", img_new)\n",
    "        cv2.waitKey(1)\n",
    "        cv2.destroyAllWindows()\n",
    "        break\n",
    "    elif key == ord('q'):\n",
    "        print(\"Turning off camera.\")\n",
    "        webcam.release()\n",
    "        print(\"Camera off.\")\n",
    "        print(\"Program ended.\")\n",
    "        cv2.destroyAllWindows()\n",
    "        break"
   ]
  },
  {
   "cell_type": "code",
   "execution_count": null,
   "metadata": {},
   "outputs": [],
   "source": []
  }
 ],
 "metadata": {
  "kernelspec": {
   "display_name": "Python 3",
   "language": "python",
   "name": "python3"
  },
  "language_info": {
   "codemirror_mode": {
    "name": "ipython",
    "version": 3
   },
   "file_extension": ".py",
   "mimetype": "text/x-python",
   "name": "python",
   "nbconvert_exporter": "python",
   "pygments_lexer": "ipython3",
   "version": "3.6.8"
  }
 },
 "nbformat": 4,
 "nbformat_minor": 2
}
