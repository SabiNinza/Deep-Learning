{
 "cells": [
  {
   "cell_type": "markdown",
   "metadata": {},
   "source": [
    "### Making Directory"
   ]
  },
  {
   "cell_type": "code",
   "execution_count": null,
   "metadata": {},
   "outputs": [],
   "source": [
    "import os\n",
    "from CvFunction import makedir\n",
    "for i in range(0,10):\n",
    "    directory_name = \"./credit_card/train/\"+str(i)\n",
    "    print(directory_name)\n",
    "    makedir(directory_name) \n",
    "\n",
    "for i in range(0,10):\n",
    "    directory_name = \"./credit_card/test/\"+str(i)\n",
    "    print(directory_name)\n",
    "    makedir(directory_name)\n"
   ]
  },
  {
   "cell_type": "markdown",
   "metadata": {},
   "source": [
    "### Making Training DAta"
   ]
  },
  {
   "cell_type": "code",
   "execution_count": 2,
   "metadata": {},
   "outputs": [
    {
     "name": "stdout",
     "output_type": "stream",
     "text": [
      "Augmenting Digit -  0\n",
      "Augmenting Digit -  1\n",
      "Augmenting Digit -  2\n",
      "Augmenting Digit -  3\n",
      "Augmenting Digit -  4\n",
      "Augmenting Digit -  5\n",
      "Augmenting Digit -  6\n",
      "Augmenting Digit -  7\n",
      "Augmenting Digit -  8\n",
      "Augmenting Digit -  9\n"
     ]
    }
   ],
   "source": [
    "#Create our dataset directories\n",
    "import cv2\n",
    "from CvFunction import DigitAugmentation,pre_process\n",
    "\n",
    "\n",
    "\n",
    "cc1 = cv2.imread('creditcard_digits2.jpg', 0)\n",
    "_, th2 = cv2.threshold(cc1, 0, 255, cv2.THRESH_BINARY_INV + cv2.THRESH_OTSU)\n",
    "cv2.imshow(\"cc1\", th2)\n",
    "cv2.waitKey(0)\n",
    "cv2.destroyAllWindows()\n",
    "\n",
    "region = [(0, 0), (35, 48)]\n",
    "\n",
    "top_left_y = region[0][1]\n",
    "bottom_right_y = region[1][1]\n",
    "top_left_x = region[0][0]\n",
    "bottom_right_x = region[1][0]\n",
    "\n",
    "for i in range(0,10):   \n",
    "    if i > 0:\n",
    "        # We jump the next digit each time we loop\n",
    "        top_left_x = top_left_x + 35\n",
    "        bottom_right_x = bottom_right_x + 35\n",
    "\n",
    "    roi = cc1[top_left_y:bottom_right_y, top_left_x:bottom_right_x]\n",
    "    print(\"Augmenting Digit - \", str(i))\n",
    "    # We create 200 versions of each image for our dataset\n",
    "    for j in range(0,2000):\n",
    "        roi2 = DigitAugmentation(roi)\n",
    "        roi_otsu = pre_process(roi2, inv = False)\n",
    "        cv2.imwrite(\"./credit_card/train/\"+str(i)+\"/\"+str(j)+\".jpg\", roi_otsu)\n",
    "        cv2.imshow(\"otsu\", roi_otsu)\n",
    "#         print(\"-\")\n",
    "    cv2.waitKey(0)\n",
    "\n",
    "cv2.destroyAllWindows()"
   ]
  },
  {
   "cell_type": "code",
   "execution_count": null,
   "metadata": {},
   "outputs": [],
   "source": []
  },
  {
   "cell_type": "code",
   "execution_count": null,
   "metadata": {},
   "outputs": [],
   "source": []
  },
  {
   "cell_type": "markdown",
   "metadata": {},
   "source": [
    "### Making TestdAta"
   ]
  },
  {
   "cell_type": "markdown",
   "metadata": {},
   "source": [
    "#### In this dataset INverse is true for creation of unseen data not simmilar to training data"
   ]
  },
  {
   "cell_type": "code",
   "execution_count": null,
   "metadata": {},
   "outputs": [],
   "source": [
    "cc1 = cv2.imread('creditcard_digits1.jpg', 0)\n",
    "\n",
    "_, th2 = cv2.threshold(cc1, 0, 255, cv2.THRESH_BINARY_INV + cv2.THRESH_OTSU)\n",
    "cv2.imshow(\"cc1\", th2)\n",
    "cv2.imshow(\"creditcard_digits1\", cc1)\n",
    "cv2.waitKey(0)\n",
    "cv2.destroyAllWindows()\n",
    "\n",
    "region = [(2, 19), (50, 72)]\n",
    "\n",
    "top_left_y = region[0][1]\n",
    "bottom_right_y = region[1][1]\n",
    "top_left_x = region[0][0]\n",
    "bottom_right_x = region[1][0]\n",
    "\n",
    "for i in range(0,10):   \n",
    "    # We jump the next digit each time we loop\n",
    "    if i > 0:\n",
    "        top_left_x = top_left_x + 59\n",
    "        bottom_right_x = bottom_right_x + 59\n",
    "\n",
    "    roi = cc1[top_left_y:bottom_right_y, top_left_x:bottom_right_x]\n",
    "    print(\"Augmenting Digit - \", str(i))\n",
    "    # We create 200 versions of each image for our dataset\n",
    "    for j in range(0,1000):\n",
    "        roi2 = DigitAugmentation(roi)\n",
    "        roi_otsu = pre_process(roi2, inv = True)\n",
    "        cv2.imwrite(\"./credit_card/test/\"+str(i)+\"/_1_\"+str(j)+\".jpg\", roi_otsu)\n",
    "cv2.destroyAllWindows()"
   ]
  },
  {
   "cell_type": "markdown",
   "metadata": {},
   "source": [
    "### Test daTaset similar to training data"
   ]
  },
  {
   "cell_type": "code",
   "execution_count": 3,
   "metadata": {},
   "outputs": [
    {
     "name": "stdout",
     "output_type": "stream",
     "text": [
      "Augmenting Digit -  0\n",
      "Augmenting Digit -  1\n",
      "Augmenting Digit -  2\n",
      "Augmenting Digit -  3\n",
      "Augmenting Digit -  4\n",
      "Augmenting Digit -  5\n",
      "Augmenting Digit -  6\n",
      "Augmenting Digit -  7\n",
      "Augmenting Digit -  8\n",
      "Augmenting Digit -  9\n"
     ]
    }
   ],
   "source": [
    "cc1 = cv2.imread('creditcard_digits2.jpg', 0)\n",
    "_, th2 = cv2.threshold(cc1, 0, 255, cv2.THRESH_BINARY_INV + cv2.THRESH_OTSU)\n",
    "cv2.imshow(\"cc1\", th2)\n",
    "cv2.waitKey(0)\n",
    "cv2.destroyAllWindows()\n",
    "\n",
    "region = [(0, 0), (35, 48)]\n",
    "\n",
    "top_left_y = region[0][1]\n",
    "bottom_right_y = region[1][1]\n",
    "top_left_x = region[0][0]\n",
    "bottom_right_x = region[1][0]\n",
    "\n",
    "for i in range(0,10):   \n",
    "    if i > 0:\n",
    "        # We jump the next digit each time we loop\n",
    "        top_left_x = top_left_x + 35\n",
    "        bottom_right_x = bottom_right_x + 35\n",
    "\n",
    "    roi = cc1[top_left_y:bottom_right_y, top_left_x:bottom_right_x]\n",
    "    print(\"Augmenting Digit - \", str(i))\n",
    "    # We create 200 versions of each image for our dataset\n",
    "    for j in range(0,2000):\n",
    "        roi2 = DigitAugmentation(roi)\n",
    "        roi_otsu = pre_process(roi2, inv = False)\n",
    "        cv2.imwrite(\"./credit_card/test/\"+str(i)+\"/_2_\"+str(j)+\".jpg\", roi_otsu)\n",
    "        cv2.imshow(\"otsu\", roi_otsu)\n",
    "#         cv2.waitKey(0)\n",
    "cv2.destroyAllWindows()"
   ]
  },
  {
   "cell_type": "code",
   "execution_count": null,
   "metadata": {},
   "outputs": [],
   "source": []
  }
 ],
 "metadata": {
  "kernelspec": {
   "display_name": "Python 3",
   "language": "python",
   "name": "python3"
  },
  "language_info": {
   "codemirror_mode": {
    "name": "ipython",
    "version": 3
   },
   "file_extension": ".py",
   "mimetype": "text/x-python",
   "name": "python",
   "nbconvert_exporter": "python",
   "pygments_lexer": "ipython3",
   "version": "3.6.8"
  }
 },
 "nbformat": 4,
 "nbformat_minor": 2
}
