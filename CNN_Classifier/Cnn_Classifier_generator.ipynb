{
 "cells": [
  {
   "cell_type": "code",
   "execution_count": 3,
   "metadata": {},
   "outputs": [],
   "source": [
    "import numpy as np\n",
    "import matplotlib.pyplot as plt\n",
    "import os\n",
    "from keras.preprocessing import image\n",
    "from keras.layers import *\n",
    "from keras.utils import np_utils\n",
    "from keras.models import Sequential"
   ]
  },
  {
   "cell_type": "markdown",
   "metadata": {},
   "source": [
    "## CNN Model"
   ]
  },
  {
   "cell_type": "code",
   "execution_count": 6,
   "metadata": {},
   "outputs": [],
   "source": [
    "def create_model():\n",
    "    model = Sequential()\n",
    "    \n",
    "    model.add(Conv2D(32,(3,3),activation = \"relu\" , input_shape = (150,150,1)))\n",
    "    model.add(Conv2D(56,(3,3), activation = \"relu\" ))\n",
    "    model.add(MaxPool2D(2,2))\n",
    "    model.add(Conv2D(72,(3,3),activation = \"relu\"))\n",
    "    model.add(MaxPool2D(2,2))\n",
    "    model.add(Conv2D(128,(3,3),activation = \"relu\"))\n",
    "    model.add(MaxPool2D(2,2))\n",
    "    model.add(Flatten())\n",
    "    model.add(Dense(64,activation = \"relu\"))\n",
    "    model.add(Dense(4,activation = \"softmax\"))\n",
    "    model.summary()"
   ]
  },
  {
   "cell_type": "code",
   "execution_count": 8,
   "metadata": {},
   "outputs": [
    {
     "name": "stdout",
     "output_type": "stream",
     "text": [
      "_________________________________________________________________\n",
      "Layer (type)                 Output Shape              Param #   \n",
      "=================================================================\n",
      "conv2d_5 (Conv2D)            (None, 148, 148, 32)      320       \n",
      "_________________________________________________________________\n",
      "conv2d_6 (Conv2D)            (None, 146, 146, 56)      16184     \n",
      "_________________________________________________________________\n",
      "max_pooling2d_4 (MaxPooling2 (None, 73, 73, 56)        0         \n",
      "_________________________________________________________________\n",
      "conv2d_7 (Conv2D)            (None, 71, 71, 72)        36360     \n",
      "_________________________________________________________________\n",
      "max_pooling2d_5 (MaxPooling2 (None, 35, 35, 72)        0         \n",
      "_________________________________________________________________\n",
      "conv2d_8 (Conv2D)            (None, 33, 33, 128)       83072     \n",
      "_________________________________________________________________\n",
      "max_pooling2d_6 (MaxPooling2 (None, 16, 16, 128)       0         \n",
      "_________________________________________________________________\n",
      "flatten_2 (Flatten)          (None, 32768)             0         \n",
      "_________________________________________________________________\n",
      "dense_3 (Dense)              (None, 64)                2097216   \n",
      "_________________________________________________________________\n",
      "dense_4 (Dense)              (None, 4)                 260       \n",
      "=================================================================\n",
      "Total params: 2,233,412\n",
      "Trainable params: 2,233,412\n",
      "Non-trainable params: 0\n",
      "_________________________________________________________________\n"
     ]
    }
   ],
   "source": [
    "create_model()"
   ]
  },
  {
   "cell_type": "markdown",
   "metadata": {},
   "source": [
    "## Data Preparation"
   ]
  },
  {
   "cell_type": "code",
   "execution_count": 69,
   "metadata": {},
   "outputs": [],
   "source": [
    "from keras.preprocessing.image import ImageDataGenerator\n",
    "from pathlib import Path"
   ]
  },
  {
   "cell_type": "code",
   "execution_count": 70,
   "metadata": {},
   "outputs": [
    {
     "name": "stdout",
     "output_type": "stream",
     "text": [
      "cats\n",
      "202\n",
      "humans\n",
      "202\n",
      "horses\n",
      "202\n",
      "dogs\n",
      "202\n"
     ]
    }
   ],
   "source": [
    "pth = Path(\"images/\")\n",
    "for file in pth.glob(\"*\"):\n",
    "    cnt=0\n",
    "    for img in file.glob(\"*.jpg\"):\n",
    "        cnt+=1\n",
    "    print(str(file).split(\"/\")[-1])\n",
    "    print(cnt)"
   ]
  },
  {
   "cell_type": "code",
   "execution_count": 71,
   "metadata": {},
   "outputs": [],
   "source": [
    "image_gen = ImageDataGenerator(rescale=1./255,validation_split=0.2)"
   ]
  },
  {
   "cell_type": "code",
   "execution_count": 72,
   "metadata": {},
   "outputs": [
    {
     "name": "stdout",
     "output_type": "stream",
     "text": [
      "Found 648 images belonging to 4 classes.\n"
     ]
    }
   ],
   "source": [
    "img_gen_dir = image_gen.flow_from_directory(\"images/\",\n",
    "        target_size=(150, 150),\n",
    "        batch_size=32,\n",
    "        class_mode='categorical',\n",
    "        subset = 'training'                                                              \n",
    "            )"
   ]
  },
  {
   "cell_type": "code",
   "execution_count": 73,
   "metadata": {},
   "outputs": [
    {
     "name": "stdout",
     "output_type": "stream",
     "text": [
      "[0 1 2 3] [162 162 162 162]\n"
     ]
    }
   ],
   "source": [
    "label ,cnt_label = np.unique(img_gen_dir.labels,return_counts = True)\n",
    "print(label,cnt_label)"
   ]
  },
  {
   "cell_type": "code",
   "execution_count": 74,
   "metadata": {},
   "outputs": [
    {
     "name": "stdout",
     "output_type": "stream",
     "text": [
      "************************************************************\n",
      "(32, 150, 150, 3)\n",
      "(32, 4)\n",
      "0\n",
      "************************************************************\n",
      "(32, 150, 150, 3)\n",
      "(32, 4)\n",
      "32\n",
      "************************************************************\n",
      "(32, 150, 150, 3)\n",
      "(32, 4)\n",
      "64\n",
      "************************************************************\n",
      "(32, 150, 150, 3)\n",
      "(32, 4)\n",
      "96\n",
      "************************************************************\n",
      "(32, 150, 150, 3)\n",
      "(32, 4)\n",
      "128\n",
      "************************************************************\n",
      "(32, 150, 150, 3)\n",
      "(32, 4)\n",
      "160\n",
      "************************************************************\n",
      "(32, 150, 150, 3)\n",
      "(32, 4)\n",
      "192\n"
     ]
    }
   ],
   "source": [
    "#batch size of until it reach the no of image\n",
    "cnt=0\n",
    "for x ,y in  img_gen_dir:\n",
    "    print(\"*\"*60)\n",
    "    print(x.shape)#batch size vector\n",
    "    print(y.shape)#one hot vector\n",
    "    print(cnt)\n",
    "    cnt+=x.shape[0]\n",
    "    if cnt > 200:\n",
    "        break"
   ]
  },
  {
   "cell_type": "code",
   "execution_count": 76,
   "metadata": {
    "scrolled": true
   },
   "outputs": [
    {
     "name": "stdout",
     "output_type": "stream",
     "text": [
      "Found 160 images belonging to 4 classes.\n"
     ]
    }
   ],
   "source": [
    "validation_generator = image_gen.flow_from_directory(\n",
    "        'images/',\n",
    "        target_size=(150, 150),\n",
    "        batch_size=32,\n",
    "        class_mode='categorical',\n",
    "        subset = \"validation\"\n",
    ")"
   ]
  },
  {
   "cell_type": "code",
   "execution_count": 79,
   "metadata": {},
   "outputs": [
    {
     "name": "stdout",
     "output_type": "stream",
     "text": [
      "************************************************************\n",
      "(32, 150, 150, 3)\n",
      "(32, 4)\n",
      "0\n",
      "************************************************************\n",
      "(32, 150, 150, 3)\n",
      "(32, 4)\n",
      "32\n"
     ]
    }
   ],
   "source": [
    "#batch size of until it reach the no of image\n",
    "cnt=0\n",
    "for x ,y in  validation_generator:\n",
    "    print(\"*\"*60)\n",
    "    print(x.shape)#batch size vector\n",
    "    print(y.shape)#one hot vector\n",
    "    print(cnt)\n",
    "    cnt+=x.shape[0]\n",
    "    if cnt > 50:\n",
    "        break"
   ]
  },
  {
   "cell_type": "code",
   "execution_count": 77,
   "metadata": {},
   "outputs": [],
   "source": [
    "from keras.optimizers import adam\n",
    "adam = adam(lr = 1e-04)"
   ]
  },
  {
   "cell_type": "code",
   "execution_count": null,
   "metadata": {},
   "outputs": [],
   "source": []
  }
 ],
 "metadata": {
  "kernelspec": {
   "display_name": "Python 3",
   "language": "python",
   "name": "python3"
  },
  "language_info": {
   "codemirror_mode": {
    "name": "ipython",
    "version": 3
   },
   "file_extension": ".py",
   "mimetype": "text/x-python",
   "name": "python",
   "nbconvert_exporter": "python",
   "pygments_lexer": "ipython3",
   "version": "3.6.8"
  }
 },
 "nbformat": 4,
 "nbformat_minor": 2
}
