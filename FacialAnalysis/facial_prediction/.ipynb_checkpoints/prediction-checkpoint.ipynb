{
 "cells": [
  {
   "cell_type": "code",
   "execution_count": 1,
   "metadata": {},
   "outputs": [],
   "source": [
    "# !git commit -m \"prediction age is completed 90%\""
   ]
  },
  {
   "cell_type": "markdown",
   "metadata": {},
   "source": [
    "# FACIAL FEATURE PREDICTION"
   ]
  },
  {
   "cell_type": "code",
   "execution_count": 2,
   "metadata": {},
   "outputs": [],
   "source": [
    "import pandas as pd\n",
    "import numpy as np\n",
    "import cv2\n",
    "import os\n",
    "from sklearn.model_selection import train_test_split\n",
    "import tensorflow as tf\n",
    "from tensorflow.keras.models import Sequential\n",
    "from tensorflow.keras.layers import Dense\n",
    "from tensorflow.keras.layers import Conv2D, AveragePooling2D, GlobalAveragePooling2D\n",
    "from tensorflow.keras import utils\n",
    "from tensorflow.keras.callbacks import ModelCheckpoint\n",
    "from tqdm import tqdm\n",
    "np.random.seed(42)\n",
    "tf.random.set_seed(42)\n",
    "from keras.callbacks import EarlyStopping \n",
    "from keras.models import load_model"
   ]
  },
  {
   "cell_type": "code",
   "execution_count": 3,
   "metadata": {},
   "outputs": [],
   "source": [
    "from keras.utils import np_utils"
   ]
  },
  {
   "cell_type": "markdown",
   "metadata": {},
   "source": [
    "## 1) DATA SET PREPARATION"
   ]
  },
  {
   "cell_type": "code",
   "execution_count": 4,
   "metadata": {},
   "outputs": [],
   "source": [
    "def training_dataset_(\n",
    "    file_path,\n",
    "    image_per_batch,\n",
    "    start_row,\n",
    "    training_feature\n",
    "):\n",
    "    dataset = pd.read_csv(file_path)[start_row:start_row+image_per_batch]\n",
    "    \n",
    "    x_columns_for_remove = ['target_age','target_age','target_race','age','Unnamed: 0','target_gender']\n",
    "    y_columns_for_remove = ['image','target_age','target_race','age','Unnamed: 0','target_gender']\n",
    "    \n",
    "    x_columns_for_remove.remove(training_feature)\n",
    "    y_columns_for_remove.remove(training_feature)\n",
    "    \n",
    "    X = dataset.drop(columns=x_columns_for_remove)\n",
    "    y = dataset.drop(columns=y_columns_for_remove)\n",
    "    \n",
    "    print('Shape of Dataset::',training_feature,X.shape,y.shape)    \n",
    "    \n",
    "    X_train, X_test, y_train, y_test = train_test_split(X, y, test_size=0.2, random_state=42)\n",
    "    \n",
    "    y_train = np_utils.to_categorical(y_train)\n",
    "    y_test = np_utils.to_categorical(y_test)\n",
    "    \n",
    "    X_train = get_data_from_local(X_train)\n",
    "    X_test = get_data_from_local(X_test)\n",
    "    \n",
    "    y_train = np.asarray(y_train).astype(np.float32)\n",
    "    y_test = np.asarray(y_test).astype(np.float32)\n",
    "    \n",
    "    print()\n",
    "    print('after splitting dataset shape::')\n",
    "    print(y_train.shape,y_test.shape,X_train.shape,X_test.shape)\n",
    "    print()\n",
    "\n",
    "    return X_train, X_test, y_train, y_test\n",
    "    "
   ]
  },
  {
   "cell_type": "code",
   "execution_count": 5,
   "metadata": {},
   "outputs": [],
   "source": [
    "def get_data_from_local(X_train):\n",
    "    X_data =[]\n",
    "    for file in tqdm(X_train['image']):\n",
    "        face = cv2.imread(file,cv2.IMREAD_COLOR)\n",
    "        face = cv2.cvtColor(face, cv2.COLOR_BGR2GRAY)\n",
    "        face =cv2.resize(face, (200,200))\n",
    "        face = np.expand_dims(face, axis=2)\n",
    "        face = np.asarray(face)\n",
    "        face = face.astype('float32')\n",
    "        face /= 255\n",
    "        X_data.append(face)\n",
    "    return np.array(X_data)"
   ]
  },
  {
   "cell_type": "markdown",
   "metadata": {},
   "source": [
    "## 2) MODEL PREPARATION"
   ]
  },
  {
   "cell_type": "code",
   "execution_count": 6,
   "metadata": {},
   "outputs": [],
   "source": [
    "def model(number_of_labels):\n",
    "    final_cnn = Sequential()\n",
    "    final_cnn.add(Conv2D(filters=32, kernel_size=3, activation='relu', input_shape=(200, 200, 1)))  \n",
    "    final_cnn.add(AveragePooling2D(pool_size=(2,2)))\n",
    "    final_cnn.add(Conv2D(filters=64, kernel_size=3, activation='relu'))\n",
    "    final_cnn.add(AveragePooling2D(pool_size=(2,2)))\n",
    "    final_cnn.add(Conv2D(filters=128, kernel_size=3, activation='relu'))\n",
    "    final_cnn.add(AveragePooling2D(pool_size=(2,2)))\n",
    "    final_cnn.add(Conv2D(filters=256, kernel_size=3, activation='relu'))\n",
    "    final_cnn.add(AveragePooling2D(pool_size=(2,2)))\n",
    "    final_cnn.add(GlobalAveragePooling2D())\n",
    "\n",
    "    final_cnn.add(Dense(132, activation='relu'))\n",
    "\n",
    "    final_cnn.add(Dense(number_of_labels, activation='softmax'))\n",
    "    \n",
    "    final_cnn.compile(loss='categorical_crossentropy', optimizer='adam', metrics=['accuracy'])\n",
    "\n",
    "    final_cnn.summary()\n",
    "    return final_cnn"
   ]
  },
  {
   "cell_type": "markdown",
   "metadata": {},
   "source": [
    "## 3) TRAINING"
   ]
  },
  {
   "cell_type": "code",
   "execution_count": 7,
   "metadata": {},
   "outputs": [],
   "source": [
    "def training(\n",
    "    start_row,\n",
    "    number_of_labels,\n",
    "    file_path,\n",
    "    image_per_batch,\n",
    "    training_feature,\n",
    "    max_limit,\n",
    "    path_of_model\n",
    "):\n",
    "\n",
    "    checkpoint = ModelCheckpoint(filepath=path_of_model,\n",
    "                             monitor='val_accuracy',\n",
    "                             save_format='tf',\n",
    "                             save_best_only=True,\n",
    "                             save_weights_only=False,\n",
    "                             verbose=1\n",
    "                            )\n",
    "    early_stopping_monitor = EarlyStopping(patience=2,verbose=1) \n",
    "    \n",
    "    for x in range(start_row,max_limit,image_per_batch):\n",
    "        \n",
    "        print()\n",
    "        print('**********{} -- {} out of {}************'.format(x,x+image_per_batch,max_limit))\n",
    "        print()\n",
    "    \n",
    "        X_train, X_test, y_train, y_test = training_dataset_(\n",
    "                        file_path = file_path,\n",
    "                        start_row = x,\n",
    "                        image_per_batch = image_per_batch,\n",
    "                        training_feature = training_feature\n",
    "        )\n",
    "        \n",
    "        if x != 0:\n",
    "            final_cnn = load_model(path_of_model)\n",
    "        else:\n",
    "            final_cnn = model(number_of_labels)\n",
    "            \n",
    "\n",
    "        final_cnn_history = final_cnn.fit(x=X_train,\n",
    "                                      y=y_train,\n",
    "                                      batch_size=62,\n",
    "                                      validation_data=(X_test,y_test),\n",
    "                                      epochs=10,\n",
    "                                      callbacks=[checkpoint,early_stopping_monitor],\n",
    "                                      shuffle=False    # shuffle=False to reduce randomness and increase reproducibility\n",
    "                                     )\n",
    "        "
   ]
  },
  {
   "cell_type": "code",
   "execution_count": 8,
   "metadata": {},
   "outputs": [
    {
     "name": "stderr",
     "output_type": "stream",
     "text": [
      "  3%|▎         | 26/800 [00:00<00:03, 233.43it/s]"
     ]
    },
    {
     "name": "stdout",
     "output_type": "stream",
     "text": [
      "\n",
      "**********0 -- 1000 out of 20000************\n",
      "\n",
      "Shape of Dataset:: target_gender (1000, 2) (1000, 1)\n"
     ]
    },
    {
     "name": "stderr",
     "output_type": "stream",
     "text": [
      "100%|██████████| 800/800 [00:01<00:00, 400.28it/s]\n",
      "100%|██████████| 200/200 [00:00<00:00, 339.82it/s]\n"
     ]
    },
    {
     "name": "stdout",
     "output_type": "stream",
     "text": [
      "\n",
      "after splitting dataset shape::\n",
      "(800, 2) (200, 2) (800, 200, 200, 1) (200, 200, 200, 1)\n",
      "\n",
      "Model: \"sequential\"\n",
      "_________________________________________________________________\n",
      "Layer (type)                 Output Shape              Param #   \n",
      "=================================================================\n",
      "conv2d (Conv2D)              (None, 198, 198, 32)      320       \n",
      "_________________________________________________________________\n",
      "average_pooling2d (AveragePo (None, 99, 99, 32)        0         \n",
      "_________________________________________________________________\n",
      "conv2d_1 (Conv2D)            (None, 97, 97, 64)        18496     \n",
      "_________________________________________________________________\n",
      "average_pooling2d_1 (Average (None, 48, 48, 64)        0         \n",
      "_________________________________________________________________\n",
      "conv2d_2 (Conv2D)            (None, 46, 46, 128)       73856     \n",
      "_________________________________________________________________\n",
      "average_pooling2d_2 (Average (None, 23, 23, 128)       0         \n",
      "_________________________________________________________________\n",
      "conv2d_3 (Conv2D)            (None, 21, 21, 256)       295168    \n",
      "_________________________________________________________________\n",
      "average_pooling2d_3 (Average (None, 10, 10, 256)       0         \n",
      "_________________________________________________________________\n",
      "global_average_pooling2d (Gl (None, 256)               0         \n",
      "_________________________________________________________________\n",
      "dense (Dense)                (None, 132)               33924     \n",
      "_________________________________________________________________\n",
      "dense_1 (Dense)              (None, 2)                 266       \n",
      "=================================================================\n",
      "Total params: 422,030\n",
      "Trainable params: 422,030\n",
      "Non-trainable params: 0\n",
      "_________________________________________________________________\n",
      "Epoch 1/10\n",
      "13/13 [==============================] - ETA: 0s - loss: 0.6958 - accuracy: 0.5050\n",
      "Epoch 00001: val_accuracy improved from -inf to 0.55000, saving model to final_cnn_gender_model_checkpoint.tf\n",
      "WARNING:tensorflow:From /home/falcon-puneet/.local/lib/python3.8/site-packages/tensorflow/python/training/tracking/tracking.py:111: Model.state_updates (from tensorflow.python.keras.engine.training) is deprecated and will be removed in a future version.\n",
      "Instructions for updating:\n",
      "This property should not be used in TensorFlow 2.0, as updates are applied automatically.\n",
      "WARNING:tensorflow:From /home/falcon-puneet/.local/lib/python3.8/site-packages/tensorflow/python/training/tracking/tracking.py:111: Layer.updates (from tensorflow.python.keras.engine.base_layer) is deprecated and will be removed in a future version.\n",
      "Instructions for updating:\n",
      "This property should not be used in TensorFlow 2.0, as updates are applied automatically.\n",
      "INFO:tensorflow:Assets written to: final_cnn_gender_model_checkpoint.tf/assets\n",
      "13/13 [==============================] - 41s 3s/step - loss: 0.6958 - accuracy: 0.5050 - val_loss: 0.6919 - val_accuracy: 0.5500\n",
      "Epoch 2/10\n",
      "13/13 [==============================] - ETA: 0s - loss: 0.6924 - accuracy: 0.5200\n",
      "Epoch 00002: val_accuracy did not improve from 0.55000\n",
      "13/13 [==============================] - 37s 3s/step - loss: 0.6924 - accuracy: 0.5200 - val_loss: 0.6900 - val_accuracy: 0.5500\n",
      "Epoch 3/10\n",
      "13/13 [==============================] - ETA: 0s - loss: 0.6910 - accuracy: 0.5213\n",
      "Epoch 00003: val_accuracy improved from 0.55000 to 0.57000, saving model to final_cnn_gender_model_checkpoint.tf\n",
      "INFO:tensorflow:Assets written to: final_cnn_gender_model_checkpoint.tf/assets\n",
      "13/13 [==============================] - 38s 3s/step - loss: 0.6910 - accuracy: 0.5213 - val_loss: 0.6867 - val_accuracy: 0.5700\n",
      "Epoch 4/10\n",
      "13/13 [==============================] - ETA: 0s - loss: 0.6838 - accuracy: 0.5788\n",
      "Epoch 00004: val_accuracy improved from 0.57000 to 0.62500, saving model to final_cnn_gender_model_checkpoint.tf\n",
      "INFO:tensorflow:Assets written to: final_cnn_gender_model_checkpoint.tf/assets\n",
      "13/13 [==============================] - 38s 3s/step - loss: 0.6838 - accuracy: 0.5788 - val_loss: 0.6752 - val_accuracy: 0.6250\n",
      "Epoch 5/10\n",
      "13/13 [==============================] - ETA: 0s - loss: 0.6685 - accuracy: 0.6037\n",
      "Epoch 00005: val_accuracy improved from 0.62500 to 0.63000, saving model to final_cnn_gender_model_checkpoint.tf\n",
      "INFO:tensorflow:Assets written to: final_cnn_gender_model_checkpoint.tf/assets\n",
      "13/13 [==============================] - 38s 3s/step - loss: 0.6685 - accuracy: 0.6037 - val_loss: 0.6629 - val_accuracy: 0.6300\n",
      "Epoch 6/10\n",
      "13/13 [==============================] - ETA: 0s - loss: 0.6591 - accuracy: 0.6087\n",
      "Epoch 00006: val_accuracy did not improve from 0.63000\n",
      "13/13 [==============================] - 37s 3s/step - loss: 0.6591 - accuracy: 0.6087 - val_loss: 0.6551 - val_accuracy: 0.6050\n",
      "Epoch 7/10\n",
      "13/13 [==============================] - ETA: 0s - loss: 0.6484 - accuracy: 0.6237\n",
      "Epoch 00007: val_accuracy improved from 0.63000 to 0.63500, saving model to final_cnn_gender_model_checkpoint.tf\n",
      "INFO:tensorflow:Assets written to: final_cnn_gender_model_checkpoint.tf/assets\n",
      "13/13 [==============================] - 37s 3s/step - loss: 0.6484 - accuracy: 0.6237 - val_loss: 0.6384 - val_accuracy: 0.6350\n",
      "Epoch 8/10\n",
      "13/13 [==============================] - ETA: 0s - loss: 0.6443 - accuracy: 0.6200\n",
      "Epoch 00008: val_accuracy improved from 0.63500 to 0.66500, saving model to final_cnn_gender_model_checkpoint.tf\n",
      "INFO:tensorflow:Assets written to: final_cnn_gender_model_checkpoint.tf/assets\n",
      "13/13 [==============================] - 37s 3s/step - loss: 0.6443 - accuracy: 0.6200 - val_loss: 0.6541 - val_accuracy: 0.6650\n",
      "Epoch 9/10\n",
      "13/13 [==============================] - ETA: 0s - loss: 0.6357 - accuracy: 0.6400\n",
      "Epoch 00009: val_accuracy did not improve from 0.66500\n",
      "13/13 [==============================] - 36s 3s/step - loss: 0.6357 - accuracy: 0.6400 - val_loss: 0.6252 - val_accuracy: 0.6600\n",
      "Epoch 10/10\n",
      "13/13 [==============================] - ETA: 0s - loss: 0.6321 - accuracy: 0.6275\n",
      "Epoch 00010: val_accuracy did not improve from 0.66500\n",
      "13/13 [==============================] - 35s 3s/step - loss: 0.6321 - accuracy: 0.6275 - val_loss: 0.6228 - val_accuracy: 0.6600\n"
     ]
    },
    {
     "name": "stderr",
     "output_type": "stream",
     "text": [
      " 19%|█▉        | 150/800 [00:00<00:00, 1495.24it/s]"
     ]
    },
    {
     "name": "stdout",
     "output_type": "stream",
     "text": [
      "\n",
      "**********1000 -- 2000 out of 20000************\n",
      "\n",
      "Shape of Dataset:: target_gender (1000, 2) (1000, 1)\n"
     ]
    },
    {
     "name": "stderr",
     "output_type": "stream",
     "text": [
      "100%|██████████| 800/800 [00:00<00:00, 1368.22it/s]\n",
      "100%|██████████| 200/200 [00:00<00:00, 1542.85it/s]\n"
     ]
    },
    {
     "name": "stdout",
     "output_type": "stream",
     "text": [
      "\n",
      "after splitting dataset shape::\n",
      "(800, 2) (200, 2) (800, 200, 200, 1) (200, 200, 200, 1)\n",
      "\n",
      "Epoch 1/10\n",
      "13/13 [==============================] - ETA: 0s - loss: 0.6535 - accuracy: 0.6200\n",
      "Epoch 00001: val_accuracy did not improve from 0.66500\n",
      "13/13 [==============================] - 35s 3s/step - loss: 0.6535 - accuracy: 0.6200 - val_loss: 0.6686 - val_accuracy: 0.5850\n",
      "Epoch 2/10\n",
      "13/13 [==============================] - ETA: 0s - loss: 0.6415 - accuracy: 0.6325\n",
      "Epoch 00002: val_accuracy did not improve from 0.66500\n",
      "13/13 [==============================] - 35s 3s/step - loss: 0.6415 - accuracy: 0.6325 - val_loss: 0.6725 - val_accuracy: 0.5900\n",
      "Epoch 3/10\n",
      "13/13 [==============================] - ETA: 0s - loss: 0.6429 - accuracy: 0.6375\n",
      "Epoch 00003: val_accuracy did not improve from 0.66500\n",
      "13/13 [==============================] - 35s 3s/step - loss: 0.6429 - accuracy: 0.6375 - val_loss: 0.6753 - val_accuracy: 0.5800\n"
     ]
    },
    {
     "name": "stderr",
     "output_type": "stream",
     "text": [
      "  1%|          | 9/800 [00:00<00:08, 87.96it/s]"
     ]
    },
    {
     "name": "stdout",
     "output_type": "stream",
     "text": [
      "Epoch 00003: early stopping\n",
      "\n",
      "**********2000 -- 3000 out of 20000************\n",
      "\n",
      "Shape of Dataset:: target_gender (1000, 2) (1000, 1)\n"
     ]
    },
    {
     "name": "stderr",
     "output_type": "stream",
     "text": [
      "100%|██████████| 800/800 [00:09<00:00, 86.43it/s] \n",
      "100%|██████████| 200/200 [00:02<00:00, 98.82it/s] \n"
     ]
    },
    {
     "name": "stdout",
     "output_type": "stream",
     "text": [
      "\n",
      "after splitting dataset shape::\n",
      "(800, 2) (200, 2) (800, 200, 200, 1) (200, 200, 200, 1)\n",
      "\n",
      "Epoch 1/10\n",
      "13/13 [==============================] - ETA: 0s - loss: 0.6559 - accuracy: 0.6300\n",
      "Epoch 00001: val_accuracy did not improve from 0.66500\n",
      "13/13 [==============================] - 34s 3s/step - loss: 0.6559 - accuracy: 0.6300 - val_loss: 0.6479 - val_accuracy: 0.6300\n",
      "Epoch 2/10\n",
      "13/13 [==============================] - ETA: 0s - loss: 0.6507 - accuracy: 0.6300\n",
      "Epoch 00002: val_accuracy did not improve from 0.66500\n",
      "13/13 [==============================] - 34s 3s/step - loss: 0.6507 - accuracy: 0.6300 - val_loss: 0.6469 - val_accuracy: 0.6350\n",
      "Epoch 3/10\n",
      "13/13 [==============================] - ETA: 0s - loss: 0.6514 - accuracy: 0.6325\n",
      "Epoch 00003: val_accuracy did not improve from 0.66500\n",
      "13/13 [==============================] - 33s 3s/step - loss: 0.6514 - accuracy: 0.6325 - val_loss: 0.6483 - val_accuracy: 0.6500\n",
      "Epoch 4/10\n",
      "13/13 [==============================] - ETA: 0s - loss: 0.6465 - accuracy: 0.6275\n",
      "Epoch 00004: val_accuracy did not improve from 0.66500\n",
      "13/13 [==============================] - 37s 3s/step - loss: 0.6465 - accuracy: 0.6275 - val_loss: 0.6456 - val_accuracy: 0.6250\n",
      "Epoch 5/10\n",
      "13/13 [==============================] - ETA: 0s - loss: 0.6449 - accuracy: 0.6338\n",
      "Epoch 00005: val_accuracy did not improve from 0.66500\n",
      "13/13 [==============================] - 41s 3s/step - loss: 0.6449 - accuracy: 0.6338 - val_loss: 0.6442 - val_accuracy: 0.6450\n",
      "Epoch 6/10\n",
      "13/13 [==============================] - ETA: 0s - loss: 0.6441 - accuracy: 0.6363\n",
      "Epoch 00006: val_accuracy did not improve from 0.66500\n",
      "13/13 [==============================] - 45s 3s/step - loss: 0.6441 - accuracy: 0.6363 - val_loss: 0.6449 - val_accuracy: 0.6600\n",
      "Epoch 7/10\n",
      "13/13 [==============================] - ETA: 0s - loss: 0.6432 - accuracy: 0.6325\n",
      "Epoch 00007: val_accuracy did not improve from 0.66500\n",
      "13/13 [==============================] - 41s 3s/step - loss: 0.6432 - accuracy: 0.6325 - val_loss: 0.6456 - val_accuracy: 0.6250\n"
     ]
    },
    {
     "name": "stderr",
     "output_type": "stream",
     "text": [
      "  1%|          | 5/800 [00:00<00:16, 48.89it/s]"
     ]
    },
    {
     "name": "stdout",
     "output_type": "stream",
     "text": [
      "Epoch 00007: early stopping\n",
      "\n",
      "**********3000 -- 4000 out of 20000************\n",
      "\n",
      "Shape of Dataset:: target_gender (1000, 2) (1000, 1)\n"
     ]
    },
    {
     "name": "stderr",
     "output_type": "stream",
     "text": [
      "100%|██████████| 800/800 [00:10<00:00, 76.71it/s] \n",
      "100%|██████████| 200/200 [00:03<00:00, 63.82it/s]\n"
     ]
    },
    {
     "name": "stdout",
     "output_type": "stream",
     "text": [
      "\n",
      "after splitting dataset shape::\n",
      "(800, 2) (200, 2) (800, 200, 200, 1) (200, 200, 200, 1)\n",
      "\n",
      "Epoch 1/10\n",
      "13/13 [==============================] - ETA: 0s - loss: 0.6657 - accuracy: 0.6012\n",
      "Epoch 00001: val_accuracy did not improve from 0.66500\n",
      "13/13 [==============================] - 38s 3s/step - loss: 0.6657 - accuracy: 0.6012 - val_loss: 0.6627 - val_accuracy: 0.6450\n",
      "Epoch 2/10\n",
      "13/13 [==============================] - ETA: 0s - loss: 0.6605 - accuracy: 0.6125\n",
      "Epoch 00002: val_accuracy did not improve from 0.66500\n",
      "13/13 [==============================] - 40s 3s/step - loss: 0.6605 - accuracy: 0.6125 - val_loss: 0.6625 - val_accuracy: 0.6350\n",
      "Epoch 3/10\n",
      "13/13 [==============================] - ETA: 0s - loss: 0.6627 - accuracy: 0.6112\n",
      "Epoch 00003: val_accuracy did not improve from 0.66500\n",
      "13/13 [==============================] - 41s 3s/step - loss: 0.6627 - accuracy: 0.6112 - val_loss: 0.6439 - val_accuracy: 0.6400\n",
      "Epoch 4/10\n",
      "13/13 [==============================] - ETA: 0s - loss: 0.6533 - accuracy: 0.6187\n",
      "Epoch 00004: val_accuracy did not improve from 0.66500\n",
      "13/13 [==============================] - 43s 3s/step - loss: 0.6533 - accuracy: 0.6187 - val_loss: 0.6374 - val_accuracy: 0.6350\n",
      "Epoch 5/10\n",
      "13/13 [==============================] - ETA: 0s - loss: 0.6487 - accuracy: 0.6338\n",
      "Epoch 00005: val_accuracy did not improve from 0.66500\n",
      "13/13 [==============================] - 40s 3s/step - loss: 0.6487 - accuracy: 0.6338 - val_loss: 0.6648 - val_accuracy: 0.6500\n",
      "Epoch 6/10\n",
      "13/13 [==============================] - ETA: 0s - loss: 0.6465 - accuracy: 0.6288\n",
      "Epoch 00006: val_accuracy did not improve from 0.66500\n",
      "13/13 [==============================] - 41s 3s/step - loss: 0.6465 - accuracy: 0.6288 - val_loss: 0.6422 - val_accuracy: 0.6500\n"
     ]
    },
    {
     "name": "stderr",
     "output_type": "stream",
     "text": [
      "  1%|          | 6/800 [00:00<00:14, 54.77it/s]"
     ]
    },
    {
     "name": "stdout",
     "output_type": "stream",
     "text": [
      "Epoch 00006: early stopping\n",
      "\n",
      "**********4000 -- 5000 out of 20000************\n",
      "\n",
      "Shape of Dataset:: target_gender (1000, 2) (1000, 1)\n"
     ]
    },
    {
     "name": "stderr",
     "output_type": "stream",
     "text": [
      "100%|██████████| 800/800 [00:10<00:00, 76.36it/s]\n",
      "100%|██████████| 200/200 [00:02<00:00, 69.68it/s]\n"
     ]
    },
    {
     "name": "stdout",
     "output_type": "stream",
     "text": [
      "\n",
      "after splitting dataset shape::\n",
      "(800, 2) (200, 2) (800, 200, 200, 1) (200, 200, 200, 1)\n",
      "\n",
      "Epoch 1/10\n",
      "13/13 [==============================] - ETA: 0s - loss: 0.6531 - accuracy: 0.6125\n",
      "Epoch 00001: val_accuracy did not improve from 0.66500\n",
      "13/13 [==============================] - 40s 3s/step - loss: 0.6531 - accuracy: 0.6125 - val_loss: 0.6705 - val_accuracy: 0.5900\n",
      "Epoch 2/10\n",
      "13/13 [==============================] - ETA: 0s - loss: 0.6552 - accuracy: 0.5838\n",
      "Epoch 00002: val_accuracy did not improve from 0.66500\n",
      "13/13 [==============================] - 40s 3s/step - loss: 0.6552 - accuracy: 0.5838 - val_loss: 0.6944 - val_accuracy: 0.5550\n",
      "Epoch 3/10\n",
      "13/13 [==============================] - ETA: 0s - loss: 0.6583 - accuracy: 0.6125\n",
      "Epoch 00003: val_accuracy did not improve from 0.66500\n",
      "13/13 [==============================] - 39s 3s/step - loss: 0.6583 - accuracy: 0.6125 - val_loss: 0.6706 - val_accuracy: 0.5800\n"
     ]
    },
    {
     "name": "stderr",
     "output_type": "stream",
     "text": [
      "  1%|          | 5/800 [00:00<00:17, 46.00it/s]"
     ]
    },
    {
     "name": "stdout",
     "output_type": "stream",
     "text": [
      "Epoch 00003: early stopping\n",
      "\n",
      "**********5000 -- 6000 out of 20000************\n",
      "\n",
      "Shape of Dataset:: target_gender (1000, 2) (1000, 1)\n"
     ]
    },
    {
     "name": "stderr",
     "output_type": "stream",
     "text": [
      "100%|██████████| 800/800 [00:09<00:00, 80.96it/s] \n",
      "100%|██████████| 200/200 [00:02<00:00, 89.60it/s]\n"
     ]
    },
    {
     "name": "stdout",
     "output_type": "stream",
     "text": [
      "\n",
      "after splitting dataset shape::\n",
      "(800, 2) (200, 2) (800, 200, 200, 1) (200, 200, 200, 1)\n",
      "\n",
      "Epoch 1/10\n",
      "13/13 [==============================] - ETA: 0s - loss: 0.6617 - accuracy: 0.5950\n",
      "Epoch 00001: val_accuracy did not improve from 0.66500\n",
      "13/13 [==============================] - 37s 3s/step - loss: 0.6617 - accuracy: 0.5950 - val_loss: 0.6381 - val_accuracy: 0.6650\n",
      "Epoch 2/10\n",
      "13/13 [==============================] - ETA: 0s - loss: 0.6505 - accuracy: 0.6112\n",
      "Epoch 00002: val_accuracy did not improve from 0.66500\n",
      "13/13 [==============================] - 42s 3s/step - loss: 0.6505 - accuracy: 0.6112 - val_loss: 0.6441 - val_accuracy: 0.6400\n",
      "Epoch 3/10\n",
      "13/13 [==============================] - ETA: 0s - loss: 0.6495 - accuracy: 0.6250\n",
      "Epoch 00003: val_accuracy did not improve from 0.66500\n",
      "13/13 [==============================] - 39s 3s/step - loss: 0.6495 - accuracy: 0.6250 - val_loss: 0.6427 - val_accuracy: 0.6350\n"
     ]
    },
    {
     "name": "stderr",
     "output_type": "stream",
     "text": [
      "  1%|          | 5/800 [00:00<00:17, 44.55it/s]"
     ]
    },
    {
     "name": "stdout",
     "output_type": "stream",
     "text": [
      "Epoch 00003: early stopping\n",
      "\n",
      "**********6000 -- 7000 out of 20000************\n",
      "\n",
      "Shape of Dataset:: target_gender (1000, 2) (1000, 1)\n"
     ]
    },
    {
     "name": "stderr",
     "output_type": "stream",
     "text": [
      "100%|██████████| 800/800 [00:09<00:00, 87.98it/s] \n",
      "100%|██████████| 200/200 [00:02<00:00, 95.24it/s]\n"
     ]
    },
    {
     "name": "stdout",
     "output_type": "stream",
     "text": [
      "\n",
      "after splitting dataset shape::\n",
      "(800, 2) (200, 2) (800, 200, 200, 1) (200, 200, 200, 1)\n",
      "\n",
      "Epoch 1/10\n",
      "13/13 [==============================] - ETA: 0s - loss: 0.6601 - accuracy: 0.6100\n",
      "Epoch 00001: val_accuracy did not improve from 0.66500\n",
      "13/13 [==============================] - 37s 3s/step - loss: 0.6601 - accuracy: 0.6100 - val_loss: 0.6749 - val_accuracy: 0.6000\n",
      "Epoch 2/10\n",
      "13/13 [==============================] - ETA: 0s - loss: 0.6632 - accuracy: 0.6012\n",
      "Epoch 00002: val_accuracy did not improve from 0.66500\n",
      "13/13 [==============================] - 46s 4s/step - loss: 0.6632 - accuracy: 0.6012 - val_loss: 0.6646 - val_accuracy: 0.6550\n",
      "Epoch 3/10\n",
      "13/13 [==============================] - ETA: 0s - loss: 0.6672 - accuracy: 0.5913\n",
      "Epoch 00003: val_accuracy did not improve from 0.66500\n",
      "13/13 [==============================] - 41s 3s/step - loss: 0.6672 - accuracy: 0.5913 - val_loss: 0.6727 - val_accuracy: 0.5750\n",
      "Epoch 4/10\n",
      "13/13 [==============================] - ETA: 0s - loss: 0.6596 - accuracy: 0.6075\n",
      "Epoch 00004: val_accuracy did not improve from 0.66500\n",
      "13/13 [==============================] - 39s 3s/step - loss: 0.6596 - accuracy: 0.6075 - val_loss: 0.6682 - val_accuracy: 0.5950\n"
     ]
    },
    {
     "name": "stderr",
     "output_type": "stream",
     "text": [
      "  0%|          | 1/800 [00:00<01:36,  8.24it/s]"
     ]
    },
    {
     "name": "stdout",
     "output_type": "stream",
     "text": [
      "Epoch 00004: early stopping\n",
      "\n",
      "**********7000 -- 8000 out of 20000************\n",
      "\n",
      "Shape of Dataset:: target_gender (1000, 2) (1000, 1)\n"
     ]
    },
    {
     "name": "stderr",
     "output_type": "stream",
     "text": [
      "100%|██████████| 800/800 [00:10<00:00, 78.81it/s] \n",
      "100%|██████████| 200/200 [00:02<00:00, 86.03it/s]\n"
     ]
    },
    {
     "name": "stdout",
     "output_type": "stream",
     "text": [
      "\n",
      "after splitting dataset shape::\n",
      "(800, 2) (200, 2) (800, 200, 200, 1) (200, 200, 200, 1)\n",
      "\n",
      "Epoch 1/10\n",
      "13/13 [==============================] - ETA: 0s - loss: 0.6685 - accuracy: 0.6000\n",
      "Epoch 00001: val_accuracy improved from 0.66500 to 0.67000, saving model to final_cnn_gender_model_checkpoint.tf\n",
      "INFO:tensorflow:Assets written to: final_cnn_gender_model_checkpoint.tf/assets\n",
      "13/13 [==============================] - 39s 3s/step - loss: 0.6685 - accuracy: 0.6000 - val_loss: 0.6387 - val_accuracy: 0.6700\n",
      "Epoch 2/10\n",
      "13/13 [==============================] - ETA: 0s - loss: 0.6586 - accuracy: 0.6100\n",
      "Epoch 00002: val_accuracy did not improve from 0.67000\n",
      "13/13 [==============================] - 38s 3s/step - loss: 0.6586 - accuracy: 0.6100 - val_loss: 0.6429 - val_accuracy: 0.6300\n",
      "Epoch 3/10\n",
      "13/13 [==============================] - ETA: 0s - loss: 0.6589 - accuracy: 0.6175\n",
      "Epoch 00003: val_accuracy did not improve from 0.67000\n",
      "13/13 [==============================] - 38s 3s/step - loss: 0.6589 - accuracy: 0.6175 - val_loss: 0.6342 - val_accuracy: 0.6550\n",
      "Epoch 4/10\n",
      "13/13 [==============================] - ETA: 0s - loss: 0.6530 - accuracy: 0.6325\n",
      "Epoch 00004: val_accuracy did not improve from 0.67000\n",
      "13/13 [==============================] - 38s 3s/step - loss: 0.6530 - accuracy: 0.6325 - val_loss: 0.6299 - val_accuracy: 0.6400\n",
      "Epoch 5/10\n",
      "13/13 [==============================] - ETA: 0s - loss: 0.6504 - accuracy: 0.6325\n",
      "Epoch 00005: val_accuracy did not improve from 0.67000\n",
      "13/13 [==============================] - 38s 3s/step - loss: 0.6504 - accuracy: 0.6325 - val_loss: 0.6279 - val_accuracy: 0.6550\n",
      "Epoch 6/10\n",
      "13/13 [==============================] - ETA: 0s - loss: 0.6495 - accuracy: 0.6375\n",
      "Epoch 00006: val_accuracy did not improve from 0.67000\n",
      "13/13 [==============================] - 38s 3s/step - loss: 0.6495 - accuracy: 0.6375 - val_loss: 0.6253 - val_accuracy: 0.6450\n",
      "Epoch 7/10\n",
      "13/13 [==============================] - ETA: 0s - loss: 0.6475 - accuracy: 0.6363\n",
      "Epoch 00007: val_accuracy did not improve from 0.67000\n",
      "13/13 [==============================] - 38s 3s/step - loss: 0.6475 - accuracy: 0.6363 - val_loss: 0.6241 - val_accuracy: 0.6450\n",
      "Epoch 8/10\n",
      "13/13 [==============================] - ETA: 0s - loss: 0.6461 - accuracy: 0.6400\n",
      "Epoch 00008: val_accuracy did not improve from 0.67000\n",
      "13/13 [==============================] - 38s 3s/step - loss: 0.6461 - accuracy: 0.6400 - val_loss: 0.6218 - val_accuracy: 0.6500\n",
      "Epoch 9/10\n",
      "13/13 [==============================] - ETA: 0s - loss: 0.6431 - accuracy: 0.6413\n",
      "Epoch 00009: val_accuracy did not improve from 0.67000\n",
      "13/13 [==============================] - 39s 3s/step - loss: 0.6431 - accuracy: 0.6413 - val_loss: 0.6200 - val_accuracy: 0.6600\n",
      "Epoch 10/10\n",
      "13/13 [==============================] - ETA: 0s - loss: 0.6402 - accuracy: 0.6500\n",
      "Epoch 00010: val_accuracy improved from 0.67000 to 0.67500, saving model to final_cnn_gender_model_checkpoint.tf\n",
      "INFO:tensorflow:Assets written to: final_cnn_gender_model_checkpoint.tf/assets\n",
      "13/13 [==============================] - 43s 3s/step - loss: 0.6402 - accuracy: 0.6500 - val_loss: 0.6206 - val_accuracy: 0.6750\n"
     ]
    },
    {
     "name": "stderr",
     "output_type": "stream",
     "text": [
      "\r",
      "  0%|          | 0/800 [00:00<?, ?it/s]"
     ]
    },
    {
     "name": "stdout",
     "output_type": "stream",
     "text": [
      "\n",
      "**********8000 -- 9000 out of 20000************\n",
      "\n",
      "Shape of Dataset:: target_gender (1000, 2) (1000, 1)\n"
     ]
    },
    {
     "name": "stderr",
     "output_type": "stream",
     "text": [
      "100%|██████████| 800/800 [00:09<00:00, 81.07it/s] \n",
      "100%|██████████| 200/200 [00:02<00:00, 89.93it/s]\n"
     ]
    },
    {
     "name": "stdout",
     "output_type": "stream",
     "text": [
      "\n",
      "after splitting dataset shape::\n",
      "(800, 2) (200, 2) (800, 200, 200, 1) (200, 200, 200, 1)\n",
      "\n",
      "Epoch 1/10\n",
      "13/13 [==============================] - ETA: 0s - loss: 0.6542 - accuracy: 0.6162\n",
      "Epoch 00001: val_accuracy did not improve from 0.67500\n",
      "13/13 [==============================] - 37s 3s/step - loss: 0.6542 - accuracy: 0.6162 - val_loss: 0.6733 - val_accuracy: 0.5250\n",
      "Epoch 2/10\n",
      "13/13 [==============================] - ETA: 0s - loss: 0.6705 - accuracy: 0.6050\n",
      "Epoch 00002: val_accuracy did not improve from 0.67500\n",
      "13/13 [==============================] - 38s 3s/step - loss: 0.6705 - accuracy: 0.6050 - val_loss: 0.6247 - val_accuracy: 0.6550\n",
      "Epoch 3/10\n",
      "13/13 [==============================] - ETA: 0s - loss: 0.6670 - accuracy: 0.6000\n",
      "Epoch 00003: val_accuracy improved from 0.67500 to 0.69500, saving model to final_cnn_gender_model_checkpoint.tf\n",
      "INFO:tensorflow:Assets written to: final_cnn_gender_model_checkpoint.tf/assets\n",
      "13/13 [==============================] - 40s 3s/step - loss: 0.6670 - accuracy: 0.6000 - val_loss: 0.6342 - val_accuracy: 0.6950\n",
      "Epoch 4/10\n",
      "13/13 [==============================] - ETA: 0s - loss: 0.6475 - accuracy: 0.6300\n",
      "Epoch 00004: val_accuracy did not improve from 0.69500\n",
      "13/13 [==============================] - 44s 3s/step - loss: 0.6475 - accuracy: 0.6300 - val_loss: 0.6353 - val_accuracy: 0.6750\n"
     ]
    },
    {
     "name": "stderr",
     "output_type": "stream",
     "text": [
      "  1%|          | 5/800 [00:00<00:16, 48.80it/s]"
     ]
    },
    {
     "name": "stdout",
     "output_type": "stream",
     "text": [
      "Epoch 00004: early stopping\n",
      "\n",
      "**********9000 -- 10000 out of 20000************\n",
      "\n",
      "Shape of Dataset:: target_gender (1000, 2) (1000, 1)\n"
     ]
    },
    {
     "name": "stderr",
     "output_type": "stream",
     "text": [
      "100%|██████████| 800/800 [00:09<00:00, 83.07it/s] \n",
      "100%|██████████| 200/200 [00:02<00:00, 93.87it/s] \n"
     ]
    },
    {
     "name": "stdout",
     "output_type": "stream",
     "text": [
      "\n",
      "after splitting dataset shape::\n",
      "(800, 2) (200, 2) (800, 200, 200, 1) (200, 200, 200, 1)\n",
      "\n",
      "Epoch 1/10\n",
      "13/13 [==============================] - ETA: 0s - loss: 0.6566 - accuracy: 0.6275\n",
      "Epoch 00001: val_accuracy did not improve from 0.69500\n",
      "13/13 [==============================] - 37s 3s/step - loss: 0.6566 - accuracy: 0.6275 - val_loss: 0.6143 - val_accuracy: 0.6850\n",
      "Epoch 2/10\n",
      "13/13 [==============================] - ETA: 0s - loss: 0.6443 - accuracy: 0.6488\n",
      "Epoch 00002: val_accuracy did not improve from 0.69500\n",
      "13/13 [==============================] - 39s 3s/step - loss: 0.6443 - accuracy: 0.6488 - val_loss: 0.6127 - val_accuracy: 0.6900\n",
      "Epoch 3/10\n",
      "13/13 [==============================] - ETA: 0s - loss: 0.6395 - accuracy: 0.6400\n",
      "Epoch 00003: val_accuracy improved from 0.69500 to 0.72000, saving model to final_cnn_gender_model_checkpoint.tf\n",
      "INFO:tensorflow:Assets written to: final_cnn_gender_model_checkpoint.tf/assets\n",
      "13/13 [==============================] - 38s 3s/step - loss: 0.6395 - accuracy: 0.6400 - val_loss: 0.6073 - val_accuracy: 0.7200\n",
      "Epoch 4/10\n",
      "13/13 [==============================] - ETA: 0s - loss: 0.6303 - accuracy: 0.6612\n",
      "Epoch 00004: val_accuracy did not improve from 0.72000\n",
      "13/13 [==============================] - 37s 3s/step - loss: 0.6303 - accuracy: 0.6612 - val_loss: 0.5976 - val_accuracy: 0.7200\n",
      "Epoch 5/10\n",
      "13/13 [==============================] - ETA: 0s - loss: 0.6211 - accuracy: 0.6612\n",
      "Epoch 00005: val_accuracy did not improve from 0.72000\n",
      "13/13 [==============================] - 37s 3s/step - loss: 0.6211 - accuracy: 0.6612 - val_loss: 0.6136 - val_accuracy: 0.6700\n",
      "Epoch 6/10\n",
      "13/13 [==============================] - ETA: 0s - loss: 0.6201 - accuracy: 0.6562\n",
      "Epoch 00006: val_accuracy did not improve from 0.72000\n",
      "13/13 [==============================] - 38s 3s/step - loss: 0.6201 - accuracy: 0.6562 - val_loss: 0.6195 - val_accuracy: 0.6700\n"
     ]
    },
    {
     "name": "stderr",
     "output_type": "stream",
     "text": [
      "  1%|          | 6/800 [00:00<00:15, 52.38it/s]"
     ]
    },
    {
     "name": "stdout",
     "output_type": "stream",
     "text": [
      "Epoch 00006: early stopping\n",
      "\n",
      "**********10000 -- 11000 out of 20000************\n",
      "\n",
      "Shape of Dataset:: target_gender (1000, 2) (1000, 1)\n"
     ]
    },
    {
     "name": "stderr",
     "output_type": "stream",
     "text": [
      "100%|██████████| 800/800 [00:08<00:00, 96.40it/s] \n",
      "100%|██████████| 200/200 [00:01<00:00, 105.23it/s]\n"
     ]
    },
    {
     "name": "stdout",
     "output_type": "stream",
     "text": [
      "\n",
      "after splitting dataset shape::\n",
      "(800, 2) (200, 2) (800, 200, 200, 1) (200, 200, 200, 1)\n",
      "\n",
      "Epoch 1/10\n",
      "13/13 [==============================] - ETA: 0s - loss: 0.6467 - accuracy: 0.6338\n",
      "Epoch 00001: val_accuracy did not improve from 0.72000\n",
      "13/13 [==============================] - 37s 3s/step - loss: 0.6467 - accuracy: 0.6338 - val_loss: 0.6127 - val_accuracy: 0.6550\n",
      "Epoch 2/10\n",
      "13/13 [==============================] - ETA: 0s - loss: 0.6444 - accuracy: 0.6313\n",
      "Epoch 00002: val_accuracy did not improve from 0.72000\n",
      "13/13 [==============================] - 40s 3s/step - loss: 0.6444 - accuracy: 0.6313 - val_loss: 0.6480 - val_accuracy: 0.5800\n",
      "Epoch 3/10\n",
      "13/13 [==============================] - ETA: 0s - loss: 0.6494 - accuracy: 0.6300\n",
      "Epoch 00003: val_accuracy did not improve from 0.72000\n",
      "13/13 [==============================] - 42s 3s/step - loss: 0.6494 - accuracy: 0.6300 - val_loss: 0.6216 - val_accuracy: 0.6900\n"
     ]
    },
    {
     "name": "stderr",
     "output_type": "stream",
     "text": [
      "  1%|          | 6/800 [00:00<00:14, 55.38it/s]"
     ]
    },
    {
     "name": "stdout",
     "output_type": "stream",
     "text": [
      "Epoch 00003: early stopping\n",
      "\n",
      "**********11000 -- 12000 out of 20000************\n",
      "\n",
      "Shape of Dataset:: target_gender (1000, 2) (1000, 1)\n"
     ]
    },
    {
     "name": "stderr",
     "output_type": "stream",
     "text": [
      "100%|██████████| 800/800 [00:10<00:00, 76.11it/s]\n",
      "100%|██████████| 200/200 [00:02<00:00, 87.77it/s]\n"
     ]
    },
    {
     "name": "stdout",
     "output_type": "stream",
     "text": [
      "\n",
      "after splitting dataset shape::\n",
      "(800, 2) (200, 2) (800, 200, 200, 1) (200, 200, 200, 1)\n",
      "\n",
      "Epoch 1/10\n",
      "13/13 [==============================] - ETA: 0s - loss: 0.6485 - accuracy: 0.6150\n",
      "Epoch 00001: val_accuracy did not improve from 0.72000\n",
      "13/13 [==============================] - 40s 3s/step - loss: 0.6485 - accuracy: 0.6150 - val_loss: 0.6392 - val_accuracy: 0.6750\n",
      "Epoch 2/10\n",
      "13/13 [==============================] - ETA: 0s - loss: 0.6377 - accuracy: 0.6187\n",
      "Epoch 00002: val_accuracy did not improve from 0.72000\n",
      "13/13 [==============================] - 42s 3s/step - loss: 0.6377 - accuracy: 0.6187 - val_loss: 0.6458 - val_accuracy: 0.6600\n",
      "Epoch 3/10\n",
      "13/13 [==============================] - ETA: 0s - loss: 0.6374 - accuracy: 0.6250\n",
      "Epoch 00003: val_accuracy did not improve from 0.72000\n",
      "13/13 [==============================] - 44s 3s/step - loss: 0.6374 - accuracy: 0.6250 - val_loss: 0.6673 - val_accuracy: 0.6750\n"
     ]
    },
    {
     "name": "stderr",
     "output_type": "stream",
     "text": [
      "  0%|          | 2/800 [00:00<00:50, 15.66it/s]"
     ]
    },
    {
     "name": "stdout",
     "output_type": "stream",
     "text": [
      "Epoch 00003: early stopping\n",
      "\n",
      "**********12000 -- 13000 out of 20000************\n",
      "\n",
      "Shape of Dataset:: target_gender (1000, 2) (1000, 1)\n"
     ]
    },
    {
     "name": "stderr",
     "output_type": "stream",
     "text": [
      "100%|██████████| 800/800 [00:41<00:00, 19.13it/s]\n",
      "100%|██████████| 200/200 [00:05<00:00, 33.44it/s]\n"
     ]
    },
    {
     "name": "stdout",
     "output_type": "stream",
     "text": [
      "\n",
      "after splitting dataset shape::\n",
      "(800, 2) (200, 2) (800, 200, 200, 1) (200, 200, 200, 1)\n",
      "\n",
      "Epoch 1/10\n",
      "13/13 [==============================] - ETA: 0s - loss: 0.6389 - accuracy: 0.6475\n",
      "Epoch 00001: val_accuracy did not improve from 0.72000\n",
      "13/13 [==============================] - 47s 4s/step - loss: 0.6389 - accuracy: 0.6475 - val_loss: 0.5989 - val_accuracy: 0.6800\n",
      "Epoch 2/10\n",
      "13/13 [==============================] - ETA: 0s - loss: 0.6254 - accuracy: 0.6525\n",
      "Epoch 00002: val_accuracy did not improve from 0.72000\n",
      "13/13 [==============================] - 42s 3s/step - loss: 0.6254 - accuracy: 0.6525 - val_loss: 0.5932 - val_accuracy: 0.7150\n",
      "Epoch 3/10\n",
      "13/13 [==============================] - ETA: 0s - loss: 0.6142 - accuracy: 0.6625\n",
      "Epoch 00003: val_accuracy did not improve from 0.72000\n",
      "13/13 [==============================] - 41s 3s/step - loss: 0.6142 - accuracy: 0.6625 - val_loss: 0.5885 - val_accuracy: 0.7200\n",
      "Epoch 4/10\n",
      "13/13 [==============================] - ETA: 0s - loss: 0.6114 - accuracy: 0.6625\n",
      "Epoch 00004: val_accuracy did not improve from 0.72000\n",
      "13/13 [==============================] - 41s 3s/step - loss: 0.6114 - accuracy: 0.6625 - val_loss: 0.5964 - val_accuracy: 0.7200\n",
      "Epoch 5/10\n",
      "13/13 [==============================] - ETA: 0s - loss: 0.6129 - accuracy: 0.6600\n",
      "Epoch 00005: val_accuracy did not improve from 0.72000\n",
      "13/13 [==============================] - 43s 3s/step - loss: 0.6129 - accuracy: 0.6600 - val_loss: 0.5806 - val_accuracy: 0.7000\n",
      "Epoch 6/10\n",
      "13/13 [==============================] - ETA: 0s - loss: 0.6017 - accuracy: 0.6700\n",
      "Epoch 00006: val_accuracy did not improve from 0.72000\n",
      "13/13 [==============================] - 41s 3s/step - loss: 0.6017 - accuracy: 0.6700 - val_loss: 0.5789 - val_accuracy: 0.7050\n",
      "Epoch 7/10\n",
      "13/13 [==============================] - ETA: 0s - loss: 0.6076 - accuracy: 0.6650\n",
      "Epoch 00007: val_accuracy did not improve from 0.72000\n",
      "13/13 [==============================] - 40s 3s/step - loss: 0.6076 - accuracy: 0.6650 - val_loss: 0.5999 - val_accuracy: 0.7150\n",
      "Epoch 8/10\n",
      "13/13 [==============================] - ETA: 0s - loss: 0.6097 - accuracy: 0.6750\n",
      "Epoch 00008: val_accuracy did not improve from 0.72000\n",
      "13/13 [==============================] - 40s 3s/step - loss: 0.6097 - accuracy: 0.6750 - val_loss: 0.5811 - val_accuracy: 0.6850\n"
     ]
    },
    {
     "name": "stderr",
     "output_type": "stream",
     "text": [
      "  1%|          | 5/800 [00:00<00:18, 42.95it/s]"
     ]
    },
    {
     "name": "stdout",
     "output_type": "stream",
     "text": [
      "Epoch 00008: early stopping\n",
      "\n",
      "**********13000 -- 14000 out of 20000************\n",
      "\n",
      "Shape of Dataset:: target_gender (1000, 2) (1000, 1)\n"
     ]
    },
    {
     "name": "stderr",
     "output_type": "stream",
     "text": [
      "100%|██████████| 800/800 [00:09<00:00, 86.60it/s] \n",
      "100%|██████████| 200/200 [00:02<00:00, 69.88it/s]\n"
     ]
    },
    {
     "name": "stdout",
     "output_type": "stream",
     "text": [
      "\n",
      "after splitting dataset shape::\n",
      "(800, 2) (200, 2) (800, 200, 200, 1) (200, 200, 200, 1)\n",
      "\n",
      "Epoch 1/10\n",
      "13/13 [==============================] - ETA: 0s - loss: 0.6509 - accuracy: 0.6425\n",
      "Epoch 00001: val_accuracy did not improve from 0.72000\n",
      "13/13 [==============================] - 38s 3s/step - loss: 0.6509 - accuracy: 0.6425 - val_loss: 0.6329 - val_accuracy: 0.6450\n",
      "Epoch 2/10\n",
      "13/13 [==============================] - ETA: 0s - loss: 0.6424 - accuracy: 0.6338\n",
      "Epoch 00002: val_accuracy did not improve from 0.72000\n",
      "13/13 [==============================] - 39s 3s/step - loss: 0.6424 - accuracy: 0.6338 - val_loss: 0.6314 - val_accuracy: 0.6500\n",
      "Epoch 3/10\n",
      "13/13 [==============================] - ETA: 0s - loss: 0.6396 - accuracy: 0.6388\n",
      "Epoch 00003: val_accuracy did not improve from 0.72000\n",
      "13/13 [==============================] - 39s 3s/step - loss: 0.6396 - accuracy: 0.6388 - val_loss: 0.6322 - val_accuracy: 0.6400\n",
      "Epoch 4/10\n",
      "13/13 [==============================] - ETA: 0s - loss: 0.6359 - accuracy: 0.6525\n",
      "Epoch 00004: val_accuracy did not improve from 0.72000\n",
      "13/13 [==============================] - 39s 3s/step - loss: 0.6359 - accuracy: 0.6525 - val_loss: 0.6255 - val_accuracy: 0.6450\n",
      "Epoch 5/10\n",
      "13/13 [==============================] - ETA: 0s - loss: 0.6334 - accuracy: 0.6500\n",
      "Epoch 00005: val_accuracy did not improve from 0.72000\n",
      "13/13 [==============================] - 39s 3s/step - loss: 0.6334 - accuracy: 0.6500 - val_loss: 0.6301 - val_accuracy: 0.6450\n",
      "Epoch 6/10\n",
      "13/13 [==============================] - ETA: 0s - loss: 0.6250 - accuracy: 0.6488\n",
      "Epoch 00006: val_accuracy did not improve from 0.72000\n",
      "13/13 [==============================] - 39s 3s/step - loss: 0.6250 - accuracy: 0.6488 - val_loss: 0.6264 - val_accuracy: 0.6350\n"
     ]
    },
    {
     "name": "stderr",
     "output_type": "stream",
     "text": [
      "  0%|          | 3/800 [00:00<00:27, 28.93it/s]"
     ]
    },
    {
     "name": "stdout",
     "output_type": "stream",
     "text": [
      "Epoch 00006: early stopping\n",
      "\n",
      "**********14000 -- 15000 out of 20000************\n",
      "\n",
      "Shape of Dataset:: target_gender (1000, 2) (1000, 1)\n"
     ]
    },
    {
     "name": "stderr",
     "output_type": "stream",
     "text": [
      "100%|██████████| 800/800 [00:10<00:00, 72.86it/s]\n",
      "100%|██████████| 200/200 [00:03<00:00, 66.03it/s]\n"
     ]
    },
    {
     "name": "stdout",
     "output_type": "stream",
     "text": [
      "\n",
      "after splitting dataset shape::\n",
      "(800, 2) (200, 2) (800, 200, 200, 1) (200, 200, 200, 1)\n",
      "\n",
      "Epoch 1/10\n",
      "13/13 [==============================] - ETA: 0s - loss: 0.6567 - accuracy: 0.6200\n",
      "Epoch 00001: val_accuracy did not improve from 0.72000\n",
      "13/13 [==============================] - 39s 3s/step - loss: 0.6567 - accuracy: 0.6200 - val_loss: 0.6303 - val_accuracy: 0.6250\n",
      "Epoch 2/10\n",
      "13/13 [==============================] - ETA: 0s - loss: 0.6592 - accuracy: 0.6275\n",
      "Epoch 00002: val_accuracy did not improve from 0.72000\n",
      "13/13 [==============================] - 39s 3s/step - loss: 0.6592 - accuracy: 0.6275 - val_loss: 0.6114 - val_accuracy: 0.7000\n",
      "Epoch 3/10\n",
      "13/13 [==============================] - ETA: 0s - loss: 0.6590 - accuracy: 0.6162\n",
      "Epoch 00003: val_accuracy did not improve from 0.72000\n",
      "13/13 [==============================] - 39s 3s/step - loss: 0.6590 - accuracy: 0.6162 - val_loss: 0.6137 - val_accuracy: 0.6600\n",
      "Epoch 4/10\n",
      "13/13 [==============================] - ETA: 0s - loss: 0.6496 - accuracy: 0.6212\n",
      "Epoch 00004: val_accuracy did not improve from 0.72000\n",
      "13/13 [==============================] - 40s 3s/step - loss: 0.6496 - accuracy: 0.6212 - val_loss: 0.6019 - val_accuracy: 0.6900\n",
      "Epoch 5/10\n",
      "13/13 [==============================] - ETA: 0s - loss: 0.6369 - accuracy: 0.6425\n",
      "Epoch 00005: val_accuracy did not improve from 0.72000\n",
      "13/13 [==============================] - 40s 3s/step - loss: 0.6369 - accuracy: 0.6425 - val_loss: 0.6024 - val_accuracy: 0.6800\n",
      "Epoch 6/10\n",
      "13/13 [==============================] - ETA: 0s - loss: 0.6368 - accuracy: 0.6475\n",
      "Epoch 00006: val_accuracy did not improve from 0.72000\n",
      "13/13 [==============================] - 42s 3s/step - loss: 0.6368 - accuracy: 0.6475 - val_loss: 0.6136 - val_accuracy: 0.6500\n"
     ]
    },
    {
     "name": "stderr",
     "output_type": "stream",
     "text": [
      "  1%|          | 5/800 [00:00<00:17, 44.26it/s]"
     ]
    },
    {
     "name": "stdout",
     "output_type": "stream",
     "text": [
      "Epoch 00006: early stopping\n",
      "\n",
      "**********15000 -- 16000 out of 20000************\n",
      "\n",
      "Shape of Dataset:: target_gender (1000, 2) (1000, 1)\n"
     ]
    },
    {
     "name": "stderr",
     "output_type": "stream",
     "text": [
      "100%|██████████| 800/800 [00:09<00:00, 83.37it/s] \n",
      "100%|██████████| 200/200 [00:02<00:00, 89.36it/s] \n"
     ]
    },
    {
     "name": "stdout",
     "output_type": "stream",
     "text": [
      "\n",
      "after splitting dataset shape::\n",
      "(800, 2) (200, 2) (800, 200, 200, 1) (200, 200, 200, 1)\n",
      "\n",
      "Epoch 1/10\n",
      "13/13 [==============================] - ETA: 0s - loss: 0.6417 - accuracy: 0.6288\n",
      "Epoch 00001: val_accuracy did not improve from 0.72000\n",
      "13/13 [==============================] - 37s 3s/step - loss: 0.6417 - accuracy: 0.6288 - val_loss: 0.6379 - val_accuracy: 0.6350\n",
      "Epoch 2/10\n",
      "13/13 [==============================] - ETA: 0s - loss: 0.6313 - accuracy: 0.6488\n",
      "Epoch 00002: val_accuracy did not improve from 0.72000\n",
      "13/13 [==============================] - 37s 3s/step - loss: 0.6313 - accuracy: 0.6488 - val_loss: 0.6334 - val_accuracy: 0.6300\n",
      "Epoch 3/10\n",
      "13/13 [==============================] - ETA: 0s - loss: 0.6285 - accuracy: 0.6587\n",
      "Epoch 00003: val_accuracy did not improve from 0.72000\n",
      "13/13 [==============================] - 39s 3s/step - loss: 0.6285 - accuracy: 0.6587 - val_loss: 0.6191 - val_accuracy: 0.6350\n",
      "Epoch 4/10\n",
      "13/13 [==============================] - ETA: 0s - loss: 0.6207 - accuracy: 0.6625\n",
      "Epoch 00004: val_accuracy did not improve from 0.72000\n",
      "13/13 [==============================] - 39s 3s/step - loss: 0.6207 - accuracy: 0.6625 - val_loss: 0.6111 - val_accuracy: 0.6500\n",
      "Epoch 5/10\n",
      "13/13 [==============================] - ETA: 0s - loss: 0.6130 - accuracy: 0.6637\n",
      "Epoch 00005: val_accuracy did not improve from 0.72000\n",
      "13/13 [==============================] - 38s 3s/step - loss: 0.6130 - accuracy: 0.6637 - val_loss: 0.6185 - val_accuracy: 0.6450\n",
      "Epoch 6/10\n",
      "13/13 [==============================] - ETA: 0s - loss: 0.6051 - accuracy: 0.6775\n",
      "Epoch 00006: val_accuracy did not improve from 0.72000\n",
      "13/13 [==============================] - 41s 3s/step - loss: 0.6051 - accuracy: 0.6775 - val_loss: 0.6282 - val_accuracy: 0.6250\n"
     ]
    },
    {
     "name": "stderr",
     "output_type": "stream",
     "text": [
      "  1%|          | 5/800 [00:00<00:16, 46.93it/s]"
     ]
    },
    {
     "name": "stdout",
     "output_type": "stream",
     "text": [
      "Epoch 00006: early stopping\n",
      "\n",
      "**********16000 -- 17000 out of 20000************\n",
      "\n",
      "Shape of Dataset:: target_gender (1000, 2) (1000, 1)\n"
     ]
    },
    {
     "name": "stderr",
     "output_type": "stream",
     "text": [
      "100%|██████████| 800/800 [00:11<00:00, 68.32it/s]\n",
      "100%|██████████| 200/200 [00:02<00:00, 78.24it/s]\n"
     ]
    },
    {
     "name": "stdout",
     "output_type": "stream",
     "text": [
      "\n",
      "after splitting dataset shape::\n",
      "(800, 2) (200, 2) (800, 200, 200, 1) (200, 200, 200, 1)\n",
      "\n",
      "Epoch 1/10\n",
      "13/13 [==============================] - ETA: 0s - loss: 0.6347 - accuracy: 0.6225\n",
      "Epoch 00001: val_accuracy did not improve from 0.72000\n",
      "13/13 [==============================] - 35s 3s/step - loss: 0.6347 - accuracy: 0.6225 - val_loss: 0.7020 - val_accuracy: 0.5800\n",
      "Epoch 2/10\n",
      "13/13 [==============================] - ETA: 0s - loss: 0.6251 - accuracy: 0.6450\n",
      "Epoch 00002: val_accuracy did not improve from 0.72000\n",
      "13/13 [==============================] - 42s 3s/step - loss: 0.6251 - accuracy: 0.6450 - val_loss: 0.6463 - val_accuracy: 0.6050\n",
      "Epoch 3/10\n",
      "13/13 [==============================] - ETA: 0s - loss: 0.6223 - accuracy: 0.6363\n",
      "Epoch 00003: val_accuracy did not improve from 0.72000\n",
      "13/13 [==============================] - 39s 3s/step - loss: 0.6223 - accuracy: 0.6363 - val_loss: 0.6367 - val_accuracy: 0.6450\n",
      "Epoch 4/10\n",
      "13/13 [==============================] - ETA: 0s - loss: 0.6180 - accuracy: 0.6463\n",
      "Epoch 00004: val_accuracy did not improve from 0.72000\n",
      "13/13 [==============================] - 39s 3s/step - loss: 0.6180 - accuracy: 0.6463 - val_loss: 0.6331 - val_accuracy: 0.6450\n",
      "Epoch 5/10\n",
      "13/13 [==============================] - ETA: 0s - loss: 0.6142 - accuracy: 0.6475\n",
      "Epoch 00005: val_accuracy did not improve from 0.72000\n",
      "13/13 [==============================] - 37s 3s/step - loss: 0.6142 - accuracy: 0.6475 - val_loss: 0.6447 - val_accuracy: 0.6400\n",
      "Epoch 6/10\n",
      "13/13 [==============================] - ETA: 0s - loss: 0.6095 - accuracy: 0.6712\n",
      "Epoch 00006: val_accuracy did not improve from 0.72000\n",
      "13/13 [==============================] - 37s 3s/step - loss: 0.6095 - accuracy: 0.6712 - val_loss: 0.6607 - val_accuracy: 0.6100\n"
     ]
    },
    {
     "name": "stderr",
     "output_type": "stream",
     "text": [
      "  0%|          | 2/800 [00:00<00:42, 18.81it/s]"
     ]
    },
    {
     "name": "stdout",
     "output_type": "stream",
     "text": [
      "Epoch 00006: early stopping\n",
      "\n",
      "**********17000 -- 18000 out of 20000************\n",
      "\n",
      "Shape of Dataset:: target_gender (1000, 2) (1000, 1)\n"
     ]
    },
    {
     "name": "stderr",
     "output_type": "stream",
     "text": [
      "100%|██████████| 800/800 [00:23<00:00, 33.35it/s]\n",
      "100%|██████████| 200/200 [00:05<00:00, 36.83it/s]\n"
     ]
    },
    {
     "name": "stdout",
     "output_type": "stream",
     "text": [
      "\n",
      "after splitting dataset shape::\n",
      "(800, 2) (200, 2) (800, 200, 200, 1) (200, 200, 200, 1)\n",
      "\n",
      "Epoch 1/10\n",
      "13/13 [==============================] - ETA: 0s - loss: 0.6184 - accuracy: 0.6662\n",
      "Epoch 00001: val_accuracy did not improve from 0.72000\n",
      "13/13 [==============================] - 36s 3s/step - loss: 0.6184 - accuracy: 0.6662 - val_loss: 0.5888 - val_accuracy: 0.6650\n",
      "Epoch 2/10\n",
      "13/13 [==============================] - ETA: 0s - loss: 0.6202 - accuracy: 0.6762\n",
      "Epoch 00002: val_accuracy did not improve from 0.72000\n",
      "13/13 [==============================] - 34s 3s/step - loss: 0.6202 - accuracy: 0.6762 - val_loss: 0.5908 - val_accuracy: 0.6350\n",
      "Epoch 3/10\n",
      "13/13 [==============================] - ETA: 0s - loss: 0.6065 - accuracy: 0.6825\n",
      "Epoch 00003: val_accuracy did not improve from 0.72000\n",
      "13/13 [==============================] - 33s 3s/step - loss: 0.6065 - accuracy: 0.6825 - val_loss: 0.5857 - val_accuracy: 0.6700\n",
      "Epoch 4/10\n",
      "13/13 [==============================] - ETA: 0s - loss: 0.6004 - accuracy: 0.6862\n",
      "Epoch 00004: val_accuracy did not improve from 0.72000\n",
      "13/13 [==============================] - 37s 3s/step - loss: 0.6004 - accuracy: 0.6862 - val_loss: 0.5862 - val_accuracy: 0.6600\n",
      "Epoch 5/10\n",
      "13/13 [==============================] - ETA: 0s - loss: 0.5941 - accuracy: 0.6775\n",
      "Epoch 00005: val_accuracy did not improve from 0.72000\n",
      "13/13 [==============================] - 41s 3s/step - loss: 0.5941 - accuracy: 0.6775 - val_loss: 0.5903 - val_accuracy: 0.6650\n"
     ]
    },
    {
     "name": "stderr",
     "output_type": "stream",
     "text": [
      "\r",
      "  0%|          | 0/800 [00:00<?, ?it/s]"
     ]
    },
    {
     "name": "stdout",
     "output_type": "stream",
     "text": [
      "Epoch 00005: early stopping\n",
      "\n",
      "**********18000 -- 19000 out of 20000************\n",
      "\n",
      "Shape of Dataset:: target_gender (1000, 2) (1000, 1)\n"
     ]
    },
    {
     "name": "stderr",
     "output_type": "stream",
     "text": [
      "100%|██████████| 800/800 [00:27<00:00, 28.94it/s]\n",
      "100%|██████████| 200/200 [00:04<00:00, 47.51it/s]\n"
     ]
    },
    {
     "name": "stdout",
     "output_type": "stream",
     "text": [
      "\n",
      "after splitting dataset shape::\n",
      "(800, 2) (200, 2) (800, 200, 200, 1) (200, 200, 200, 1)\n",
      "\n",
      "Epoch 1/10\n",
      "13/13 [==============================] - ETA: 0s - loss: 0.6217 - accuracy: 0.6587\n",
      "Epoch 00001: val_accuracy did not improve from 0.72000\n",
      "13/13 [==============================] - 33s 3s/step - loss: 0.6217 - accuracy: 0.6587 - val_loss: 0.6842 - val_accuracy: 0.6200\n",
      "Epoch 2/10\n",
      "13/13 [==============================] - ETA: 0s - loss: 0.6172 - accuracy: 0.6662\n",
      "Epoch 00002: val_accuracy did not improve from 0.72000\n",
      "13/13 [==============================] - 41s 3s/step - loss: 0.6172 - accuracy: 0.6662 - val_loss: 0.6125 - val_accuracy: 0.6850\n",
      "Epoch 3/10\n",
      "13/13 [==============================] - ETA: 0s - loss: 0.6066 - accuracy: 0.6812\n",
      "Epoch 00003: val_accuracy did not improve from 0.72000\n",
      "13/13 [==============================] - 42s 3s/step - loss: 0.6066 - accuracy: 0.6812 - val_loss: 0.6579 - val_accuracy: 0.6500\n",
      "Epoch 4/10\n",
      "13/13 [==============================] - ETA: 0s - loss: 0.6093 - accuracy: 0.6725\n",
      "Epoch 00004: val_accuracy did not improve from 0.72000\n",
      "13/13 [==============================] - 43s 3s/step - loss: 0.6093 - accuracy: 0.6725 - val_loss: 0.6011 - val_accuracy: 0.6950\n",
      "Epoch 5/10\n",
      "13/13 [==============================] - ETA: 0s - loss: 0.5992 - accuracy: 0.6862\n",
      "Epoch 00005: val_accuracy did not improve from 0.72000\n",
      "13/13 [==============================] - 42s 3s/step - loss: 0.5992 - accuracy: 0.6862 - val_loss: 0.6287 - val_accuracy: 0.6750\n",
      "Epoch 6/10\n",
      "13/13 [==============================] - ETA: 0s - loss: 0.5980 - accuracy: 0.6837\n",
      "Epoch 00006: val_accuracy did not improve from 0.72000\n",
      "13/13 [==============================] - 36s 3s/step - loss: 0.5980 - accuracy: 0.6837 - val_loss: 0.6103 - val_accuracy: 0.6800\n",
      "Epoch 00006: early stopping\n",
      "\n",
      "**********19000 -- 20000 out of 20000************\n",
      "\n"
     ]
    },
    {
     "name": "stderr",
     "output_type": "stream",
     "text": [
      "\r",
      "  0%|          | 0/800 [00:00<?, ?it/s]"
     ]
    },
    {
     "name": "stdout",
     "output_type": "stream",
     "text": [
      "Shape of Dataset:: target_gender (1000, 2) (1000, 1)\n"
     ]
    },
    {
     "name": "stderr",
     "output_type": "stream",
     "text": [
      "100%|██████████| 800/800 [00:45<00:00, 17.47it/s]\n",
      "100%|██████████| 200/200 [00:08<00:00, 23.18it/s]\n"
     ]
    },
    {
     "name": "stdout",
     "output_type": "stream",
     "text": [
      "\n",
      "after splitting dataset shape::\n",
      "(800, 2) (200, 2) (800, 200, 200, 1) (200, 200, 200, 1)\n",
      "\n",
      "Epoch 1/10\n",
      "13/13 [==============================] - ETA: 0s - loss: 0.6416 - accuracy: 0.6263\n",
      "Epoch 00001: val_accuracy did not improve from 0.72000\n",
      "13/13 [==============================] - 38s 3s/step - loss: 0.6416 - accuracy: 0.6263 - val_loss: 0.6182 - val_accuracy: 0.6500\n",
      "Epoch 2/10\n",
      "13/13 [==============================] - ETA: 0s - loss: 0.6310 - accuracy: 0.6388\n",
      "Epoch 00002: val_accuracy did not improve from 0.72000\n",
      "13/13 [==============================] - 39s 3s/step - loss: 0.6310 - accuracy: 0.6388 - val_loss: 0.6374 - val_accuracy: 0.6250\n",
      "Epoch 3/10\n",
      "13/13 [==============================] - ETA: 0s - loss: 0.6332 - accuracy: 0.6438\n",
      "Epoch 00003: val_accuracy did not improve from 0.72000\n",
      "13/13 [==============================] - 39s 3s/step - loss: 0.6332 - accuracy: 0.6438 - val_loss: 0.6148 - val_accuracy: 0.6600\n",
      "Epoch 4/10\n",
      "13/13 [==============================] - ETA: 0s - loss: 0.6327 - accuracy: 0.6375\n",
      "Epoch 00004: val_accuracy did not improve from 0.72000\n",
      "13/13 [==============================] - 37s 3s/step - loss: 0.6327 - accuracy: 0.6375 - val_loss: 0.5970 - val_accuracy: 0.6850\n",
      "Epoch 5/10\n",
      "13/13 [==============================] - ETA: 0s - loss: 0.6331 - accuracy: 0.6413\n",
      "Epoch 00005: val_accuracy did not improve from 0.72000\n",
      "13/13 [==============================] - 39s 3s/step - loss: 0.6331 - accuracy: 0.6413 - val_loss: 0.6020 - val_accuracy: 0.6900\n",
      "Epoch 6/10\n",
      "13/13 [==============================] - ETA: 0s - loss: 0.6288 - accuracy: 0.6413\n",
      "Epoch 00006: val_accuracy did not improve from 0.72000\n",
      "13/13 [==============================] - 38s 3s/step - loss: 0.6288 - accuracy: 0.6413 - val_loss: 0.5963 - val_accuracy: 0.6900\n",
      "Epoch 7/10\n",
      "13/13 [==============================] - ETA: 0s - loss: 0.6297 - accuracy: 0.6400\n",
      "Epoch 00007: val_accuracy did not improve from 0.72000\n",
      "13/13 [==============================] - 41s 3s/step - loss: 0.6297 - accuracy: 0.6400 - val_loss: 0.6039 - val_accuracy: 0.6950\n",
      "Epoch 8/10\n",
      "13/13 [==============================] - ETA: 0s - loss: 0.6250 - accuracy: 0.6538\n",
      "Epoch 00008: val_accuracy did not improve from 0.72000\n",
      "13/13 [==============================] - 41s 3s/step - loss: 0.6250 - accuracy: 0.6538 - val_loss: 0.5961 - val_accuracy: 0.6900\n",
      "Epoch 9/10\n",
      "13/13 [==============================] - ETA: 0s - loss: 0.6216 - accuracy: 0.6637\n",
      "Epoch 00009: val_accuracy did not improve from 0.72000\n",
      "13/13 [==============================] - 36s 3s/step - loss: 0.6216 - accuracy: 0.6637 - val_loss: 0.5967 - val_accuracy: 0.7000\n",
      "Epoch 10/10\n",
      "13/13 [==============================] - ETA: 0s - loss: 0.6138 - accuracy: 0.6600\n",
      "Epoch 00010: val_accuracy did not improve from 0.72000\n",
      "13/13 [==============================] - 37s 3s/step - loss: 0.6138 - accuracy: 0.6600 - val_loss: 0.5915 - val_accuracy: 0.6800\n"
     ]
    }
   ],
   "source": [
    "training(\n",
    "    start_row = 0,\n",
    "    number_of_labels = 2,\n",
    "    file_path = 'dataset_200.csv',\n",
    "    image_per_batch = 1000,\n",
    "    training_feature = 'target_gender',\n",
    "    max_limit = 20000,\n",
    "    path_of_model = 'final_cnn_gender_model_checkpoint.tf'\n",
    ")"
   ]
  },
  {
   "cell_type": "code",
   "execution_count": 9,
   "metadata": {},
   "outputs": [
    {
     "name": "stdout",
     "output_type": "stream",
     "text": [
      "\n",
      "**********0 -- 1000 out of 20000************\n",
      "\n",
      "Shape of Dataset:: target_age (1000, 1) (1000, 1)\n"
     ]
    },
    {
     "name": "stderr",
     "output_type": "stream",
     "text": [
      " 13%|█▎        | 105/800 [00:04<00:31, 21.74it/s]\n"
     ]
    },
    {
     "ename": "KeyboardInterrupt",
     "evalue": "",
     "output_type": "error",
     "traceback": [
      "\u001b[0;31m---------------------------------------------------------------------------\u001b[0m",
      "\u001b[0;31mKeyboardInterrupt\u001b[0m                         Traceback (most recent call last)",
      "\u001b[0;32m<ipython-input-9-5b120c1f7ca5>\u001b[0m in \u001b[0;36m<module>\u001b[0;34m\u001b[0m\n\u001b[0;32m----> 1\u001b[0;31m training(\n\u001b[0m\u001b[1;32m      2\u001b[0m     \u001b[0mstart_row\u001b[0m \u001b[0;34m=\u001b[0m \u001b[0;36m0\u001b[0m\u001b[0;34m,\u001b[0m\u001b[0;34m\u001b[0m\u001b[0;34m\u001b[0m\u001b[0m\n\u001b[1;32m      3\u001b[0m     \u001b[0mnumber_of_labels\u001b[0m \u001b[0;34m=\u001b[0m \u001b[0;36m7\u001b[0m\u001b[0;34m,\u001b[0m\u001b[0;34m\u001b[0m\u001b[0;34m\u001b[0m\u001b[0m\n\u001b[1;32m      4\u001b[0m     \u001b[0mfile_path\u001b[0m \u001b[0;34m=\u001b[0m \u001b[0;34m'dataset_200.csv'\u001b[0m\u001b[0;34m,\u001b[0m\u001b[0;34m\u001b[0m\u001b[0;34m\u001b[0m\u001b[0m\n\u001b[1;32m      5\u001b[0m     \u001b[0mimage_per_batch\u001b[0m \u001b[0;34m=\u001b[0m \u001b[0;36m1000\u001b[0m\u001b[0;34m,\u001b[0m\u001b[0;34m\u001b[0m\u001b[0;34m\u001b[0m\u001b[0m\n",
      "\u001b[0;32m<ipython-input-7-4aed714b4910>\u001b[0m in \u001b[0;36mtraining\u001b[0;34m(start_row, number_of_labels, file_path, image_per_batch, training_feature, max_limit, path_of_model)\u001b[0m\n\u001b[1;32m     24\u001b[0m         \u001b[0mprint\u001b[0m\u001b[0;34m(\u001b[0m\u001b[0;34m)\u001b[0m\u001b[0;34m\u001b[0m\u001b[0;34m\u001b[0m\u001b[0m\n\u001b[1;32m     25\u001b[0m \u001b[0;34m\u001b[0m\u001b[0m\n\u001b[0;32m---> 26\u001b[0;31m         X_train, X_test, y_train, y_test = training_dataset_(\n\u001b[0m\u001b[1;32m     27\u001b[0m                         \u001b[0mfile_path\u001b[0m \u001b[0;34m=\u001b[0m \u001b[0mfile_path\u001b[0m\u001b[0;34m,\u001b[0m\u001b[0;34m\u001b[0m\u001b[0;34m\u001b[0m\u001b[0m\n\u001b[1;32m     28\u001b[0m                         \u001b[0mstart_row\u001b[0m \u001b[0;34m=\u001b[0m \u001b[0mx\u001b[0m\u001b[0;34m,\u001b[0m\u001b[0;34m\u001b[0m\u001b[0;34m\u001b[0m\u001b[0m\n",
      "\u001b[0;32m<ipython-input-4-cea7cb6505f1>\u001b[0m in \u001b[0;36mtraining_dataset_\u001b[0;34m(file_path, image_per_batch, start_row, training_feature)\u001b[0m\n\u001b[1;32m     23\u001b[0m     \u001b[0my_test\u001b[0m \u001b[0;34m=\u001b[0m \u001b[0mnp_utils\u001b[0m\u001b[0;34m.\u001b[0m\u001b[0mto_categorical\u001b[0m\u001b[0;34m(\u001b[0m\u001b[0my_test\u001b[0m\u001b[0;34m)\u001b[0m\u001b[0;34m\u001b[0m\u001b[0;34m\u001b[0m\u001b[0m\n\u001b[1;32m     24\u001b[0m \u001b[0;34m\u001b[0m\u001b[0m\n\u001b[0;32m---> 25\u001b[0;31m     \u001b[0mX_train\u001b[0m \u001b[0;34m=\u001b[0m \u001b[0mget_data_from_local\u001b[0m\u001b[0;34m(\u001b[0m\u001b[0mX_train\u001b[0m\u001b[0;34m)\u001b[0m\u001b[0;34m\u001b[0m\u001b[0;34m\u001b[0m\u001b[0m\n\u001b[0m\u001b[1;32m     26\u001b[0m     \u001b[0mX_test\u001b[0m \u001b[0;34m=\u001b[0m \u001b[0mget_data_from_local\u001b[0m\u001b[0;34m(\u001b[0m\u001b[0mX_test\u001b[0m\u001b[0;34m)\u001b[0m\u001b[0;34m\u001b[0m\u001b[0;34m\u001b[0m\u001b[0m\n\u001b[1;32m     27\u001b[0m \u001b[0;34m\u001b[0m\u001b[0m\n",
      "\u001b[0;32m<ipython-input-5-6fac6282ff2e>\u001b[0m in \u001b[0;36mget_data_from_local\u001b[0;34m(X_train)\u001b[0m\n\u001b[1;32m      2\u001b[0m     \u001b[0mX_data\u001b[0m \u001b[0;34m=\u001b[0m\u001b[0;34m[\u001b[0m\u001b[0;34m]\u001b[0m\u001b[0;34m\u001b[0m\u001b[0;34m\u001b[0m\u001b[0m\n\u001b[1;32m      3\u001b[0m     \u001b[0;32mfor\u001b[0m \u001b[0mfile\u001b[0m \u001b[0;32min\u001b[0m \u001b[0mtqdm\u001b[0m\u001b[0;34m(\u001b[0m\u001b[0mX_train\u001b[0m\u001b[0;34m[\u001b[0m\u001b[0;34m'image'\u001b[0m\u001b[0;34m]\u001b[0m\u001b[0;34m)\u001b[0m\u001b[0;34m:\u001b[0m\u001b[0;34m\u001b[0m\u001b[0;34m\u001b[0m\u001b[0m\n\u001b[0;32m----> 4\u001b[0;31m         \u001b[0mface\u001b[0m \u001b[0;34m=\u001b[0m \u001b[0mcv2\u001b[0m\u001b[0;34m.\u001b[0m\u001b[0mimread\u001b[0m\u001b[0;34m(\u001b[0m\u001b[0mfile\u001b[0m\u001b[0;34m,\u001b[0m\u001b[0mcv2\u001b[0m\u001b[0;34m.\u001b[0m\u001b[0mIMREAD_COLOR\u001b[0m\u001b[0;34m)\u001b[0m\u001b[0;34m\u001b[0m\u001b[0;34m\u001b[0m\u001b[0m\n\u001b[0m\u001b[1;32m      5\u001b[0m         \u001b[0mface\u001b[0m \u001b[0;34m=\u001b[0m \u001b[0mcv2\u001b[0m\u001b[0;34m.\u001b[0m\u001b[0mcvtColor\u001b[0m\u001b[0;34m(\u001b[0m\u001b[0mface\u001b[0m\u001b[0;34m,\u001b[0m \u001b[0mcv2\u001b[0m\u001b[0;34m.\u001b[0m\u001b[0mCOLOR_BGR2GRAY\u001b[0m\u001b[0;34m)\u001b[0m\u001b[0;34m\u001b[0m\u001b[0;34m\u001b[0m\u001b[0m\n\u001b[1;32m      6\u001b[0m         \u001b[0mface\u001b[0m \u001b[0;34m=\u001b[0m\u001b[0mcv2\u001b[0m\u001b[0;34m.\u001b[0m\u001b[0mresize\u001b[0m\u001b[0;34m(\u001b[0m\u001b[0mface\u001b[0m\u001b[0;34m,\u001b[0m \u001b[0;34m(\u001b[0m\u001b[0;36m200\u001b[0m\u001b[0;34m,\u001b[0m\u001b[0;36m200\u001b[0m\u001b[0;34m)\u001b[0m\u001b[0;34m)\u001b[0m\u001b[0;34m\u001b[0m\u001b[0;34m\u001b[0m\u001b[0m\n",
      "\u001b[0;31mKeyboardInterrupt\u001b[0m: "
     ]
    }
   ],
   "source": [
    "training(\n",
    "    start_row = 0,\n",
    "    number_of_labels = 7,\n",
    "    file_path = 'dataset_200.csv',\n",
    "    image_per_batch = 1000,\n",
    "    training_feature = 'target_age',\n",
    "    max_limit = 20000,\n",
    "    path_of_model = 'final_cnn_age_model_checkpoint.tf'\n",
    ")"
   ]
  },
  {
   "cell_type": "code",
   "execution_count": null,
   "metadata": {},
   "outputs": [],
   "source": [
    "### ETHNICITY PREDICTION - \n",
    "# 0 = White, 1 = Black, 2 = Asian, 3 = Indian, 4 = Others (like Hispanic, Latino, Middle Eastern)"
   ]
  },
  {
   "cell_type": "code",
   "execution_count": null,
   "metadata": {},
   "outputs": [],
   "source": [
    "training(\n",
    "    start_row = 0,\n",
    "    number_of_labels = 5,\n",
    "    file_path = 'dataset_200.csv',\n",
    "    image_per_batch = 1000,\n",
    "    training_feature = 'target_race',\n",
    "    max_limit = 20000,\n",
    "    path_of_model = 'final_cnn_race_model_checkpoint.tf'\n",
    ")"
   ]
  },
  {
   "cell_type": "markdown",
   "metadata": {},
   "source": [
    "## 4) PREDICTION"
   ]
  },
  {
   "cell_type": "code",
   "execution_count": 18,
   "metadata": {},
   "outputs": [
    {
     "name": "stderr",
     "output_type": "stream",
     "text": [
      "  6%|▋         | 128/2000 [00:00<00:01, 1278.78it/s]"
     ]
    },
    {
     "name": "stdout",
     "output_type": "stream",
     "text": [
      "Shape of Dataset:: target_gender (2000, 2) (2000, 1)\n"
     ]
    },
    {
     "name": "stderr",
     "output_type": "stream",
     "text": [
      "100%|██████████| 2000/2000 [00:32<00:00, 62.10it/s] \n"
     ]
    }
   ],
   "source": [
    "start_row = 20000\n",
    "number_of_labels = 2\n",
    "file_path = 'dataset_200.csv'\n",
    "image_per_batch = 2000\n",
    "training_feature = 'target_gender'\n",
    "max_limit = 20000\n",
    "path_of_model = 'final_cnn_gender_model_checkpoint.tf'\n",
    "\n",
    "dataset = pd.read_csv(file_path)[start_row:start_row+image_per_batch]\n",
    "    \n",
    "x_columns_for_remove = ['target_age','target_age','target_race','age','Unnamed: 0','target_gender']\n",
    "y_columns_for_remove = ['image','target_age','target_race','age','Unnamed: 0','target_gender']\n",
    "\n",
    "x_columns_for_remove.remove(training_feature)\n",
    "y_columns_for_remove.remove(training_feature)\n",
    "\n",
    "X_test = dataset.drop(columns=x_columns_for_remove)\n",
    "y_test = dataset.drop(columns=y_columns_for_remove)\n",
    "\n",
    "print('Shape of Dataset::',training_feature,X_test.shape,y_test.shape)    \n",
    "\n",
    "\n",
    "y_test = np_utils.to_categorical(y_test)\n",
    "\n",
    "X_test = get_data_from_local(X_test)\n",
    "\n",
    "y_test = np.asarray(y_test).astype(np.float32)"
   ]
  },
  {
   "cell_type": "code",
   "execution_count": 19,
   "metadata": {},
   "outputs": [],
   "source": [
    "model = load_model(path_of_model)"
   ]
  },
  {
   "cell_type": "code",
   "execution_count": 20,
   "metadata": {},
   "outputs": [
    {
     "name": "stdout",
     "output_type": "stream",
     "text": [
      "63/63 [==============================] - 24s 385ms/step - loss: 0.6183 - accuracy: 0.6630\n",
      "Baseline Error: 33.70%\n"
     ]
    }
   ],
   "source": [
    "scores = model.evaluate(X_test, y_test, verbose=1)\n",
    "print(\"Baseline Error: %.2f%%\" % (100-scores[1]*100))"
   ]
  },
  {
   "cell_type": "code",
   "execution_count": null,
   "metadata": {},
   "outputs": [],
   "source": []
  },
  {
   "cell_type": "code",
   "execution_count": null,
   "metadata": {},
   "outputs": [],
   "source": []
  }
 ],
 "metadata": {
  "kernelspec": {
   "display_name": "Python 3",
   "language": "python",
   "name": "python3"
  },
  "language_info": {
   "codemirror_mode": {
    "name": "ipython",
    "version": 3
   },
   "file_extension": ".py",
   "mimetype": "text/x-python",
   "name": "python",
   "nbconvert_exporter": "python",
   "pygments_lexer": "ipython3",
   "version": "3.8.5"
  }
 },
 "nbformat": 4,
 "nbformat_minor": 4
}
