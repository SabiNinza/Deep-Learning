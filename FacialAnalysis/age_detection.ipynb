{
 "cells": [
  {
   "cell_type": "markdown",
   "metadata": {},
   "source": [
    "## AGE DETECTION"
   ]
  },
  {
   "cell_type": "markdown",
   "metadata": {},
   "source": [
    "### Data Preparation"
   ]
  },
  {
   "cell_type": "code",
   "execution_count": 8,
   "metadata": {},
   "outputs": [],
   "source": [
    "import os\n",
    "import numpy as np"
   ]
  },
  {
   "cell_type": "code",
   "execution_count": 2,
   "metadata": {},
   "outputs": [],
   "source": [
    "faces_path = '/home/falcon-puneet/Documents/College/MinorProject/age_detection/age_gender_race/'\n",
    "faces_image_names = os.listdir(faces_path)"
   ]
  },
  {
   "cell_type": "code",
   "execution_count": 3,
   "metadata": {},
   "outputs": [
    {
     "name": "stdout",
     "output_type": "stream",
     "text": [
      "65_0_0_20170103183632050.jpg.chip.jpg\n"
     ]
    },
    {
     "data": {
      "text/plain": [
       "23708"
      ]
     },
     "execution_count": 3,
     "metadata": {},
     "output_type": "execute_result"
    }
   ],
   "source": [
    "print(faces_image_names[0])#name of image => age , gender , race , date\n",
    "len(faces_image_names) #no of image "
   ]
  },
  {
   "cell_type": "code",
   "execution_count": 6,
   "metadata": {},
   "outputs": [
    {
     "name": "stdout",
     "output_type": "stream",
     "text": [
      "('65', '0', '0')\n"
     ]
    }
   ],
   "source": [
    "def label_name_split(image_name): #functions to split the name into labels\n",
    "    image_labels = image_name.split('_')\n",
    "    age = image_labels[0]\n",
    "    gender = image_labels[1]\n",
    "    race = image_labels[2]\n",
    "    return age, gender, race\n",
    "\n",
    "print(label_name_split(faces_image_names[0]))"
   ]
  },
  {
   "cell_type": "code",
   "execution_count": 11,
   "metadata": {},
   "outputs": [],
   "source": [
    "#dictionary to map image name to their labels\n",
    "faces_age_labels = np.array([])\n",
    "\n",
    "for image in faces_image_names:\n",
    "    age, gender, race = label_name_split(image)\n",
    "    faces_age_labels = np.append(faces_age_labels,age)"
   ]
  },
  {
   "cell_type": "code",
   "execution_count": 26,
   "metadata": {},
   "outputs": [],
   "source": [
    "unique_ages , unique_ages_count = np.unique(faces_age_labels,return_counts=True) #unqiue age and how many images are there"
   ]
  },
  {
   "cell_type": "code",
   "execution_count": 40,
   "metadata": {},
   "outputs": [
    {
     "name": "stdout",
     "output_type": "stream",
     "text": [
      "<bound method NDFrame.head of      images\n",
      "1      1123\n",
      "2       482\n",
      "3       289\n",
      "4       273\n",
      "5       196\n",
      "..      ...\n",
      "105       5\n",
      "110       5\n",
      "111       1\n",
      "115       3\n",
      "116       4\n",
      "\n",
      "[104 rows x 1 columns]>\n"
     ]
    }
   ],
   "source": [
    "#dictionary ages and how many image of that image\n",
    "ages_count = {}\n",
    "for age,count in zip(unique_ages,unique_ages_count):\n",
    "    ages_count[age] = count\n",
    "images_df = pd.DataFrame(ages_count.values(), index=ages_count.keys(), columns=['images'])\n",
    "print(images_df.head)"
   ]
  },
  {
   "cell_type": "markdown",
   "metadata": {},
   "source": [
    "## label for age\n",
    "\n",
    "Age-ranges (classes)<br>\n",
    "0  1 - 4\t\n",
    "1   5 - 18\t\n",
    "2\t19 - 24\t\n",
    "3\t25 - 26\t\n",
    "4\t27 - 30\t\n",
    "5\t31 - 35\t\n",
    "6\t36 - 42\t\n",
    "7\t43 - 53\t\n",
    "8\t54 - 65\t\n",
    "9\t66 - 116"
   ]
  },
  {
   "cell_type": "code",
   "execution_count": 33,
   "metadata": {},
   "outputs": [],
   "source": [
    "import pandas as pd"
   ]
  },
  {
   "cell_type": "code",
   "execution_count": 52,
   "metadata": {},
   "outputs": [
    {
     "name": "stdout",
     "output_type": "stream",
     "text": [
      "   age(start)  age(end)  images  class balance\n",
      "0         1.0       4.0  2167.0           9.14\n",
      "1         5.0      18.0  2328.0           9.82\n",
      "2        19.0      24.0  2408.0          10.16\n",
      "3        25.0      26.0  2931.0          12.36\n",
      "4        27.0      30.0  2827.0          11.92\n",
      "5        31.0      35.0  2446.0          10.32\n",
      "6        36.0      42.0  2291.0           9.66\n",
      "7        43.0      53.0  2313.0           9.76\n",
      "8        54.0      65.0  2298.0           9.69\n",
      "9        66.0     116.0  1699.0           7.17\n"
     ]
    }
   ],
   "source": [
    "# Defining a function to split the images in each dataset into n classes (user input).\n",
    "# Function INPUT: Dataset series of no. of images per age index, and n_classes. \n",
    "# Function OUTPUT: Dataset broken up into n_classes with age-ranges, no. of images and proportion balance per class.\n",
    "\n",
    "def split_classes(ser, n_classes):\n",
    "\n",
    "    n_images = int(sum(ser) / n_classes)\n",
    "\n",
    "    classes_df = pd.DataFrame()\n",
    "\n",
    "    age_index = 0\n",
    "\n",
    "    for i in range(n_classes):\n",
    "        if age_index<=103:\n",
    "            age_start = ser.index[age_index]\n",
    "            age_current = ser.index[age_index]\n",
    "        else:\n",
    "            break\n",
    "\n",
    "        class_images = 0\n",
    "        \n",
    "        while class_images < n_images:\n",
    "            class_images += ser[age_current]\n",
    "            age_index += 1\n",
    "\n",
    "            if age_index<=103:\n",
    "                age_current = ser.index[age_index]\n",
    "            else:\n",
    "                break\n",
    "                \n",
    "        if age_index<=104:\n",
    "            age_end = ser.index[age_index-1]\n",
    "        else:\n",
    "            break\n",
    "        \n",
    "        classes_df.loc[i, 'age(start)'] = age_start \n",
    "        classes_df.loc[i, 'age(end)'] = age_end\n",
    "        classes_df.loc[i, 'images'] = class_images\n",
    "        classes_df.loc[i, 'class balance'] = round((class_images / sum(ser)) * 100, 2)\n",
    "    \n",
    "    return classes_df\n",
    "print(split_classes(images_df['images'],11))"
   ]
  },
  {
   "cell_type": "markdown",
   "metadata": {},
   "source": [
    "### Data Augmentation"
   ]
  },
  {
   "cell_type": "code",
   "execution_count": null,
   "metadata": {},
   "outputs": [],
   "source": []
  }
 ],
 "metadata": {
  "kernelspec": {
   "display_name": "Python 3",
   "language": "python",
   "name": "python3"
  },
  "language_info": {
   "codemirror_mode": {
    "name": "ipython",
    "version": 3
   },
   "file_extension": ".py",
   "mimetype": "text/x-python",
   "name": "python",
   "nbconvert_exporter": "python",
   "pygments_lexer": "ipython3",
   "version": "3.8.2"
  }
 },
 "nbformat": 4,
 "nbformat_minor": 4
}
