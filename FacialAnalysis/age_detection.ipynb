{
 "cells": [
  {
   "cell_type": "markdown",
   "metadata": {},
   "source": [
    "## AGE DETECTION"
   ]
  },
  {
   "cell_type": "markdown",
   "metadata": {},
   "source": [
    "### Data Preparation"
   ]
  },
  {
   "cell_type": "code",
   "execution_count": 8,
   "metadata": {},
   "outputs": [],
   "source": [
    "import os\n",
    "import numpy as np"
   ]
  },
  {
   "cell_type": "code",
   "execution_count": 2,
   "metadata": {},
   "outputs": [],
   "source": [
    "faces_path = '/home/falcon-puneet/Documents/College/MinorProject/age_detection/age_gender_race/'\n",
    "faces_image_names = os.listdir(faces_path)"
   ]
  },
  {
   "cell_type": "code",
   "execution_count": 3,
   "metadata": {},
   "outputs": [
    {
     "name": "stdout",
     "output_type": "stream",
     "text": [
      "65_0_0_20170103183632050.jpg.chip.jpg\n"
     ]
    },
    {
     "data": {
      "text/plain": [
       "23708"
      ]
     },
     "execution_count": 3,
     "metadata": {},
     "output_type": "execute_result"
    }
   ],
   "source": [
    "print(faces_image_names[0])#name of image => age , gender , race , date\n",
    "len(faces_image_names) #no of image "
   ]
  },
  {
   "cell_type": "code",
   "execution_count": 6,
   "metadata": {},
   "outputs": [
    {
     "name": "stdout",
     "output_type": "stream",
     "text": [
      "('65', '0', '0')\n"
     ]
    }
   ],
   "source": [
    "def label_name_split(image_name): #functions to split the name into labels\n",
    "    image_labels = image_name.split('_')\n",
    "    age = image_labels[0]\n",
    "    gender = image_labels[1]\n",
    "    race = image_labels[2]\n",
    "    return age, gender, race\n",
    "\n",
    "print(label_name_split(faces_image_names[0]))"
   ]
  },
  {
   "cell_type": "code",
   "execution_count": 11,
   "metadata": {},
   "outputs": [],
   "source": [
    "#dictionary to map image name to their labels\n",
    "faces_age_labels = np.array([])\n",
    "\n",
    "for image in faces_image_names:\n",
    "    age, gender, race = label_name_split(image)\n",
    "    faces_age_labels = np.append(faces_age_labels,age)"
   ]
  },
  {
   "cell_type": "code",
   "execution_count": 26,
   "metadata": {},
   "outputs": [],
   "source": [
    "unique_ages , unique_ages_count = np.unique(faces_age_labels,return_counts=True) #unqiue age and how many images are there"
   ]
  },
  {
   "cell_type": "code",
   "execution_count": 40,
   "metadata": {},
   "outputs": [
    {
     "name": "stdout",
     "output_type": "stream",
     "text": [
      "<bound method NDFrame.head of      images\n",
      "1      1123\n",
      "2       482\n",
      "3       289\n",
      "4       273\n",
      "5       196\n",
      "..      ...\n",
      "105       5\n",
      "110       5\n",
      "111       1\n",
      "115       3\n",
      "116       4\n",
      "\n",
      "[104 rows x 1 columns]>\n"
     ]
    }
   ],
   "source": [
    "#dictionary ages and how many image of that image\n",
    "ages_count = {}\n",
    "for age,count in zip(unique_ages,unique_ages_count):\n",
    "    ages_count[age] = count\n",
    "images_df = pd.DataFrame(ages_count.values(), index=ages_count.keys(), columns=['images'])\n",
    "print(images_df.head)"
   ]
  },
  {
   "cell_type": "markdown",
   "metadata": {},
   "source": [
    "## label for age\n",
    "\n",
    "Age-ranges (classes)<br>\n",
    "0  1 - 4\t\n",
    "1   5 - 18\t\n",
    "2\t19 - 24\t\n",
    "3\t25 - 26\t\n",
    "4\t27 - 30\t\n",
    "5\t31 - 35\t\n",
    "6\t36 - 42\t\n",
    "7\t43 - 53\t\n",
    "8\t54 - 65\t\n",
    "9\t66 - 116"
   ]
  },
  {
   "cell_type": "code",
   "execution_count": 33,
   "metadata": {},
   "outputs": [],
   "source": [
    "import pandas as pd"
   ]
  },
  {
   "cell_type": "code",
   "execution_count": 41,
   "metadata": {},
   "outputs": [
    {
     "name": "stdout",
     "output_type": "stream",
     "text": [
      "Total no. of images in dataset\t= 23708\n",
      "No. of classes desired\t\t= 11\n",
      "So, target no. of images/class\t>= 23708/11 = ~2155\n",
      "\n",
      "Mean no. of images/class\t= ~2371\n",
      "Mean class balance\t\t= 10.0%\n",
      "Std. of class balance\t\t= 1.36%\n",
      "\n",
      "  Age-ranges (classes) No. of images Class balance (%)\n",
      "0                1 - 4          2167              9.14\n",
      "1               5 - 18          2328              9.82\n",
      "2              19 - 24          2408             10.16\n",
      "3              25 - 26          2931             12.36\n",
      "4              27 - 30          2827             11.92\n",
      "5              31 - 35          2446             10.32\n",
      "6              36 - 42          2291              9.66\n",
      "7              43 - 53          2313              9.76\n",
      "8              54 - 65          2298              9.69\n",
      "9             66 - 116          1699              7.17\n"
     ]
    }
   ],
   "source": [
    "# Defining a function to split the images in each dataset into n classes (user input).\n",
    "# Function INPUT: Dataset series of no. of images per age index, and n_classes. \n",
    "# Function OUTPUT: Dataset broken up into n_classes with age-ranges, no. of images and proportion balance per class.\n",
    "\n",
    "def split_classes(ser, n_classes):\n",
    "\n",
    "    # Calculating the target number of images per class depending on the total no. of images in the dataset.\n",
    "    n_images = int(sum(ser) / n_classes)\n",
    "\n",
    "    print(f\"Total no. of images in dataset\\t= {sum(ser)}\")\n",
    "    print(f\"No. of classes desired\\t\\t= {n_classes}\")\n",
    "    print(f\"So, target no. of images/class\\t>= {sum(ser)}/{n_classes} = ~{n_images}\")\n",
    "    print()\n",
    "\n",
    "    # Initiating a dataframe to show the breakdown of age-ranges as output.\n",
    "    classes_df = pd.DataFrame(columns=['Age-ranges (classes)', 'No. of images', 'Class balance (%)'])\n",
    "\n",
    "    # Initiating an age index variable to be used to iterate through the ages in the given input series.\n",
    "    age_index = 0\n",
    "\n",
    "    for i in range(n_classes):\n",
    "\n",
    "        # Storing the starting age of the class in a variable age_start.\n",
    "        # Storing the current age being iterated in a variable age_current.\n",
    "        # Keeping track of age_index variable so as not to let it go out of index.\n",
    "        if age_index<=103:\n",
    "            age_start = ser.index[age_index]\n",
    "            age_current = ser.index[age_index]\n",
    "        else:\n",
    "            break\n",
    "\n",
    "        # Initiating a new variable to keep track of no. of images added to current class.\n",
    "        class_images = 0\n",
    "        \n",
    "        # Iterating through the ages in the given input series and adding up the no. of images\n",
    "        # until it exceeds the target number of images per class, using the age_index and age_current variables.\n",
    "        while class_images < n_images:\n",
    "            class_images += ser[age_current]\n",
    "            age_index += 1\n",
    "\n",
    "            # Keeping track of age_index variable so as not to let it go out of index.\n",
    "            if age_index<=103:\n",
    "                age_current = ser.index[age_index]\n",
    "            else:\n",
    "                break\n",
    "\n",
    "        # Storing the ending age of the class in a variable age_end.\n",
    "        # Keeping track of age_index variable so as not to let it go out of index.\n",
    "        if age_index<=104:\n",
    "            age_end = ser.index[age_index-1]\n",
    "        else:\n",
    "            break\n",
    "        \n",
    "        # Adding the above calculated variables into the dataframe for easier printing and analysis.\n",
    "        classes_df.loc[i, 'Age-ranges (classes)'] = str(age_start)+\" - \"+str(age_end)\n",
    "        classes_df.loc[i, 'No. of images'] = class_images\n",
    "        classes_df.loc[i, 'Class balance (%)'] = round((class_images / sum(ser)) * 100, 2)\n",
    "    \n",
    "    # Calculating some basic statistics about no. of images and the class balance.\n",
    "    mean_images = int(round(np.mean(classes_df.loc[:, 'No. of images'])))\n",
    "    mean_balance = round(np.mean(classes_df.loc[:, 'Class balance (%)']), 2)\n",
    "    std_balance = round(np.std(classes_df.loc[:, 'Class balance (%)']), 2)\n",
    "    \n",
    "    print(f\"Mean no. of images/class\\t= ~{mean_images}\")\n",
    "    print(f\"Mean class balance\\t\\t= {mean_balance}%\")\n",
    "    print(f\"Std. of class balance\\t\\t= {std_balance}%\")\n",
    "    print()\n",
    "\n",
    "    # Returning the dataframe with all the classes info.\n",
    "    return classes_df\n",
    "print(split_classes(images_df['images'],11))"
   ]
  },
  {
   "cell_type": "markdown",
   "metadata": {},
   "source": [
    "### Data Augmentation"
   ]
  },
  {
   "cell_type": "code",
   "execution_count": null,
   "metadata": {},
   "outputs": [],
   "source": []
  }
 ],
 "metadata": {
  "kernelspec": {
   "display_name": "Python 3",
   "language": "python",
   "name": "python3"
  },
  "language_info": {
   "codemirror_mode": {
    "name": "ipython",
    "version": 3
   },
   "file_extension": ".py",
   "mimetype": "text/x-python",
   "name": "python",
   "nbconvert_exporter": "python",
   "pygments_lexer": "ipython3",
   "version": "3.8.2"
  }
 },
 "nbformat": 4,
 "nbformat_minor": 4
}
