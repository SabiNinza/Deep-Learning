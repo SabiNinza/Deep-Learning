{
 "cells": [
  {
   "cell_type": "markdown",
   "metadata": {},
   "source": [
    "## AGE GENDER And RACE DETECTION"
   ]
  },
  {
   "cell_type": "markdown",
   "metadata": {},
   "source": [
    "### Data Preparation"
   ]
  },
  {
   "cell_type": "code",
   "execution_count": null,
   "metadata": {},
   "outputs": [],
   "source": [
    "# !pip install opencv-python"
   ]
  },
  {
   "cell_type": "code",
   "execution_count": 1,
   "metadata": {},
   "outputs": [],
   "source": [
    "import os\n",
    "import pandas as pd\n",
    "import numpy as np\n",
    "from scipy import ndimage\n",
    "import cv2\n",
    "from tqdm import tqdm"
   ]
  },
  {
   "cell_type": "code",
   "execution_count": 2,
   "metadata": {},
   "outputs": [],
   "source": [
    "faces_path = '../../age_detection/age_gender_race/'\n",
    "faces_image_names = os.listdir(faces_path)"
   ]
  },
  {
   "cell_type": "code",
   "execution_count": 3,
   "metadata": {},
   "outputs": [
    {
     "name": "stdout",
     "output_type": "stream",
     "text": [
      "65_0_0_20170103183632050.jpg.chip.jpg\n"
     ]
    },
    {
     "data": {
      "text/plain": [
       "23708"
      ]
     },
     "execution_count": 3,
     "metadata": {},
     "output_type": "execute_result"
    }
   ],
   "source": [
    "print(faces_image_names[0])#name of image => age , gender , race , date\n",
    "len(faces_image_names) #no of image "
   ]
  },
  {
   "cell_type": "code",
   "execution_count": 4,
   "metadata": {},
   "outputs": [
    {
     "name": "stdout",
     "output_type": "stream",
     "text": [
      "('65', '0', '0')\n"
     ]
    }
   ],
   "source": [
    "def label_name_split(image_name): #functions to split the name into labels\n",
    "    image_labels = image_name.split('_')\n",
    "    age = image_labels[0]\n",
    "    gender = image_labels[1]\n",
    "    race = image_labels[2]\n",
    "    return age, gender, race\n",
    "\n",
    "print(label_name_split(faces_image_names[0]))"
   ]
  },
  {
   "cell_type": "code",
   "execution_count": 5,
   "metadata": {},
   "outputs": [],
   "source": [
    "#dictionary to map image name to their labels\n",
    "faces_age_labels = np.array([])\n",
    "faces_ages_df = pd.DataFrame(columns = ['image','age'],dtype='int')\n",
    "for i , image in enumerate(faces_image_names):\n",
    "    age, gender, race = label_name_split(image)\n",
    "    faces_age_labels = np.append(faces_age_labels,age)\n",
    "    faces_ages_df.loc[i,'image'] = faces_path + image\n",
    "    faces_ages_df.loc[i,'age'] = age\n",
    "    faces_ages_df.loc[i,'target_age'] = 0\n",
    "    faces_ages_df.loc[i,'target_gender'] = gender\n",
    "    faces_ages_df.loc[i,'target_race'] = race"
   ]
  },
  {
   "cell_type": "code",
   "execution_count": 6,
   "metadata": {},
   "outputs": [],
   "source": [
    "unique_ages , unique_ages_count = np.unique(faces_age_labels,return_counts=True) #unqiue age and how many images are there"
   ]
  },
  {
   "cell_type": "code",
   "execution_count": 7,
   "metadata": {},
   "outputs": [
    {
     "name": "stdout",
     "output_type": "stream",
     "text": [
      "<bound method NDFrame.head of      images\n",
      "1      1123\n",
      "10      156\n",
      "100      11\n",
      "101       2\n",
      "103       1\n",
      "..      ...\n",
      "92       13\n",
      "93        5\n",
      "95        9\n",
      "96       17\n",
      "99        9\n",
      "\n",
      "[104 rows x 1 columns]>\n"
     ]
    }
   ],
   "source": [
    "#dictionary ages and how many image of that image\n",
    "ages_count = {}\n",
    "for age,count in zip(unique_ages,unique_ages_count):\n",
    "    ages_count[age] = count\n",
    "images_df = pd.DataFrame(ages_count.values(), index=ages_count.keys(), columns=['images'])\n",
    "print(images_df.head)"
   ]
  },
  {
   "cell_type": "markdown",
   "metadata": {},
   "source": [
    "### Label for age and Class Imabalance \n",
    "\n",
    "Age-ranges (classes)<br>\n",
    "0  1 - 4\t\n",
    "1   5 - 18\t\n",
    "2\t19 - 24\t\n",
    "3\t25 - 26\t\n",
    "4\t27 - 30\t\n",
    "5\t31 - 35\t\n",
    "6\t36 - 42\t\n",
    "7\t43 - 53\t\n",
    "8\t54 - 65\t\n",
    "9\t66 - 116"
   ]
  },
  {
   "cell_type": "code",
   "execution_count": 8,
   "metadata": {},
   "outputs": [],
   "source": [
    "import pandas as pd"
   ]
  },
  {
   "cell_type": "code",
   "execution_count": 9,
   "metadata": {},
   "outputs": [],
   "source": [
    "def split_classes(ser, n_classes):\n",
    "     \n",
    "    ages_label = {}\n",
    "    \n",
    "    n_images = int(sum(ser) / n_classes)\n",
    "\n",
    "    classes_df = pd.DataFrame()\n",
    "\n",
    "    age_index = 0\n",
    "\n",
    "    for i in range(n_classes):\n",
    "        if age_index<=103:\n",
    "            age_start = ser.index[age_index]\n",
    "            age_current = ser.index[age_index]\n",
    "        else:\n",
    "            break\n",
    "\n",
    "        class_images = 0\n",
    "        \n",
    "        while class_images < n_images:\n",
    "            class_images += ser[age_current]\n",
    "            age_index += 1\n",
    "\n",
    "            if age_index<=103:\n",
    "                age_current = ser.index[age_index]\n",
    "            else:\n",
    "                break\n",
    "                \n",
    "        if age_index<=104:\n",
    "            age_end = ser.index[age_index-1]\n",
    "        else:\n",
    "            break\n",
    "            \n",
    "        ages_label[i] = {\n",
    "            'start':age_start,\n",
    "            'end':age_end\n",
    "        }\n",
    "        classes_df.loc[i, 'age(start)'] = age_start \n",
    "        classes_df.loc[i, 'age(end)'] = age_end\n",
    "        classes_df.loc[i, 'class balance'] = round((class_images / sum(ser)) * 100, 2)\n",
    "    \n",
    "    return classes_df , ages_label"
   ]
  },
  {
   "cell_type": "code",
   "execution_count": 10,
   "metadata": {},
   "outputs": [
    {
     "name": "stdout",
     "output_type": "stream",
     "text": [
      "  age(start) age(end)  class balance\n",
      "0          1       16           9.14\n",
      "1         17       23          10.34\n",
      "2         24       26          15.99\n",
      "3         27        3          10.09\n",
      "4         30       34           9.66\n",
      "5         35       39           9.48\n",
      "6          4       47           9.35\n",
      "7         48       56           9.90\n",
      "8         57       70           9.22\n",
      "9         71       99           6.84\n"
     ]
    },
    {
     "data": {
      "text/plain": [
       "{0: {'start': '1', 'end': '16'},\n",
       " 1: {'start': '17', 'end': '23'},\n",
       " 2: {'start': '24', 'end': '26'},\n",
       " 3: {'start': '27', 'end': '3'},\n",
       " 4: {'start': '30', 'end': '34'},\n",
       " 5: {'start': '35', 'end': '39'},\n",
       " 6: {'start': '4', 'end': '47'},\n",
       " 7: {'start': '48', 'end': '56'},\n",
       " 8: {'start': '57', 'end': '70'},\n",
       " 9: {'start': '71', 'end': '99'}}"
      ]
     },
     "execution_count": 10,
     "metadata": {},
     "output_type": "execute_result"
    }
   ],
   "source": [
    "a,label_age = split_classes(images_df['images'],11)\n",
    "print(a)\n",
    "label_age"
   ]
  },
  {
   "cell_type": "markdown",
   "metadata": {},
   "source": [
    "### save ages dataset"
   ]
  },
  {
   "cell_type": "code",
   "execution_count": 11,
   "metadata": {},
   "outputs": [
    {
     "data": {
      "text/html": [
       "<div>\n",
       "<style scoped>\n",
       "    .dataframe tbody tr th:only-of-type {\n",
       "        vertical-align: middle;\n",
       "    }\n",
       "\n",
       "    .dataframe tbody tr th {\n",
       "        vertical-align: top;\n",
       "    }\n",
       "\n",
       "    .dataframe thead th {\n",
       "        text-align: right;\n",
       "    }\n",
       "</style>\n",
       "<table border=\"1\" class=\"dataframe\">\n",
       "  <thead>\n",
       "    <tr style=\"text-align: right;\">\n",
       "      <th></th>\n",
       "      <th>image</th>\n",
       "      <th>age</th>\n",
       "      <th>target_age</th>\n",
       "      <th>target_gender</th>\n",
       "      <th>target_race</th>\n",
       "    </tr>\n",
       "  </thead>\n",
       "  <tbody>\n",
       "    <tr>\n",
       "      <th>0</th>\n",
       "      <td>../../age_detection/age_gender_race/65_0_0_201...</td>\n",
       "      <td>65</td>\n",
       "      <td>0.0</td>\n",
       "      <td>0</td>\n",
       "      <td>0</td>\n",
       "    </tr>\n",
       "    <tr>\n",
       "      <th>1</th>\n",
       "      <td>../../age_detection/age_gender_race/71_0_0_201...</td>\n",
       "      <td>71</td>\n",
       "      <td>0.0</td>\n",
       "      <td>0</td>\n",
       "      <td>0</td>\n",
       "    </tr>\n",
       "    <tr>\n",
       "      <th>2</th>\n",
       "      <td>../../age_detection/age_gender_race/38_0_1_201...</td>\n",
       "      <td>38</td>\n",
       "      <td>0.0</td>\n",
       "      <td>0</td>\n",
       "      <td>1</td>\n",
       "    </tr>\n",
       "    <tr>\n",
       "      <th>3</th>\n",
       "      <td>../../age_detection/age_gender_race/16_0_0_201...</td>\n",
       "      <td>16</td>\n",
       "      <td>0.0</td>\n",
       "      <td>0</td>\n",
       "      <td>0</td>\n",
       "    </tr>\n",
       "    <tr>\n",
       "      <th>4</th>\n",
       "      <td>../../age_detection/age_gender_race/1_1_4_2017...</td>\n",
       "      <td>1</td>\n",
       "      <td>0.0</td>\n",
       "      <td>1</td>\n",
       "      <td>4</td>\n",
       "    </tr>\n",
       "    <tr>\n",
       "      <th>5</th>\n",
       "      <td>../../age_detection/age_gender_race/60_0_3_201...</td>\n",
       "      <td>60</td>\n",
       "      <td>0.0</td>\n",
       "      <td>0</td>\n",
       "      <td>3</td>\n",
       "    </tr>\n",
       "    <tr>\n",
       "      <th>6</th>\n",
       "      <td>../../age_detection/age_gender_race/26_1_2_201...</td>\n",
       "      <td>26</td>\n",
       "      <td>0.0</td>\n",
       "      <td>1</td>\n",
       "      <td>2</td>\n",
       "    </tr>\n",
       "    <tr>\n",
       "      <th>7</th>\n",
       "      <td>../../age_detection/age_gender_race/22_1_2_201...</td>\n",
       "      <td>22</td>\n",
       "      <td>0.0</td>\n",
       "      <td>1</td>\n",
       "      <td>2</td>\n",
       "    </tr>\n",
       "    <tr>\n",
       "      <th>8</th>\n",
       "      <td>../../age_detection/age_gender_race/1_0_2_2016...</td>\n",
       "      <td>1</td>\n",
       "      <td>0.0</td>\n",
       "      <td>0</td>\n",
       "      <td>2</td>\n",
       "    </tr>\n",
       "    <tr>\n",
       "      <th>9</th>\n",
       "      <td>../../age_detection/age_gender_race/32_0_0_201...</td>\n",
       "      <td>32</td>\n",
       "      <td>0.0</td>\n",
       "      <td>0</td>\n",
       "      <td>0</td>\n",
       "    </tr>\n",
       "  </tbody>\n",
       "</table>\n",
       "</div>"
      ],
      "text/plain": [
       "                                               image age  target_age  \\\n",
       "0  ../../age_detection/age_gender_race/65_0_0_201...  65         0.0   \n",
       "1  ../../age_detection/age_gender_race/71_0_0_201...  71         0.0   \n",
       "2  ../../age_detection/age_gender_race/38_0_1_201...  38         0.0   \n",
       "3  ../../age_detection/age_gender_race/16_0_0_201...  16         0.0   \n",
       "4  ../../age_detection/age_gender_race/1_1_4_2017...   1         0.0   \n",
       "5  ../../age_detection/age_gender_race/60_0_3_201...  60         0.0   \n",
       "6  ../../age_detection/age_gender_race/26_1_2_201...  26         0.0   \n",
       "7  ../../age_detection/age_gender_race/22_1_2_201...  22         0.0   \n",
       "8  ../../age_detection/age_gender_race/1_0_2_2016...   1         0.0   \n",
       "9  ../../age_detection/age_gender_race/32_0_0_201...  32         0.0   \n",
       "\n",
       "  target_gender target_race  \n",
       "0             0           0  \n",
       "1             0           0  \n",
       "2             0           1  \n",
       "3             0           0  \n",
       "4             1           4  \n",
       "5             0           3  \n",
       "6             1           2  \n",
       "7             1           2  \n",
       "8             0           2  \n",
       "9             0           0  "
      ]
     },
     "execution_count": 11,
     "metadata": {},
     "output_type": "execute_result"
    }
   ],
   "source": [
    "faces_ages_df.head(10)"
   ]
  },
  {
   "cell_type": "code",
   "execution_count": 12,
   "metadata": {},
   "outputs": [],
   "source": [
    "def class_labels(age):\n",
    "    if 1 <= age <= 2:\n",
    "        return 0\n",
    "    elif 3 <= age <= 9:\n",
    "        return 1\n",
    "    elif 10 <= age <= 20:\n",
    "        return 2\n",
    "    elif 21 <= age <= 27:\n",
    "        return 3\n",
    "    elif 28 <= age <= 45:\n",
    "        return 4\n",
    "    elif 46 <= age <= 65:\n",
    "        return 5\n",
    "    else:\n",
    "        return 6\n",
    "faces_ages_df['age'] = faces_ages_df['age'].astype(int)\n",
    "faces_ages_df['target_age'] = faces_ages_df['age'].map(class_labels)"
   ]
  },
  {
   "cell_type": "code",
   "execution_count": 13,
   "metadata": {},
   "outputs": [
    {
     "data": {
      "text/html": [
       "<div>\n",
       "<style scoped>\n",
       "    .dataframe tbody tr th:only-of-type {\n",
       "        vertical-align: middle;\n",
       "    }\n",
       "\n",
       "    .dataframe tbody tr th {\n",
       "        vertical-align: top;\n",
       "    }\n",
       "\n",
       "    .dataframe thead th {\n",
       "        text-align: right;\n",
       "    }\n",
       "</style>\n",
       "<table border=\"1\" class=\"dataframe\">\n",
       "  <thead>\n",
       "    <tr style=\"text-align: right;\">\n",
       "      <th></th>\n",
       "      <th>image</th>\n",
       "      <th>age</th>\n",
       "      <th>target_age</th>\n",
       "      <th>target_gender</th>\n",
       "      <th>target_race</th>\n",
       "    </tr>\n",
       "  </thead>\n",
       "  <tbody>\n",
       "    <tr>\n",
       "      <th>0</th>\n",
       "      <td>../../age_detection/age_gender_race/65_0_0_201...</td>\n",
       "      <td>65</td>\n",
       "      <td>5</td>\n",
       "      <td>0</td>\n",
       "      <td>0</td>\n",
       "    </tr>\n",
       "    <tr>\n",
       "      <th>1</th>\n",
       "      <td>../../age_detection/age_gender_race/71_0_0_201...</td>\n",
       "      <td>71</td>\n",
       "      <td>6</td>\n",
       "      <td>0</td>\n",
       "      <td>0</td>\n",
       "    </tr>\n",
       "    <tr>\n",
       "      <th>2</th>\n",
       "      <td>../../age_detection/age_gender_race/38_0_1_201...</td>\n",
       "      <td>38</td>\n",
       "      <td>4</td>\n",
       "      <td>0</td>\n",
       "      <td>1</td>\n",
       "    </tr>\n",
       "    <tr>\n",
       "      <th>3</th>\n",
       "      <td>../../age_detection/age_gender_race/16_0_0_201...</td>\n",
       "      <td>16</td>\n",
       "      <td>2</td>\n",
       "      <td>0</td>\n",
       "      <td>0</td>\n",
       "    </tr>\n",
       "    <tr>\n",
       "      <th>4</th>\n",
       "      <td>../../age_detection/age_gender_race/1_1_4_2017...</td>\n",
       "      <td>1</td>\n",
       "      <td>0</td>\n",
       "      <td>1</td>\n",
       "      <td>4</td>\n",
       "    </tr>\n",
       "    <tr>\n",
       "      <th>5</th>\n",
       "      <td>../../age_detection/age_gender_race/60_0_3_201...</td>\n",
       "      <td>60</td>\n",
       "      <td>5</td>\n",
       "      <td>0</td>\n",
       "      <td>3</td>\n",
       "    </tr>\n",
       "    <tr>\n",
       "      <th>6</th>\n",
       "      <td>../../age_detection/age_gender_race/26_1_2_201...</td>\n",
       "      <td>26</td>\n",
       "      <td>3</td>\n",
       "      <td>1</td>\n",
       "      <td>2</td>\n",
       "    </tr>\n",
       "    <tr>\n",
       "      <th>7</th>\n",
       "      <td>../../age_detection/age_gender_race/22_1_2_201...</td>\n",
       "      <td>22</td>\n",
       "      <td>3</td>\n",
       "      <td>1</td>\n",
       "      <td>2</td>\n",
       "    </tr>\n",
       "    <tr>\n",
       "      <th>8</th>\n",
       "      <td>../../age_detection/age_gender_race/1_0_2_2016...</td>\n",
       "      <td>1</td>\n",
       "      <td>0</td>\n",
       "      <td>0</td>\n",
       "      <td>2</td>\n",
       "    </tr>\n",
       "    <tr>\n",
       "      <th>9</th>\n",
       "      <td>../../age_detection/age_gender_race/32_0_0_201...</td>\n",
       "      <td>32</td>\n",
       "      <td>4</td>\n",
       "      <td>0</td>\n",
       "      <td>0</td>\n",
       "    </tr>\n",
       "  </tbody>\n",
       "</table>\n",
       "</div>"
      ],
      "text/plain": [
       "                                               image  age  target_age  \\\n",
       "0  ../../age_detection/age_gender_race/65_0_0_201...   65           5   \n",
       "1  ../../age_detection/age_gender_race/71_0_0_201...   71           6   \n",
       "2  ../../age_detection/age_gender_race/38_0_1_201...   38           4   \n",
       "3  ../../age_detection/age_gender_race/16_0_0_201...   16           2   \n",
       "4  ../../age_detection/age_gender_race/1_1_4_2017...    1           0   \n",
       "5  ../../age_detection/age_gender_race/60_0_3_201...   60           5   \n",
       "6  ../../age_detection/age_gender_race/26_1_2_201...   26           3   \n",
       "7  ../../age_detection/age_gender_race/22_1_2_201...   22           3   \n",
       "8  ../../age_detection/age_gender_race/1_0_2_2016...    1           0   \n",
       "9  ../../age_detection/age_gender_race/32_0_0_201...   32           4   \n",
       "\n",
       "  target_gender target_race  \n",
       "0             0           0  \n",
       "1             0           0  \n",
       "2             0           1  \n",
       "3             0           0  \n",
       "4             1           4  \n",
       "5             0           3  \n",
       "6             1           2  \n",
       "7             1           2  \n",
       "8             0           2  \n",
       "9             0           0  "
      ]
     },
     "execution_count": 13,
     "metadata": {},
     "output_type": "execute_result"
    }
   ],
   "source": [
    "faces_ages_df.head(10)"
   ]
  },
  {
   "cell_type": "markdown",
   "metadata": {},
   "source": [
    "### Data Augmentation"
   ]
  },
  {
   "cell_type": "code",
   "execution_count": 14,
   "metadata": {},
   "outputs": [
    {
     "data": {
      "text/html": [
       "<div>\n",
       "<style scoped>\n",
       "    .dataframe tbody tr th:only-of-type {\n",
       "        vertical-align: middle;\n",
       "    }\n",
       "\n",
       "    .dataframe tbody tr th {\n",
       "        vertical-align: top;\n",
       "    }\n",
       "\n",
       "    .dataframe thead th {\n",
       "        text-align: right;\n",
       "    }\n",
       "</style>\n",
       "<table border=\"1\" class=\"dataframe\">\n",
       "  <thead>\n",
       "    <tr style=\"text-align: right;\">\n",
       "      <th></th>\n",
       "      <th>image</th>\n",
       "      <th>age</th>\n",
       "      <th>target_age</th>\n",
       "      <th>target_gender</th>\n",
       "      <th>target_race</th>\n",
       "    </tr>\n",
       "  </thead>\n",
       "  <tbody>\n",
       "  </tbody>\n",
       "</table>\n",
       "</div>"
      ],
      "text/plain": [
       "Empty DataFrame\n",
       "Columns: [image, age, target_age, target_gender, target_race]\n",
       "Index: []"
      ]
     },
     "execution_count": 14,
     "metadata": {},
     "output_type": "execute_result"
    }
   ],
   "source": [
    "# Making a new folder to save all augmented images as a new dataset.\n",
    "new_path = \"../../age_detection/new_face_dataset\"\n",
    "path = '../../age_detection/'\n",
    "train_df = faces_ages_df\n",
    "train_aug_df = pd.DataFrame(columns=train_df.columns)\n",
    "train_aug_df"
   ]
  },
  {
   "cell_type": "code",
   "execution_count": 15,
   "metadata": {},
   "outputs": [
    {
     "name": "stderr",
     "output_type": "stream",
     "text": [
      "  2%|▏         | 501/23708 [01:23<1:00:43,  6.37it/s]"
     ]
    },
    {
     "name": "stdout",
     "output_type": "stream",
     "text": [
      "Images augmented: 500 of 23708\n"
     ]
    },
    {
     "name": "stderr",
     "output_type": "stream",
     "text": [
      "  4%|▍         | 1001/23708 [02:46<1:04:58,  5.83it/s]"
     ]
    },
    {
     "name": "stdout",
     "output_type": "stream",
     "text": [
      "Images augmented: 1000 of 23708\n"
     ]
    },
    {
     "name": "stderr",
     "output_type": "stream",
     "text": [
      "  6%|▋         | 1500/23708 [04:15<1:07:09,  5.51it/s]"
     ]
    },
    {
     "name": "stdout",
     "output_type": "stream",
     "text": [
      "Images augmented: 1500 of 23708\n"
     ]
    },
    {
     "name": "stderr",
     "output_type": "stream",
     "text": [
      "  8%|▊         | 2001/23708 [05:43<59:36,  6.07it/s]  "
     ]
    },
    {
     "name": "stdout",
     "output_type": "stream",
     "text": [
      "Images augmented: 2000 of 23708\n"
     ]
    },
    {
     "name": "stderr",
     "output_type": "stream",
     "text": [
      " 11%|█         | 2500/23708 [07:15<59:03,  5.99it/s]  "
     ]
    },
    {
     "name": "stdout",
     "output_type": "stream",
     "text": [
      "Images augmented: 2500 of 23708\n"
     ]
    },
    {
     "name": "stderr",
     "output_type": "stream",
     "text": [
      " 13%|█▎        | 3000/23708 [09:11<1:27:01,  3.97it/s]"
     ]
    },
    {
     "name": "stdout",
     "output_type": "stream",
     "text": [
      "Images augmented: 3000 of 23708\n"
     ]
    },
    {
     "name": "stderr",
     "output_type": "stream",
     "text": [
      " 15%|█▍        | 3501/23708 [11:33<1:37:28,  3.46it/s]"
     ]
    },
    {
     "name": "stdout",
     "output_type": "stream",
     "text": [
      "Images augmented: 3500 of 23708\n"
     ]
    },
    {
     "name": "stderr",
     "output_type": "stream",
     "text": [
      " 17%|█▋        | 4000/23708 [14:06<2:34:44,  2.12it/s]"
     ]
    },
    {
     "name": "stdout",
     "output_type": "stream",
     "text": [
      "Images augmented: 4000 of 23708\n"
     ]
    },
    {
     "name": "stderr",
     "output_type": "stream",
     "text": [
      " 19%|█▉        | 4500/23708 [16:32<2:02:30,  2.61it/s]"
     ]
    },
    {
     "name": "stdout",
     "output_type": "stream",
     "text": [
      "Images augmented: 4500 of 23708\n"
     ]
    },
    {
     "name": "stderr",
     "output_type": "stream",
     "text": [
      " 21%|██        | 5000/23708 [19:07<1:23:35,  3.73it/s]"
     ]
    },
    {
     "name": "stdout",
     "output_type": "stream",
     "text": [
      "Images augmented: 5000 of 23708\n"
     ]
    },
    {
     "name": "stderr",
     "output_type": "stream",
     "text": [
      " 23%|██▎       | 5500/23708 [21:33<1:26:56,  3.49it/s]"
     ]
    },
    {
     "name": "stdout",
     "output_type": "stream",
     "text": [
      "Images augmented: 5500 of 23708\n"
     ]
    },
    {
     "name": "stderr",
     "output_type": "stream",
     "text": [
      " 25%|██▌       | 6001/23708 [24:21<1:09:59,  4.22it/s]"
     ]
    },
    {
     "name": "stdout",
     "output_type": "stream",
     "text": [
      "Images augmented: 6000 of 23708\n"
     ]
    },
    {
     "name": "stderr",
     "output_type": "stream",
     "text": [
      " 27%|██▋       | 6500/23708 [26:49<1:18:20,  3.66it/s]"
     ]
    },
    {
     "name": "stdout",
     "output_type": "stream",
     "text": [
      "Images augmented: 6500 of 23708\n"
     ]
    },
    {
     "name": "stderr",
     "output_type": "stream",
     "text": [
      " 30%|██▉       | 7000/23708 [29:23<1:23:58,  3.32it/s]"
     ]
    },
    {
     "name": "stdout",
     "output_type": "stream",
     "text": [
      "Images augmented: 7000 of 23708\n"
     ]
    },
    {
     "name": "stderr",
     "output_type": "stream",
     "text": [
      " 32%|███▏      | 7501/23708 [31:52<1:22:32,  3.27it/s]"
     ]
    },
    {
     "name": "stdout",
     "output_type": "stream",
     "text": [
      "Images augmented: 7500 of 23708\n"
     ]
    },
    {
     "name": "stderr",
     "output_type": "stream",
     "text": [
      " 34%|███▎      | 8000/23708 [34:42<1:18:05,  3.35it/s]"
     ]
    },
    {
     "name": "stdout",
     "output_type": "stream",
     "text": [
      "Images augmented: 8000 of 23708\n"
     ]
    },
    {
     "name": "stderr",
     "output_type": "stream",
     "text": [
      " 36%|███▌      | 8500/23708 [37:33<1:16:57,  3.29it/s]"
     ]
    },
    {
     "name": "stdout",
     "output_type": "stream",
     "text": [
      "Images augmented: 8500 of 23708\n"
     ]
    },
    {
     "name": "stderr",
     "output_type": "stream",
     "text": [
      " 38%|███▊      | 9000/23708 [40:23<1:07:00,  3.66it/s]"
     ]
    },
    {
     "name": "stdout",
     "output_type": "stream",
     "text": [
      "Images augmented: 9000 of 23708\n"
     ]
    },
    {
     "name": "stderr",
     "output_type": "stream",
     "text": [
      " 40%|████      | 9500/23708 [43:18<1:20:48,  2.93it/s]"
     ]
    },
    {
     "name": "stdout",
     "output_type": "stream",
     "text": [
      "Images augmented: 9500 of 23708\n"
     ]
    },
    {
     "name": "stderr",
     "output_type": "stream",
     "text": [
      " 42%|████▏     | 10000/23708 [46:00<1:17:39,  2.94it/s]"
     ]
    },
    {
     "name": "stdout",
     "output_type": "stream",
     "text": [
      "Images augmented: 10000 of 23708\n"
     ]
    },
    {
     "name": "stderr",
     "output_type": "stream",
     "text": [
      " 44%|████▍     | 10500/23708 [48:53<1:15:58,  2.90it/s]"
     ]
    },
    {
     "name": "stdout",
     "output_type": "stream",
     "text": [
      "Images augmented: 10500 of 23708\n"
     ]
    },
    {
     "name": "stderr",
     "output_type": "stream",
     "text": [
      " 46%|████▋     | 11000/23708 [52:04<1:14:57,  2.83it/s]"
     ]
    },
    {
     "name": "stdout",
     "output_type": "stream",
     "text": [
      "Images augmented: 11000 of 23708\n"
     ]
    },
    {
     "name": "stderr",
     "output_type": "stream",
     "text": [
      " 49%|████▊     | 11500/23708 [55:09<51:31,  3.95it/s]  "
     ]
    },
    {
     "name": "stdout",
     "output_type": "stream",
     "text": [
      "Images augmented: 11500 of 23708\n"
     ]
    },
    {
     "name": "stderr",
     "output_type": "stream",
     "text": [
      " 51%|█████     | 12000/23708 [58:00<48:09,  4.05it/s]  "
     ]
    },
    {
     "name": "stdout",
     "output_type": "stream",
     "text": [
      "Images augmented: 12000 of 23708\n"
     ]
    },
    {
     "name": "stderr",
     "output_type": "stream",
     "text": [
      " 53%|█████▎    | 12500/23708 [1:00:52<1:34:59,  1.97it/s]"
     ]
    },
    {
     "name": "stdout",
     "output_type": "stream",
     "text": [
      "Images augmented: 12500 of 23708\n"
     ]
    },
    {
     "name": "stderr",
     "output_type": "stream",
     "text": [
      " 55%|█████▍    | 13000/23708 [1:03:55<1:00:39,  2.94it/s]"
     ]
    },
    {
     "name": "stdout",
     "output_type": "stream",
     "text": [
      "Images augmented: 13000 of 23708\n"
     ]
    },
    {
     "name": "stderr",
     "output_type": "stream",
     "text": [
      " 57%|█████▋    | 13500/23708 [1:07:18<50:29,  3.37it/s]  "
     ]
    },
    {
     "name": "stdout",
     "output_type": "stream",
     "text": [
      "Images augmented: 13500 of 23708\n"
     ]
    },
    {
     "name": "stderr",
     "output_type": "stream",
     "text": [
      " 59%|█████▉    | 14000/23708 [1:10:37<2:11:09,  1.23it/s]"
     ]
    },
    {
     "name": "stdout",
     "output_type": "stream",
     "text": [
      "Images augmented: 14000 of 23708\n"
     ]
    },
    {
     "name": "stderr",
     "output_type": "stream",
     "text": [
      " 61%|██████    | 14500/23708 [1:13:41<49:51,  3.08it/s]  "
     ]
    },
    {
     "name": "stdout",
     "output_type": "stream",
     "text": [
      "Images augmented: 14500 of 23708\n"
     ]
    },
    {
     "name": "stderr",
     "output_type": "stream",
     "text": [
      " 63%|██████▎   | 15000/23708 [1:16:46<38:46,  3.74it/s]  "
     ]
    },
    {
     "name": "stdout",
     "output_type": "stream",
     "text": [
      "Images augmented: 15000 of 23708\n"
     ]
    },
    {
     "name": "stderr",
     "output_type": "stream",
     "text": [
      " 65%|██████▌   | 15500/23708 [1:19:54<48:49,  2.80it/s]  "
     ]
    },
    {
     "name": "stdout",
     "output_type": "stream",
     "text": [
      "Images augmented: 15500 of 23708\n"
     ]
    },
    {
     "name": "stderr",
     "output_type": "stream",
     "text": [
      " 67%|██████▋   | 16000/23708 [1:23:19<59:53,  2.14it/s]  "
     ]
    },
    {
     "name": "stdout",
     "output_type": "stream",
     "text": [
      "Images augmented: 16000 of 23708\n"
     ]
    },
    {
     "name": "stderr",
     "output_type": "stream",
     "text": [
      " 70%|██████▉   | 16500/23708 [1:26:45<1:00:23,  1.99it/s]"
     ]
    },
    {
     "name": "stdout",
     "output_type": "stream",
     "text": [
      "Images augmented: 16500 of 23708\n"
     ]
    },
    {
     "name": "stderr",
     "output_type": "stream",
     "text": [
      " 72%|███████▏  | 17000/23708 [1:30:27<39:10,  2.85it/s]  "
     ]
    },
    {
     "name": "stdout",
     "output_type": "stream",
     "text": [
      "Images augmented: 17000 of 23708\n"
     ]
    },
    {
     "name": "stderr",
     "output_type": "stream",
     "text": [
      " 74%|███████▍  | 17500/23708 [1:33:28<36:43,  2.82it/s]  "
     ]
    },
    {
     "name": "stdout",
     "output_type": "stream",
     "text": [
      "Images augmented: 17500 of 23708\n"
     ]
    },
    {
     "name": "stderr",
     "output_type": "stream",
     "text": [
      " 76%|███████▌  | 18000/23708 [1:36:18<33:28,  2.84it/s]  "
     ]
    },
    {
     "name": "stdout",
     "output_type": "stream",
     "text": [
      "Images augmented: 18000 of 23708\n"
     ]
    },
    {
     "name": "stderr",
     "output_type": "stream",
     "text": [
      " 78%|███████▊  | 18500/23708 [1:39:52<53:31,  1.62it/s]  "
     ]
    },
    {
     "name": "stdout",
     "output_type": "stream",
     "text": [
      "Images augmented: 18500 of 23708\n"
     ]
    },
    {
     "name": "stderr",
     "output_type": "stream",
     "text": [
      " 80%|████████  | 19000/23708 [1:43:21<22:34,  3.48it/s]  "
     ]
    },
    {
     "name": "stdout",
     "output_type": "stream",
     "text": [
      "Images augmented: 19000 of 23708\n"
     ]
    },
    {
     "name": "stderr",
     "output_type": "stream",
     "text": [
      " 82%|████████▏ | 19500/23708 [1:46:45<18:51,  3.72it/s]  "
     ]
    },
    {
     "name": "stdout",
     "output_type": "stream",
     "text": [
      "Images augmented: 19500 of 23708\n"
     ]
    },
    {
     "name": "stderr",
     "output_type": "stream",
     "text": [
      " 84%|████████▍ | 20000/23708 [1:50:05<34:58,  1.77it/s]  "
     ]
    },
    {
     "name": "stdout",
     "output_type": "stream",
     "text": [
      "Images augmented: 20000 of 23708\n"
     ]
    },
    {
     "name": "stderr",
     "output_type": "stream",
     "text": [
      " 86%|████████▋ | 20500/23708 [1:53:19<34:12,  1.56it/s]"
     ]
    },
    {
     "name": "stdout",
     "output_type": "stream",
     "text": [
      "Images augmented: 20500 of 23708\n"
     ]
    },
    {
     "name": "stderr",
     "output_type": "stream",
     "text": [
      " 89%|████████▊ | 21000/23708 [1:56:51<16:59,  2.66it/s]"
     ]
    },
    {
     "name": "stdout",
     "output_type": "stream",
     "text": [
      "Images augmented: 21000 of 23708\n"
     ]
    },
    {
     "name": "stderr",
     "output_type": "stream",
     "text": [
      " 91%|█████████ | 21500/23708 [2:00:24<20:06,  1.83it/s]"
     ]
    },
    {
     "name": "stdout",
     "output_type": "stream",
     "text": [
      "Images augmented: 21500 of 23708\n"
     ]
    },
    {
     "name": "stderr",
     "output_type": "stream",
     "text": [
      " 93%|█████████▎| 22000/23708 [2:03:42<13:24,  2.12it/s]"
     ]
    },
    {
     "name": "stdout",
     "output_type": "stream",
     "text": [
      "Images augmented: 22000 of 23708\n"
     ]
    },
    {
     "name": "stderr",
     "output_type": "stream",
     "text": [
      " 95%|█████████▍| 22500/23708 [2:07:08<07:22,  2.73it/s]"
     ]
    },
    {
     "name": "stdout",
     "output_type": "stream",
     "text": [
      "Images augmented: 22500 of 23708\n"
     ]
    },
    {
     "name": "stderr",
     "output_type": "stream",
     "text": [
      " 97%|█████████▋| 23000/23708 [2:10:48<04:23,  2.69it/s]"
     ]
    },
    {
     "name": "stdout",
     "output_type": "stream",
     "text": [
      "Images augmented: 23000 of 23708\n"
     ]
    },
    {
     "name": "stderr",
     "output_type": "stream",
     "text": [
      " 99%|█████████▉| 23500/23708 [2:14:31<00:57,  3.60it/s]"
     ]
    },
    {
     "name": "stdout",
     "output_type": "stream",
     "text": [
      "Images augmented: 23500 of 23708\n"
     ]
    },
    {
     "name": "stderr",
     "output_type": "stream",
     "text": [
      "100%|██████████| 23708/23708 [2:15:54<00:00,  2.91it/s]"
     ]
    },
    {
     "name": "stdout",
     "output_type": "stream",
     "text": [
      "\n",
      "Done augmenting all training dataset images and saved them into combined_faces_train_augmented.\n"
     ]
    },
    {
     "name": "stderr",
     "output_type": "stream",
     "text": [
      "\n"
     ]
    }
   ],
   "source": [
    "# Running a for-loop through all the images in train_df and augmenting them.\n",
    "\n",
    "for i in tqdm(range(train_df.shape[0])):\n",
    "\n",
    "    # Reading the image filepath, name, age and target values.\n",
    "    img_path = train_df.loc[i, 'image']\n",
    "    img_name = img_path.split(\"/\")[-1]\n",
    "    img_age = train_df.loc[i, 'age']\n",
    "    img_target_race = train_df.loc[i,'target_race']\n",
    "    img_target_age = train_df.loc[i, 'target_age']\n",
    "    img_target_gender = train_df.loc[i,'target_gender']\n",
    "\n",
    "    # Reading the image from the filepath and converting it to proper colour format in cv2.\n",
    "    img = cv2.imread(img_path)\n",
    "    img = cv2.cvtColor(img, cv2.COLOR_RGB2BGR)\n",
    "\n",
    "    # Creating the augmented versions of the image as shown above.\n",
    "    img_rot_pos40 = ndimage.rotate(img, 40, reshape=False)\n",
    "    img_rot_pos20 = ndimage.rotate(img, 20, reshape=False)\n",
    "    img_rot_neg20 = ndimage.rotate(img, -20, reshape=False)\n",
    "    img_rot_neg40 = ndimage.rotate(img, -40, reshape=False)\n",
    "    img_fliplr = np.fliplr(img)\n",
    "    img_fliplr_rot_pos40 = ndimage.rotate(img_fliplr, 40, reshape=False)\n",
    "    img_fliplr_rot_pos20 = ndimage.rotate(img_fliplr, 20, reshape=False)\n",
    "    img_fliplr_rot_neg20 = ndimage.rotate(img_fliplr, -20, reshape=False)\n",
    "    img_fliplr_rot_neg40 = ndimage.rotate(img_fliplr, -40, reshape=False)\n",
    "\n",
    "    # Creating new image names for the augmented images.\n",
    "    img_name_wo_jpg = img_name.split(\".\")[0]\n",
    "    img_name2 = img_name_wo_jpg+\"_rot_pos40.jpg\"\n",
    "    img_name3 = img_name_wo_jpg+\"_rot_pos20.jpg\"\n",
    "    img_name4 = img_name_wo_jpg+\"_rot_neg20.jpg\"\n",
    "    img_name5 = img_name_wo_jpg+\"_rot_neg40.jpg\"\n",
    "    img_name6 = img_name_wo_jpg+\"_fliplr.jpg\"\n",
    "    img_name7 = img_name_wo_jpg+\"_fliplr_rot_pos40.jpg\"\n",
    "    img_name8 = img_name_wo_jpg+\"_fliplr_rot_pos20.jpg\"\n",
    "    img_name9 = img_name_wo_jpg+\"_fliplr_rot_neg20.jpg\"\n",
    "    img_name10 = img_name_wo_jpg+\"_fliplr_rot_neg40.jpg\"\n",
    "\n",
    "    # Saving the original image and all the augmented images into a new folder combined_faces_train_augmented.\n",
    "    img_dest1 = os.path.join(new_path, img_name)\n",
    "    cv2.imwrite(img_dest1, img, [int(cv2.IMWRITE_JPEG_QUALITY), 100])\n",
    "    img_dest2 = os.path.join(new_path, img_name2)\n",
    "    cv2.imwrite(img_dest2, img_rot_pos40, [int(cv2.IMWRITE_JPEG_QUALITY), 100])\n",
    "    img_dest3 = os.path.join(new_path, img_name3)\n",
    "    cv2.imwrite(img_dest3, img_rot_pos20, [int(cv2.IMWRITE_JPEG_QUALITY), 100])\n",
    "    img_dest4 = os.path.join(new_path, img_name4)\n",
    "    cv2.imwrite(img_dest4, img_rot_neg20, [int(cv2.IMWRITE_JPEG_QUALITY), 100])\n",
    "    img_dest5 = os.path.join(new_path, img_name5)\n",
    "    cv2.imwrite(img_dest5, img_rot_neg40, [int(cv2.IMWRITE_JPEG_QUALITY), 100])\n",
    "    img_dest6 = os.path.join(new_path, img_name6)\n",
    "    cv2.imwrite(img_dest6, img_fliplr, [int(cv2.IMWRITE_JPEG_QUALITY), 100])\n",
    "    img_dest7 = os.path.join(new_path, img_name7)\n",
    "    cv2.imwrite(img_dest7, img_fliplr_rot_pos40, [int(cv2.IMWRITE_JPEG_QUALITY), 100])\n",
    "    img_dest8 = os.path.join(new_path, img_name8)\n",
    "    cv2.imwrite(img_dest8, img_fliplr_rot_pos20, [int(cv2.IMWRITE_JPEG_QUALITY), 100])\n",
    "    img_dest9 = os.path.join(new_path, img_name9)\n",
    "    cv2.imwrite(img_dest9, img_fliplr_rot_neg20, [int(cv2.IMWRITE_JPEG_QUALITY), 100])\n",
    "    img_dest10 = os.path.join(new_path, img_name10)\n",
    "    cv2.imwrite(img_dest10, img_fliplr_rot_neg40, [int(cv2.IMWRITE_JPEG_QUALITY), 100])\n",
    "\n",
    "    # Creating a new temp_df for the augmented images (similar to train_df).\n",
    "    temp_df = pd.DataFrame(columns=train_df.columns)\n",
    "    temp_df.loc[1] = [path+img_dest1, img_age, img_target_age,img_target_gender,img_target_race]\n",
    "    temp_df.loc[2] = [path+img_dest2, img_age, img_target_age,img_target_gender,img_target_race]\n",
    "    temp_df.loc[3] = [path+img_dest3, img_age, img_target_age,img_target_gender,img_target_race]\n",
    "    temp_df.loc[4] = [path+img_dest4, img_age, img_target_age,img_target_gender,img_target_race]\n",
    "    temp_df.loc[5] = [path+img_dest5, img_age, img_target_age,img_target_gender,img_target_race]\n",
    "    temp_df.loc[6] = [path+img_dest6, img_age, img_target_age,img_target_gender,img_target_race]\n",
    "    temp_df.loc[7] = [path+img_dest7, img_age, img_target_age,img_target_gender,img_target_race]\n",
    "    temp_df.loc[8] = [path+img_dest8, img_age, img_target_age,img_target_gender,img_target_race]\n",
    "    temp_df.loc[9] = [path+img_dest9, img_age, img_target_age,img_target_gender,img_target_race]\n",
    "    temp_df.loc[10] = [path+img_dest10, img_age, img_target_age,img_target_race,img_target_gender]\n",
    "\n",
    "    # Concatenating temp_df with the new train_aug_df.\n",
    "    train_aug_df = pd.concat([train_aug_df, temp_df], axis=0, ignore_index=True)\n",
    "\n",
    "    # Keeping track of progress and printing relevant statements for the user.\n",
    "    if (i+1) % 500 == 0:\n",
    "        print(f\"Images augmented: {i+1} of {train_df.shape[0]}\")\n",
    "\n",
    "print(\"\\nDone augmenting all training dataset images and saved them into combined_faces_train_augmented.\")"
   ]
  },
  {
   "cell_type": "code",
   "execution_count": 17,
   "metadata": {},
   "outputs": [
    {
     "data": {
      "text/html": [
       "<div>\n",
       "<style scoped>\n",
       "    .dataframe tbody tr th:only-of-type {\n",
       "        vertical-align: middle;\n",
       "    }\n",
       "\n",
       "    .dataframe tbody tr th {\n",
       "        vertical-align: top;\n",
       "    }\n",
       "\n",
       "    .dataframe thead th {\n",
       "        text-align: right;\n",
       "    }\n",
       "</style>\n",
       "<table border=\"1\" class=\"dataframe\">\n",
       "  <thead>\n",
       "    <tr style=\"text-align: right;\">\n",
       "      <th></th>\n",
       "      <th>image</th>\n",
       "      <th>age</th>\n",
       "      <th>target_age</th>\n",
       "      <th>target_gender</th>\n",
       "      <th>target_race</th>\n",
       "    </tr>\n",
       "  </thead>\n",
       "  <tbody>\n",
       "    <tr>\n",
       "      <th>0</th>\n",
       "      <td>../../age_detection/../../age_detection/new_fa...</td>\n",
       "      <td>65</td>\n",
       "      <td>5</td>\n",
       "      <td>0</td>\n",
       "      <td>0</td>\n",
       "    </tr>\n",
       "    <tr>\n",
       "      <th>1</th>\n",
       "      <td>../../age_detection/../../age_detection/new_fa...</td>\n",
       "      <td>65</td>\n",
       "      <td>5</td>\n",
       "      <td>0</td>\n",
       "      <td>0</td>\n",
       "    </tr>\n",
       "    <tr>\n",
       "      <th>2</th>\n",
       "      <td>../../age_detection/../../age_detection/new_fa...</td>\n",
       "      <td>65</td>\n",
       "      <td>5</td>\n",
       "      <td>0</td>\n",
       "      <td>0</td>\n",
       "    </tr>\n",
       "    <tr>\n",
       "      <th>3</th>\n",
       "      <td>../../age_detection/../../age_detection/new_fa...</td>\n",
       "      <td>65</td>\n",
       "      <td>5</td>\n",
       "      <td>0</td>\n",
       "      <td>0</td>\n",
       "    </tr>\n",
       "    <tr>\n",
       "      <th>4</th>\n",
       "      <td>../../age_detection/../../age_detection/new_fa...</td>\n",
       "      <td>65</td>\n",
       "      <td>5</td>\n",
       "      <td>0</td>\n",
       "      <td>0</td>\n",
       "    </tr>\n",
       "    <tr>\n",
       "      <th>...</th>\n",
       "      <td>...</td>\n",
       "      <td>...</td>\n",
       "      <td>...</td>\n",
       "      <td>...</td>\n",
       "      <td>...</td>\n",
       "    </tr>\n",
       "    <tr>\n",
       "      <th>95</th>\n",
       "      <td>../../age_detection/../../age_detection/new_fa...</td>\n",
       "      <td>32</td>\n",
       "      <td>4</td>\n",
       "      <td>0</td>\n",
       "      <td>0</td>\n",
       "    </tr>\n",
       "    <tr>\n",
       "      <th>96</th>\n",
       "      <td>../../age_detection/../../age_detection/new_fa...</td>\n",
       "      <td>32</td>\n",
       "      <td>4</td>\n",
       "      <td>0</td>\n",
       "      <td>0</td>\n",
       "    </tr>\n",
       "    <tr>\n",
       "      <th>97</th>\n",
       "      <td>../../age_detection/../../age_detection/new_fa...</td>\n",
       "      <td>32</td>\n",
       "      <td>4</td>\n",
       "      <td>0</td>\n",
       "      <td>0</td>\n",
       "    </tr>\n",
       "    <tr>\n",
       "      <th>98</th>\n",
       "      <td>../../age_detection/../../age_detection/new_fa...</td>\n",
       "      <td>32</td>\n",
       "      <td>4</td>\n",
       "      <td>0</td>\n",
       "      <td>0</td>\n",
       "    </tr>\n",
       "    <tr>\n",
       "      <th>99</th>\n",
       "      <td>../../age_detection/../../age_detection/new_fa...</td>\n",
       "      <td>32</td>\n",
       "      <td>4</td>\n",
       "      <td>0</td>\n",
       "      <td>0</td>\n",
       "    </tr>\n",
       "  </tbody>\n",
       "</table>\n",
       "<p>100 rows × 5 columns</p>\n",
       "</div>"
      ],
      "text/plain": [
       "                                                image age target_age  \\\n",
       "0   ../../age_detection/../../age_detection/new_fa...  65          5   \n",
       "1   ../../age_detection/../../age_detection/new_fa...  65          5   \n",
       "2   ../../age_detection/../../age_detection/new_fa...  65          5   \n",
       "3   ../../age_detection/../../age_detection/new_fa...  65          5   \n",
       "4   ../../age_detection/../../age_detection/new_fa...  65          5   \n",
       "..                                                ...  ..        ...   \n",
       "95  ../../age_detection/../../age_detection/new_fa...  32          4   \n",
       "96  ../../age_detection/../../age_detection/new_fa...  32          4   \n",
       "97  ../../age_detection/../../age_detection/new_fa...  32          4   \n",
       "98  ../../age_detection/../../age_detection/new_fa...  32          4   \n",
       "99  ../../age_detection/../../age_detection/new_fa...  32          4   \n",
       "\n",
       "   target_gender target_race  \n",
       "0              0           0  \n",
       "1              0           0  \n",
       "2              0           0  \n",
       "3              0           0  \n",
       "4              0           0  \n",
       "..           ...         ...  \n",
       "95             0           0  \n",
       "96             0           0  \n",
       "97             0           0  \n",
       "98             0           0  \n",
       "99             0           0  \n",
       "\n",
       "[100 rows x 5 columns]"
      ]
     },
     "execution_count": 17,
     "metadata": {},
     "output_type": "execute_result"
    }
   ],
   "source": [
    "train_aug_df.head(100)"
   ]
  },
  {
   "cell_type": "code",
   "execution_count": 18,
   "metadata": {},
   "outputs": [
    {
     "data": {
      "text/plain": [
       "(237080, 5)"
      ]
     },
     "execution_count": 18,
     "metadata": {},
     "output_type": "execute_result"
    }
   ],
   "source": [
    "train_aug_df.shape"
   ]
  },
  {
   "cell_type": "code",
   "execution_count": 20,
   "metadata": {},
   "outputs": [],
   "source": [
    "from sklearn.utils import shuffle\n",
    "train_aug_df = shuffle(train_aug_df).reset_index(drop=True)"
   ]
  },
  {
   "cell_type": "code",
   "execution_count": 21,
   "metadata": {},
   "outputs": [
    {
     "data": {
      "text/html": [
       "<div>\n",
       "<style scoped>\n",
       "    .dataframe tbody tr th:only-of-type {\n",
       "        vertical-align: middle;\n",
       "    }\n",
       "\n",
       "    .dataframe tbody tr th {\n",
       "        vertical-align: top;\n",
       "    }\n",
       "\n",
       "    .dataframe thead th {\n",
       "        text-align: right;\n",
       "    }\n",
       "</style>\n",
       "<table border=\"1\" class=\"dataframe\">\n",
       "  <thead>\n",
       "    <tr style=\"text-align: right;\">\n",
       "      <th></th>\n",
       "      <th>image</th>\n",
       "      <th>age</th>\n",
       "      <th>target_age</th>\n",
       "      <th>target_gender</th>\n",
       "      <th>target_race</th>\n",
       "    </tr>\n",
       "  </thead>\n",
       "  <tbody>\n",
       "    <tr>\n",
       "      <th>0</th>\n",
       "      <td>../../age_detection/../../age_detection/new_fa...</td>\n",
       "      <td>36</td>\n",
       "      <td>4</td>\n",
       "      <td>1</td>\n",
       "      <td>0</td>\n",
       "    </tr>\n",
       "    <tr>\n",
       "      <th>1</th>\n",
       "      <td>../../age_detection/../../age_detection/new_fa...</td>\n",
       "      <td>2</td>\n",
       "      <td>0</td>\n",
       "      <td>1</td>\n",
       "      <td>3</td>\n",
       "    </tr>\n",
       "    <tr>\n",
       "      <th>2</th>\n",
       "      <td>../../age_detection/../../age_detection/new_fa...</td>\n",
       "      <td>1</td>\n",
       "      <td>0</td>\n",
       "      <td>1</td>\n",
       "      <td>1</td>\n",
       "    </tr>\n",
       "    <tr>\n",
       "      <th>3</th>\n",
       "      <td>../../age_detection/../../age_detection/new_fa...</td>\n",
       "      <td>10</td>\n",
       "      <td>2</td>\n",
       "      <td>1</td>\n",
       "      <td>3</td>\n",
       "    </tr>\n",
       "    <tr>\n",
       "      <th>4</th>\n",
       "      <td>../../age_detection/../../age_detection/new_fa...</td>\n",
       "      <td>70</td>\n",
       "      <td>6</td>\n",
       "      <td>0</td>\n",
       "      <td>1</td>\n",
       "    </tr>\n",
       "    <tr>\n",
       "      <th>5</th>\n",
       "      <td>../../age_detection/../../age_detection/new_fa...</td>\n",
       "      <td>28</td>\n",
       "      <td>4</td>\n",
       "      <td>1</td>\n",
       "      <td>3</td>\n",
       "    </tr>\n",
       "    <tr>\n",
       "      <th>6</th>\n",
       "      <td>../../age_detection/../../age_detection/new_fa...</td>\n",
       "      <td>24</td>\n",
       "      <td>3</td>\n",
       "      <td>1</td>\n",
       "      <td>4</td>\n",
       "    </tr>\n",
       "    <tr>\n",
       "      <th>7</th>\n",
       "      <td>../../age_detection/../../age_detection/new_fa...</td>\n",
       "      <td>11</td>\n",
       "      <td>2</td>\n",
       "      <td>0</td>\n",
       "      <td>4</td>\n",
       "    </tr>\n",
       "    <tr>\n",
       "      <th>8</th>\n",
       "      <td>../../age_detection/../../age_detection/new_fa...</td>\n",
       "      <td>26</td>\n",
       "      <td>3</td>\n",
       "      <td>1</td>\n",
       "      <td>4</td>\n",
       "    </tr>\n",
       "    <tr>\n",
       "      <th>9</th>\n",
       "      <td>../../age_detection/../../age_detection/new_fa...</td>\n",
       "      <td>13</td>\n",
       "      <td>2</td>\n",
       "      <td>1</td>\n",
       "      <td>4</td>\n",
       "    </tr>\n",
       "  </tbody>\n",
       "</table>\n",
       "</div>"
      ],
      "text/plain": [
       "                                               image age target_age  \\\n",
       "0  ../../age_detection/../../age_detection/new_fa...  36          4   \n",
       "1  ../../age_detection/../../age_detection/new_fa...   2          0   \n",
       "2  ../../age_detection/../../age_detection/new_fa...   1          0   \n",
       "3  ../../age_detection/../../age_detection/new_fa...  10          2   \n",
       "4  ../../age_detection/../../age_detection/new_fa...  70          6   \n",
       "5  ../../age_detection/../../age_detection/new_fa...  28          4   \n",
       "6  ../../age_detection/../../age_detection/new_fa...  24          3   \n",
       "7  ../../age_detection/../../age_detection/new_fa...  11          2   \n",
       "8  ../../age_detection/../../age_detection/new_fa...  26          3   \n",
       "9  ../../age_detection/../../age_detection/new_fa...  13          2   \n",
       "\n",
       "  target_gender target_race  \n",
       "0             1           0  \n",
       "1             1           3  \n",
       "2             1           1  \n",
       "3             1           3  \n",
       "4             0           1  \n",
       "5             1           3  \n",
       "6             1           4  \n",
       "7             0           4  \n",
       "8             1           4  \n",
       "9             1           4  "
      ]
     },
     "execution_count": 21,
     "metadata": {},
     "output_type": "execute_result"
    }
   ],
   "source": [
    "train_aug_df.head(10)"
   ]
  },
  {
   "cell_type": "code",
   "execution_count": 25,
   "metadata": {},
   "outputs": [],
   "source": [
    "train_aug_df.to_csv(\"train.csv\", index=False)"
   ]
  },
  {
   "cell_type": "code",
   "execution_count": 23,
   "metadata": {},
   "outputs": [],
   "source": [
    "def class_labels(age):\n",
    "    return age[20:]\n",
    "train_aug_df['image'] = train_aug_df['image'].map(class_labels)"
   ]
  },
  {
   "cell_type": "code",
   "execution_count": 24,
   "metadata": {},
   "outputs": [
    {
     "data": {
      "text/html": [
       "<div>\n",
       "<style scoped>\n",
       "    .dataframe tbody tr th:only-of-type {\n",
       "        vertical-align: middle;\n",
       "    }\n",
       "\n",
       "    .dataframe tbody tr th {\n",
       "        vertical-align: top;\n",
       "    }\n",
       "\n",
       "    .dataframe thead th {\n",
       "        text-align: right;\n",
       "    }\n",
       "</style>\n",
       "<table border=\"1\" class=\"dataframe\">\n",
       "  <thead>\n",
       "    <tr style=\"text-align: right;\">\n",
       "      <th></th>\n",
       "      <th>image</th>\n",
       "      <th>age</th>\n",
       "      <th>target_age</th>\n",
       "      <th>target_gender</th>\n",
       "      <th>target_race</th>\n",
       "    </tr>\n",
       "  </thead>\n",
       "  <tbody>\n",
       "    <tr>\n",
       "      <th>0</th>\n",
       "      <td>../../age_detection/new_face_dataset/36_1_0_20...</td>\n",
       "      <td>36</td>\n",
       "      <td>4</td>\n",
       "      <td>1</td>\n",
       "      <td>0</td>\n",
       "    </tr>\n",
       "    <tr>\n",
       "      <th>1</th>\n",
       "      <td>../../age_detection/new_face_dataset/2_1_3_201...</td>\n",
       "      <td>2</td>\n",
       "      <td>0</td>\n",
       "      <td>1</td>\n",
       "      <td>3</td>\n",
       "    </tr>\n",
       "    <tr>\n",
       "      <th>2</th>\n",
       "      <td>../../age_detection/new_face_dataset/1_1_1_201...</td>\n",
       "      <td>1</td>\n",
       "      <td>0</td>\n",
       "      <td>1</td>\n",
       "      <td>1</td>\n",
       "    </tr>\n",
       "    <tr>\n",
       "      <th>3</th>\n",
       "      <td>../../age_detection/new_face_dataset/10_1_3_20...</td>\n",
       "      <td>10</td>\n",
       "      <td>2</td>\n",
       "      <td>1</td>\n",
       "      <td>3</td>\n",
       "    </tr>\n",
       "    <tr>\n",
       "      <th>4</th>\n",
       "      <td>../../age_detection/new_face_dataset/70_0_1_20...</td>\n",
       "      <td>70</td>\n",
       "      <td>6</td>\n",
       "      <td>0</td>\n",
       "      <td>1</td>\n",
       "    </tr>\n",
       "  </tbody>\n",
       "</table>\n",
       "</div>"
      ],
      "text/plain": [
       "                                               image age target_age  \\\n",
       "0  ../../age_detection/new_face_dataset/36_1_0_20...  36          4   \n",
       "1  ../../age_detection/new_face_dataset/2_1_3_201...   2          0   \n",
       "2  ../../age_detection/new_face_dataset/1_1_1_201...   1          0   \n",
       "3  ../../age_detection/new_face_dataset/10_1_3_20...  10          2   \n",
       "4  ../../age_detection/new_face_dataset/70_0_1_20...  70          6   \n",
       "\n",
       "  target_gender target_race  \n",
       "0             1           0  \n",
       "1             1           3  \n",
       "2             1           1  \n",
       "3             1           3  \n",
       "4             0           1  "
      ]
     },
     "execution_count": 24,
     "metadata": {},
     "output_type": "execute_result"
    }
   ],
   "source": [
    "train_aug_df.head(5)"
   ]
  },
  {
   "cell_type": "code",
   "execution_count": null,
   "metadata": {},
   "outputs": [],
   "source": []
  }
 ],
 "metadata": {
  "kernelspec": {
   "display_name": "Python 3",
   "language": "python",
   "name": "python3"
  },
  "language_info": {
   "codemirror_mode": {
    "name": "ipython",
    "version": 3
   },
   "file_extension": ".py",
   "mimetype": "text/x-python",
   "name": "python",
   "nbconvert_exporter": "python",
   "pygments_lexer": "ipython3",
   "version": "3.8.2"
  }
 },
 "nbformat": 4,
 "nbformat_minor": 4
}
