{
 "cells": [
  {
   "cell_type": "code",
   "execution_count": 1,
   "metadata": {},
   "outputs": [],
   "source": [
    "# !git commit -m \"prediction age is completed 90%\""
   ]
  },
  {
   "cell_type": "code",
   "execution_count": 2,
   "metadata": {},
   "outputs": [],
   "source": [
    "import pandas as pd\n",
    "import numpy as np\n",
    "import cv2\n",
    "import os\n",
    "from sklearn.model_selection import train_test_split\n",
    "import tensorflow as tf\n",
    "from tensorflow.keras.models import Sequential\n",
    "from tensorflow.keras.layers import Dense\n",
    "from tensorflow.keras.layers import Conv2D, AveragePooling2D, GlobalAveragePooling2D\n",
    "from tensorflow.keras import utils\n",
    "from tensorflow.keras.callbacks import ModelCheckpoint\n",
    "np.random.seed(42)\n",
    "tf.random.set_seed(42)"
   ]
  },
  {
   "cell_type": "code",
   "execution_count": 3,
   "metadata": {},
   "outputs": [],
   "source": [
    "from keras.utils import np_utils"
   ]
  },
  {
   "cell_type": "code",
   "execution_count": 37,
   "metadata": {},
   "outputs": [],
   "source": [
    "dataset = pd.read_csv('dataset_200.csv')[500:1500]"
   ]
  },
  {
   "cell_type": "code",
   "execution_count": 38,
   "metadata": {},
   "outputs": [
    {
     "name": "stdout",
     "output_type": "stream",
     "text": [
      "../../age_detection/age_gender_race/53_1_1_20170113001807851.jpg.chip.jpg\n"
     ]
    }
   ],
   "source": [
    "s = str(dataset['image'].values[0])\n",
    "print(s)"
   ]
  },
  {
   "cell_type": "code",
   "execution_count": 39,
   "metadata": {},
   "outputs": [
    {
     "data": {
      "text/plain": [
       "(200, 200)"
      ]
     },
     "execution_count": 39,
     "metadata": {},
     "output_type": "execute_result"
    }
   ],
   "source": [
    "gray = cv2.cvtColor(cv2.imread(s), cv2.COLOR_BGR2GRAY)\n",
    "gray.shape"
   ]
  },
  {
   "cell_type": "code",
   "execution_count": 40,
   "metadata": {},
   "outputs": [
    {
     "data": {
      "text/html": [
       "<div>\n",
       "<style scoped>\n",
       "    .dataframe tbody tr th:only-of-type {\n",
       "        vertical-align: middle;\n",
       "    }\n",
       "\n",
       "    .dataframe tbody tr th {\n",
       "        vertical-align: top;\n",
       "    }\n",
       "\n",
       "    .dataframe thead th {\n",
       "        text-align: right;\n",
       "    }\n",
       "</style>\n",
       "<table border=\"1\" class=\"dataframe\">\n",
       "  <thead>\n",
       "    <tr style=\"text-align: right;\">\n",
       "      <th></th>\n",
       "      <th>image</th>\n",
       "    </tr>\n",
       "  </thead>\n",
       "  <tbody>\n",
       "    <tr>\n",
       "      <th>500</th>\n",
       "      <td>../../age_detection/age_gender_race/53_1_1_201...</td>\n",
       "    </tr>\n",
       "    <tr>\n",
       "      <th>501</th>\n",
       "      <td>../../age_detection/age_gender_race/65_1_0_201...</td>\n",
       "    </tr>\n",
       "    <tr>\n",
       "      <th>502</th>\n",
       "      <td>../../age_detection/age_gender_race/29_0_2_201...</td>\n",
       "    </tr>\n",
       "    <tr>\n",
       "      <th>503</th>\n",
       "      <td>../../age_detection/age_gender_race/26_0_0_201...</td>\n",
       "    </tr>\n",
       "    <tr>\n",
       "      <th>504</th>\n",
       "      <td>../../age_detection/age_gender_race/39_1_1_201...</td>\n",
       "    </tr>\n",
       "    <tr>\n",
       "      <th>...</th>\n",
       "      <td>...</td>\n",
       "    </tr>\n",
       "    <tr>\n",
       "      <th>1495</th>\n",
       "      <td>../../age_detection/age_gender_race/55_0_0_201...</td>\n",
       "    </tr>\n",
       "    <tr>\n",
       "      <th>1496</th>\n",
       "      <td>../../age_detection/age_gender_race/1_0_2_2016...</td>\n",
       "    </tr>\n",
       "    <tr>\n",
       "      <th>1497</th>\n",
       "      <td>../../age_detection/age_gender_race/35_1_2_201...</td>\n",
       "    </tr>\n",
       "    <tr>\n",
       "      <th>1498</th>\n",
       "      <td>../../age_detection/age_gender_race/42_1_4_201...</td>\n",
       "    </tr>\n",
       "    <tr>\n",
       "      <th>1499</th>\n",
       "      <td>../../age_detection/age_gender_race/32_0_0_201...</td>\n",
       "    </tr>\n",
       "  </tbody>\n",
       "</table>\n",
       "<p>1000 rows × 1 columns</p>\n",
       "</div>"
      ],
      "text/plain": [
       "                                                  image\n",
       "500   ../../age_detection/age_gender_race/53_1_1_201...\n",
       "501   ../../age_detection/age_gender_race/65_1_0_201...\n",
       "502   ../../age_detection/age_gender_race/29_0_2_201...\n",
       "503   ../../age_detection/age_gender_race/26_0_0_201...\n",
       "504   ../../age_detection/age_gender_race/39_1_1_201...\n",
       "...                                                 ...\n",
       "1495  ../../age_detection/age_gender_race/55_0_0_201...\n",
       "1496  ../../age_detection/age_gender_race/1_0_2_2016...\n",
       "1497  ../../age_detection/age_gender_race/35_1_2_201...\n",
       "1498  ../../age_detection/age_gender_race/42_1_4_201...\n",
       "1499  ../../age_detection/age_gender_race/32_0_0_201...\n",
       "\n",
       "[1000 rows x 1 columns]"
      ]
     },
     "execution_count": 40,
     "metadata": {},
     "output_type": "execute_result"
    }
   ],
   "source": [
    "X = dataset.drop(columns=['target_age','target_gender','target_race','age','Unnamed: 0'])\n",
    "y = dataset.drop(columns=['image','target_gender','target_race','age','Unnamed: 0'])\n",
    "X"
   ]
  },
  {
   "cell_type": "code",
   "execution_count": 41,
   "metadata": {},
   "outputs": [
    {
     "name": "stdout",
     "output_type": "stream",
     "text": [
      "(1000, 1) (1000, 1)\n"
     ]
    }
   ],
   "source": [
    "print(X.shape,y.shape)"
   ]
  },
  {
   "cell_type": "code",
   "execution_count": 42,
   "metadata": {},
   "outputs": [],
   "source": [
    "X_train, X_test, y_train, y_test = train_test_split(X, y, test_size=0.05, random_state=42)"
   ]
  },
  {
   "cell_type": "code",
   "execution_count": 43,
   "metadata": {},
   "outputs": [],
   "source": [
    "y_train = np_utils.to_categorical(y_train)\n",
    "y_test = np_utils.to_categorical(y_test)"
   ]
  },
  {
   "cell_type": "code",
   "execution_count": 44,
   "metadata": {},
   "outputs": [],
   "source": [
    "from tqdm import tqdm"
   ]
  },
  {
   "cell_type": "code",
   "execution_count": 45,
   "metadata": {},
   "outputs": [],
   "source": [
    "def get_data_from_local(X_train):\n",
    "    X_data =[]\n",
    "    for file in tqdm(X_train['image']):\n",
    "        face = cv2.imread(file,cv2.IMREAD_COLOR)\n",
    "        face = cv2.cvtColor(face, cv2.COLOR_BGR2GRAY)\n",
    "        face =cv2.resize(face, (200,200))\n",
    "        face = np.expand_dims(face, axis=2)\n",
    "        face = np.asarray(face)\n",
    "        face = face.astype('float32')\n",
    "        face /= 255\n",
    "        X_data.append(face)\n",
    "    return np.array(X_data)"
   ]
  },
  {
   "cell_type": "code",
   "execution_count": 46,
   "metadata": {},
   "outputs": [
    {
     "name": "stderr",
     "output_type": "stream",
     "text": [
      "100%|██████████| 950/950 [00:06<00:00, 148.81it/s]\n",
      "100%|██████████| 50/50 [00:00<00:00, 142.25it/s]\n"
     ]
    }
   ],
   "source": [
    "X_train = get_data_from_local(X_train)\n",
    "X_test = get_data_from_local(X_test)"
   ]
  },
  {
   "cell_type": "code",
   "execution_count": 47,
   "metadata": {},
   "outputs": [
    {
     "name": "stdout",
     "output_type": "stream",
     "text": [
      "(950, 7) (50, 7) (950, 200, 200, 1) (50, 200, 200, 1)\n"
     ]
    }
   ],
   "source": [
    "y_train = np.asarray(y_train).astype(np.float32)\n",
    "y_test = np.asarray(y_test).astype(np.float32)\n",
    "print(y_train.shape,y_test.shape,X_train.shape,X_test.shape)"
   ]
  },
  {
   "cell_type": "code",
   "execution_count": 15,
   "metadata": {},
   "outputs": [
    {
     "name": "stdout",
     "output_type": "stream",
     "text": [
      "Model: \"sequential\"\n",
      "_________________________________________________________________\n",
      "Layer (type)                 Output Shape              Param #   \n",
      "=================================================================\n",
      "conv2d (Conv2D)              (None, 198, 198, 32)      320       \n",
      "_________________________________________________________________\n",
      "average_pooling2d (AveragePo (None, 99, 99, 32)        0         \n",
      "_________________________________________________________________\n",
      "conv2d_1 (Conv2D)            (None, 97, 97, 64)        18496     \n",
      "_________________________________________________________________\n",
      "average_pooling2d_1 (Average (None, 48, 48, 64)        0         \n",
      "_________________________________________________________________\n",
      "conv2d_2 (Conv2D)            (None, 46, 46, 128)       73856     \n",
      "_________________________________________________________________\n",
      "average_pooling2d_2 (Average (None, 23, 23, 128)       0         \n",
      "_________________________________________________________________\n",
      "conv2d_3 (Conv2D)            (None, 21, 21, 256)       295168    \n",
      "_________________________________________________________________\n",
      "average_pooling2d_3 (Average (None, 10, 10, 256)       0         \n",
      "_________________________________________________________________\n",
      "global_average_pooling2d (Gl (None, 256)               0         \n",
      "_________________________________________________________________\n",
      "dense (Dense)                (None, 132)               33924     \n",
      "_________________________________________________________________\n",
      "dense_1 (Dense)              (None, 7)                 931       \n",
      "=================================================================\n",
      "Total params: 422,695\n",
      "Trainable params: 422,695\n",
      "Non-trainable params: 0\n",
      "_________________________________________________________________\n"
     ]
    }
   ],
   "source": [
    "final_cnn = Sequential()\n",
    "final_cnn.add(Conv2D(filters=32, kernel_size=3, activation='relu', input_shape=(200, 200, 1)))  \n",
    "final_cnn.add(AveragePooling2D(pool_size=(2,2)))\n",
    "final_cnn.add(Conv2D(filters=64, kernel_size=3, activation='relu'))\n",
    "final_cnn.add(AveragePooling2D(pool_size=(2,2)))\n",
    "final_cnn.add(Conv2D(filters=128, kernel_size=3, activation='relu'))\n",
    "final_cnn.add(AveragePooling2D(pool_size=(2,2)))\n",
    "final_cnn.add(Conv2D(filters=256, kernel_size=3, activation='relu'))\n",
    "final_cnn.add(AveragePooling2D(pool_size=(2,2)))\n",
    "final_cnn.add(GlobalAveragePooling2D())\n",
    "\n",
    "final_cnn.add(Dense(132, activation='relu'))\n",
    "\n",
    "final_cnn.add(Dense(7, activation='softmax'))\n",
    "\n",
    "final_cnn.summary()"
   ]
  },
  {
   "cell_type": "code",
   "execution_count": 16,
   "metadata": {},
   "outputs": [],
   "source": [
    "final_cnn.compile(loss='categorical_crossentropy', optimizer='adam', metrics=['accuracy'])"
   ]
  },
  {
   "cell_type": "code",
   "execution_count": 17,
   "metadata": {},
   "outputs": [],
   "source": [
    "#load the h5"
   ]
  },
  {
   "cell_type": "code",
   "execution_count": 22,
   "metadata": {},
   "outputs": [],
   "source": [
    "# Creating a ModelCheckpoint callback object to save the model according to the value of val_accuracy.\n",
    "\n",
    "checkpoint = ModelCheckpoint(filepath=f\"final_cnn_model_checkpoint.tf\",\n",
    "                             monitor='val_accuracy',\n",
    "                             save_format='tf',\n",
    "                             save_best_only=True,\n",
    "                             save_weights_only=False,\n",
    "                             verbose=1\n",
    "                            )"
   ]
  },
  {
   "cell_type": "code",
   "execution_count": 48,
   "metadata": {},
   "outputs": [],
   "source": [
    "from keras.models import load_model\n",
    "weights_path = 'final_cnn_model_checkpoint.tf'\n",
    "final_cnn = load_model(weights_path)"
   ]
  },
  {
   "cell_type": "code",
   "execution_count": 49,
   "metadata": {},
   "outputs": [
    {
     "name": "stdout",
     "output_type": "stream",
     "text": [
      "Epoch 1/15\n",
      "16/16 [==============================] - ETA: 0s - loss: 1.8039 - accuracy: 0.3189\n",
      "Epoch 00001: val_accuracy did not improve from 0.52000\n",
      "16/16 [==============================] - 39s 2s/step - loss: 1.8039 - accuracy: 0.3189 - val_loss: 1.7410 - val_accuracy: 0.3200\n",
      "Epoch 2/15\n",
      "16/16 [==============================] - ETA: 0s - loss: 1.7775 - accuracy: 0.3189\n",
      "Epoch 00002: val_accuracy did not improve from 0.52000\n",
      "16/16 [==============================] - 42s 3s/step - loss: 1.7775 - accuracy: 0.3189 - val_loss: 1.7198 - val_accuracy: 0.3200\n",
      "Epoch 3/15\n",
      "16/16 [==============================] - ETA: 0s - loss: 1.7508 - accuracy: 0.3189\n",
      "Epoch 00003: val_accuracy did not improve from 0.52000\n",
      "16/16 [==============================] - 44s 3s/step - loss: 1.7508 - accuracy: 0.3189 - val_loss: 1.6968 - val_accuracy: 0.3200\n",
      "Epoch 4/15\n",
      "16/16 [==============================] - ETA: 0s - loss: 1.7289 - accuracy: 0.3189\n",
      "Epoch 00004: val_accuracy did not improve from 0.52000\n",
      "16/16 [==============================] - 43s 3s/step - loss: 1.7289 - accuracy: 0.3189 - val_loss: 1.6911 - val_accuracy: 0.3200\n",
      "Epoch 5/15\n",
      "16/16 [==============================] - ETA: 0s - loss: 1.7256 - accuracy: 0.3189\n",
      "Epoch 00005: val_accuracy did not improve from 0.52000\n",
      "16/16 [==============================] - 40s 3s/step - loss: 1.7256 - accuracy: 0.3189 - val_loss: 1.6864 - val_accuracy: 0.3200\n",
      "Epoch 6/15\n",
      "16/16 [==============================] - ETA: 0s - loss: 1.7202 - accuracy: 0.3211\n",
      "Epoch 00006: val_accuracy did not improve from 0.52000\n",
      "16/16 [==============================] - 40s 3s/step - loss: 1.7202 - accuracy: 0.3211 - val_loss: 1.6786 - val_accuracy: 0.3200\n",
      "Epoch 7/15\n",
      "16/16 [==============================] - ETA: 0s - loss: 1.7166 - accuracy: 0.3179\n",
      "Epoch 00007: val_accuracy did not improve from 0.52000\n",
      "16/16 [==============================] - 40s 2s/step - loss: 1.7166 - accuracy: 0.3179 - val_loss: 1.6713 - val_accuracy: 0.3400\n",
      "Epoch 8/15\n",
      "16/16 [==============================] - ETA: 0s - loss: 1.7116 - accuracy: 0.3221\n",
      "Epoch 00008: val_accuracy did not improve from 0.52000\n",
      "16/16 [==============================] - 43s 3s/step - loss: 1.7116 - accuracy: 0.3221 - val_loss: 1.6679 - val_accuracy: 0.3400\n",
      "Epoch 9/15\n",
      "16/16 [==============================] - ETA: 0s - loss: 1.7072 - accuracy: 0.3189\n",
      "Epoch 00009: val_accuracy did not improve from 0.52000\n",
      "16/16 [==============================] - 46s 3s/step - loss: 1.7072 - accuracy: 0.3189 - val_loss: 1.6702 - val_accuracy: 0.3400\n",
      "Epoch 10/15\n",
      "16/16 [==============================] - ETA: 0s - loss: 1.7022 - accuracy: 0.3211\n",
      "Epoch 00010: val_accuracy did not improve from 0.52000\n",
      "16/16 [==============================] - 47s 3s/step - loss: 1.7022 - accuracy: 0.3211 - val_loss: 1.6698 - val_accuracy: 0.3400\n",
      "Epoch 11/15\n",
      "16/16 [==============================] - ETA: 0s - loss: 1.6975 - accuracy: 0.3316\n",
      "Epoch 00011: val_accuracy did not improve from 0.52000\n",
      "16/16 [==============================] - 46s 3s/step - loss: 1.6975 - accuracy: 0.3316 - val_loss: 1.6755 - val_accuracy: 0.3400\n",
      "Epoch 12/15\n",
      "16/16 [==============================] - ETA: 0s - loss: 1.6930 - accuracy: 0.3274\n",
      "Epoch 00012: val_accuracy did not improve from 0.52000\n",
      "16/16 [==============================] - 47s 3s/step - loss: 1.6930 - accuracy: 0.3274 - val_loss: 1.6757 - val_accuracy: 0.3200\n",
      "Epoch 13/15\n",
      "16/16 [==============================] - ETA: 0s - loss: 1.6898 - accuracy: 0.3274\n",
      "Epoch 00013: val_accuracy did not improve from 0.52000\n",
      "16/16 [==============================] - 48s 3s/step - loss: 1.6898 - accuracy: 0.3274 - val_loss: 1.6756 - val_accuracy: 0.3200\n",
      "Epoch 14/15\n",
      "16/16 [==============================] - ETA: 0s - loss: 1.6863 - accuracy: 0.3358\n",
      "Epoch 00014: val_accuracy did not improve from 0.52000\n",
      "16/16 [==============================] - 47s 3s/step - loss: 1.6863 - accuracy: 0.3358 - val_loss: 1.6756 - val_accuracy: 0.3200\n",
      "Epoch 15/15\n",
      "16/16 [==============================] - ETA: 0s - loss: 1.6817 - accuracy: 0.3337\n",
      "Epoch 00015: val_accuracy did not improve from 0.52000\n",
      "16/16 [==============================] - 49s 3s/step - loss: 1.6817 - accuracy: 0.3337 - val_loss: 1.6669 - val_accuracy: 0.3200\n"
     ]
    }
   ],
   "source": [
    "# Fitting the above created CNN model.\n",
    "\n",
    "final_cnn_history = final_cnn.fit(x=X_train,\n",
    "                                  y=y_train,\n",
    "                                  batch_size=62,\n",
    "                                  validation_data=(X_test,y_test),\n",
    "                                  epochs=15,\n",
    "                                  callbacks=[checkpoint],\n",
    "                                  shuffle=False    # shuffle=False to reduce randomness and increase reproducibility\n",
    "                                 )"
   ]
  },
  {
   "cell_type": "code",
   "execution_count": null,
   "metadata": {},
   "outputs": [],
   "source": []
  }
 ],
 "metadata": {
  "kernelspec": {
   "display_name": "Python 3",
   "language": "python",
   "name": "python3"
  },
  "language_info": {
   "codemirror_mode": {
    "name": "ipython",
    "version": 3
   },
   "file_extension": ".py",
   "mimetype": "text/x-python",
   "name": "python",
   "nbconvert_exporter": "python",
   "pygments_lexer": "ipython3",
   "version": "3.8.5"
  }
 },
 "nbformat": 4,
 "nbformat_minor": 4
}
