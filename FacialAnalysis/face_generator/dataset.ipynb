{
 "cells": [
  {
   "cell_type": "code",
   "execution_count": 1,
   "metadata": {},
   "outputs": [],
   "source": [
    "import cv2\n",
    "import numpy as np\n",
    "from keras.models import load_model"
   ]
  },
  {
   "cell_type": "code",
   "execution_count": 2,
   "metadata": {},
   "outputs": [],
   "source": [
    "import pandas as pd\n",
    "from tqdm import tqdm"
   ]
  },
  {
   "cell_type": "code",
   "execution_count": null,
   "metadata": {},
   "outputs": [],
   "source": [
    "def get_data_from_local(file):\n",
    "    face = cv2.imread(file,cv2.IMREAD_COLOR)\n",
    "    face = cv2.cvtColor(face, cv2.COLOR_BGR2RGB)\n",
    "    face =cv2.resize(face, (200,200))\n",
    "    face = np.asarray(face)\n",
    "    face = face.astype('float32')\n",
    "    face /= 255\n",
    "    return np.array(face)"
   ]
  },
  {
   "cell_type": "code",
   "execution_count": null,
   "metadata": {},
   "outputs": [],
   "source": [
    "import os\n",
    "d = \"training_real/\"\n",
    "real_images_path = []\n",
    "for path in os.listdir(d):\n",
    "    full_path = os.path.join(d, path)\n",
    "    if os.path.isfile(full_path):\n",
    "        real_images_path.append(str(full_path))"
   ]
  },
  {
   "cell_type": "code",
   "execution_count": null,
   "metadata": {},
   "outputs": [],
   "source": [
    "len(real_images_path)"
   ]
  },
  {
   "cell_type": "code",
   "execution_count": null,
   "metadata": {},
   "outputs": [],
   "source": [
    "data = {\n",
    "    'age':[],\n",
    "    'gender':[],\n",
    "    'race':[],\n",
    "    'eye_color':[],\n",
    "    'hair_color':[],\n",
    "    'face_color':[],\n",
    "    'image':[]\n",
    "}\n",
    "age_model = load_model('model_3/final_cnn_age_model_checkpoint.tf')\n",
    "gender_model = load_model('model_3/final_cnn_gender_model_checkpoint.tf')\n",
    "race_model = load_model('model_3/final_cnn_race_model_checkpoint.tf')\n",
    "for image in real_images_path:\n",
    "    temp = image\n",
    "    image = get_data_from_local(image)\n",
    "    image = np.expand_dims(image, axis=0)\n",
    "    data['age'].append(age_model.predict(image).argmax())\n",
    "    data['gender'].append(gender_model.predict(image).argmax())\n",
    "    data['race'].append(race_model.predict(image).argmax())\n",
    "    data['image'].append(temp)"
   ]
  },
  {
   "cell_type": "code",
   "execution_count": null,
   "metadata": {},
   "outputs": [],
   "source": [
    "dataframe = pd.DataFrame(data,columns=['age','gender','race','image'])"
   ]
  },
  {
   "cell_type": "code",
   "execution_count": null,
   "metadata": {},
   "outputs": [],
   "source": [
    "dataframe.to_csv('main_dataset.csv')"
   ]
  },
  {
   "cell_type": "code",
   "execution_count": null,
   "metadata": {},
   "outputs": [
    {
     "name": "stdout",
     "output_type": "stream",
     "text": [
      "Epoch 1/30\n",
      "4/4 [==============================] - 65s 16s/step - loss: 0.1687 - accuracy: 0.1049 - val_loss: 0.1095 - val_accuracy: 0.6904\n",
      "Epoch 2/30\n",
      "1/4 [======>.......................] - ETA: 1s - loss: 0.1090 - accuracy: 0.6946"
     ]
    }
   ],
   "source": [
    "F_mnist = c_a_e.fit(x, y,\n",
    "        shuffle=True,\n",
    "        epochs=30,\n",
    "        batch_size=150,\n",
    "        validation_split=0.5\n",
    "       )"
   ]
  },
  {
   "cell_type": "code",
   "execution_count": null,
   "metadata": {},
   "outputs": [],
   "source": []
  }
 ],
 "metadata": {
  "kernelspec": {
   "display_name": "Python 3",
   "language": "python",
   "name": "python3"
  },
  "language_info": {
   "codemirror_mode": {
    "name": "ipython",
    "version": 3
   },
   "file_extension": ".py",
   "mimetype": "text/x-python",
   "name": "python",
   "nbconvert_exporter": "python",
   "pygments_lexer": "ipython3",
   "version": "3.8.5"
  }
 },
 "nbformat": 4,
 "nbformat_minor": 4
}
