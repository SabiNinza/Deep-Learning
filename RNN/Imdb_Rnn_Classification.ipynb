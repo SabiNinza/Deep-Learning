{
  "nbformat": 4,
  "nbformat_minor": 0,
  "metadata": {
    "kernelspec": {
      "display_name": "Python 3",
      "language": "python",
      "name": "python3"
    },
    "language_info": {
      "codemirror_mode": {
        "name": "ipython",
        "version": 3
      },
      "file_extension": ".py",
      "mimetype": "text/x-python",
      "name": "python",
      "nbconvert_exporter": "python",
      "pygments_lexer": "ipython3",
      "version": "3.6.8"
    },
    "colab": {
      "name": "Imdb_Rnn_Classification.ipynb",
      "version": "0.3.2",
      "provenance": []
    }
  },
  "cells": [
    {
      "cell_type": "code",
      "metadata": {
        "id": "-7XNS_QgiqND",
        "colab_type": "code",
        "colab": {}
      },
      "source": [
        "from keras.datasets import imdb \n",
        "import numpy as np"
      ],
      "execution_count": 0,
      "outputs": []
    },
    {
      "cell_type": "code",
      "metadata": {
        "id": "Qzlekr_wiqNT",
        "colab_type": "code",
        "colab": {}
      },
      "source": [
        "np_load_old = np.load\n",
        "\n",
        "# modify the default parameters of np.load\n",
        "np.load = lambda *a,**k: np_load_old(*a, allow_pickle=True, **k)\n",
        "\n",
        "# call load_data with allow_pickle implicitly set to true\n",
        "(xT, yT), (xt, yt) = imdb.load_data(num_words=3000)\n",
        "\n",
        "# restore np.load for future normal usage\n",
        "np.load = np_load_old\n",
        "\n",
        "del np_load_old"
      ],
      "execution_count": 0,
      "outputs": []
    },
    {
      "cell_type": "code",
      "metadata": {
        "id": "l9FNHnpSiqNc",
        "colab_type": "code",
        "colab": {
          "base_uri": "https://localhost:8080/",
          "height": 72
        },
        "outputId": "4c16720a-1ecb-4113-8517-f0d3ed3c6dca"
      },
      "source": [
        "word2idx = imdb.get_word_index()"
      ],
      "execution_count": 15,
      "outputs": [
        {
          "output_type": "stream",
          "text": [
            "Downloading data from https://s3.amazonaws.com/text-datasets/imdb_word_index.json\n",
            "1646592/1641221 [==============================] - 0s 0us/step\n"
          ],
          "name": "stdout"
        }
      ]
    },
    {
      "cell_type": "code",
      "metadata": {
        "id": "xTe7X38BkxA2",
        "colab_type": "code",
        "colab": {}
      },
      "source": [
        "idx2word = dict([(v,k) for k,v in word2idx.items()])"
      ],
      "execution_count": 0,
      "outputs": []
    },
    {
      "cell_type": "code",
      "metadata": {
        "id": "PrxQ-3e9jPya",
        "colab_type": "code",
        "colab": {
          "base_uri": "https://localhost:8080/",
          "height": 52
        },
        "outputId": "6d7b2bcb-f8af-44c2-945d-bff898c02de0"
      },
      "source": [
        "print(len(list(word2idx.items())))\n",
        "print(list(word2idx.items())[0])"
      ],
      "execution_count": 22,
      "outputs": [
        {
          "output_type": "stream",
          "text": [
            "88584\n",
            "('fawn', 34701)\n"
          ],
          "name": "stdout"
        }
      ]
    },
    {
      "cell_type": "code",
      "metadata": {
        "id": "uwGQXqYtj8n1",
        "colab_type": "code",
        "colab": {
          "base_uri": "https://localhost:8080/",
          "height": 54
        },
        "outputId": "cfae5cce-5b34-4c12-e2f3-f53fd245dbeb"
      },
      "source": [
        "review = ' '.join(idx2word.get(idx-3 ,\"?\") for idx in xT[3])\n",
        "print(review)"
      ],
      "execution_count": 31,
      "outputs": [
        {
          "output_type": "stream",
          "text": [
            "? the ? ? at storytelling the traditional sort many years after the event i can still see in my ? eye an ? lady my ? mother ? the battle of ? she makes the characters come alive her passion is that of an eye witness one to the events on the ? ? a ? or so from where she lives br br of course it happened many years before she was born but you wouldn't guess from the way she tells it the same story is told in ? the length and ? of ? as i ? it with a friend one night in ? a local cut in to give his version the ? ? to closing time br br stories passed down like this become part of our being who doesn't remember the stories our parents told us when we were children they become our invisible world and as we grow older they maybe still serve as inspiration or as an emotional ? fact and fiction ? with ? role ? warning stories ? magic and mystery br br my name is ? like my ? and his ? before him our protagonist ? himself to us and also ? the story that ? back through ? it ? stories within stories stories that ? the ? wonder of ? its ? ? ? in ? the stuff of legend yet ? is ? in reality this is what gives it its special charm it has a rough beauty and ? ? with some of the finest ? singing you will ever hear br br ? ? ? his ? in hospital ? before his death he burns with ? part of him ? to be in the twenty first century to ? out in ? but he is raised on the western ? among a ? speaking community br br yet there is a deeper conflict within him he ? to know the truth the truth behind his ? ancient stories where does fiction end and he wants to know the truth behind the death of his parents br br he is pulled to make a last ? journey to the ? of one of ? most ? ? can the truth be told or is it all in stories br br in this story about stories we ? bloody ? ? lovers the ? of old and the sometimes more ? ? of ? truth in doing so we each ? with ? as he lives the story of his own life br br ? the ? ? is probably the most honest ? and genuinely beautiful film of ? ever made like ? i got slightly ? with the ? of hanging stories on more stories but also like ? i ? this once i saw the ? picture ' forget the box office ? of ? and its like you might even ? the ? famous ? of the ? man to see a film that is true to ? this one is probably unique if you maybe ? on it deeply enough you might even re ? the power of storytelling and the age old question of whether there are some ? that cannot be told but only experienced\n"
          ],
          "name": "stdout"
        }
      ]
    },
    {
      "cell_type": "code",
      "metadata": {
        "id": "xlX8-S6kmxdh",
        "colab_type": "code",
        "colab": {}
      },
      "source": [
        "from keras.preprocessing import sequence"
      ],
      "execution_count": 0,
      "outputs": []
    },
    {
      "cell_type": "code",
      "metadata": {
        "id": "FZFlTH4KmqHa",
        "colab_type": "code",
        "colab": {
          "base_uri": "https://localhost:8080/",
          "height": 34
        },
        "outputId": "e8c949aa-9d15-48fa-f359-91a15feab50b"
      },
      "source": [
        "x_train = sequence.pad_sequences(xT , maxlen = 500)\n",
        "x_text = sequence.pad_sequences(xT , maxlen = 500)\n",
        "print(x_train.shape , x_text.shape)"
      ],
      "execution_count": 35,
      "outputs": [
        {
          "output_type": "stream",
          "text": [
            "(25000, 500) (25000, 500)\n"
          ],
          "name": "stdout"
        }
      ]
    },
    {
      "cell_type": "code",
      "metadata": {
        "id": "DJ-pTvSczMLp",
        "colab_type": "code",
        "colab": {}
      },
      "source": [
        "# Model Architecture"
      ],
      "execution_count": 0,
      "outputs": []
    },
    {
      "cell_type": "code",
      "metadata": {
        "id": "5ZDquHRotp8j",
        "colab_type": "code",
        "colab": {}
      },
      "source": [
        "from keras.layers import Dense , SimpleRNN , Embedding\n",
        "from keras.models import Sequential"
      ],
      "execution_count": 0,
      "outputs": []
    },
    {
      "cell_type": "code",
      "metadata": {
        "id": "CIw1R4NKvDVA",
        "colab_type": "code",
        "colab": {
          "base_uri": "https://localhost:8080/",
          "height": 332
        },
        "outputId": "afc13c6d-1147-4edb-fc2b-8a34cd1ef00b"
      },
      "source": [
        "model = Sequential()\n",
        "model.add(Embedding(5000 , 20))\n",
        "model.add(SimpleRNN(32))\n",
        "model.add(Dense(1,activation = \"sigmoid\"))\n",
        "model.summary()"
      ],
      "execution_count": 43,
      "outputs": [
        {
          "output_type": "stream",
          "text": [
            "W0812 17:06:31.420817 140464692623232 deprecation_wrapper.py:119] From /usr/local/lib/python3.6/dist-packages/keras/backend/tensorflow_backend.py:517: The name tf.placeholder is deprecated. Please use tf.compat.v1.placeholder instead.\n",
            "\n",
            "W0812 17:06:31.437232 140464692623232 deprecation_wrapper.py:119] From /usr/local/lib/python3.6/dist-packages/keras/backend/tensorflow_backend.py:4138: The name tf.random_uniform is deprecated. Please use tf.random.uniform instead.\n",
            "\n"
          ],
          "name": "stderr"
        },
        {
          "output_type": "stream",
          "text": [
            "_________________________________________________________________\n",
            "Layer (type)                 Output Shape              Param #   \n",
            "=================================================================\n",
            "embedding_1 (Embedding)      (None, None, 20)          100000    \n",
            "_________________________________________________________________\n",
            "simple_rnn_1 (SimpleRNN)     (None, 32)                1696      \n",
            "_________________________________________________________________\n",
            "dense_1 (Dense)              (None, 1)                 33        \n",
            "=================================================================\n",
            "Total params: 101,729\n",
            "Trainable params: 101,729\n",
            "Non-trainable params: 0\n",
            "_________________________________________________________________\n"
          ],
          "name": "stdout"
        }
      ]
    },
    {
      "cell_type": "code",
      "metadata": {
        "id": "Tgu2SDLzvMuG",
        "colab_type": "code",
        "colab": {}
      },
      "source": [
        ""
      ],
      "execution_count": 0,
      "outputs": []
    },
    {
      "cell_type": "markdown",
      "metadata": {
        "id": "T7V1vtIhzXaE",
        "colab_type": "text"
      },
      "source": [
        "## Training the **Model**"
      ]
    },
    {
      "cell_type": "code",
      "metadata": {
        "id": "_ljso9tfzdC-",
        "colab_type": "code",
        "colab": {}
      },
      "source": [
        "model.compile(optimizer = \"rmsprop\" , loss=\"binary_crossentropy\",metrics=[\"acc\"])"
      ],
      "execution_count": 0,
      "outputs": []
    },
    {
      "cell_type": "code",
      "metadata": {
        "id": "vDMoAs1wzo4h",
        "colab_type": "code",
        "colab": {
          "base_uri": "https://localhost:8080/",
          "height": 402
        },
        "outputId": "7fe47993-390a-4df8-84c7-cd6330ce427a"
      },
      "source": [
        "hist = model.fit(x_train,yT,validation_split=0.2,epochs=10,batch_size=128)"
      ],
      "execution_count": 48,
      "outputs": [
        {
          "output_type": "stream",
          "text": [
            "Train on 20000 samples, validate on 5000 samples\n",
            "Epoch 1/10\n",
            "20000/20000 [==============================] - 17s 828us/step - loss: 0.2893 - acc: 0.8858 - val_loss: 0.3746 - val_acc: 0.8396\n",
            "Epoch 2/10\n",
            "20000/20000 [==============================] - 16s 792us/step - loss: 0.2576 - acc: 0.8985 - val_loss: 0.3628 - val_acc: 0.8582\n",
            "Epoch 3/10\n",
            "20000/20000 [==============================] - 16s 803us/step - loss: 0.2349 - acc: 0.9082 - val_loss: 0.3747 - val_acc: 0.8612\n",
            "Epoch 4/10\n",
            "20000/20000 [==============================] - 16s 793us/step - loss: 0.2156 - acc: 0.9199 - val_loss: 0.4360 - val_acc: 0.8270\n",
            "Epoch 5/10\n",
            "20000/20000 [==============================] - 16s 791us/step - loss: 0.1988 - acc: 0.9236 - val_loss: 0.4831 - val_acc: 0.8332\n",
            "Epoch 6/10\n",
            "20000/20000 [==============================] - 16s 789us/step - loss: 0.1910 - acc: 0.9259 - val_loss: 0.4201 - val_acc: 0.8486\n",
            "Epoch 7/10\n",
            "20000/20000 [==============================] - 16s 787us/step - loss: 0.1683 - acc: 0.9392 - val_loss: 0.4178 - val_acc: 0.8254\n",
            "Epoch 8/10\n",
            "20000/20000 [==============================] - 16s 786us/step - loss: 0.1375 - acc: 0.9511 - val_loss: 0.5287 - val_acc: 0.8186\n",
            "Epoch 9/10\n",
            "20000/20000 [==============================] - 16s 787us/step - loss: 0.1291 - acc: 0.9535 - val_loss: 0.5135 - val_acc: 0.8384\n",
            "Epoch 10/10\n",
            "20000/20000 [==============================] - 16s 790us/step - loss: 0.1159 - acc: 0.9591 - val_loss: 0.6590 - val_acc: 0.8254\n"
          ],
          "name": "stdout"
        }
      ]
    },
    {
      "cell_type": "code",
      "metadata": {
        "id": "tf1WQpOd1gtI",
        "colab_type": "code",
        "colab": {
          "base_uri": "https://localhost:8080/",
          "height": 34
        },
        "outputId": "03168eea-f960-47bf-c2f1-273a7f3ec9ce"
      },
      "source": [
        "hist.history.keys()"
      ],
      "execution_count": 54,
      "outputs": [
        {
          "output_type": "execute_result",
          "data": {
            "text/plain": [
              "dict_keys(['val_loss', 'val_acc', 'loss', 'acc'])"
            ]
          },
          "metadata": {
            "tags": []
          },
          "execution_count": 54
        }
      ]
    },
    {
      "cell_type": "code",
      "metadata": {
        "id": "V90DSnnt12S-",
        "colab_type": "code",
        "colab": {}
      },
      "source": [
        "hist1 = hist.history"
      ],
      "execution_count": 0,
      "outputs": []
    },
    {
      "cell_type": "code",
      "metadata": {
        "id": "B9rctvi80QfV",
        "colab_type": "code",
        "colab": {
          "base_uri": "https://localhost:8080/",
          "height": 298
        },
        "outputId": "d8f4e905-95a4-4cc4-8bf9-e1783353a118"
      },
      "source": [
        "import matplotlib.pyplot as plt\n",
        "plt.title(\"Loss\")\n",
        "plt.plot(hist1[\"val_loss\"],label=\"Testing\")\n",
        "plt.plot(hist1[\"loss\"],label=\"Training\")\n",
        "plt.title(\"Loss\")\n",
        "plt.plot(hist1[\"val_loss\"],label=\"Testing\")\n",
        "plt.plot(hist1[\"loss\"],label=\"Training\")"
      ],
      "execution_count": 57,
      "outputs": [
        {
          "output_type": "execute_result",
          "data": {
            "text/plain": [
              "[<matplotlib.lines.Line2D at 0x7fc02e7504e0>]"
            ]
          },
          "metadata": {
            "tags": []
          },
          "execution_count": 57
        },
        {
          "output_type": "display_data",
          "data": {
            "image/png": "[encoded data removed]",
            "text/plain": [
              "<Figure size 432x288 with 1 Axes>"
            ]
          },
          "metadata": {
            "tags": []
          }
        }
      ]
    },
    {
      "cell_type": "code",
      "metadata": {
        "id": "RLnxwKpV1TpY",
        "colab_type": "code",
        "colab": {
          "base_uri": "https://localhost:8080/",
          "height": 298
        },
        "outputId": "4465151f-cc54-45f7-b904-ed205f32b0ff"
      },
      "source": [
        "plt.title(\"Accuracy\")\n",
        "plt.plot(hist1[\"val_acc\"],label=\"Testing\")\n",
        "plt.plot(hist1[\"acc\"],label=\"Training\")"
      ],
      "execution_count": 59,
      "outputs": [
        {
          "output_type": "execute_result",
          "data": {
            "text/plain": [
              "[<matplotlib.lines.Line2D at 0x7fc02f49f7b8>]"
            ]
          },
          "metadata": {
            "tags": []
          },
          "execution_count": 59
        },
        {
          "output_type": "display_data",
          "data": {
            "image/png": "[encoded data removed]",
            "text/plain": [
              "<Figure size 432x288 with 1 Axes>"
            ]
          },
          "metadata": {
            "tags": []
          }
        }
      ]
    },
    {
      "cell_type": "code",
      "metadata": {
        "id": "ODNK17Iz2FFT",
        "colab_type": "code",
        "colab": {}
      },
      "source": [
        ""
      ],
      "execution_count": 0,
      "outputs": []
    }
  ]
}