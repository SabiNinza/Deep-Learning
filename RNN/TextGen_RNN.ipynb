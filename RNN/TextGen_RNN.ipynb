{
 "cells": [
  {
   "cell_type": "code",
   "execution_count": 1,
   "metadata": {},
   "outputs": [
    {
     "name": "stderr",
     "output_type": "stream",
     "text": [
      "Using TensorFlow backend.\n",
      "/home/puneet/.local/lib/python3.6/site-packages/requests/__init__.py:91: RequestsDependencyWarning: urllib3 (1.24.1) or chardet (2.3.0) doesn't match a supported version!\n",
      "  RequestsDependencyWarning)\n"
     ]
    }
   ],
   "source": [
    "from keras.models import Sequential\n",
    "from keras.layers import Dense,Activation,LSTM\n",
    "from keras.optimizers import RMSprop\n",
    "from keras.utils.data_utils import get_file\n",
    "import numpy as np\n",
    "import random\n",
    "import sys\n",
    "import matplotlib.pyplot as plt"
   ]
  },
  {
   "cell_type": "code",
   "execution_count": 2,
   "metadata": {},
   "outputs": [
    {
     "name": "stdout",
     "output_type": "stream",
     "text": [
      "blob length: 600893\n"
     ]
    }
   ],
   "source": [
    "path = get_file('nietzsche.txt', origin='https://s3.amazonaws.com/text-datasets/nietzsche.txt')\n",
    "text = open(path).read().lower()\n",
    "print('blob length:', len(text))"
   ]
  },
  {
   "cell_type": "code",
   "execution_count": 3,
   "metadata": {},
   "outputs": [
    {
     "data": {
      "text/plain": [
       "57"
      ]
     },
     "execution_count": 3,
     "metadata": {},
     "output_type": "execute_result"
    }
   ],
   "source": [
    "len(set(text))"
   ]
  },
  {
   "cell_type": "code",
   "execution_count": 4,
   "metadata": {},
   "outputs": [
    {
     "name": "stdout",
     "output_type": "stream",
     "text": [
      "['\\n', ' ', '!', '\"', \"'\", '(', ')', ',', '-', '.', '0', '1', '2', '3', '4', '5', '6', '7', '8', '9', ':', ';', '=', '?', '[', ']', '_', 'a', 'b', 'c', 'd', 'e', 'f', 'g', 'h', 'i', 'j', 'k', 'l', 'm', 'n', 'o', 'p', 'q', 'r', 's', 't', 'u', 'v', 'w', 'x', 'y', 'z', 'ä', 'æ', 'é', 'ë']\n",
      "57\n"
     ]
    }
   ],
   "source": [
    "chars = sorted(list(set(text)))\n",
    "print(chars)\n",
    "char_idx = dict((c , i) for i,c in enumerate(chars))\n",
    "idx_char = dict((i , c) for i,c in enumerate(chars))\n",
    "print(len(list(char_idx.items())))"
   ]
  },
  {
   "cell_type": "code",
   "execution_count": 5,
   "metadata": {},
   "outputs": [
    {
     "data": {
      "text/plain": [
       "'--what then? is there not ground\\nfor suspecting that all philosophers, in so far as they have been\\ndogmatists, have failed to understand women--that the terrible\\nseriousness and clumsy importunity with which they have usually paid\\ntheir addresses to truth, have been unskilled and unseemly methods for\\nwinning a woman? certainly she has never allowed herself to be won; and\\nat present every kind of dogma stands with sad and discouraged mien--if,\\nindeed, it stands at all! for there are sc'"
      ]
     },
     "execution_count": 5,
     "metadata": {},
     "output_type": "execute_result"
    }
   ],
   "source": [
    "text[41:530]"
   ]
  },
  {
   "cell_type": "code",
   "execution_count": 6,
   "metadata": {},
   "outputs": [
    {
     "name": "stdout",
     "output_type": "stream",
     "text": [
      "2864\n",
      "certainly she has never allowed herself to be won; and\n",
      "at present every kind of dogma stands with sad and discouraged mien--if,\n",
      "indeed, it stands at all!\n",
      "**********************************\n",
      "9935\n",
      "ego-superstition, has not yet ceased doing mischief): perhaps some\n"
     ]
    }
   ],
   "source": [
    "from nltk.tokenize import sent_tokenize\n",
    "sent1 = sent_tokenize(text)\n",
    "print(len(sent1))\n",
    "print(sent1[2])\n",
    "print(\"*\"*34)\n",
    "sent = text.split(\"\\n\")\n",
    "print(len(sent))\n",
    "print(sent[20])"
   ]
  },
  {
   "cell_type": "code",
   "execution_count": 7,
   "metadata": {},
   "outputs": [
    {
     "name": "stdout",
     "output_type": "stream",
     "text": [
      "9935\n"
     ]
    }
   ],
   "source": [
    "length_sent = list()\n",
    "for s in sent:\n",
    "    length_sent.append(len(s))\n",
    "print(len(length_sent))"
   ]
  },
  {
   "cell_type": "code",
   "execution_count": 8,
   "metadata": {},
   "outputs": [
    {
     "name": "stdout",
     "output_type": "stream",
     "text": [
      "73 73\n"
     ]
    },
    {
     "data": {
      "text/plain": [
       "(array([1, 2, 3, 4, 5, 6, 7, 8, 9]),\n",
       " array([17, 90, 46,  3,  6,  6,  7,  9, 14]))"
      ]
     },
     "execution_count": 8,
     "metadata": {},
     "output_type": "execute_result"
    }
   ],
   "source": [
    "uniq , cnt = np.unique(np.array(length_sent),return_counts=True)\n",
    "print(len(uniq),len(cnt))\n",
    "uniq[1:10],cnt[1:10]"
   ]
  },
  {
   "cell_type": "code",
   "execution_count": 9,
   "metadata": {},
   "outputs": [
    {
     "data": {
      "image/png": "[encoded data removed]",
      "text/plain": [
       "<Figure size 432x288 with 1 Axes>"
      ]
     },
     "metadata": {
      "needs_background": "light"
     },
     "output_type": "display_data"
    }
   ],
   "source": [
    "plt.plot(uniq)\n",
    "plt.plot(cnt)\n",
    "plt.show()"
   ]
  },
  {
   "cell_type": "code",
   "execution_count": 10,
   "metadata": {},
   "outputs": [
    {
     "name": "stdout",
     "output_type": "stream",
     "text": [
      "200281\n"
     ]
    }
   ],
   "source": [
    "maxlen = 50\n",
    "step = 3\n",
    "sentences = list()\n",
    "next_chars = list()\n",
    "\n",
    "for i in range(0,len(text)-maxlen,step):\n",
    "    sentences.append(text[i:i+maxlen])\n",
    "    next_chars.append(text[i+maxlen])\n",
    "    \n",
    "print(len(sentences))"
   ]
  },
  {
   "cell_type": "code",
   "execution_count": 11,
   "metadata": {},
   "outputs": [
    {
     "name": "stdout",
     "output_type": "stream",
     "text": [
      "sing that truth is a woman--what then? is there no, t\n",
      "g that truth is a woman--what then? is there not g, r\n"
     ]
    }
   ],
   "source": [
    "# for i in range(0, len(text) - maxlen, step):\n",
    "#     print(i,end=\",\")\n",
    "print(sentences[5],end=\", \")\n",
    "print(next_chars[5])\n",
    "print(sentences[6],end=\", \")\n",
    "print(next_chars[6])"
   ]
  },
  {
   "cell_type": "markdown",
   "metadata": {},
   "source": [
    "### Vectorization"
   ]
  },
  {
   "cell_type": "code",
   "execution_count": 12,
   "metadata": {},
   "outputs": [],
   "source": [
    "X = np.zeros((len(sentences), maxlen , len(chars)) , dtype = np.bool)\n",
    "Y = np.zeros((len(sentences),len(chars)),dtype = np.bool)\n",
    "\n",
    "for i , sentence in enumerate(sentences):\n",
    "    for t , char in enumerate(sentence):\n",
    "        X[i,t,char_idx[char]] = 1\n",
    "        \n",
    "    Y[i,char_idx[next_chars[i]]] = 1"
   ]
  },
  {
   "cell_type": "markdown",
   "metadata": {},
   "source": [
    "## Model Architecture"
   ]
  },
  {
   "cell_type": "code",
   "execution_count": 13,
   "metadata": {},
   "outputs": [
    {
     "name": "stdout",
     "output_type": "stream",
     "text": [
      "WARNING:tensorflow:From /home/puneet/.local/lib/python3.6/site-packages/tensorflow/python/framework/op_def_library.py:263: colocate_with (from tensorflow.python.framework.ops) is deprecated and will be removed in a future version.\n",
      "Instructions for updating:\n",
      "Colocations handled automatically by placer.\n",
      "_________________________________________________________________\n",
      "Layer (type)                 Output Shape              Param #   \n",
      "=================================================================\n",
      "lstm_1 (LSTM)                (None, 128)               95232     \n",
      "_________________________________________________________________\n",
      "dense_1 (Dense)              (None, 57)                7353      \n",
      "=================================================================\n",
      "Total params: 102,585\n",
      "Trainable params: 102,585\n",
      "Non-trainable params: 0\n",
      "_________________________________________________________________\n"
     ]
    }
   ],
   "source": [
    "model = Sequential()\n",
    "model.add(LSTM(128,input_shape=(maxlen,len(chars))))\n",
    "model.add(Dense(len(chars),activation=\"sigmoid\"))\n",
    "\n",
    "model.summary()"
   ]
  },
  {
   "cell_type": "code",
   "execution_count": 14,
   "metadata": {},
   "outputs": [],
   "source": [
    "# Dense?\n",
    "# len(chars)"
   ]
  },
  {
   "cell_type": "code",
   "execution_count": 15,
   "metadata": {},
   "outputs": [],
   "source": [
    "optimizer = RMSprop(lr = 0.01)\n",
    "model.compile(loss='categorical_crossentropy', optimizer=optimizer, metrics=['accuracy'])"
   ]
  },
  {
   "cell_type": "markdown",
   "metadata": {},
   "source": [
    "### Smoothing Probability"
   ]
  },
  {
   "cell_type": "code",
   "execution_count": 16,
   "metadata": {},
   "outputs": [],
   "source": [
    "def sampling(pred , temp = 1):\n",
    "    pred = np.array(pred).astype(\"float64\")\n",
    "    pred = np.log(pred)/temp\n",
    "    \n",
    "    exp_pred = np.exp(pred)\n",
    "    pred = exp_pred / np.sum(exp_pred)\n",
    "    \n",
    "    prob = np.random.multinomial(1,pred,1)\n",
    "    return np.argmax(prob)"
   ]
  },
  {
   "cell_type": "code",
   "execution_count": 17,
   "metadata": {},
   "outputs": [],
   "source": [
    "np.random.multinomial?"
   ]
  },
  {
   "cell_type": "markdown",
   "metadata": {},
   "source": [
    "### Training Model"
   ]
  },
  {
   "cell_type": "code",
   "execution_count": 18,
   "metadata": {},
   "outputs": [],
   "source": [
    "# char = sorted(list(set(text)))\n",
    "# len(char)"
   ]
  },
  {
   "cell_type": "code",
   "execution_count": 19,
   "metadata": {},
   "outputs": [
    {
     "name": "stdout",
     "output_type": "stream",
     "text": [
      "\n",
      "--------------------------------------------------\n",
      "Iteration 1\n",
      "WARNING:tensorflow:From /home/puneet/.local/lib/python3.6/site-packages/tensorflow/python/ops/math_ops.py:3066: to_int32 (from tensorflow.python.ops.math_ops) is deprecated and will be removed in a future version.\n",
      "Instructions for updating:\n",
      "Use tf.cast instead.\n",
      "Epoch 1/1\n",
      " - 165s - loss: 2.0555 - acc: 0.3962\n",
      "\n",
      "----- diversity: 0.2\n",
      "----- Generating with seed: \"ertain that the jews, if they desired--or if they\n",
      "\"\n",
      "ertain that the jews, if they desired--or if they\n",
      "in the inder the still the and "
     ]
    },
    {
     "name": "stderr",
     "output_type": "stream",
     "text": [
      "/home/puneet/.local/lib/python3.6/site-packages/ipykernel_launcher.py:3: RuntimeWarning: divide by zero encountered in log\n",
      "  This is separate from the ipykernel package so we can avoid doing imports until\n"
     ]
    },
    {
     "name": "stdout",
     "output_type": "stream",
     "text": [
      "and there is and and the its the most the most to the interch and the the still as and and and and and the inder all the other and the the strenged what all and and there is the man of the strantion and the strange the inder and the in the man its and and and the stranges the strange the most and the most and and the most and the will the most and and the still and t\n",
      "\n",
      "----- diversity: 0.5\n",
      "----- Generating with seed: \"ertain that the jews, if they desired--or if they\n",
      "\"\n",
      "ertain that the jews, if they desired--or if they\n",
      "here there aboot and which his mort also its instinct the gain to this its art the stild this for it of there far as its enjorture in the resso the there as a\n",
      "man, for such all a no the in the man, strautions of his still contares is of this is also and the there there is his nature of the the frien and who have what of which for moral to the most as can it is\n",
      "all-he a could perhaps and has the th\n",
      "\n",
      "----- diversity: 1.0\n",
      "----- Generating with seed: \"ertain that the jews, if they desired--or if they\n",
      "\"\n",
      "ertain that the jews, if they desired--or if they\n",
      "ther: which--\n",
      "    leagritity of fleencial no deven that hear probed, and dranger\n",
      "no the, consciance to foum to hither\n",
      "no bellects re no most infur anough ats its phiesious is wall is theten we longed grate es, an berar, an\n",
      "even hery hopse1es and we etrite,\n",
      "a over,t--in there is let rece of for groted food in there is and natuin, in things herst that reed he-far at wher then they us loffer of an ho\n",
      "\n",
      "----- diversity: 1.2\n",
      "----- Generating with seed: \"ertain that the jews, if they desired--or if they\n",
      "\"\n",
      "ertain that the jews, if they desired--or if they\n",
      "cose-degual to semst caing\n",
      "in or thither kensical lesss hedwurh for be\n",
      "leos conable whule\n",
      "\n",
      "the noble in senses enest os divenes, to farmofein that a we stipuld, but which ancleing wn this\n",
      "elathing\n",
      "hisly, if pulsaler ly frems--a centual hisk-a\"ly, hisho pire whint to bsegfred,\n",
      "unbephial, theopers posho sanche ver, it curtherur is as wimlwhas o\n",
      " stretes enlight of contectable\n",
      "\" fleast harily is is o\n",
      "\n",
      "--------------------------------------------------\n",
      "Iteration 2\n",
      "Epoch 1/1\n",
      " - 169s - loss: 1.6910 - acc: 0.4995\n",
      "\n",
      "----- diversity: 0.2\n",
      "----- Generating with seed: \"that\n",
      "because you are able to tyrannize over yourse\"\n",
      "that\n",
      "because you are able to tyrannize over yourselves and which is the good of the art to the fand of the endous of the from the same the reading of the indeligions of the art the fact to the good to the something of the arming in the faction of the san of the indeligions of the concering in the self desight of the himself to the great and the fand and the formines and the present of the art the formines the longer and himself and the indeligion\n",
      "\n",
      "----- diversity: 0.5\n",
      "----- Generating with seed: \"that\n",
      "because you are able to tyrannize over yourse\"\n",
      "that\n",
      "because you are able to tyrannize over yourselves of the uterst and ones have all could and instraise self of the simply of the any himself to himself; our seme of the perhaps a cruely of the sarting of all the itself to itself it of the the feiling world are all being it is at and expresed in the formined and the present in\n",
      "goods something of the sake the poment to all net in the something thing of thing of the the nature of they has grick \n",
      "\n",
      "----- diversity: 1.0\n",
      "----- Generating with seed: \"that\n",
      "because you are able to tyrannize over yourse\"\n",
      "that\n",
      "because you are able to tyrannize over yourse enviraty\n",
      "of their accoud out\n",
      "trayes are is\n",
      "so morenners; our sead. tomey a pans; the mother orner-presigementions grank\n",
      "things imposs, are lights, and otherw of perheasions of man of time of they hearcive of the the geamonifie,\n",
      "and canning and mocauisming\n",
      "the german mif the instrableanity.=--it objerited\"\n",
      "mockeddy one to him. not an its\n",
      "lasterigling of clase one\n",
      "to selugions ingerming and the act\n",
      "\n",
      "----- diversity: 1.2\n",
      "----- Generating with seed: \"that\n",
      "because you are able to tyrannize over yourse\"\n",
      "that\n",
      "because you are able to tyrannize over yourserveiring! itself howthing inturche,\"--it\n",
      "immesteps of a faveer pregises and illw, from gast. bee anmortity of\n",
      "thing and out of stupimit to masting and muchied of wheo all emroage\" abself of goesly-elingrodise stroud. moraliberationacis. be the go word ele love for ganded wollmine, eldy\n",
      "oricacuedne\n",
      "dos; intaturan raftrie, disclessions1ilty:--at havid ow\n",
      "-deverent, indesive, hich\n",
      "drieging! his subtt\n",
      "\n",
      "--------------------------------------------------\n",
      "Iteration 3\n",
      "Epoch 1/1\n",
      " - 165s - loss: nan - acc: 0.1289\n",
      "\n",
      "----- diversity: 0.2\n",
      "----- Generating with seed: \"to be sure, which offers excellent\n",
      "opportunity and\"\n",
      "to be sure, which offers excellent\n",
      "opportunity and                                                                                                                                                                                                                                                                                                                                                                                                                \n",
      "\n",
      "----- diversity: 0.5\n",
      "----- Generating with seed: \"to be sure, which offers excellent\n",
      "opportunity and\"\n",
      "to be sure, which offers excellent\n",
      "opportunity and                                                                                                                                                                                                                                                                                                                                                                                                                \n",
      "\n",
      "----- diversity: 1.0\n",
      "----- Generating with seed: \"to be sure, which offers excellent\n",
      "opportunity and\"\n",
      "to be sure, which offers excellent\n",
      "opportunity and                                                                                                                                                                                                                                                                                                                                                                                                                \n",
      "\n",
      "----- diversity: 1.2\n",
      "----- Generating with seed: \"to be sure, which offers excellent\n",
      "opportunity and\"\n",
      "to be sure, which offers excellent\n",
      "opportunity and                                                                                                                                                                                                                                                                                                                                                                                                                \n",
      "\n",
      "--------------------------------------------------\n",
      "Iteration 4\n",
      "Epoch 1/1\n",
      " - 164s - loss: nan - acc: 0.0163\n",
      "\n",
      "----- diversity: 0.2\n",
      "----- Generating with seed: \"ifficult to\n",
      "nourish, know the dangerous dyspepsia \"\n",
      "ifficult to\n",
      "nourish, know the dangerous dyspepsia                                                                                                                                                                                                                                                                                                                                                                                                                 \n",
      "\n",
      "----- diversity: 0.5\n",
      "----- Generating with seed: \"ifficult to\n",
      "nourish, know the dangerous dyspepsia \"\n",
      "ifficult to\n",
      "nourish, know the dangerous dyspepsia                                                                                                                                                                                                                                                                                                                                                                                                                 \n",
      "\n",
      "----- diversity: 1.0\n",
      "----- Generating with seed: \"ifficult to\n",
      "nourish, know the dangerous dyspepsia \"\n",
      "ifficult to\n"
     ]
    },
    {
     "name": "stdout",
     "output_type": "stream",
     "text": [
      "nourish, know the dangerous dyspepsia                                                                                                                                                                                                                                                                                                                                                                                                                 \n",
      "\n",
      "----- diversity: 1.2\n",
      "----- Generating with seed: \"ifficult to\n",
      "nourish, know the dangerous dyspepsia \"\n",
      "ifficult to\n",
      "nourish, know the dangerous dyspepsia                                                                                                                                                                                                                                                                                                                                                                                                                 \n",
      "\n",
      "--------------------------------------------------\n",
      "Iteration 5\n",
      "Epoch 1/1\n",
      " - 165s - loss: nan - acc: 0.0163\n",
      "\n",
      "----- diversity: 0.2\n",
      "----- Generating with seed: \"ble expression of\n",
      "this morality even in political \"\n",
      "ble expression of\n",
      "this morality even in political                                                                                                                                                                                                                                                                                                                                                                                                                 \n",
      "\n",
      "----- diversity: 0.5\n",
      "----- Generating with seed: \"ble expression of\n",
      "this morality even in political \"\n",
      "ble expression of\n",
      "this morality even in political                                                                                                                                                                                                                                                                                                                                                                                                                 \n",
      "\n",
      "----- diversity: 1.0\n",
      "----- Generating with seed: \"ble expression of\n",
      "this morality even in political \"\n",
      "ble expression of\n",
      "this morality even in political                                                                                                                                                                                                                                                                                                                                                                                                                 \n",
      "\n",
      "----- diversity: 1.2\n",
      "----- Generating with seed: \"ble expression of\n",
      "this morality even in political \"\n",
      "ble expression of\n",
      "this morality even in political                                                                                                                                                                                                                                                                                                                                                                                                                 \n",
      "\n",
      "--------------------------------------------------\n",
      "Iteration 6\n",
      "Epoch 1/1\n",
      " - 162s - loss: nan - acc: 0.0163\n",
      "\n",
      "----- diversity: 0.2\n",
      "----- Generating with seed: \"-as they do, indeed, according to the\n",
      "opinion of t\"\n",
      "-as they do, indeed, according to the\n",
      "opinion of t                                                                                                                                                                                                                                                                                                                                                                                                                \n",
      "\n",
      "----- diversity: 0.5\n",
      "----- Generating with seed: \"-as they do, indeed, according to the\n",
      "opinion of t\"\n",
      "-as they do, indeed, according to the\n",
      "opinion of t                                                                                                                                                                                                                                                                                                                                                                                                                \n",
      "\n",
      "----- diversity: 1.0\n",
      "----- Generating with seed: \"-as they do, indeed, according to the\n",
      "opinion of t\"\n",
      "-as they do, indeed, according to the\n",
      "opinion of t                                                                                                                                                                                                                                                                                                                                                                                                                \n",
      "\n",
      "----- diversity: 1.2\n",
      "----- Generating with seed: \"-as they do, indeed, according to the\n",
      "opinion of t\"\n",
      "-as they do, indeed, according to the\n",
      "opinion of t                                                                                                                                                                                                                                                                                                                                                                                                                \n",
      "\n",
      "--------------------------------------------------\n",
      "Iteration 7\n",
      "Epoch 1/1\n",
      " - 164s - loss: nan - acc: 0.0163\n",
      "\n",
      "----- diversity: 0.2\n",
      "----- Generating with seed: \"les a man seeks either to dominate, or justify,\n",
      "or\"\n",
      "les a man seeks either to dominate, or justify,\n",
      "or                                                                                                                                                                                                                                                                                                                                                                                                                \n",
      "\n",
      "----- diversity: 0.5\n",
      "----- Generating with seed: \"les a man seeks either to dominate, or justify,\n",
      "or\"\n",
      "les a man seeks either to dominate, or justify,\n",
      "or                                                                                                                                                                                                                                                                                                                                                                                                                \n",
      "\n",
      "----- diversity: 1.0\n",
      "----- Generating with seed: \"les a man seeks either to dominate, or justify,\n",
      "or\"\n",
      "les a man seeks either to dominate, or justify,\n",
      "or                                                                                                                                                                                                                                                                                                                                                                                                                \n",
      "\n",
      "----- diversity: 1.2\n",
      "----- Generating with seed: \"les a man seeks either to dominate, or justify,\n",
      "or\"\n",
      "les a man seeks either to dominate, or justify,\n",
      "or                                                                                                                                                                                                                                                                                                                                                                                                                \n",
      "\n",
      "--------------------------------------------------\n",
      "Iteration 8\n",
      "Epoch 1/1\n",
      " - 163s - loss: nan - acc: 0.0163\n",
      "\n",
      "----- diversity: 0.2\n",
      "----- Generating with seed: \"in this art affords presence of mind in difficult\n",
      "\"\n",
      "in this art affords presence of mind in difficult\n"
     ]
    },
    {
     "name": "stdout",
     "output_type": "stream",
     "text": [
      "                                                                                                                                                                                                                                                                                                                                                                                                                \n",
      "\n",
      "----- diversity: 0.5\n",
      "----- Generating with seed: \"in this art affords presence of mind in difficult\n",
      "\"\n",
      "in this art affords presence of mind in difficult\n",
      "                                                                                                                                                                                                                                                                                                                                                                                                                \n",
      "\n",
      "----- diversity: 1.0\n",
      "----- Generating with seed: \"in this art affords presence of mind in difficult\n",
      "\"\n",
      "in this art affords presence of mind in difficult\n",
      "                                                                                                                                                                                                                                                                                                                                                                                                                \n",
      "\n",
      "----- diversity: 1.2\n",
      "----- Generating with seed: \"in this art affords presence of mind in difficult\n",
      "\"\n",
      "in this art affords presence of mind in difficult\n",
      "                                                                                                                                                                                                                                                                                                                                                                                                                \n",
      "\n",
      "--------------------------------------------------\n",
      "Iteration 9\n",
      "Epoch 1/1\n",
      " - 1216s - loss: nan - acc: 0.0163\n",
      "\n",
      "----- diversity: 0.2\n",
      "----- Generating with seed: \"t: they honoured something\n",
      "in themselves when they\"\n",
      "t: they honoured something\n",
      "in themselves when they                                                                                                                                                                                                                                                                                                                                                                                                                \n",
      "\n",
      "----- diversity: 0.5\n",
      "----- Generating with seed: \"t: they honoured something\n",
      "in themselves when they\"\n",
      "t: they honoured something\n",
      "in themselves when they                                                                                                                                                                                                                                                                                                                                                                                                                \n",
      "\n",
      "----- diversity: 1.0\n",
      "----- Generating with seed: \"t: they honoured something\n",
      "in themselves when they\"\n",
      "t: they honoured something\n",
      "in themselves when they                                                                                                                                                                                                                                                                                                                                                                                                                \n",
      "\n",
      "----- diversity: 1.2\n",
      "----- Generating with seed: \"t: they honoured something\n",
      "in themselves when they\"\n",
      "t: they honoured something\n",
      "in themselves when they                                                                                                                                                                                                                                                                                                                                                                                                                \n"
     ]
    }
   ],
   "source": [
    "for iteration in range(1, 10):\n",
    "    print()\n",
    "    print('-' * 50)\n",
    "    print('Iteration', iteration)\n",
    "    model.fit(X, Y, shuffle=True,\n",
    "              batch_size=128,\n",
    "              epochs=1, verbose=2)\n",
    "\n",
    "    start_index = random.randint(0, len(text) - maxlen - 1)\n",
    "    div = [0.2, 0.5, 1.0, 1.2]\n",
    "    for diversity in div:\n",
    "        print()\n",
    "        print('----- diversity:', diversity)\n",
    "\n",
    "        generated = ''\n",
    "        sentence = text[start_index: start_index + maxlen]\n",
    "        generated += sentence\n",
    "        print('----- Generating with seed: \"' + sentence + '\"')\n",
    "        sys.stdout.write(generated)\n",
    "\n",
    "        for i in range(400):\n",
    "            x = np.zeros((1, maxlen, len(chars)))\n",
    "            for t, char in enumerate(sentence):\n",
    "                x[0, t, char_idx[char]] = 1.\n",
    "\n",
    "            preds = model.predict(x, verbose=0)[0]\n",
    "#             print(len(preds))\n",
    "            next_index = sampling(preds, diversity)\n",
    "            next_char = idx_char[next_index]\n",
    "\n",
    "            generated += next_char\n",
    "            sentence = sentence[1:] + next_char\n",
    "\n",
    "            sys.stdout.write(next_char)\n",
    "            sys.stdout.flush()\n",
    "        print()"
   ]
  },
  {
   "cell_type": "code",
   "execution_count": null,
   "metadata": {},
   "outputs": [],
   "source": []
  },
  {
   "cell_type": "code",
   "execution_count": null,
   "metadata": {},
   "outputs": [],
   "source": []
  }
 ],
 "metadata": {
  "kernelspec": {
   "display_name": "Python 3",
   "language": "python",
   "name": "python3"
  },
  "language_info": {
   "codemirror_mode": {
    "name": "ipython",
    "version": 3
   },
   "file_extension": ".py",
   "mimetype": "text/x-python",
   "name": "python",
   "nbconvert_exporter": "python",
   "pygments_lexer": "ipython3",
   "version": "3.6.8"
  }
 },
 "nbformat": 4,
 "nbformat_minor": 2
}
