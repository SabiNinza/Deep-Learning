{
 "cells": [
  {
   "cell_type": "markdown",
   "metadata": {},
   "source": [
    "# Temperature Prediction Using RNN"
   ]
  },
  {
   "cell_type": "code",
   "execution_count": 1,
   "metadata": {},
   "outputs": [],
   "source": [
    "import numpy as np\n",
    "import matplotlib.pyplot as plt\n",
    "import os\n",
    "import pandas as pd"
   ]
  },
  {
   "cell_type": "code",
   "execution_count": 2,
   "metadata": {},
   "outputs": [],
   "source": [
    "path = \"./jena_climate_2009_2016.csv\"\n",
    "f = open(path)\n",
    "data = f.read()\n",
    "f.close()"
   ]
  },
  {
   "cell_type": "code",
   "execution_count": 3,
   "metadata": {},
   "outputs": [
    {
     "name": "stdout",
     "output_type": "stream",
     "text": [
      "01.01.2009 00:20:00,996.57,-8.41,265.01,-9.28,93.40,3.23,3.02,0.21,1.89,3.03,1309.80,0.72,1.50,136.10\n",
      "['01.01.2009 00:20:00', '996.57', '-8.41', '265.01', '-9.28', '93.40', '3.23', '3.02', '0.21', '1.89', '3.03', '1309.80', '0.72', '1.50', '136.10']\n"
     ]
    }
   ],
   "source": [
    "split = data.split(\"\\n\")\n",
    "# print(len(split[1]))\n",
    "print(split[2])\n",
    "print(split[2].split(\",\"))"
   ]
  },
  {
   "cell_type": "code",
   "execution_count": 4,
   "metadata": {},
   "outputs": [
    {
     "name": "stdout",
     "output_type": "stream",
     "text": [
      "Index(['Date Time', 'p (mbar)', 'T (degC)', 'Tpot (K)', 'Tdew (degC)',\n",
      "       'rh (%)', 'VPmax (mbar)', 'VPact (mbar)', 'VPdef (mbar)', 'sh (g/kg)',\n",
      "       'H2OC (mmol/mol)', 'rho (g/m**3)', 'wv (m/s)', 'max. wv (m/s)',\n",
      "       'wd (deg)'],\n",
      "      dtype='object')\n"
     ]
    },
    {
     "data": {
      "text/html": [
       "<div>\n",
       "<style scoped>\n",
       "    .dataframe tbody tr th:only-of-type {\n",
       "        vertical-align: middle;\n",
       "    }\n",
       "\n",
       "    .dataframe tbody tr th {\n",
       "        vertical-align: top;\n",
       "    }\n",
       "\n",
       "    .dataframe thead th {\n",
       "        text-align: right;\n",
       "    }\n",
       "</style>\n",
       "<table border=\"1\" class=\"dataframe\">\n",
       "  <thead>\n",
       "    <tr style=\"text-align: right;\">\n",
       "      <th></th>\n",
       "      <th>Date Time</th>\n",
       "      <th>p (mbar)</th>\n",
       "      <th>T (degC)</th>\n",
       "      <th>Tpot (K)</th>\n",
       "      <th>Tdew (degC)</th>\n",
       "      <th>rh (%)</th>\n",
       "      <th>VPmax (mbar)</th>\n",
       "      <th>VPact (mbar)</th>\n",
       "      <th>VPdef (mbar)</th>\n",
       "      <th>sh (g/kg)</th>\n",
       "      <th>H2OC (mmol/mol)</th>\n",
       "      <th>rho (g/m**3)</th>\n",
       "      <th>wv (m/s)</th>\n",
       "      <th>max. wv (m/s)</th>\n",
       "      <th>wd (deg)</th>\n",
       "    </tr>\n",
       "  </thead>\n",
       "  <tbody>\n",
       "    <tr>\n",
       "      <th>0</th>\n",
       "      <td>01.01.2009 00:10:00</td>\n",
       "      <td>996.52</td>\n",
       "      <td>-8.02</td>\n",
       "      <td>265.40</td>\n",
       "      <td>-8.90</td>\n",
       "      <td>93.3</td>\n",
       "      <td>3.33</td>\n",
       "      <td>3.11</td>\n",
       "      <td>0.22</td>\n",
       "      <td>1.94</td>\n",
       "      <td>3.12</td>\n",
       "      <td>1307.75</td>\n",
       "      <td>1.03</td>\n",
       "      <td>1.75</td>\n",
       "      <td>152.3</td>\n",
       "    </tr>\n",
       "    <tr>\n",
       "      <th>1</th>\n",
       "      <td>01.01.2009 00:20:00</td>\n",
       "      <td>996.57</td>\n",
       "      <td>-8.41</td>\n",
       "      <td>265.01</td>\n",
       "      <td>-9.28</td>\n",
       "      <td>93.4</td>\n",
       "      <td>3.23</td>\n",
       "      <td>3.02</td>\n",
       "      <td>0.21</td>\n",
       "      <td>1.89</td>\n",
       "      <td>3.03</td>\n",
       "      <td>1309.80</td>\n",
       "      <td>0.72</td>\n",
       "      <td>1.50</td>\n",
       "      <td>136.1</td>\n",
       "    </tr>\n",
       "    <tr>\n",
       "      <th>2</th>\n",
       "      <td>01.01.2009 00:30:00</td>\n",
       "      <td>996.53</td>\n",
       "      <td>-8.51</td>\n",
       "      <td>264.91</td>\n",
       "      <td>-9.31</td>\n",
       "      <td>93.9</td>\n",
       "      <td>3.21</td>\n",
       "      <td>3.01</td>\n",
       "      <td>0.20</td>\n",
       "      <td>1.88</td>\n",
       "      <td>3.02</td>\n",
       "      <td>1310.24</td>\n",
       "      <td>0.19</td>\n",
       "      <td>0.63</td>\n",
       "      <td>171.6</td>\n",
       "    </tr>\n",
       "    <tr>\n",
       "      <th>3</th>\n",
       "      <td>01.01.2009 00:40:00</td>\n",
       "      <td>996.51</td>\n",
       "      <td>-8.31</td>\n",
       "      <td>265.12</td>\n",
       "      <td>-9.07</td>\n",
       "      <td>94.2</td>\n",
       "      <td>3.26</td>\n",
       "      <td>3.07</td>\n",
       "      <td>0.19</td>\n",
       "      <td>1.92</td>\n",
       "      <td>3.08</td>\n",
       "      <td>1309.19</td>\n",
       "      <td>0.34</td>\n",
       "      <td>0.50</td>\n",
       "      <td>198.0</td>\n",
       "    </tr>\n",
       "    <tr>\n",
       "      <th>4</th>\n",
       "      <td>01.01.2009 00:50:00</td>\n",
       "      <td>996.51</td>\n",
       "      <td>-8.27</td>\n",
       "      <td>265.15</td>\n",
       "      <td>-9.04</td>\n",
       "      <td>94.1</td>\n",
       "      <td>3.27</td>\n",
       "      <td>3.08</td>\n",
       "      <td>0.19</td>\n",
       "      <td>1.92</td>\n",
       "      <td>3.09</td>\n",
       "      <td>1309.00</td>\n",
       "      <td>0.32</td>\n",
       "      <td>0.63</td>\n",
       "      <td>214.3</td>\n",
       "    </tr>\n",
       "  </tbody>\n",
       "</table>\n",
       "</div>"
      ],
      "text/plain": [
       "             Date Time  p (mbar)  T (degC)  Tpot (K)  Tdew (degC)  rh (%)  \\\n",
       "0  01.01.2009 00:10:00    996.52     -8.02    265.40        -8.90    93.3   \n",
       "1  01.01.2009 00:20:00    996.57     -8.41    265.01        -9.28    93.4   \n",
       "2  01.01.2009 00:30:00    996.53     -8.51    264.91        -9.31    93.9   \n",
       "3  01.01.2009 00:40:00    996.51     -8.31    265.12        -9.07    94.2   \n",
       "4  01.01.2009 00:50:00    996.51     -8.27    265.15        -9.04    94.1   \n",
       "\n",
       "   VPmax (mbar)  VPact (mbar)  VPdef (mbar)  sh (g/kg)  H2OC (mmol/mol)  \\\n",
       "0          3.33          3.11          0.22       1.94             3.12   \n",
       "1          3.23          3.02          0.21       1.89             3.03   \n",
       "2          3.21          3.01          0.20       1.88             3.02   \n",
       "3          3.26          3.07          0.19       1.92             3.08   \n",
       "4          3.27          3.08          0.19       1.92             3.09   \n",
       "\n",
       "   rho (g/m**3)  wv (m/s)  max. wv (m/s)  wd (deg)  \n",
       "0       1307.75      1.03           1.75     152.3  \n",
       "1       1309.80      0.72           1.50     136.1  \n",
       "2       1310.24      0.19           0.63     171.6  \n",
       "3       1309.19      0.34           0.50     198.0  \n",
       "4       1309.00      0.32           0.63     214.3  "
      ]
     },
     "execution_count": 4,
     "metadata": {},
     "output_type": "execute_result"
    }
   ],
   "source": [
    "dataset1 = pd.read_csv(\"./jena_climate_2009_2016.csv\")\n",
    "print(dataset1.columns)\n",
    "dataset1.head(5)"
   ]
  },
  {
   "cell_type": "code",
   "execution_count": 5,
   "metadata": {},
   "outputs": [
    {
     "data": {
      "text/html": [
       "<div>\n",
       "<style scoped>\n",
       "    .dataframe tbody tr th:only-of-type {\n",
       "        vertical-align: middle;\n",
       "    }\n",
       "\n",
       "    .dataframe tbody tr th {\n",
       "        vertical-align: top;\n",
       "    }\n",
       "\n",
       "    .dataframe thead th {\n",
       "        text-align: right;\n",
       "    }\n",
       "</style>\n",
       "<table border=\"1\" class=\"dataframe\">\n",
       "  <thead>\n",
       "    <tr style=\"text-align: right;\">\n",
       "      <th></th>\n",
       "      <th>p (mbar)</th>\n",
       "      <th>T (degC)</th>\n",
       "      <th>Tpot (K)</th>\n",
       "      <th>Tdew (degC)</th>\n",
       "      <th>rh (%)</th>\n",
       "      <th>VPmax (mbar)</th>\n",
       "      <th>VPact (mbar)</th>\n",
       "      <th>VPdef (mbar)</th>\n",
       "      <th>sh (g/kg)</th>\n",
       "      <th>H2OC (mmol/mol)</th>\n",
       "      <th>rho (g/m**3)</th>\n",
       "      <th>wv (m/s)</th>\n",
       "      <th>max. wv (m/s)</th>\n",
       "      <th>wd (deg)</th>\n",
       "    </tr>\n",
       "  </thead>\n",
       "  <tbody>\n",
       "    <tr>\n",
       "      <th>0</th>\n",
       "      <td>996.52</td>\n",
       "      <td>-8.02</td>\n",
       "      <td>265.40</td>\n",
       "      <td>-8.90</td>\n",
       "      <td>93.3</td>\n",
       "      <td>3.33</td>\n",
       "      <td>3.11</td>\n",
       "      <td>0.22</td>\n",
       "      <td>1.94</td>\n",
       "      <td>3.12</td>\n",
       "      <td>1307.75</td>\n",
       "      <td>1.03</td>\n",
       "      <td>1.75</td>\n",
       "      <td>152.3</td>\n",
       "    </tr>\n",
       "    <tr>\n",
       "      <th>1</th>\n",
       "      <td>996.57</td>\n",
       "      <td>-8.41</td>\n",
       "      <td>265.01</td>\n",
       "      <td>-9.28</td>\n",
       "      <td>93.4</td>\n",
       "      <td>3.23</td>\n",
       "      <td>3.02</td>\n",
       "      <td>0.21</td>\n",
       "      <td>1.89</td>\n",
       "      <td>3.03</td>\n",
       "      <td>1309.80</td>\n",
       "      <td>0.72</td>\n",
       "      <td>1.50</td>\n",
       "      <td>136.1</td>\n",
       "    </tr>\n",
       "  </tbody>\n",
       "</table>\n",
       "</div>"
      ],
      "text/plain": [
       "   p (mbar)  T (degC)  Tpot (K)  Tdew (degC)  rh (%)  VPmax (mbar)  \\\n",
       "0    996.52     -8.02    265.40        -8.90    93.3          3.33   \n",
       "1    996.57     -8.41    265.01        -9.28    93.4          3.23   \n",
       "\n",
       "   VPact (mbar)  VPdef (mbar)  sh (g/kg)  H2OC (mmol/mol)  rho (g/m**3)  \\\n",
       "0          3.11          0.22       1.94             3.12       1307.75   \n",
       "1          3.02          0.21       1.89             3.03       1309.80   \n",
       "\n",
       "   wv (m/s)  max. wv (m/s)  wd (deg)  \n",
       "0      1.03           1.75     152.3  \n",
       "1      0.72           1.50     136.1  "
      ]
     },
     "execution_count": 5,
     "metadata": {},
     "output_type": "execute_result"
    }
   ],
   "source": [
    "# data[400:800]\n",
    "dataset1=dataset1.drop(axis = 0 , columns = \"Date Time\")\n",
    "dataset1.head(2)"
   ]
  },
  {
   "cell_type": "code",
   "execution_count": 6,
   "metadata": {},
   "outputs": [
    {
     "name": "stdout",
     "output_type": "stream",
     "text": [
      "<class 'pandas.core.frame.DataFrame'>\n",
      "RangeIndex: 420551 entries, 0 to 420550\n",
      "Data columns (total 14 columns):\n",
      "p (mbar)           420551 non-null float64\n",
      "T (degC)           420551 non-null float64\n",
      "Tpot (K)           420551 non-null float64\n",
      "Tdew (degC)        420551 non-null float64\n",
      "rh (%)             420551 non-null float64\n",
      "VPmax (mbar)       420551 non-null float64\n",
      "VPact (mbar)       420551 non-null float64\n",
      "VPdef (mbar)       420551 non-null float64\n",
      "sh (g/kg)          420551 non-null float64\n",
      "H2OC (mmol/mol)    420551 non-null float64\n",
      "rho (g/m**3)       420551 non-null float64\n",
      "wv (m/s)           420551 non-null float64\n",
      "max. wv (m/s)      420551 non-null float64\n",
      "wd (deg)           420551 non-null float64\n",
      "dtypes: float64(14)\n",
      "memory usage: 44.9 MB\n"
     ]
    }
   ],
   "source": [
    "dataset1.info()"
   ]
  },
  {
   "cell_type": "code",
   "execution_count": 7,
   "metadata": {},
   "outputs": [
    {
     "data": {
      "text/plain": [
       "<Figure size 432x288 with 0 Axes>"
      ]
     },
     "metadata": {},
     "output_type": "display_data"
    },
    {
     "data": {
      "image/png": "[encoded data removed]",
      "text/plain": [
       "<Figure size 720x720 with 16 Axes>"
      ]
     },
     "metadata": {
      "needs_background": "light"
     },
     "output_type": "display_data"
    }
   ],
   "source": [
    "plt.figure()\n",
    "dataset1.hist(figsize = (10,10))\n",
    "plt.show()"
   ]
  },
  {
   "cell_type": "code",
   "execution_count": 8,
   "metadata": {},
   "outputs": [
    {
     "data": {
      "text/plain": [
       "(420551, 14)"
      ]
     },
     "execution_count": 8,
     "metadata": {},
     "output_type": "execute_result"
    }
   ],
   "source": [
    "import numpy as np\n",
    "# print(dataset1.columns)\n",
    "dataset = dataset1.values\n",
    "dataset.shape"
   ]
  },
  {
   "cell_type": "code",
   "execution_count": 9,
   "metadata": {},
   "outputs": [
    {
     "data": {
      "image/png": "[encoded data removed]",
      "text/plain": [
       "<Figure size 432x288 with 1 Axes>"
      ]
     },
     "metadata": {
      "needs_background": "light"
     },
     "output_type": "display_data"
    }
   ],
   "source": [
    "plt.figure()\n",
    "plt.plot(range(len(dataset[:,2])) , dataset[:,2])\n",
    "plt.show()"
   ]
  },
  {
   "cell_type": "code",
   "execution_count": 10,
   "metadata": {},
   "outputs": [
    {
     "data": {
      "image/png": "[encoded data removed]",
      "text/plain": [
       "<Figure size 432x288 with 1 Axes>"
      ]
     },
     "metadata": {
      "needs_background": "light"
     },
     "output_type": "display_data"
    }
   ],
   "source": [
    "plt.figure()\n",
    "plt.plot(range(len(dataset[:1000,2])) , dataset[:1000,2])\n",
    "plt.show()"
   ]
  },
  {
   "cell_type": "markdown",
   "metadata": {},
   "source": [
    "### Preparing the data or Normalising"
   ]
  },
  {
   "cell_type": "code",
   "execution_count": 11,
   "metadata": {},
   "outputs": [
    {
     "data": {
      "text/plain": [
       "996.52"
      ]
     },
     "execution_count": 11,
     "metadata": {},
     "output_type": "execute_result"
    }
   ],
   "source": [
    "for i in range(1,dataset.shape[1]):\n",
    "    mean = dataset[:100000,i].mean(axis=0)\n",
    "    std = dataset[:100000,i].std(axis=0)\n",
    "    dataset[:100000,i]=dataset[:100000,i]-mean\n",
    "    dataset[:100000,i]=dataset[:100000,i]/std\n",
    "dataset[0,0]"
   ]
  },
  {
   "cell_type": "code",
   "execution_count": 12,
   "metadata": {},
   "outputs": [],
   "source": [
    "# dataset[:,0]=[float(i) for i in dataset[:,0]]\n",
    "# print(type(dataset[0,0]))"
   ]
  },
  {
   "cell_type": "code",
   "execution_count": 13,
   "metadata": {},
   "outputs": [],
   "source": [
    "dataset1 = pd.DataFrame(data=dataset[0:,0:],    # values\n",
    "index=range(0,len(dataset)),    # 1st column as index\n",
    "columns=dataset1.columns) "
   ]
  },
  {
   "cell_type": "code",
   "execution_count": 14,
   "metadata": {},
   "outputs": [
    {
     "name": "stdout",
     "output_type": "stream",
     "text": [
      "14\n"
     ]
    },
    {
     "data": {
      "text/html": [
       "<div>\n",
       "<style scoped>\n",
       "    .dataframe tbody tr th:only-of-type {\n",
       "        vertical-align: middle;\n",
       "    }\n",
       "\n",
       "    .dataframe tbody tr th {\n",
       "        vertical-align: top;\n",
       "    }\n",
       "\n",
       "    .dataframe thead th {\n",
       "        text-align: right;\n",
       "    }\n",
       "</style>\n",
       "<table border=\"1\" class=\"dataframe\">\n",
       "  <thead>\n",
       "    <tr style=\"text-align: right;\">\n",
       "      <th></th>\n",
       "      <th>p (mbar)</th>\n",
       "      <th>T (degC)</th>\n",
       "      <th>Tpot (K)</th>\n",
       "      <th>Tdew (degC)</th>\n",
       "      <th>rh (%)</th>\n",
       "      <th>VPmax (mbar)</th>\n",
       "      <th>VPact (mbar)</th>\n",
       "      <th>VPdef (mbar)</th>\n",
       "      <th>sh (g/kg)</th>\n",
       "      <th>H2OC (mmol/mol)</th>\n",
       "      <th>rho (g/m**3)</th>\n",
       "      <th>wv (m/s)</th>\n",
       "      <th>max. wv (m/s)</th>\n",
       "      <th>wd (deg)</th>\n",
       "    </tr>\n",
       "  </thead>\n",
       "  <tbody>\n",
       "    <tr>\n",
       "      <th>0</th>\n",
       "      <td>996.52</td>\n",
       "      <td>-1.946340</td>\n",
       "      <td>-2.032254</td>\n",
       "      <td>-1.910941</td>\n",
       "      <td>1.030216</td>\n",
       "      <td>-1.298112</td>\n",
       "      <td>-1.503142</td>\n",
       "      <td>-0.764211</td>\n",
       "      <td>-1.510099</td>\n",
       "      <td>-1.512007</td>\n",
       "      <td>2.268119</td>\n",
       "      <td>-0.724015</td>\n",
       "      <td>-0.776594</td>\n",
       "      <td>-0.240716</td>\n",
       "    </tr>\n",
       "    <tr>\n",
       "      <th>1</th>\n",
       "      <td>996.57</td>\n",
       "      <td>-1.991296</td>\n",
       "      <td>-2.077190</td>\n",
       "      <td>-1.965162</td>\n",
       "      <td>1.036347</td>\n",
       "      <td>-1.311340</td>\n",
       "      <td>-1.525043</td>\n",
       "      <td>-0.766313</td>\n",
       "      <td>-1.529296</td>\n",
       "      <td>-1.533667</td>\n",
       "      <td>2.319188</td>\n",
       "      <td>-0.925102</td>\n",
       "      <td>-0.885178</td>\n",
       "      <td>-0.423916</td>\n",
       "    </tr>\n",
       "    <tr>\n",
       "      <th>2</th>\n",
       "      <td>996.53</td>\n",
       "      <td>-2.002823</td>\n",
       "      <td>-2.088712</td>\n",
       "      <td>-1.969443</td>\n",
       "      <td>1.067000</td>\n",
       "      <td>-1.313986</td>\n",
       "      <td>-1.527477</td>\n",
       "      <td>-0.768415</td>\n",
       "      <td>-1.533135</td>\n",
       "      <td>-1.536074</td>\n",
       "      <td>2.330149</td>\n",
       "      <td>-1.268896</td>\n",
       "      <td>-1.263050</td>\n",
       "      <td>-0.022460</td>\n",
       "    </tr>\n",
       "    <tr>\n",
       "      <th>3</th>\n",
       "      <td>996.51</td>\n",
       "      <td>-1.979769</td>\n",
       "      <td>-2.064516</td>\n",
       "      <td>-1.935198</td>\n",
       "      <td>1.085392</td>\n",
       "      <td>-1.307371</td>\n",
       "      <td>-1.512876</td>\n",
       "      <td>-0.770517</td>\n",
       "      <td>-1.517778</td>\n",
       "      <td>-1.521634</td>\n",
       "      <td>2.303992</td>\n",
       "      <td>-1.171596</td>\n",
       "      <td>-1.319514</td>\n",
       "      <td>0.276089</td>\n",
       "    </tr>\n",
       "    <tr>\n",
       "      <th>4</th>\n",
       "      <td>996.51</td>\n",
       "      <td>-1.975158</td>\n",
       "      <td>-2.061059</td>\n",
       "      <td>-1.930917</td>\n",
       "      <td>1.079261</td>\n",
       "      <td>-1.306049</td>\n",
       "      <td>-1.510442</td>\n",
       "      <td>-0.770517</td>\n",
       "      <td>-1.517778</td>\n",
       "      <td>-1.519227</td>\n",
       "      <td>2.299259</td>\n",
       "      <td>-1.184569</td>\n",
       "      <td>-1.263050</td>\n",
       "      <td>0.460420</td>\n",
       "    </tr>\n",
       "  </tbody>\n",
       "</table>\n",
       "</div>"
      ],
      "text/plain": [
       "   p (mbar)  T (degC)  Tpot (K)  Tdew (degC)    rh (%)  VPmax (mbar)  \\\n",
       "0    996.52 -1.946340 -2.032254    -1.910941  1.030216     -1.298112   \n",
       "1    996.57 -1.991296 -2.077190    -1.965162  1.036347     -1.311340   \n",
       "2    996.53 -2.002823 -2.088712    -1.969443  1.067000     -1.313986   \n",
       "3    996.51 -1.979769 -2.064516    -1.935198  1.085392     -1.307371   \n",
       "4    996.51 -1.975158 -2.061059    -1.930917  1.079261     -1.306049   \n",
       "\n",
       "   VPact (mbar)  VPdef (mbar)  sh (g/kg)  H2OC (mmol/mol)  rho (g/m**3)  \\\n",
       "0     -1.503142     -0.764211  -1.510099        -1.512007      2.268119   \n",
       "1     -1.525043     -0.766313  -1.529296        -1.533667      2.319188   \n",
       "2     -1.527477     -0.768415  -1.533135        -1.536074      2.330149   \n",
       "3     -1.512876     -0.770517  -1.517778        -1.521634      2.303992   \n",
       "4     -1.510442     -0.770517  -1.517778        -1.519227      2.299259   \n",
       "\n",
       "   wv (m/s)  max. wv (m/s)  wd (deg)  \n",
       "0 -0.724015      -0.776594 -0.240716  \n",
       "1 -0.925102      -0.885178 -0.423916  \n",
       "2 -1.268896      -1.263050 -0.022460  \n",
       "3 -1.171596      -1.319514  0.276089  \n",
       "4 -1.184569      -1.263050  0.460420  "
      ]
     },
     "execution_count": 14,
     "metadata": {},
     "output_type": "execute_result"
    }
   ],
   "source": [
    "print(len(dataset1.columns))\n",
    "dataset1.head(5)"
   ]
  },
  {
   "cell_type": "code",
   "execution_count": 15,
   "metadata": {},
   "outputs": [
    {
     "data": {
      "image/png": "[encoded data removed]",
      "text/plain": [
       "<Figure size 1152x1152 with 13 Axes>"
      ]
     },
     "metadata": {
      "needs_background": "light"
     },
     "output_type": "display_data"
    }
   ],
   "source": [
    "plt.figure(figsize=(16,16))\n",
    "for i , p in enumerate(dataset1.columns):\n",
    "    if i==0: \n",
    "        continue\n",
    "    plt.title(p,fontsize=16,color=\"green\")\n",
    "    plt.subplot(5,3,i)\n",
    "    dataset1[p].hist(color=\"purple\")\n",
    "plt.show()\n"
   ]
  },
  {
   "cell_type": "code",
   "execution_count": 16,
   "metadata": {},
   "outputs": [],
   "source": [
    "# dataset2 = dataset1.drop(axis=0,columns=dataset2.head(4)dataset1.columns[0])\n",
    "# dataset2.head(4)\n",
    "# plt.figure()\n",
    "# dataset2.hist()\n",
    "# plt.show()"
   ]
  },
  {
   "cell_type": "code",
   "execution_count": 17,
   "metadata": {},
   "outputs": [
    {
     "data": {
      "text/plain": [
       "array([3, 6])"
      ]
     },
     "execution_count": 17,
     "metadata": {},
     "output_type": "execute_result"
    }
   ],
   "source": [
    "np.random.randint(3,8,2)"
   ]
  },
  {
   "cell_type": "markdown",
   "metadata": {},
   "source": [
    "### Generator (sample and target)"
   ]
  },
  {
   "cell_type": "code",
   "execution_count": 18,
   "metadata": {},
   "outputs": [],
   "source": [
    "def generator(data,past,future,min_idx,max_idx,step=6,batch_size=128,shuffle=True):\n",
    "    \n",
    "    if max_idx == None:\n",
    "        max_idx = len(data)-future-1\n",
    "    curr_row = min_idx + past\n",
    "    \n",
    "    while True:\n",
    "        if shuffle == True:\n",
    "            rows = np.random.randint(low=min_idx+past ,high=max_idx ,size=batch_size)\n",
    "            \n",
    "        else:\n",
    "            if curr_row+batch_size >= max_idx:\n",
    "                min_idx = min_idx + past\n",
    "                \n",
    "            rows = np.arange(curr_row , min(curr_row+batch_size,max_idx))\n",
    "            curr_row += len(rows)\n",
    "            \n",
    "        sample = np.zeros((len(rows),past//step,data.shape[-1]))\n",
    "        target = np.zeros((len(rows),))\n",
    "        \n",
    "        for j , r in enumerate(rows):\n",
    "            indices = range(rows[j]-past,rows[j],step)\n",
    "            sample[j] = data[indices]\n",
    "            target[j] = data[rows[j]+future][1]\n",
    "            \n",
    "        yield(sample,target)"
   ]
  },
  {
   "cell_type": "code",
   "execution_count": 19,
   "metadata": {},
   "outputs": [
    {
     "name": "stdout",
     "output_type": "stream",
     "text": [
      "(128, 240, 14)\n",
      "(128,)\n",
      "[-1.9002305  -2.03971085 -2.05239089 -2.11579105]\n",
      "[-2.05354362]\n"
     ]
    }
   ],
   "source": [
    "for s,t in generator(dataset,past=1440,future=144,min_idx=0,max_idx=None,shuffle=False):\n",
    "    print(s.shape)\n",
    "    print(t.shape)\n",
    "    print(s[1,1:5,1])\n",
    "    print(t[[1]])\n",
    "    break"
   ]
  },
  {
   "cell_type": "markdown",
   "metadata": {},
   "source": [
    "### Generators"
   ]
  },
  {
   "cell_type": "code",
   "execution_count": 22,
   "metadata": {},
   "outputs": [],
   "source": [
    "lookup = 1440\n",
    "delay = 144 #how much look in future\n",
    "steps = 6 # 1hour\n",
    "shuffle = True\n",
    "batch_size1 = 128\n",
    "\n",
    "train_gen = generator(dataset,\n",
    "                      past=lookup,future=delay\n",
    "                      ,min_idx=0\n",
    "                      ,max_idx=60000\n",
    "                      ,step=steps\n",
    "                      ,batch_size=batch_size1\n",
    "                      ,shuffle=shuffle)\n",
    "val_gen = generator(dataset,\n",
    "                      past=lookup,future=delay\n",
    "                      ,min_idx=60001\n",
    "                      ,max_idx=80000\n",
    "                      ,step=steps\n",
    "                      ,batch_size=batch_size1\n",
    "                      ,shuffle=shuffle)\n",
    "test_gen = generator(dataset,\n",
    "                      past=lookup,future=delay\n",
    "                      ,min_idx=80001\n",
    "                      ,max_idx=None\n",
    "                      ,step=steps\n",
    "                      ,batch_size=batch_size1\n",
    "                      ,shuffle=shuffle)"
   ]
  },
  {
   "cell_type": "code",
   "execution_count": 23,
   "metadata": {},
   "outputs": [
    {
     "name": "stdout",
     "output_type": "stream",
     "text": [
      "Training Generator :: \n",
      "(128, 240, 14)\n",
      "(128,)\n",
      "[-1.17977411 -1.44144387 -1.55556416 -1.48063669]\n",
      "[-1.20398144]\n",
      "************************************************************\n",
      "validation Generator :: \n",
      "(128, 240, 14)\n",
      "(128,)\n",
      "[1.18101739 1.11415904 1.04499523 0.98620599]\n",
      "[1.31819229]\n",
      "************************************************************\n",
      "Testing Generator :: \n",
      "(128, 240, 14)\n",
      "(128,)\n",
      "[4.33 4.63 4.51 4.52]\n",
      "[5.55]\n",
      "************************************************************\n"
     ]
    }
   ],
   "source": [
    "for s,t in train_gen:\n",
    "    print(\"Training Generator :: \")\n",
    "    print(s.shape)\n",
    "    print(t.shape)\n",
    "    print(s[1,1:5,1])\n",
    "    print(t[[1]])\n",
    "    print(\"*\"*60)\n",
    "    break\n",
    "for s,t in val_gen:\n",
    "    print(\"validation Generator :: \")\n",
    "    print(s.shape)\n",
    "    print(t.shape)\n",
    "    print(s[1,1:5,1])\n",
    "    print(t[[1]])\n",
    "    print(\"*\"*60)\n",
    "    break\n",
    "for s,t in test_gen:\n",
    "    print(\"Testing Generator :: \")\n",
    "    print(s.shape)\n",
    "    print(t.shape)\n",
    "    print(s[1,1:5,1])\n",
    "    print(t[[1]])\n",
    "    print(\"*\"*60)\n",
    "    break"
   ]
  },
  {
   "cell_type": "code",
   "execution_count": 25,
   "metadata": {},
   "outputs": [
    {
     "name": "stdout",
     "output_type": "stream",
     "text": [
      "1426 64851\n"
     ]
    }
   ],
   "source": [
    "val_steps = (30000-20001-lookup)//steps\n",
    "test_steps = (len(dataset)-30001-lookup)//steps\n",
    "print(val_steps,test_steps)"
   ]
  },
  {
   "cell_type": "markdown",
   "metadata": {},
   "source": [
    "### Naive Method(Today Temp is one day before temp)"
   ]
  },
  {
   "cell_type": "code",
   "execution_count": 26,
   "metadata": {},
   "outputs": [],
   "source": [
    "def NaivePrediction(valgenerator):\n",
    "    mae = list() #list of mean absoute error\n",
    "    for _ in range(val_steps):\n",
    "        sample,target = next(valgenerator)\n",
    "        pred = sample[:,-1,1]\n",
    "        abserr = np.mean(np.abs(pred-target))\n",
    "        mae.append(abserr)\n",
    "        \n",
    "    return np.mean(np.array(mae))"
   ]
  },
  {
   "cell_type": "code",
   "execution_count": 27,
   "metadata": {},
   "outputs": [
    {
     "data": {
      "text/plain": [
       "0.3209852931052208"
      ]
     },
     "execution_count": 27,
     "metadata": {},
     "output_type": "execute_result"
    }
   ],
   "source": [
    "NaivePrediction(val_gen)"
   ]
  },
  {
   "cell_type": "code",
   "execution_count": 28,
   "metadata": {},
   "outputs": [
    {
     "name": "stdout",
     "output_type": "stream",
     "text": [
      "Temperature error\n",
      "6.5792\n"
     ]
    }
   ],
   "source": [
    "print(\"Temperature error\")\n",
    "temperature_std=2.57\n",
    "print(2.56*temperature_std)"
   ]
  },
  {
   "cell_type": "markdown",
   "metadata": {},
   "source": [
    "### Model Architecture (simple FCC)"
   ]
  },
  {
   "cell_type": "code",
   "execution_count": 29,
   "metadata": {},
   "outputs": [
    {
     "name": "stderr",
     "output_type": "stream",
     "text": [
      "Using TensorFlow backend.\n",
      "/home/puneet/.local/lib/python3.6/site-packages/requests/__init__.py:91: RequestsDependencyWarning: urllib3 (1.24.1) or chardet (2.3.0) doesn't match a supported version!\n",
      "  RequestsDependencyWarning)\n"
     ]
    },
    {
     "name": "stdout",
     "output_type": "stream",
     "text": [
      "WARNING:tensorflow:From /home/puneet/.local/lib/python3.6/site-packages/tensorflow/python/framework/op_def_library.py:263: colocate_with (from tensorflow.python.framework.ops) is deprecated and will be removed in a future version.\n",
      "Instructions for updating:\n",
      "Colocations handled automatically by placer.\n",
      "_________________________________________________________________\n",
      "Layer (type)                 Output Shape              Param #   \n",
      "=================================================================\n",
      "flatten_1 (Flatten)          (None, 3360)              0         \n",
      "_________________________________________________________________\n",
      "dense_1 (Dense)              (None, 32)                107552    \n",
      "_________________________________________________________________\n",
      "dense_2 (Dense)              (None, 1)                 33        \n",
      "=================================================================\n",
      "Total params: 107,585\n",
      "Trainable params: 107,585\n",
      "Non-trainable params: 0\n",
      "_________________________________________________________________\n"
     ]
    }
   ],
   "source": [
    "from keras.models import Sequential\n",
    "from keras.layers import Flatten,Dense\n",
    "model = Sequential()\n",
    "model.add(Flatten(input_shape=(lookup//steps,dataset.shape[-1])))\n",
    "model.add(Dense(32,activation=\"relu\"))\n",
    "model.add(Dense(1))\n",
    "model.summary()"
   ]
  },
  {
   "cell_type": "code",
   "execution_count": 30,
   "metadata": {},
   "outputs": [],
   "source": [
    "from keras.optimizers import RMSprop\n",
    "model.compile(optimizer=RMSprop(),loss=\"mae\",metrics=[\"acc\"])"
   ]
  },
  {
   "cell_type": "markdown",
   "metadata": {},
   "source": [
    "### Training our model"
   ]
  },
  {
   "cell_type": "code",
   "execution_count": 31,
   "metadata": {},
   "outputs": [
    {
     "name": "stdout",
     "output_type": "stream",
     "text": [
      "WARNING:tensorflow:From /home/puneet/.local/lib/python3.6/site-packages/tensorflow/python/ops/math_ops.py:3066: to_int32 (from tensorflow.python.ops.math_ops) is deprecated and will be removed in a future version.\n",
      "Instructions for updating:\n",
      "Use tf.cast instead.\n",
      "Epoch 1/10\n",
      "500/500 [==============================] - 16s 31ms/step - loss: 85.5520 - acc: 0.0000e+00 - val_loss: 30.3881 - val_acc: 0.0000e+00\n",
      "Epoch 2/10\n",
      "500/500 [==============================] - 16s 33ms/step - loss: 37.1695 - acc: 0.0000e+00 - val_loss: 0.7134 - val_acc: 0.0000e+00\n",
      "Epoch 3/10\n",
      "500/500 [==============================] - 15s 30ms/step - loss: 0.8464 - acc: 0.0000e+00 - val_loss: 0.7552 - val_acc: 0.0000e+00\n",
      "Epoch 4/10\n",
      "500/500 [==============================] - 17s 33ms/step - loss: 0.8451 - acc: 0.0000e+00 - val_loss: 0.7520 - val_acc: 0.0000e+00\n",
      "Epoch 5/10\n",
      "500/500 [==============================] - 18s 36ms/step - loss: 0.8431 - acc: 0.0000e+00 - val_loss: 0.7548 - val_acc: 0.0000e+00\n",
      "Epoch 6/10\n",
      "500/500 [==============================] - 15s 31ms/step - loss: 0.8478 - acc: 0.0000e+00 - val_loss: 0.7561 - val_acc: 0.0000e+00\n",
      "Epoch 7/10\n",
      "500/500 [==============================] - 17s 33ms/step - loss: 0.8475 - acc: 0.0000e+00 - val_loss: 0.7555 - val_acc: 0.0000e+00\n",
      "Epoch 8/10\n",
      "500/500 [==============================] - 19s 39ms/step - loss: 0.8468 - acc: 0.0000e+00 - val_loss: 0.7551 - val_acc: 0.0000e+00\n",
      "Epoch 9/10\n",
      "500/500 [==============================] - 18s 35ms/step - loss: 0.8476 - acc: 0.0000e+00 - val_loss: 0.7475 - val_acc: 0.0000e+00\n",
      "Epoch 10/10\n",
      "500/500 [==============================] - 17s 33ms/step - loss: 0.8442 - acc: 0.0000e+00 - val_loss: 0.7509 - val_acc: 0.0000e+00\n"
     ]
    }
   ],
   "source": [
    "history = model.fit_generator(train_gen,\n",
    "                   steps_per_epoch=500,\n",
    "                   epochs=10,\n",
    "                   validation_data=val_gen,\n",
    "                   validation_steps=val_steps)"
   ]
  },
  {
   "cell_type": "code",
   "execution_count": 32,
   "metadata": {},
   "outputs": [
    {
     "data": {
      "image/png": "[encoded data removed]",
      "text/plain": [
       "<Figure size 432x288 with 1 Axes>"
      ]
     },
     "metadata": {
      "needs_background": "light"
     },
     "output_type": "display_data"
    }
   ],
   "source": [
    "import matplotlib.pyplot as plt\n",
    "\n",
    "loss = history.history['loss']\n",
    "val_loss = history.history['val_loss']\n",
    "\n",
    "epochs = range(len(loss))\n",
    "\n",
    "plt.figure()\n",
    "\n",
    "plt.plot(epochs, loss, 'bo', label='Training loss')\n",
    "plt.plot(epochs, val_loss, 'b', label='Validation loss')\n",
    "plt.title('Training and validation loss')\n",
    "plt.legend()\n",
    "\n",
    "plt.show()"
   ]
  },
  {
   "cell_type": "code",
   "execution_count": null,
   "metadata": {},
   "outputs": [],
   "source": []
  }
 ],
 "metadata": {
  "kernelspec": {
   "display_name": "Python 3",
   "language": "python",
   "name": "python3"
  },
  "language_info": {
   "codemirror_mode": {
    "name": "ipython",
    "version": 3
   },
   "file_extension": ".py",
   "mimetype": "text/x-python",
   "name": "python",
   "nbconvert_exporter": "python",
   "pygments_lexer": "ipython3",
   "version": "3.6.8"
  }
 },
 "nbformat": 4,
 "nbformat_minor": 2
}
