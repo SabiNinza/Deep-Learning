{
  "nbformat": 4,
  "nbformat_minor": 0,
  "metadata": {
    "kernelspec": {
      "name": "python3",
      "display_name": "Python 3"
    },
    "language_info": {
      "codemirror_mode": {
        "name": "ipython",
        "version": 3
      },
      "file_extension": ".py",
      "mimetype": "text/x-python",
      "name": "python",
      "nbconvert_exporter": "python",
      "pygments_lexer": "ipython3",
      "version": "3.6.8"
    },
    "colab": {
      "name": "Temperature_forecasting.ipynb",
      "version": "0.3.2",
      "provenance": []
    },
    "accelerator": "GPU"
  },
  "cells": [
    {
      "cell_type": "markdown",
      "metadata": {
        "id": "D5li-5zIy0QA",
        "colab_type": "text"
      },
      "source": [
        "# Temperature Prediction Using RNN"
      ]
    },
    {
      "cell_type": "code",
      "metadata": {
        "id": "spqqbuZHy0QJ",
        "colab_type": "code",
        "colab": {}
      },
      "source": [
        "import numpy as np\n",
        "import matplotlib.pyplot as plt\n",
        "import os\n",
        "import pandas as pd"
      ],
      "execution_count": 0,
      "outputs": []
    },
    {
      "cell_type": "code",
      "metadata": {
        "id": "2ufW1DG5y0Qc",
        "colab_type": "code",
        "colab": {}
      },
      "source": [
        "path = \"./jena_climate_2009_2016.csv\"\n",
        "f = open(path)\n",
        "data = f.read()\n",
        "f.close()"
      ],
      "execution_count": 0,
      "outputs": []
    },
    {
      "cell_type": "code",
      "metadata": {
        "id": "x88cT2SSy0Qr",
        "colab_type": "code",
        "colab": {
          "base_uri": "https://localhost:8080/",
          "height": 72
        },
        "outputId": "c99b020e-eca5-4cc9-a7ae-c9b6e40d0a5a"
      },
      "source": [
        "split = data.split(\"\\n\")\n",
        "# print(len(split[1]))\n",
        "print(split[2])\n",
        "print(split[2].split(\",\"))"
      ],
      "execution_count": 3,
      "outputs": [
        {
          "output_type": "stream",
          "text": [
            "01.01.2009 00:20:00,996.57,-8.41,265.01,-9.28,93.40,3.23,3.02,0.21,1.89,3.03,1309.80,0.72,1.50,136.10\n",
            "['01.01.2009 00:20:00', '996.57', '-8.41', '265.01', '-9.28', '93.40', '3.23', '3.02', '0.21', '1.89', '3.03', '1309.80', '0.72', '1.50', '136.10']\n"
          ],
          "name": "stdout"
        }
      ]
    },
    {
      "cell_type": "code",
      "metadata": {
        "id": "5g7tKruRy0Q4",
        "colab_type": "code",
        "colab": {
          "base_uri": "https://localhost:8080/",
          "height": 435
        },
        "outputId": "e0505f9e-9806-4533-d956-b492fdd5d372"
      },
      "source": [
        "dataset1 = pd.read_csv(\"./jena_climate_2009_2016.csv\")\n",
        "print(dataset1.columns)\n",
        "dataset1.head(5)"
      ],
      "execution_count": 4,
      "outputs": [
        {
          "output_type": "stream",
          "text": [
            "Index(['Date Time', 'p (mbar)', 'T (degC)', 'Tpot (K)', 'Tdew (degC)',\n",
            "       'rh (%)', 'VPmax (mbar)', 'VPact (mbar)', 'VPdef (mbar)', 'sh (g/kg)',\n",
            "       'H2OC (mmol/mol)', 'rho (g/m**3)', 'wv (m/s)', 'max. wv (m/s)',\n",
            "       'wd (deg)'],\n",
            "      dtype='object')\n"
          ],
          "name": "stdout"
        },
        {
          "output_type": "execute_result",
          "data": {
            "text/html": [
              "<div>\n",
              "<style scoped>\n",
              "    .dataframe tbody tr th:only-of-type {\n",
              "        vertical-align: middle;\n",
              "    }\n",
              "\n",
              "    .dataframe tbody tr th {\n",
              "        vertical-align: top;\n",
              "    }\n",
              "\n",
              "    .dataframe thead th {\n",
              "        text-align: right;\n",
              "    }\n",
              "</style>\n",
              "<table border=\"1\" class=\"dataframe\">\n",
              "  <thead>\n",
              "    <tr style=\"text-align: right;\">\n",
              "      <th></th>\n",
              "      <th>Date Time</th>\n",
              "      <th>p (mbar)</th>\n",
              "      <th>T (degC)</th>\n",
              "      <th>Tpot (K)</th>\n",
              "      <th>Tdew (degC)</th>\n",
              "      <th>rh (%)</th>\n",
              "      <th>VPmax (mbar)</th>\n",
              "      <th>VPact (mbar)</th>\n",
              "      <th>VPdef (mbar)</th>\n",
              "      <th>sh (g/kg)</th>\n",
              "      <th>H2OC (mmol/mol)</th>\n",
              "      <th>rho (g/m**3)</th>\n",
              "      <th>wv (m/s)</th>\n",
              "      <th>max. wv (m/s)</th>\n",
              "      <th>wd (deg)</th>\n",
              "    </tr>\n",
              "  </thead>\n",
              "  <tbody>\n",
              "    <tr>\n",
              "      <th>0</th>\n",
              "      <td>01.01.2009 00:10:00</td>\n",
              "      <td>996.52</td>\n",
              "      <td>-8.02</td>\n",
              "      <td>265.40</td>\n",
              "      <td>-8.90</td>\n",
              "      <td>93.3</td>\n",
              "      <td>3.33</td>\n",
              "      <td>3.11</td>\n",
              "      <td>0.22</td>\n",
              "      <td>1.94</td>\n",
              "      <td>3.12</td>\n",
              "      <td>1307.75</td>\n",
              "      <td>1.03</td>\n",
              "      <td>1.75</td>\n",
              "      <td>152.3</td>\n",
              "    </tr>\n",
              "    <tr>\n",
              "      <th>1</th>\n",
              "      <td>01.01.2009 00:20:00</td>\n",
              "      <td>996.57</td>\n",
              "      <td>-8.41</td>\n",
              "      <td>265.01</td>\n",
              "      <td>-9.28</td>\n",
              "      <td>93.4</td>\n",
              "      <td>3.23</td>\n",
              "      <td>3.02</td>\n",
              "      <td>0.21</td>\n",
              "      <td>1.89</td>\n",
              "      <td>3.03</td>\n",
              "      <td>1309.80</td>\n",
              "      <td>0.72</td>\n",
              "      <td>1.50</td>\n",
              "      <td>136.1</td>\n",
              "    </tr>\n",
              "    <tr>\n",
              "      <th>2</th>\n",
              "      <td>01.01.2009 00:30:00</td>\n",
              "      <td>996.53</td>\n",
              "      <td>-8.51</td>\n",
              "      <td>264.91</td>\n",
              "      <td>-9.31</td>\n",
              "      <td>93.9</td>\n",
              "      <td>3.21</td>\n",
              "      <td>3.01</td>\n",
              "      <td>0.20</td>\n",
              "      <td>1.88</td>\n",
              "      <td>3.02</td>\n",
              "      <td>1310.24</td>\n",
              "      <td>0.19</td>\n",
              "      <td>0.63</td>\n",
              "      <td>171.6</td>\n",
              "    </tr>\n",
              "    <tr>\n",
              "      <th>3</th>\n",
              "      <td>01.01.2009 00:40:00</td>\n",
              "      <td>996.51</td>\n",
              "      <td>-8.31</td>\n",
              "      <td>265.12</td>\n",
              "      <td>-9.07</td>\n",
              "      <td>94.2</td>\n",
              "      <td>3.26</td>\n",
              "      <td>3.07</td>\n",
              "      <td>0.19</td>\n",
              "      <td>1.92</td>\n",
              "      <td>3.08</td>\n",
              "      <td>1309.19</td>\n",
              "      <td>0.34</td>\n",
              "      <td>0.50</td>\n",
              "      <td>198.0</td>\n",
              "    </tr>\n",
              "    <tr>\n",
              "      <th>4</th>\n",
              "      <td>01.01.2009 00:50:00</td>\n",
              "      <td>996.51</td>\n",
              "      <td>-8.27</td>\n",
              "      <td>265.15</td>\n",
              "      <td>-9.04</td>\n",
              "      <td>94.1</td>\n",
              "      <td>3.27</td>\n",
              "      <td>3.08</td>\n",
              "      <td>0.19</td>\n",
              "      <td>1.92</td>\n",
              "      <td>3.09</td>\n",
              "      <td>1309.00</td>\n",
              "      <td>0.32</td>\n",
              "      <td>0.63</td>\n",
              "      <td>214.3</td>\n",
              "    </tr>\n",
              "  </tbody>\n",
              "</table>\n",
              "</div>"
            ],
            "text/plain": [
              "             Date Time  p (mbar)  T (degC)  ...  wv (m/s)  max. wv (m/s)  wd (deg)\n",
              "0  01.01.2009 00:10:00    996.52     -8.02  ...      1.03           1.75     152.3\n",
              "1  01.01.2009 00:20:00    996.57     -8.41  ...      0.72           1.50     136.1\n",
              "2  01.01.2009 00:30:00    996.53     -8.51  ...      0.19           0.63     171.6\n",
              "3  01.01.2009 00:40:00    996.51     -8.31  ...      0.34           0.50     198.0\n",
              "4  01.01.2009 00:50:00    996.51     -8.27  ...      0.32           0.63     214.3\n",
              "\n",
              "[5 rows x 15 columns]"
            ]
          },
          "metadata": {
            "tags": []
          },
          "execution_count": 4
        }
      ]
    },
    {
      "cell_type": "code",
      "metadata": {
        "id": "ydeDFwk5y0RF",
        "colab_type": "code",
        "colab": {
          "base_uri": "https://localhost:8080/",
          "height": 167
        },
        "outputId": "092c7d5a-c6a7-4fe7-d3b2-71d101c9d2ee"
      },
      "source": [
        "# data[400:800]\n",
        "dataset1=dataset1.drop(axis = 0 , columns = \"Date Time\")\n",
        "dataset1.head(2)"
      ],
      "execution_count": 5,
      "outputs": [
        {
          "output_type": "execute_result",
          "data": {
            "text/html": [
              "<div>\n",
              "<style scoped>\n",
              "    .dataframe tbody tr th:only-of-type {\n",
              "        vertical-align: middle;\n",
              "    }\n",
              "\n",
              "    .dataframe tbody tr th {\n",
              "        vertical-align: top;\n",
              "    }\n",
              "\n",
              "    .dataframe thead th {\n",
              "        text-align: right;\n",
              "    }\n",
              "</style>\n",
              "<table border=\"1\" class=\"dataframe\">\n",
              "  <thead>\n",
              "    <tr style=\"text-align: right;\">\n",
              "      <th></th>\n",
              "      <th>p (mbar)</th>\n",
              "      <th>T (degC)</th>\n",
              "      <th>Tpot (K)</th>\n",
              "      <th>Tdew (degC)</th>\n",
              "      <th>rh (%)</th>\n",
              "      <th>VPmax (mbar)</th>\n",
              "      <th>VPact (mbar)</th>\n",
              "      <th>VPdef (mbar)</th>\n",
              "      <th>sh (g/kg)</th>\n",
              "      <th>H2OC (mmol/mol)</th>\n",
              "      <th>rho (g/m**3)</th>\n",
              "      <th>wv (m/s)</th>\n",
              "      <th>max. wv (m/s)</th>\n",
              "      <th>wd (deg)</th>\n",
              "    </tr>\n",
              "  </thead>\n",
              "  <tbody>\n",
              "    <tr>\n",
              "      <th>0</th>\n",
              "      <td>996.52</td>\n",
              "      <td>-8.02</td>\n",
              "      <td>265.40</td>\n",
              "      <td>-8.90</td>\n",
              "      <td>93.3</td>\n",
              "      <td>3.33</td>\n",
              "      <td>3.11</td>\n",
              "      <td>0.22</td>\n",
              "      <td>1.94</td>\n",
              "      <td>3.12</td>\n",
              "      <td>1307.75</td>\n",
              "      <td>1.03</td>\n",
              "      <td>1.75</td>\n",
              "      <td>152.3</td>\n",
              "    </tr>\n",
              "    <tr>\n",
              "      <th>1</th>\n",
              "      <td>996.57</td>\n",
              "      <td>-8.41</td>\n",
              "      <td>265.01</td>\n",
              "      <td>-9.28</td>\n",
              "      <td>93.4</td>\n",
              "      <td>3.23</td>\n",
              "      <td>3.02</td>\n",
              "      <td>0.21</td>\n",
              "      <td>1.89</td>\n",
              "      <td>3.03</td>\n",
              "      <td>1309.80</td>\n",
              "      <td>0.72</td>\n",
              "      <td>1.50</td>\n",
              "      <td>136.1</td>\n",
              "    </tr>\n",
              "  </tbody>\n",
              "</table>\n",
              "</div>"
            ],
            "text/plain": [
              "   p (mbar)  T (degC)  Tpot (K)  ...  wv (m/s)  max. wv (m/s)  wd (deg)\n",
              "0    996.52     -8.02    265.40  ...      1.03           1.75     152.3\n",
              "1    996.57     -8.41    265.01  ...      0.72           1.50     136.1\n",
              "\n",
              "[2 rows x 14 columns]"
            ]
          },
          "metadata": {
            "tags": []
          },
          "execution_count": 5
        }
      ]
    },
    {
      "cell_type": "code",
      "metadata": {
        "id": "aMcAC0fUy0RS",
        "colab_type": "code",
        "colab": {
          "base_uri": "https://localhost:8080/",
          "height": 347
        },
        "outputId": "7f21f393-227b-402b-ff7d-f4823ef30d09"
      },
      "source": [
        "dataset1.info()"
      ],
      "execution_count": 6,
      "outputs": [
        {
          "output_type": "stream",
          "text": [
            "<class 'pandas.core.frame.DataFrame'>\n",
            "RangeIndex: 420551 entries, 0 to 420550\n",
            "Data columns (total 14 columns):\n",
            "p (mbar)           420551 non-null float64\n",
            "T (degC)           420551 non-null float64\n",
            "Tpot (K)           420551 non-null float64\n",
            "Tdew (degC)        420551 non-null float64\n",
            "rh (%)             420551 non-null float64\n",
            "VPmax (mbar)       420551 non-null float64\n",
            "VPact (mbar)       420551 non-null float64\n",
            "VPdef (mbar)       420551 non-null float64\n",
            "sh (g/kg)          420551 non-null float64\n",
            "H2OC (mmol/mol)    420551 non-null float64\n",
            "rho (g/m**3)       420551 non-null float64\n",
            "wv (m/s)           420551 non-null float64\n",
            "max. wv (m/s)      420551 non-null float64\n",
            "wd (deg)           420551 non-null float64\n",
            "dtypes: float64(14)\n",
            "memory usage: 44.9 MB\n"
          ],
          "name": "stdout"
        }
      ]
    },
    {
      "cell_type": "code",
      "metadata": {
        "id": "QKVnIPV4y0Rd",
        "colab_type": "code",
        "colab": {
          "base_uri": "https://localhost:8080/",
          "height": 644
        },
        "outputId": "4e67e97b-4a39-4723-b15c-68ea65b5114f"
      },
      "source": [
        "plt.figure()\n",
        "dataset1.hist(figsize = (10,10))\n",
        "plt.show()"
      ],
      "execution_count": 7,
      "outputs": [
        {
          "output_type": "display_data",
          "data": {
            "text/plain": [
              "<Figure size 432x288 with 0 Axes>"
            ]
          },
          "metadata": {
            "tags": []
          }
        },
        {
          "output_type": "display_data",
          "data": {
            "image/png": "[encoded data removed]",
            "text/plain": [
              "<Figure size 720x720 with 16 Axes>"
            ]
          },
          "metadata": {
            "tags": []
          }
        }
      ]
    },
    {
      "cell_type": "code",
      "metadata": {
        "id": "JCi6cxwny0Ro",
        "colab_type": "code",
        "colab": {
          "base_uri": "https://localhost:8080/",
          "height": 34
        },
        "outputId": "14625d81-d776-4ed3-b2f3-d25fe109e8d3"
      },
      "source": [
        "import numpy as np\n",
        "# print(dataset1.columns)\n",
        "dataset = dataset1.values\n",
        "dataset.shape"
      ],
      "execution_count": 8,
      "outputs": [
        {
          "output_type": "execute_result",
          "data": {
            "text/plain": [
              "(420551, 14)"
            ]
          },
          "metadata": {
            "tags": []
          },
          "execution_count": 8
        }
      ]
    },
    {
      "cell_type": "code",
      "metadata": {
        "id": "8rvdOl6wy0R0",
        "colab_type": "code",
        "colab": {
          "base_uri": "https://localhost:8080/",
          "height": 269
        },
        "outputId": "b7d4bc18-7ae9-4f3d-ecd5-6a03684a5f73"
      },
      "source": [
        "plt.figure()\n",
        "plt.plot(range(len(dataset[:,2])) , dataset[:,2])\n",
        "plt.show()"
      ],
      "execution_count": 9,
      "outputs": [
        {
          "output_type": "display_data",
          "data": {
            "image/png": "[encoded data removed]",
            "text/plain": [
              "<Figure size 432x288 with 1 Axes>"
            ]
          },
          "metadata": {
            "tags": []
          }
        }
      ]
    },
    {
      "cell_type": "code",
      "metadata": {
        "id": "CDtpk3KKy0SB",
        "colab_type": "code",
        "colab": {
          "base_uri": "https://localhost:8080/",
          "height": 269
        },
        "outputId": "14b50684-c23d-42ea-aa3f-17e87945f78c"
      },
      "source": [
        "plt.figure()\n",
        "plt.plot(range(len(dataset[:1000,2])) , dataset[:1000,2])\n",
        "plt.show()"
      ],
      "execution_count": 10,
      "outputs": [
        {
          "output_type": "display_data",
          "data": {
            "image/png": "[encoded data removed]",
            "text/plain": [
              "<Figure size 432x288 with 1 Axes>"
            ]
          },
          "metadata": {
            "tags": []
          }
        }
      ]
    },
    {
      "cell_type": "markdown",
      "metadata": {
        "id": "sqlNiunFy0SP",
        "colab_type": "text"
      },
      "source": [
        "### Preparing the data or Normalising"
      ]
    },
    {
      "cell_type": "code",
      "metadata": {
        "id": "lRlZLZSIy0ST",
        "colab_type": "code",
        "colab": {
          "base_uri": "https://localhost:8080/",
          "height": 34
        },
        "outputId": "9d389512-e48a-465c-a817-11ccb2e67b5c"
      },
      "source": [
        "for i in range(1,dataset.shape[1]):\n",
        "    mean = dataset[:100000,i].mean(axis=0)\n",
        "    std = dataset[:100000,i].std(axis=0)\n",
        "    dataset[:100000,i]=dataset[:100000,i]-mean\n",
        "    dataset[:100000,i]=dataset[:100000,i]/std\n",
        "dataset[0,0]"
      ],
      "execution_count": 11,
      "outputs": [
        {
          "output_type": "execute_result",
          "data": {
            "text/plain": [
              "996.52"
            ]
          },
          "metadata": {
            "tags": []
          },
          "execution_count": 11
        }
      ]
    },
    {
      "cell_type": "code",
      "metadata": {
        "id": "Xi-rKYvty0Sd",
        "colab_type": "code",
        "colab": {}
      },
      "source": [
        "# dataset[:,0]=[float(i) for i in dataset[:,0]]\n",
        "# print(type(dataset[0,0]))"
      ],
      "execution_count": 0,
      "outputs": []
    },
    {
      "cell_type": "code",
      "metadata": {
        "id": "xSS0fePUy0Sm",
        "colab_type": "code",
        "colab": {}
      },
      "source": [
        "dataset1 = pd.DataFrame(data=dataset[0:,0:],    # values\n",
        "index=range(0,len(dataset)),    # 1st column as index\n",
        "columns=dataset1.columns) "
      ],
      "execution_count": 0,
      "outputs": []
    },
    {
      "cell_type": "code",
      "metadata": {
        "id": "w9hHtxhoy0Su",
        "colab_type": "code",
        "colab": {
          "base_uri": "https://localhost:8080/",
          "height": 261
        },
        "outputId": "212b830a-91d5-48c2-a16d-e57428d3c17b"
      },
      "source": [
        "print(len(dataset1.columns))\n",
        "dataset1.head(5)"
      ],
      "execution_count": 14,
      "outputs": [
        {
          "output_type": "stream",
          "text": [
            "14\n"
          ],
          "name": "stdout"
        },
        {
          "output_type": "execute_result",
          "data": {
            "text/html": [
              "<div>\n",
              "<style scoped>\n",
              "    .dataframe tbody tr th:only-of-type {\n",
              "        vertical-align: middle;\n",
              "    }\n",
              "\n",
              "    .dataframe tbody tr th {\n",
              "        vertical-align: top;\n",
              "    }\n",
              "\n",
              "    .dataframe thead th {\n",
              "        text-align: right;\n",
              "    }\n",
              "</style>\n",
              "<table border=\"1\" class=\"dataframe\">\n",
              "  <thead>\n",
              "    <tr style=\"text-align: right;\">\n",
              "      <th></th>\n",
              "      <th>p (mbar)</th>\n",
              "      <th>T (degC)</th>\n",
              "      <th>Tpot (K)</th>\n",
              "      <th>Tdew (degC)</th>\n",
              "      <th>rh (%)</th>\n",
              "      <th>VPmax (mbar)</th>\n",
              "      <th>VPact (mbar)</th>\n",
              "      <th>VPdef (mbar)</th>\n",
              "      <th>sh (g/kg)</th>\n",
              "      <th>H2OC (mmol/mol)</th>\n",
              "      <th>rho (g/m**3)</th>\n",
              "      <th>wv (m/s)</th>\n",
              "      <th>max. wv (m/s)</th>\n",
              "      <th>wd (deg)</th>\n",
              "    </tr>\n",
              "  </thead>\n",
              "  <tbody>\n",
              "    <tr>\n",
              "      <th>0</th>\n",
              "      <td>996.52</td>\n",
              "      <td>-1.946340</td>\n",
              "      <td>-2.032254</td>\n",
              "      <td>-1.910941</td>\n",
              "      <td>1.030216</td>\n",
              "      <td>-1.298112</td>\n",
              "      <td>-1.503142</td>\n",
              "      <td>-0.764211</td>\n",
              "      <td>-1.510099</td>\n",
              "      <td>-1.512007</td>\n",
              "      <td>2.268119</td>\n",
              "      <td>-0.724015</td>\n",
              "      <td>-0.776594</td>\n",
              "      <td>-0.240716</td>\n",
              "    </tr>\n",
              "    <tr>\n",
              "      <th>1</th>\n",
              "      <td>996.57</td>\n",
              "      <td>-1.991296</td>\n",
              "      <td>-2.077190</td>\n",
              "      <td>-1.965162</td>\n",
              "      <td>1.036347</td>\n",
              "      <td>-1.311340</td>\n",
              "      <td>-1.525043</td>\n",
              "      <td>-0.766313</td>\n",
              "      <td>-1.529296</td>\n",
              "      <td>-1.533667</td>\n",
              "      <td>2.319188</td>\n",
              "      <td>-0.925102</td>\n",
              "      <td>-0.885178</td>\n",
              "      <td>-0.423916</td>\n",
              "    </tr>\n",
              "    <tr>\n",
              "      <th>2</th>\n",
              "      <td>996.53</td>\n",
              "      <td>-2.002823</td>\n",
              "      <td>-2.088712</td>\n",
              "      <td>-1.969443</td>\n",
              "      <td>1.067000</td>\n",
              "      <td>-1.313986</td>\n",
              "      <td>-1.527477</td>\n",
              "      <td>-0.768415</td>\n",
              "      <td>-1.533135</td>\n",
              "      <td>-1.536074</td>\n",
              "      <td>2.330149</td>\n",
              "      <td>-1.268896</td>\n",
              "      <td>-1.263050</td>\n",
              "      <td>-0.022460</td>\n",
              "    </tr>\n",
              "    <tr>\n",
              "      <th>3</th>\n",
              "      <td>996.51</td>\n",
              "      <td>-1.979769</td>\n",
              "      <td>-2.064516</td>\n",
              "      <td>-1.935198</td>\n",
              "      <td>1.085392</td>\n",
              "      <td>-1.307371</td>\n",
              "      <td>-1.512876</td>\n",
              "      <td>-0.770517</td>\n",
              "      <td>-1.517778</td>\n",
              "      <td>-1.521634</td>\n",
              "      <td>2.303992</td>\n",
              "      <td>-1.171596</td>\n",
              "      <td>-1.319514</td>\n",
              "      <td>0.276089</td>\n",
              "    </tr>\n",
              "    <tr>\n",
              "      <th>4</th>\n",
              "      <td>996.51</td>\n",
              "      <td>-1.975158</td>\n",
              "      <td>-2.061059</td>\n",
              "      <td>-1.930917</td>\n",
              "      <td>1.079261</td>\n",
              "      <td>-1.306049</td>\n",
              "      <td>-1.510442</td>\n",
              "      <td>-0.770517</td>\n",
              "      <td>-1.517778</td>\n",
              "      <td>-1.519227</td>\n",
              "      <td>2.299259</td>\n",
              "      <td>-1.184569</td>\n",
              "      <td>-1.263050</td>\n",
              "      <td>0.460420</td>\n",
              "    </tr>\n",
              "  </tbody>\n",
              "</table>\n",
              "</div>"
            ],
            "text/plain": [
              "   p (mbar)  T (degC)  Tpot (K)  ...  wv (m/s)  max. wv (m/s)  wd (deg)\n",
              "0    996.52 -1.946340 -2.032254  ... -0.724015      -0.776594 -0.240716\n",
              "1    996.57 -1.991296 -2.077190  ... -0.925102      -0.885178 -0.423916\n",
              "2    996.53 -2.002823 -2.088712  ... -1.268896      -1.263050 -0.022460\n",
              "3    996.51 -1.979769 -2.064516  ... -1.171596      -1.319514  0.276089\n",
              "4    996.51 -1.975158 -2.061059  ... -1.184569      -1.263050  0.460420\n",
              "\n",
              "[5 rows x 14 columns]"
            ]
          },
          "metadata": {
            "tags": []
          },
          "execution_count": 14
        }
      ]
    },
    {
      "cell_type": "code",
      "metadata": {
        "id": "9W14Jjepy0S3",
        "colab_type": "code",
        "colab": {
          "base_uri": "https://localhost:8080/",
          "height": 956
        },
        "outputId": "8fd0dcd3-ab84-4bd2-dbbe-c5e1d016272c"
      },
      "source": [
        "plt.figure(figsize=(16,16))\n",
        "for i , p in enumerate(dataset1.columns):\n",
        "    if i==0: \n",
        "        continue\n",
        "    plt.title(p,fontsize=16,color=\"green\")\n",
        "    plt.subplot(5,3,i)\n",
        "    dataset1[p].hist(color=\"purple\")\n",
        "plt.show()\n"
      ],
      "execution_count": 15,
      "outputs": [
        {
          "output_type": "display_data",
          "data": {
            "image/png": "[encoded data removed]",
            "text/plain": [
              "<Figure size 1152x1152 with 13 Axes>"
            ]
          },
          "metadata": {
            "tags": []
          }
        }
      ]
    },
    {
      "cell_type": "code",
      "metadata": {
        "id": "Lct9jw1Gy0TA",
        "colab_type": "code",
        "colab": {}
      },
      "source": [
        "# dataset2 = dataset1.drop(axis=0,columns=dataset2.head(4)dataset1.columns[0])\n",
        "# dataset2.head(4)\n",
        "# plt.figure()\n",
        "# dataset2.hist()\n",
        "# plt.show()"
      ],
      "execution_count": 0,
      "outputs": []
    },
    {
      "cell_type": "code",
      "metadata": {
        "id": "egcbaFCcy0TJ",
        "colab_type": "code",
        "colab": {
          "base_uri": "https://localhost:8080/",
          "height": 34
        },
        "outputId": "23e2c0e5-aa2c-4d65-fe78-7c3cfec61105"
      },
      "source": [
        "np.random.randint(3,8,2)"
      ],
      "execution_count": 17,
      "outputs": [
        {
          "output_type": "execute_result",
          "data": {
            "text/plain": [
              "array([4, 4])"
            ]
          },
          "metadata": {
            "tags": []
          },
          "execution_count": 17
        }
      ]
    },
    {
      "cell_type": "markdown",
      "metadata": {
        "id": "ovzSzYfty0TR",
        "colab_type": "text"
      },
      "source": [
        "### Generator (sample and target)"
      ]
    },
    {
      "cell_type": "code",
      "metadata": {
        "id": "iiM0-cOQy0TU",
        "colab_type": "code",
        "colab": {}
      },
      "source": [
        "def generator(data,past,future,min_idx,max_idx,step=6,batch_size=128,shuffle=True):\n",
        "    \n",
        "    if max_idx == None:\n",
        "        max_idx = len(data)-future-1\n",
        "    curr_row = min_idx + past\n",
        "    \n",
        "    while True:\n",
        "        if shuffle == True:\n",
        "            rows = np.random.randint(low=min_idx+past ,high=max_idx ,size=batch_size)\n",
        "            \n",
        "        else:\n",
        "            if curr_row+batch_size >= max_idx:\n",
        "                min_idx = min_idx + past\n",
        "                \n",
        "            rows = np.arange(curr_row , min(curr_row+batch_size,max_idx))\n",
        "            curr_row += len(rows)\n",
        "            \n",
        "        sample = np.zeros((len(rows),past//step,data.shape[-1]))\n",
        "        target = np.zeros((len(rows),))\n",
        "        \n",
        "        for j , r in enumerate(rows):\n",
        "            indices = range(rows[j]-past,rows[j],step)\n",
        "            sample[j] = data[indices]\n",
        "            target[j] = data[rows[j]+future][1]\n",
        "            \n",
        "        yield(sample,target)"
      ],
      "execution_count": 0,
      "outputs": []
    },
    {
      "cell_type": "code",
      "metadata": {
        "id": "fASnAYVSy0Th",
        "colab_type": "code",
        "colab": {
          "base_uri": "https://localhost:8080/",
          "height": 86
        },
        "outputId": "00b9f6d9-e189-4009-e891-81e1d29dfcae"
      },
      "source": [
        "for s,t in generator(dataset,past=1440,future=144,min_idx=0,max_idx=None,shuffle=False):\n",
        "    print(s.shape)\n",
        "    print(t.shape)\n",
        "    print(s[1,1:5,1])\n",
        "    print(t[[1]])\n",
        "    break"
      ],
      "execution_count": 19,
      "outputs": [
        {
          "output_type": "stream",
          "text": [
            "(128, 240, 14)\n",
            "(128,)\n",
            "[-1.9002305  -2.03971085 -2.05239089 -2.11579105]\n",
            "[-2.05354362]\n"
          ],
          "name": "stdout"
        }
      ]
    },
    {
      "cell_type": "markdown",
      "metadata": {
        "id": "qcoLQlZjy0Tq",
        "colab_type": "text"
      },
      "source": [
        "### Generators"
      ]
    },
    {
      "cell_type": "code",
      "metadata": {
        "id": "3Zm4-XF2y0Tr",
        "colab_type": "code",
        "colab": {}
      },
      "source": [
        "lookup = 1440\n",
        "delay = 144 #how much look in future\n",
        "steps = 6 # 1hour\n",
        "shuffle = True\n",
        "batch_size1 = 128\n",
        "\n",
        "train_gen = generator(dataset,\n",
        "                      past=lookup,future=delay\n",
        "                      ,min_idx=0\n",
        "                      ,max_idx=200000\n",
        "                      ,step=steps\n",
        "                      ,batch_size=batch_size1\n",
        "                      ,shuffle=shuffle)\n",
        "val_gen = generator(dataset,\n",
        "                      past=lookup,future=delay\n",
        "                      ,min_idx=200001\n",
        "                      ,max_idx=300000\n",
        "                      ,step=steps\n",
        "                      ,batch_size=batch_size1\n",
        "                      ,shuffle=shuffle)\n",
        "test_gen = generator(dataset,\n",
        "                      past=lookup,future=delay\n",
        "                      ,min_idx=300001\n",
        "                      ,max_idx=None\n",
        "                      ,step=steps\n",
        "                      ,batch_size=batch_size1\n",
        "                      ,shuffle=shuffle)"
      ],
      "execution_count": 0,
      "outputs": []
    },
    {
      "cell_type": "code",
      "metadata": {
        "id": "bKn0iJuUy0T1",
        "colab_type": "code",
        "colab": {
          "base_uri": "https://localhost:8080/",
          "height": 330
        },
        "outputId": "39844865-2cd1-4809-f95f-d49890ececc7"
      },
      "source": [
        "for s,t in train_gen:\n",
        "    print(\"Training Generator :: \")\n",
        "    print(s.shape)\n",
        "    print(t.shape)\n",
        "    print(s[1,1:5,1])\n",
        "    print(t[[1]])\n",
        "    print(\"*\"*60)\n",
        "    break\n",
        "for s,t in val_gen:\n",
        "    print(\"validation Generator :: \")\n",
        "    print(s.shape)\n",
        "    print(t.shape)\n",
        "    print(s[1,1:5,1])\n",
        "    print(t[[1]])\n",
        "    print(\"*\"*60)\n",
        "    break\n",
        "for s,t in test_gen:\n",
        "    print(\"Testing Generator :: \")\n",
        "    print(s.shape)\n",
        "    print(t.shape)\n",
        "    print(s[1,1:5,1])\n",
        "    print(t[[1]])\n",
        "    print(\"*\"*60)\n",
        "    break"
      ],
      "execution_count": 21,
      "outputs": [
        {
          "output_type": "stream",
          "text": [
            "Training Generator :: \n",
            "(128, 240, 14)\n",
            "(128,)\n",
            "[-0.38323752 -0.37632114 -0.3521138  -0.40283393]\n",
            "[-0.49851054]\n",
            "************************************************************\n",
            "validation Generator :: \n",
            "(128, 240, 14)\n",
            "(128,)\n",
            "[3.03 3.52 3.97 4.28]\n",
            "[6.16]\n",
            "************************************************************\n",
            "Testing Generator :: \n",
            "(128, 240, 14)\n",
            "(128,)\n",
            "[3.32 2.82 2.89 2.83]\n",
            "[-1.82]\n",
            "************************************************************\n"
          ],
          "name": "stdout"
        }
      ]
    },
    {
      "cell_type": "code",
      "metadata": {
        "id": "AYIellDRy0T9",
        "colab_type": "code",
        "colab": {
          "base_uri": "https://localhost:8080/",
          "height": 34
        },
        "outputId": "ef453a34-6716-4863-af2b-ce78a09507bc"
      },
      "source": [
        "val_steps = (30000-20001-lookup)//steps\n",
        "test_steps = (len(dataset)-30001-lookup)//steps\n",
        "print(val_steps,test_steps)"
      ],
      "execution_count": 22,
      "outputs": [
        {
          "output_type": "stream",
          "text": [
            "1426 64851\n"
          ],
          "name": "stdout"
        }
      ]
    },
    {
      "cell_type": "markdown",
      "metadata": {
        "id": "hzHJQ1Dmy0UI",
        "colab_type": "text"
      },
      "source": [
        "### Naive Method(Today Temp is one day before temp)"
      ]
    },
    {
      "cell_type": "code",
      "metadata": {
        "id": "sr-VdFRky0UL",
        "colab_type": "code",
        "colab": {}
      },
      "source": [
        "def NaivePrediction(valgenerator):\n",
        "    mae = list() #list of mean absoute error\n",
        "    for _ in range(val_steps):\n",
        "        sample,target = next(valgenerator)\n",
        "        pred = sample[:,-1,1]\n",
        "        abserr = np.mean(np.abs(pred-target))\n",
        "        mae.append(abserr)\n",
        "        \n",
        "    return np.mean(np.array(mae))"
      ],
      "execution_count": 0,
      "outputs": []
    },
    {
      "cell_type": "code",
      "metadata": {
        "id": "ZGC80OhDy0UR",
        "colab_type": "code",
        "colab": {
          "base_uri": "https://localhost:8080/",
          "height": 34
        },
        "outputId": "84f23da9-8ac4-44b6-faea-e1f54e8095db"
      },
      "source": [
        "NaivePrediction(val_gen)"
      ],
      "execution_count": 24,
      "outputs": [
        {
          "output_type": "execute_result",
          "data": {
            "text/plain": [
              "2.5655961825035063"
            ]
          },
          "metadata": {
            "tags": []
          },
          "execution_count": 24
        }
      ]
    },
    {
      "cell_type": "code",
      "metadata": {
        "id": "Orreapvby0UX",
        "colab_type": "code",
        "colab": {
          "base_uri": "https://localhost:8080/",
          "height": 52
        },
        "outputId": "c878fc5b-3ed8-4fd4-e5b1-21329d850388"
      },
      "source": [
        "print(\"Temperature error\")\n",
        "temperature_std=2.57\n",
        "print(2.56*temperature_std)"
      ],
      "execution_count": 25,
      "outputs": [
        {
          "output_type": "stream",
          "text": [
            "Temperature error\n",
            "6.5792\n"
          ],
          "name": "stdout"
        }
      ]
    },
    {
      "cell_type": "markdown",
      "metadata": {
        "id": "4--X3C3xy0Uh",
        "colab_type": "text"
      },
      "source": [
        "### Model Architecture (simple FCC)"
      ]
    },
    {
      "cell_type": "code",
      "metadata": {
        "id": "Rgr7E1HLy0Ui",
        "colab_type": "code",
        "colab": {
          "base_uri": "https://localhost:8080/",
          "height": 402
        },
        "outputId": "88d574ea-7335-4aa7-a8bb-893b0dd4f7ca"
      },
      "source": [
        "from keras.models import Sequential\n",
        "from keras.layers import Flatten,Dense\n",
        "model = Sequential()\n",
        "model.add(Flatten(input_shape=(lookup//steps,dataset.shape[-1])))\n",
        "model.add(Dense(32,activation=\"relu\"))\n",
        "model.add(Dense(1))\n",
        "model.summary()"
      ],
      "execution_count": 26,
      "outputs": [
        {
          "output_type": "stream",
          "text": [
            "Using TensorFlow backend.\n",
            "WARNING: Logging before flag parsing goes to stderr.\n",
            "W0814 15:57:24.375855 139672669734784 deprecation_wrapper.py:119] From /usr/local/lib/python3.6/dist-packages/keras/backend/tensorflow_backend.py:74: The name tf.get_default_graph is deprecated. Please use tf.compat.v1.get_default_graph instead.\n",
            "\n",
            "W0814 15:57:24.390433 139672669734784 deprecation_wrapper.py:119] From /usr/local/lib/python3.6/dist-packages/keras/backend/tensorflow_backend.py:517: The name tf.placeholder is deprecated. Please use tf.compat.v1.placeholder instead.\n",
            "\n",
            "W0814 15:57:24.400481 139672669734784 deprecation_wrapper.py:119] From /usr/local/lib/python3.6/dist-packages/keras/backend/tensorflow_backend.py:4138: The name tf.random_uniform is deprecated. Please use tf.random.uniform instead.\n",
            "\n"
          ],
          "name": "stderr"
        },
        {
          "output_type": "stream",
          "text": [
            "_________________________________________________________________\n",
            "Layer (type)                 Output Shape              Param #   \n",
            "=================================================================\n",
            "flatten_1 (Flatten)          (None, 3360)              0         \n",
            "_________________________________________________________________\n",
            "dense_1 (Dense)              (None, 32)                107552    \n",
            "_________________________________________________________________\n",
            "dense_2 (Dense)              (None, 1)                 33        \n",
            "=================================================================\n",
            "Total params: 107,585\n",
            "Trainable params: 107,585\n",
            "Non-trainable params: 0\n",
            "_________________________________________________________________\n"
          ],
          "name": "stdout"
        }
      ]
    },
    {
      "cell_type": "code",
      "metadata": {
        "id": "fI68bRjmy0Uo",
        "colab_type": "code",
        "colab": {
          "base_uri": "https://localhost:8080/",
          "height": 72
        },
        "outputId": "48fbba9b-aa1a-453b-e531-8ebc6f0d1881"
      },
      "source": [
        "from keras.optimizers import RMSprop\n",
        "model.compile(optimizer=RMSprop(),loss=\"mae\",metrics=[\"acc\"])"
      ],
      "execution_count": 27,
      "outputs": [
        {
          "output_type": "stream",
          "text": [
            "W0814 15:57:24.449015 139672669734784 deprecation_wrapper.py:119] From /usr/local/lib/python3.6/dist-packages/keras/optimizers.py:790: The name tf.train.Optimizer is deprecated. Please use tf.compat.v1.train.Optimizer instead.\n",
            "\n"
          ],
          "name": "stderr"
        }
      ]
    },
    {
      "cell_type": "markdown",
      "metadata": {
        "id": "ZhFOgDA5y0Ux",
        "colab_type": "text"
      },
      "source": [
        "### Training our model"
      ]
    },
    {
      "cell_type": "code",
      "metadata": {
        "id": "EgEkWUVBy0Uz",
        "colab_type": "code",
        "colab": {
          "base_uri": "https://localhost:8080/",
          "height": 454
        },
        "outputId": "9ae0874e-390b-47ab-908d-99600a73c244"
      },
      "source": [
        "history = model.fit_generator(train_gen,\n",
        "                   steps_per_epoch=500,\n",
        "                   epochs=10,\n",
        "                   validation_data=val_gen,\n",
        "                   validation_steps=val_steps)"
      ],
      "execution_count": 28,
      "outputs": [
        {
          "output_type": "stream",
          "text": [
            "W0814 15:57:24.656790 139672669734784 deprecation_wrapper.py:119] From /usr/local/lib/python3.6/dist-packages/keras/backend/tensorflow_backend.py:986: The name tf.assign_add is deprecated. Please use tf.compat.v1.assign_add instead.\n",
            "\n",
            "W0814 15:57:24.663424 139672669734784 deprecation_wrapper.py:119] From /usr/local/lib/python3.6/dist-packages/keras/backend/tensorflow_backend.py:973: The name tf.assign is deprecated. Please use tf.compat.v1.assign instead.\n",
            "\n"
          ],
          "name": "stderr"
        },
        {
          "output_type": "stream",
          "text": [
            "Epoch 1/10\n",
            "500/500 [==============================] - 17s 35ms/step - loss: 18.8324 - acc: 1.5625e-04 - val_loss: 10.0755 - val_acc: 3.4515e-04\n",
            "Epoch 2/10\n",
            "500/500 [==============================] - 16s 33ms/step - loss: 5.7204 - acc: 6.2500e-05 - val_loss: 9.8658 - val_acc: 6.1360e-04\n",
            "Epoch 3/10\n",
            "500/500 [==============================] - 16s 32ms/step - loss: 5.7416 - acc: 7.8125e-05 - val_loss: 9.7793 - val_acc: 5.8621e-04\n",
            "Epoch 4/10\n",
            "500/500 [==============================] - 16s 32ms/step - loss: 5.7122 - acc: 6.2500e-05 - val_loss: 9.7471 - val_acc: 5.6430e-04\n",
            "Epoch 5/10\n",
            "500/500 [==============================] - 16s 32ms/step - loss: 5.7371 - acc: 1.7188e-04 - val_loss: 9.7449 - val_acc: 6.4100e-04\n",
            "Epoch 6/10\n",
            "500/500 [==============================] - 16s 32ms/step - loss: 5.7191 - acc: 7.8125e-05 - val_loss: 9.7706 - val_acc: 6.2456e-04\n",
            "Epoch 7/10\n",
            "500/500 [==============================] - 16s 32ms/step - loss: 5.6968 - acc: 6.2500e-05 - val_loss: 9.7475 - val_acc: 6.4100e-04\n",
            "Epoch 8/10\n",
            "500/500 [==============================] - 16s 32ms/step - loss: 5.6805 - acc: 6.2500e-05 - val_loss: 9.7228 - val_acc: 5.3690e-04\n",
            "Epoch 9/10\n",
            "500/500 [==============================] - 16s 32ms/step - loss: 5.7178 - acc: 4.6875e-05 - val_loss: 9.7494 - val_acc: 5.9717e-04\n",
            "Epoch 10/10\n",
            "500/500 [==============================] - 16s 32ms/step - loss: 5.7243 - acc: 1.0938e-04 - val_loss: 9.7376 - val_acc: 5.8073e-04\n"
          ],
          "name": "stdout"
        }
      ]
    },
    {
      "cell_type": "code",
      "metadata": {
        "id": "extfYUjyy0U3",
        "colab_type": "code",
        "colab": {
          "base_uri": "https://localhost:8080/",
          "height": 281
        },
        "outputId": "cdea35f6-3ad1-4f49-d140-9cd9d7395d0f"
      },
      "source": [
        "import matplotlib.pyplot as plt\n",
        "\n",
        "loss = history.history['loss']\n",
        "val_loss = history.history['val_loss']\n",
        "\n",
        "epochs = range(len(loss))\n",
        "\n",
        "plt.figure()\n",
        "\n",
        "plt.plot(epochs, loss, 'bo', label='Training loss')\n",
        "plt.plot(epochs, val_loss, 'b', label='Validation loss')\n",
        "plt.title('Training and validation loss')\n",
        "plt.legend()\n",
        "\n",
        "plt.show()"
      ],
      "execution_count": 30,
      "outputs": [
        {
          "output_type": "display_data",
          "data": {
            "image/png": "[encoded data removed]",
            "text/plain": [
              "<Figure size 432x288 with 1 Axes>"
            ]
          },
          "metadata": {
            "tags": []
          }
        }
      ]
    },
    {
      "cell_type": "code",
      "metadata": {
        "id": "sWYRLd151SiS",
        "colab_type": "code",
        "colab": {
          "base_uri": "https://localhost:8080/",
          "height": 784
        },
        "outputId": "f2b04f3e-0f60-481c-8ee6-0e085790070c"
      },
      "source": [
        "from keras.models import Sequential\n",
        "from keras import layers\n",
        "from keras.optimizers import RMSprop\n",
        "\n",
        "model = Sequential()\n",
        "model.add(layers.GRU(32, input_shape=(None, dataset.shape[-1])))\n",
        "model.add(layers.Dense(1))\n",
        "\n",
        "model.compile(optimizer=RMSprop(), loss='mae')\n",
        "history = model.fit_generator(train_gen,\n",
        "                              steps_per_epoch=500,\n",
        "                              epochs=20,\n",
        "                              validation_data=val_gen,\n",
        "                              validation_steps=val_steps)"
      ],
      "execution_count": 32,
      "outputs": [
        {
          "output_type": "stream",
          "text": [
            "W0814 16:01:23.299341 139672669734784 deprecation.py:323] From /usr/local/lib/python3.6/dist-packages/tensorflow/python/ops/math_grad.py:1250: add_dispatch_support.<locals>.wrapper (from tensorflow.python.ops.array_ops) is deprecated and will be removed in a future version.\n",
            "Instructions for updating:\n",
            "Use tf.where in 2.0, which has the same broadcast rule as np.where\n"
          ],
          "name": "stderr"
        },
        {
          "output_type": "stream",
          "text": [
            "Epoch 1/20\n",
            "500/500 [==============================] - 187s 373ms/step - loss: 4.5266 - val_loss: 6.3395\n",
            "Epoch 2/20\n",
            "500/500 [==============================] - 185s 370ms/step - loss: 3.7154 - val_loss: 5.8155\n",
            "Epoch 3/20\n",
            "500/500 [==============================] - 185s 369ms/step - loss: 3.5156 - val_loss: 5.5622\n",
            "Epoch 4/20\n",
            "500/500 [==============================] - 192s 384ms/step - loss: 3.3472 - val_loss: 5.2297\n",
            "Epoch 5/20\n",
            "500/500 [==============================] - 194s 388ms/step - loss: 3.2142 - val_loss: 4.9748\n",
            "Epoch 6/20\n",
            "500/500 [==============================] - 187s 374ms/step - loss: 3.0800 - val_loss: 4.7647\n",
            "Epoch 7/20\n",
            "500/500 [==============================] - 186s 372ms/step - loss: 2.9912 - val_loss: 4.5442\n",
            "Epoch 8/20\n",
            "500/500 [==============================] - 186s 371ms/step - loss: 2.8848 - val_loss: 4.5307\n",
            "Epoch 9/20\n",
            "500/500 [==============================] - 186s 373ms/step - loss: 2.8007 - val_loss: 4.3602\n",
            "Epoch 10/20\n",
            "500/500 [==============================] - 186s 371ms/step - loss: 2.7627 - val_loss: 4.2207\n",
            "Epoch 11/20\n",
            "500/500 [==============================] - 186s 371ms/step - loss: 2.6969 - val_loss: 4.2174\n",
            "Epoch 12/20\n",
            "500/500 [==============================] - 185s 371ms/step - loss: 2.6845 - val_loss: 4.1953\n",
            "Epoch 13/20\n",
            "500/500 [==============================] - 186s 371ms/step - loss: 2.6600 - val_loss: 4.1765\n",
            "Epoch 14/20\n",
            "500/500 [==============================] - 187s 374ms/step - loss: 2.6514 - val_loss: 4.1779\n",
            "Epoch 15/20\n",
            "500/500 [==============================] - 186s 373ms/step - loss: 2.6401 - val_loss: 4.1229\n",
            "Epoch 16/20\n",
            "500/500 [==============================] - 186s 372ms/step - loss: 2.6381 - val_loss: 4.1572\n",
            "Epoch 17/20\n",
            "500/500 [==============================] - 186s 373ms/step - loss: 2.6240 - val_loss: 4.2244\n",
            "Epoch 18/20\n",
            "500/500 [==============================] - 186s 371ms/step - loss: 2.6475 - val_loss: 4.1557\n",
            "Epoch 19/20\n",
            "500/500 [==============================] - 185s 371ms/step - loss: 2.6319 - val_loss: 4.1648\n",
            "Epoch 20/20\n",
            "500/500 [==============================] - 186s 372ms/step - loss: 2.6430 - val_loss: 4.1101\n"
          ],
          "name": "stdout"
        }
      ]
    },
    {
      "cell_type": "code",
      "metadata": {
        "id": "OOzcnYPS3JcX",
        "colab_type": "code",
        "colab": {
          "base_uri": "https://localhost:8080/",
          "height": 281
        },
        "outputId": "7cee77cb-d34b-41b9-a06b-37515d34888f"
      },
      "source": [
        "import matplotlib.pyplot as plt\n",
        "\n",
        "loss = history.history['loss']\n",
        "val_loss = history.history['val_loss']\n",
        "\n",
        "epochs = range(len(loss))\n",
        "\n",
        "plt.figure()\n",
        "\n",
        "plt.plot(epochs, loss, 'bo', label='Training loss')\n",
        "plt.plot(epochs, val_loss, 'b', label='Validation loss')\n",
        "plt.title('Training and validation loss')\n",
        "plt.legend()\n",
        "\n",
        "plt.show()"
      ],
      "execution_count": 33,
      "outputs": [
        {
          "output_type": "display_data",
          "data": {
            "image/png": "[encoded data removed]",
            "text/plain": [
              "<Figure size 432x288 with 1 Axes>"
            ]
          },
          "metadata": {
            "tags": []
          }
        }
      ]
    },
    {
      "cell_type": "code",
      "metadata": {
        "id": "toJbDCooGGXz",
        "colab_type": "code",
        "colab": {}
      },
      "source": [
        ""
      ],
      "execution_count": 0,
      "outputs": []
    }
  ]
}